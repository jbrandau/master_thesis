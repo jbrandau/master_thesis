{
 "cells": [
  {
   "cell_type": "markdown",
   "metadata": {},
   "source": [
    "### T-Test Fixed Key"
   ]
  },
  {
   "cell_type": "code",
   "execution_count": 41,
   "metadata": {},
   "outputs": [],
   "source": [
    "import pandas as pd\n",
    "from scipy.stats import ttest_ind\n",
    "import numpy as np\n",
    "import scipy\n",
    "from tqdm import tnrange,tqdm_notebook\n",
    "import matplotlib.pyplot as plt\n",
    "from scipy.stats import t\n",
    "import matplotlib.pyplot as plt"
   ]
  },
  {
   "cell_type": "code",
   "execution_count": 35,
   "metadata": {},
   "outputs": [],
   "source": [
    "df_data1 = pd.read_csv('../DataFactory/FixedPlaintext/FPFK.csv')\n",
    "df_data1 = df_data1.drop(['label'],axis=1)"
   ]
  },
  {
   "cell_type": "markdown",
   "metadata": {},
   "source": [
    "### T-Test "
   ]
  },
  {
   "cell_type": "code",
   "execution_count": 13,
   "metadata": {},
   "outputs": [],
   "source": [
    "def myMean(data):\n",
    "    return data.mean()"
   ]
  },
  {
   "cell_type": "code",
   "execution_count": 14,
   "metadata": {},
   "outputs": [],
   "source": [
    "def myStd(data):\n",
    "    return data.std()"
   ]
  },
  {
   "cell_type": "code",
   "execution_count": 15,
   "metadata": {},
   "outputs": [],
   "source": [
    "def tMean(data1,data2):\n",
    "    return(data1 - data2)"
   ]
  },
  {
   "cell_type": "code",
   "execution_count": 16,
   "metadata": {},
   "outputs": [],
   "source": [
    "def tSN(std,n):\n",
    "    return(std**2/len(n))"
   ]
  },
  {
   "cell_type": "code",
   "execution_count": 17,
   "metadata": {},
   "outputs": [],
   "source": [
    "def ttestCalc(mean1,mean2,std1,std2,data1,data2):\n",
    "    tv = (tMean(mean1,mean2)) / (np.sqrt(tSN(std1,data1) + tSN(std2,data2)))\n",
    "    return(np.abs(tv))"
   ]
  },
  {
   "cell_type": "code",
   "execution_count": 18,
   "metadata": {},
   "outputs": [],
   "source": [
    "def tTest(data1,data2,tLeng):\n",
    "    arr_collect_All=[]\n",
    "    mean1 = myMean(data1)\n",
    "    mean2 = myMean(data2)\n",
    "    std1 = myStd(data1)\n",
    "    std2 = myStd(data2)\n",
    "    for j in range(0,tLeng):\n",
    "        arr_collect=[]\n",
    "        for i in range(0,tLeng):\n",
    "            arr_collect.append(ttestCalc(mean1[j],mean2[i],std1[j],std2[i],data1,data2))\n",
    "        arr_collect_All.append(np.amax(arr_collect))\n",
    "    return(arr_collect_All)"
   ]
  },
  {
   "cell_type": "markdown",
   "metadata": {},
   "source": [
    "### Degree of freedom"
   ]
  },
  {
   "cell_type": "code",
   "execution_count": 19,
   "metadata": {},
   "outputs": [],
   "source": [
    "def vS2(data1,data2,std1,std2):    \n",
    "    s22 = (tSN(std1,data1) + tSN(std2,data2))**2\n",
    "    return(s22)"
   ]
  },
  {
   "cell_type": "code",
   "execution_count": 20,
   "metadata": {},
   "outputs": [],
   "source": [
    "def df(data1,data2):\n",
    "    \n",
    "    std1 = myStd(data1)\n",
    "    std2 = myStd(data2)\n",
    "    \n",
    "    s22 = vS2(data1,data2,std1,std2)\n",
    "    \n",
    "    term1 = (std1**2 / (len(data1)))**2 / (len(data1) - 1)\n",
    "    term2 = (std2**2 / (len(data2)))**2 / (len(data2) - 1)\n",
    "\n",
    "    v = s22 / (term1 + term2)\n",
    "    \n",
    "    return(v)"
   ]
  },
  {
   "cell_type": "markdown",
   "metadata": {},
   "source": [
    "### CDF"
   ]
  },
  {
   "cell_type": "code",
   "execution_count": 24,
   "metadata": {},
   "outputs": [],
   "source": [
    "def cdf(data1,data2):\n",
    "    cdf_array = []\n",
    "    \n",
    "    colLen = df_data1.shape[1]\n",
    "    \n",
    "    tV = tTest(data1,data2,colLen)\n",
    "    v = df(data1,data2)\n",
    "    \n",
    "    \n",
    "    print(\"t-value\",tV[24])\n",
    "    print(\"v-value\",v[24])\n",
    "    \n",
    "    for i in range(0,colLen):\n",
    "        cdf_array.append(t.cdf(-1 *(tV[i]),v[i]))\n",
    "        \n",
    "    return(cdf_array)"
   ]
  },
  {
   "cell_type": "markdown",
   "metadata": {},
   "source": [
    "### T-Test TS1"
   ]
  },
  {
   "cell_type": "code",
   "execution_count": 36,
   "metadata": {},
   "outputs": [],
   "source": [
    "numTraceT1 = 1000"
   ]
  },
  {
   "cell_type": "code",
   "execution_count": 37,
   "metadata": {},
   "outputs": [],
   "source": [
    "df_fpT1 = df_data1[0:numTraceT1]"
   ]
  },
  {
   "cell_type": "code",
   "execution_count": 38,
   "metadata": {},
   "outputs": [],
   "source": [
    "df_dataT1 = pd.read_csv('../DataFactory/FixedPlaintext/TS1.csv')\n",
    "df_dataT1 = df_dataT1.drop(['label'],axis=1)\n",
    "df_dataT1 = df_dataT1[0:numTraceT1]"
   ]
  },
  {
   "cell_type": "code",
   "execution_count": 40,
   "metadata": {},
   "outputs": [
    {
     "name": "stdout",
     "output_type": "stream",
     "text": [
      "t-value 4.8812682725598595\n",
      "v-value 1993.4075577577767\n"
     ]
    },
    {
     "data": {
      "image/png": "[encoded data removed]",
      "text/plain": [
       "<Figure size 432x288 with 1 Axes>"
      ]
     },
     "metadata": {},
     "output_type": "display_data"
    }
   ],
   "source": [
    "plt.plot(-np.log10(cdf(df_fpT1,df_dataT1)),'-bD',markevery=[24])\n",
    "plt.axhline(y=5.0, xmin=0, xmax=1, color='r', linestyle='-', lw=1)\n",
    "plt.show()"
   ]
  },
  {
   "cell_type": "markdown",
   "metadata": {},
   "source": [
    "### T-Test TS2"
   ]
  },
  {
   "cell_type": "code",
   "execution_count": 42,
   "metadata": {},
   "outputs": [],
   "source": [
    "numTraceT2 = 1000"
   ]
  },
  {
   "cell_type": "code",
   "execution_count": 43,
   "metadata": {},
   "outputs": [],
   "source": [
    "df_fpT2 = df_data1[0:numTraceT2]"
   ]
  },
  {
   "cell_type": "code",
   "execution_count": 44,
   "metadata": {},
   "outputs": [],
   "source": [
    "df_dataT2 = pd.read_csv('../DataFactory/FixedPlaintext/TS2.csv')\n",
    "df_dataT2 = df_dataT2.drop(['label'],axis=1)\n",
    "df_dataT2 = df_dataT2[0:numTraceT2]"
   ]
  },
  {
   "cell_type": "code",
   "execution_count": 45,
   "metadata": {},
   "outputs": [
    {
     "name": "stdout",
     "output_type": "stream",
     "text": [
      "t-value 5.042950799352624\n",
      "v-value 1997.9969835110273\n"
     ]
    },
    {
     "data": {
      "image/png": "[encoded data removed]",
      "text/plain": [
       "<Figure size 432x288 with 1 Axes>"
      ]
     },
     "metadata": {},
     "output_type": "display_data"
    }
   ],
   "source": [
    "plt.plot(-np.log10(cdf(df_fpT2,df_dataT2)),'-bD',markevery=[24])\n",
    "plt.axhline(y=5.0, xmin=0, xmax=1, color='r', linestyle='-', lw=1)\n",
    "plt.show()"
   ]
  },
  {
   "cell_type": "markdown",
   "metadata": {},
   "source": [
    "### T-Test TS3"
   ]
  },
  {
   "cell_type": "code",
   "execution_count": 46,
   "metadata": {},
   "outputs": [],
   "source": [
    "numTraceT3 = 1000"
   ]
  },
  {
   "cell_type": "code",
   "execution_count": 47,
   "metadata": {},
   "outputs": [],
   "source": [
    "df_fpT3 = df_data1[0:numTraceT3]"
   ]
  },
  {
   "cell_type": "code",
   "execution_count": 49,
   "metadata": {},
   "outputs": [],
   "source": [
    "df_dataT3 = pd.read_csv('../DataFactory/FixedPlaintext/TS3.csv')\n",
    "df_dataT3 = df_dataT3.drop(['label'],axis=1)\n",
    "df_dataT3 = df_dataT3[0:numTraceT3]"
   ]
  },
  {
   "cell_type": "code",
   "execution_count": 50,
   "metadata": {},
   "outputs": [
    {
     "name": "stdout",
     "output_type": "stream",
     "text": [
      "t-value 4.948944135817367\n",
      "v-value 1997.9966716845418\n"
     ]
    },
    {
     "data": {
      "image/png": "[encoded data removed]",
      "text/plain": [
       "<Figure size 432x288 with 1 Axes>"
      ]
     },
     "metadata": {},
     "output_type": "display_data"
    }
   ],
   "source": [
    "plt.plot(-np.log10(cdf(df_fpT3,df_dataT3)),'-bD',markevery=[24])\n",
    "plt.axhline(y=5.0, xmin=0, xmax=1, color='r', linestyle='-', lw=1)\n",
    "plt.show()"
   ]
  },
  {
   "cell_type": "markdown",
   "metadata": {},
   "source": [
    "### T-Test TS4"
   ]
  },
  {
   "cell_type": "code",
   "execution_count": 51,
   "metadata": {},
   "outputs": [],
   "source": [
    "numTraceT4 = 1000"
   ]
  },
  {
   "cell_type": "code",
   "execution_count": 52,
   "metadata": {},
   "outputs": [],
   "source": [
    "df_fpT4 = df_data1[0:numTraceT4]"
   ]
  },
  {
   "cell_type": "code",
   "execution_count": 53,
   "metadata": {},
   "outputs": [],
   "source": [
    "df_dataT4 = pd.read_csv('../DataFactory/FixedPlaintext/TS4.csv')\n",
    "df_dataT4 = df_dataT4.drop(['label'],axis=1)\n",
    "df_dataT4 = df_dataT4[0:numTraceT4]"
   ]
  },
  {
   "cell_type": "code",
   "execution_count": 54,
   "metadata": {},
   "outputs": [
    {
     "name": "stdout",
     "output_type": "stream",
     "text": [
      "t-value 4.547116140599848\n",
      "v-value 1997.8973206339906\n"
     ]
    },
    {
     "data": {
      "image/png": "[encoded data removed]",
      "text/plain": [
       "<Figure size 432x288 with 1 Axes>"
      ]
     },
     "metadata": {},
     "output_type": "display_data"
    }
   ],
   "source": [
    "plt.plot(-np.log10(cdf(df_fpT4,df_dataT4)),'-bD',markevery=[24])\n",
    "plt.axhline(y=5.0, xmin=0, xmax=1, color='r', linestyle='-', lw=1)\n",
    "plt.show()"
   ]
  },
  {
   "cell_type": "markdown",
   "metadata": {},
   "source": [
    "### T-Test TS5"
   ]
  },
  {
   "cell_type": "code",
   "execution_count": 55,
   "metadata": {},
   "outputs": [],
   "source": [
    "numTraceT5 = 1000"
   ]
  },
  {
   "cell_type": "code",
   "execution_count": 56,
   "metadata": {},
   "outputs": [],
   "source": [
    "df_fpT5 = df_data1[0:numTraceT5]"
   ]
  },
  {
   "cell_type": "code",
   "execution_count": 57,
   "metadata": {},
   "outputs": [],
   "source": [
    "df_dataT5 = pd.read_csv('../DataFactory/FixedPlaintext/TS5.csv')\n",
    "df_dataT5 = df_dataT5.drop(['label'],axis=1)\n",
    "df_dataT5 = df_dataT5[0:numTraceT5]"
   ]
  },
  {
   "cell_type": "code",
   "execution_count": 58,
   "metadata": {},
   "outputs": [
    {
     "name": "stdout",
     "output_type": "stream",
     "text": [
      "t-value 4.767157081340292\n",
      "v-value 1995.4026005352807\n"
     ]
    },
    {
     "data": {
      "image/png": "[encoded data removed]",
      "text/plain": [
       "<Figure size 432x288 with 1 Axes>"
      ]
     },
     "metadata": {},
     "output_type": "display_data"
    }
   ],
   "source": [
    "plt.plot(-np.log10(cdf(df_fpT5,df_dataT5)),'-bD',markevery=[24])\n",
    "plt.axhline(y=5.0, xmin=0, xmax=1, color='r', linestyle='-', lw=1)\n",
    "plt.show()"
   ]
  },
  {
   "cell_type": "markdown",
   "metadata": {},
   "source": [
    "### T-Test TS6"
   ]
  },
  {
   "cell_type": "code",
   "execution_count": 59,
   "metadata": {},
   "outputs": [],
   "source": [
    "numTraceT6 = 1000"
   ]
  },
  {
   "cell_type": "code",
   "execution_count": 60,
   "metadata": {},
   "outputs": [],
   "source": [
    "df_fpT6 = df_data1[0:numTraceT6]"
   ]
  },
  {
   "cell_type": "code",
   "execution_count": 61,
   "metadata": {},
   "outputs": [],
   "source": [
    "df_dataT6 = pd.read_csv('../DataFactory/FixedPlaintext/TS6.csv')\n",
    "df_dataT6 = df_dataT6.drop(['label'],axis=1)\n",
    "df_dataT6 = df_dataT6[0:numTraceT6]"
   ]
  },
  {
   "cell_type": "code",
   "execution_count": 62,
   "metadata": {},
   "outputs": [
    {
     "name": "stdout",
     "output_type": "stream",
     "text": [
      "t-value 5.324398548762689\n",
      "v-value 1997.7060957210806\n"
     ]
    },
    {
     "data": {
      "image/png": "[encoded data removed]",
      "text/plain": [
       "<Figure size 432x288 with 1 Axes>"
      ]
     },
     "metadata": {},
     "output_type": "display_data"
    }
   ],
   "source": [
    "plt.plot(-np.log10(cdf(df_fpT6,df_dataT6)),'-bD',markevery=[24])\n",
    "plt.axhline(y=5.0, xmin=0, xmax=1, color='r', linestyle='-', lw=1)\n",
    "plt.show()"
   ]
  },
  {
   "cell_type": "markdown",
   "metadata": {},
   "source": [
    "### T-Test TS7"
   ]
  },
  {
   "cell_type": "code",
   "execution_count": 63,
   "metadata": {},
   "outputs": [],
   "source": [
    "numTraceT7 = 1000"
   ]
  },
  {
   "cell_type": "code",
   "execution_count": 64,
   "metadata": {},
   "outputs": [],
   "source": [
    "df_fpT7 = df_data1[0:numTraceT7]"
   ]
  },
  {
   "cell_type": "code",
   "execution_count": 65,
   "metadata": {},
   "outputs": [],
   "source": [
    "df_dataT7 = pd.read_csv('../DataFactory/FixedPlaintext/TS7.csv')\n",
    "df_dataT7 = df_dataT7.drop(['label'],axis=1)\n",
    "df_dataT7 = df_dataT7[0:numTraceT7]"
   ]
  },
  {
   "cell_type": "code",
   "execution_count": 66,
   "metadata": {},
   "outputs": [
    {
     "name": "stdout",
     "output_type": "stream",
     "text": [
      "t-value 4.906047891383794\n",
      "v-value 1997.6707240696005\n"
     ]
    },
    {
     "data": {
      "image/png": "[encoded data removed]",
      "text/plain": [
       "<Figure size 432x288 with 1 Axes>"
      ]
     },
     "metadata": {},
     "output_type": "display_data"
    }
   ],
   "source": [
    "plt.plot(-np.log10(cdf(df_fpT7,df_dataT7)),'-bD',markevery=[24])\n",
    "plt.axhline(y=5.0, xmin=0, xmax=1, color='r', linestyle='-', lw=1)\n",
    "plt.show()"
   ]
  },
  {
   "cell_type": "markdown",
   "metadata": {},
   "source": [
    "### T-Test TS8"
   ]
  },
  {
   "cell_type": "code",
   "execution_count": 67,
   "metadata": {},
   "outputs": [],
   "source": [
    "numTraceT8 = 1000"
   ]
  },
  {
   "cell_type": "code",
   "execution_count": 68,
   "metadata": {},
   "outputs": [],
   "source": [
    "df_fpT8 = df_data1[0:numTraceT8]"
   ]
  },
  {
   "cell_type": "code",
   "execution_count": 69,
   "metadata": {},
   "outputs": [],
   "source": [
    "df_dataT8 = pd.read_csv('../DataFactory/FixedPlaintext/TS8.csv')\n",
    "df_dataT8 = df_dataT8.drop(['label'],axis=1)\n",
    "df_dataT8 = df_dataT8[0:numTraceT8]"
   ]
  },
  {
   "cell_type": "code",
   "execution_count": 70,
   "metadata": {},
   "outputs": [
    {
     "name": "stdout",
     "output_type": "stream",
     "text": [
      "t-value 5.2836634474321675\n",
      "v-value 1996.061033364739\n"
     ]
    },
    {
     "data": {
      "image/png": "[encoded data removed]",
      "text/plain": [
       "<Figure size 432x288 with 1 Axes>"
      ]
     },
     "metadata": {},
     "output_type": "display_data"
    }
   ],
   "source": [
    "plt.plot(-np.log10(cdf(df_fpT8,df_dataT8)),'-bD',markevery=[24])\n",
    "plt.axhline(y=5.0, xmin=0, xmax=1, color='r', linestyle='-', lw=1)\n",
    "plt.show()"
   ]
  }
 ],
 "metadata": {
  "kernelspec": {
   "display_name": "Python 2",
   "language": "python",
   "name": "python2"
  },
  "language_info": {
   "codemirror_mode": {
    "name": "ipython",
    "version": 2
   },
   "file_extension": ".py",
   "mimetype": "text/x-python",
   "name": "python",
   "nbconvert_exporter": "python",
   "pygments_lexer": "ipython2",
   "version": "2.7.15"
  }
 },
 "nbformat": 4,
 "nbformat_minor": 4
}
