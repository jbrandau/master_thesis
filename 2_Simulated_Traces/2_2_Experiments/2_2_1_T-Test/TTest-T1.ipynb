{
 "cells": [
  {
   "cell_type": "markdown",
   "metadata": {},
   "source": [
    "### TTest-T1"
   ]
  },
  {
   "cell_type": "code",
   "execution_count": 435,
   "metadata": {},
   "outputs": [],
   "source": [
    "import pandas as pd\n",
    "from scipy.stats import ttest_ind\n",
    "import numpy as np\n",
    "import scipy\n",
    "from tqdm import tqdm, trange\n",
    "#from tqdm import tnrange,tqdm_notebook\n",
    "import matplotlib.pyplot as plt\n",
    "from scipy.stats import t\n",
    "import matplotlib.pyplot as plt\n",
    "import gmpy2\n",
    "from gmpy2 import mpz,mpq,mpfr,mpc\n",
    "import os\n",
    "import scipy.io as sio\n",
    "import matplotlib.pyplot as plt\n",
    "from tqdm import tnrange,tqdm_notebook"
   ]
  },
  {
   "cell_type": "code",
   "execution_count": 436,
   "metadata": {},
   "outputs": [],
   "source": [
    "d_len = 50\n",
    "d_file_len = 50\n",
    "num_files = 20000"
   ]
  },
  {
   "cell_type": "code",
   "execution_count": 437,
   "metadata": {},
   "outputs": [],
   "source": [
    "def prodTraces(path):\n",
    "    myArray = []\n",
    "    #myArray = np.array(myArray)\n",
    "    index = 0\n",
    "    index2 = 1\n",
    "    df_data = pd.read_csv(path)\n",
    "    df_data = df_data.drop(['label'],axis=1)\n",
    "    df_data = df_data * df_data\n",
    "    \n",
    "    myArray = np.array(df_data[0:10000])\n",
    "    myArray = myArray.sum(axis=0)\n",
    "    myArray = np.array([myArray])\n",
    "      \n",
    "    return(myArray)"
   ]
  },
  {
   "cell_type": "code",
   "execution_count": 442,
   "metadata": {},
   "outputs": [],
   "source": [
    "def sumTraces(path):\n",
    "    myArray = []\n",
    "    myArray = np.array(myArray)\n",
    "    index = 0\n",
    "    df_data = pd.read_csv(path)\n",
    "    df_data = df_data.drop(['label'],axis=1)\n",
    "        \n",
    "    myArray = np.array(df_data[0:10000])\n",
    "    myArray = myArray.sum(axis=0)\n",
    "    myArray = np.array([myArray])      \n",
    "    return(myArray)"
   ]
  },
  {
   "cell_type": "markdown",
   "metadata": {},
   "source": [
    "### Calculate sum and prod"
   ]
  },
  {
   "cell_type": "code",
   "execution_count": 443,
   "metadata": {},
   "outputs": [],
   "source": [
    "# calulate sum for dataset 1\n",
    "df_ds1_sum = sumTraces('../DataFactory/FixedPlaintext/TS1_A.csv')\n",
    "df_ds1_sum = np.array(df_ds1_sum)"
   ]
  },
  {
   "cell_type": "code",
   "execution_count": 444,
   "metadata": {},
   "outputs": [
    {
     "data": {
      "text/plain": [
       "array([[39839.74030729, 38985.4198902 , 40437.5147045 , 40089.59590005,\n",
       "        40117.06936133, 41555.19468902, 40139.11499657, 38849.32893166,\n",
       "        39852.00938145, 39044.19129023, 40079.60697755, 40342.68231143,\n",
       "        40277.61259288, 39421.90302172, 39608.51025972, 40099.32924266,\n",
       "        39848.00315551, 40473.97320678, 40246.69928991, 39513.95904531,\n",
       "        40434.65698879, 39989.22720365, 38886.67435926, 38930.13322169,\n",
       "        19769.53365932, 39735.02068979, 39096.58349666, 39185.98556277,\n",
       "        40453.18987997, 39781.8676835 , 40203.68572782, 39433.84069069,\n",
       "        40899.41257181, 39765.93365866, 38881.94985858, 39850.92277798,\n",
       "        40268.87743134, 40779.63318233, 39440.6225113 , 39869.97613176,\n",
       "        40604.9813773 , 40746.00680883, 39996.57806651, 40242.40445956,\n",
       "        39660.73969139, 39625.98032517, 39621.90457139, 39875.15520774,\n",
       "        39595.06780962, 40431.37215836]])"
      ]
     },
     "execution_count": 444,
     "metadata": {},
     "output_type": "execute_result"
    }
   ],
   "source": [
    "df_ds1_sum"
   ]
  },
  {
   "cell_type": "code",
   "execution_count": 445,
   "metadata": {},
   "outputs": [],
   "source": [
    "# calulate sum for dataset 2\n",
    "df_ds2_sum = sumTraces('../DataFactory/FixedPlaintext/TS1_B.csv')\n",
    "df_ds2_sum = np.array(df_ds2_sum)"
   ]
  },
  {
   "cell_type": "code",
   "execution_count": 446,
   "metadata": {},
   "outputs": [],
   "source": [
    "# calulate prod for dataset 1\n",
    "df_ds1_prod = prodTraces(\"../DataFactory/FixedPlaintext/TS1_A.csv\")\n",
    "df_ds1_prod = np.array(df_ds1_prod)"
   ]
  },
  {
   "cell_type": "code",
   "execution_count": 447,
   "metadata": {},
   "outputs": [
    {
     "data": {
      "text/plain": [
       "50"
      ]
     },
     "execution_count": 447,
     "metadata": {},
     "output_type": "execute_result"
    }
   ],
   "source": [
    "len(df_ds1_prod[0])"
   ]
  },
  {
   "cell_type": "code",
   "execution_count": 448,
   "metadata": {},
   "outputs": [],
   "source": [
    "# calulate sum for dataset 2\n",
    "df_ds2_prod = prodTraces('../DataFactory/FixedPlaintext/TS1_B.csv')\n",
    "df_ds2_prod = np.array(df_ds2_prod)"
   ]
  },
  {
   "cell_type": "code",
   "execution_count": 450,
   "metadata": {},
   "outputs": [],
   "source": [
    "rl_num = 10000"
   ]
  },
  {
   "cell_type": "code",
   "execution_count": 451,
   "metadata": {},
   "outputs": [],
   "source": [
    "df_ds1_mean = df_ds1_sum / rl_num\n",
    "df_ds1_mean=df_ds1_mean[0]"
   ]
  },
  {
   "cell_type": "code",
   "execution_count": 452,
   "metadata": {},
   "outputs": [],
   "source": [
    "df_ds2_mean = df_ds2_sum / rl_num\n",
    "df_ds2_mean = df_ds2_mean[0]"
   ]
  },
  {
   "cell_type": "code",
   "execution_count": 453,
   "metadata": {},
   "outputs": [
    {
     "data": {
      "text/plain": [
       "[<matplotlib.lines.Line2D at 0x7ff85f34a898>]"
      ]
     },
     "execution_count": 453,
     "metadata": {},
     "output_type": "execute_result"
    },
    {
     "data": {
      "image/png": "[encoded data removed]",
      "text/plain": [
       "<Figure size 432x288 with 1 Axes>"
      ]
     },
     "metadata": {
      "needs_background": "light"
     },
     "output_type": "display_data"
    }
   ],
   "source": [
    "plt.plot(df_ds1_mean)"
   ]
  },
  {
   "cell_type": "code",
   "execution_count": 454,
   "metadata": {},
   "outputs": [],
   "source": [
    "#plt.plot(df_ds1_mean[30000:500000])"
   ]
  },
  {
   "cell_type": "code",
   "execution_count": 455,
   "metadata": {},
   "outputs": [
    {
     "data": {
      "text/plain": [
       "[<matplotlib.lines.Line2D at 0x7ff85f2aa0b8>]"
      ]
     },
     "execution_count": 455,
     "metadata": {},
     "output_type": "execute_result"
    },
    {
     "data": {
      "image/png": "[encoded data removed]",
      "text/plain": [
       "<Figure size 432x288 with 1 Axes>"
      ]
     },
     "metadata": {
      "needs_background": "light"
     },
     "output_type": "display_data"
    }
   ],
   "source": [
    "plt.plot(df_ds2_mean)"
   ]
  },
  {
   "cell_type": "code",
   "execution_count": 456,
   "metadata": {},
   "outputs": [],
   "source": [
    "df_ds1_var = 1/rl_num*(((df_ds1_sum ** 2) / rl_num) + df_ds1_prod)"
   ]
  },
  {
   "cell_type": "code",
   "execution_count": 457,
   "metadata": {},
   "outputs": [],
   "source": [
    "df_ds2_var = 1/rl_num*(((df_ds2_sum ** 2) / rl_num) + df_ds2_prod)"
   ]
  },
  {
   "cell_type": "code",
   "execution_count": 458,
   "metadata": {},
   "outputs": [],
   "source": [
    "df_ds1_std = np.sqrt(df_ds1_var)"
   ]
  },
  {
   "cell_type": "code",
   "execution_count": 459,
   "metadata": {},
   "outputs": [],
   "source": [
    "df_ds1_std = df_ds1_std[0]"
   ]
  },
  {
   "cell_type": "code",
   "execution_count": 460,
   "metadata": {},
   "outputs": [],
   "source": [
    "df_ds2_std = np.sqrt(df_ds2_var)\n",
    "df_ds2_std = df_ds2_std[0]"
   ]
  },
  {
   "cell_type": "code",
   "execution_count": 461,
   "metadata": {},
   "outputs": [],
   "source": [
    "import matplotlib.pyplot as plt"
   ]
  },
  {
   "cell_type": "code",
   "execution_count": 462,
   "metadata": {},
   "outputs": [
    {
     "data": {
      "text/plain": [
       "[<matplotlib.lines.Line2D at 0x7ff85f277f60>]"
      ]
     },
     "execution_count": 462,
     "metadata": {},
     "output_type": "execute_result"
    },
    {
     "data": {
      "image/png": "[encoded data removed]",
      "text/plain": [
       "<Figure size 432x288 with 1 Axes>"
      ]
     },
     "metadata": {
      "needs_background": "light"
     },
     "output_type": "display_data"
    }
   ],
   "source": [
    "plt.plot(df_ds1_std)"
   ]
  },
  {
   "cell_type": "markdown",
   "metadata": {},
   "source": [
    "### T-Test "
   ]
  },
  {
   "cell_type": "code",
   "execution_count": 463,
   "metadata": {},
   "outputs": [],
   "source": [
    "def tMean(data1,data2):\n",
    "    return(data1 - data2)"
   ]
  },
  {
   "cell_type": "code",
   "execution_count": 464,
   "metadata": {},
   "outputs": [],
   "source": [
    "def tSN(std,n):\n",
    "    return(std**2/n)"
   ]
  },
  {
   "cell_type": "code",
   "execution_count": 465,
   "metadata": {},
   "outputs": [],
   "source": [
    "def ttestCalc(mean1,mean2,std1,std2,data_len):\n",
    "    tv = (tMean(mean1,mean2)) / (np.sqrt(tSN(std1,data_len) + tSN(std2,data_len)))\n",
    "    return(np.abs(tv))"
   ]
  },
  {
   "cell_type": "code",
   "execution_count": 466,
   "metadata": {},
   "outputs": [],
   "source": [
    "def tTest(df_ds1_mean,df_ds2_mean,df_ds1_std,df_ds2_std,tLeng):\n",
    "    arr_collect_All=[]\n",
    "    #for j in tnrange(0,(int(tLeng/2))):\n",
    "    for j in tnrange(0,tLeng):    \n",
    "        arr_collect=[]\n",
    "        arr_collect_All.append(ttestCalc(df_ds1_mean[j],df_ds2_mean[j],df_ds1_std[j],df_ds2_std[j],rl_num))\n",
    "            #arr_collect.append(ttestCalc(df_ds1_mean[j],df_ds2_mean[i],df_ds1_std[j],df_ds2_std[i],data1,data2))\n",
    "        #arr_collect_All.append(np.amax(arr_collect))\n",
    "    return(arr_collect_All)"
   ]
  },
  {
   "cell_type": "code",
   "execution_count": 467,
   "metadata": {},
   "outputs": [
    {
     "data": {
      "text/plain": [
       "50"
      ]
     },
     "execution_count": 467,
     "metadata": {},
     "output_type": "execute_result"
    }
   ],
   "source": [
    "len(df_ds2_std)"
   ]
  },
  {
   "cell_type": "code",
   "execution_count": 468,
   "metadata": {},
   "outputs": [
    {
     "data": {
      "application/vnd.jupyter.widget-view+json": {
       "model_id": "f069d2251339420c9de881c88fcc7edd",
       "version_major": 2,
       "version_minor": 0
      },
      "text/plain": [
       "HBox(children=(IntProgress(value=0, max=50), HTML(value='')))"
      ]
     },
     "metadata": {},
     "output_type": "display_data"
    },
    {
     "name": "stdout",
     "output_type": "stream",
     "text": [
      "\n"
     ]
    }
   ],
   "source": [
    "myTest = tTest(df_ds1_mean,df_ds2_mean,df_ds1_std,df_ds2_std,len(df_ds2_std))"
   ]
  },
  {
   "cell_type": "code",
   "execution_count": 469,
   "metadata": {},
   "outputs": [
    {
     "data": {
      "text/plain": [
       "[<matplotlib.lines.Line2D at 0x7ff85f258d68>]"
      ]
     },
     "execution_count": 469,
     "metadata": {},
     "output_type": "execute_result"
    },
    {
     "data": {
      "image/png": "[encoded data removed]",
      "text/plain": [
       "<Figure size 432x288 with 1 Axes>"
      ]
     },
     "metadata": {
      "needs_background": "light"
     },
     "output_type": "display_data"
    }
   ],
   "source": [
    "plt.plot(myTest)"
   ]
  },
  {
   "cell_type": "code",
   "execution_count": 470,
   "metadata": {},
   "outputs": [
    {
     "data": {
      "application/vnd.jupyter.widget-view+json": {
       "model_id": "ae6d23389e614d6fa03752d279cf5bb8",
       "version_major": 2,
       "version_minor": 0
      },
      "text/plain": [
       "HBox(children=(IntProgress(value=0, max=50), HTML(value='')))"
      ]
     },
     "metadata": {},
     "output_type": "display_data"
    },
    {
     "name": "stdout",
     "output_type": "stream",
     "text": [
      "\n"
     ]
    }
   ],
   "source": [
    "myTest = tTest(df_ds1_mean,df_ds2_mean,df_ds1_std,df_ds2_std,len(df_ds2_std))"
   ]
  },
  {
   "cell_type": "code",
   "execution_count": 471,
   "metadata": {
    "scrolled": true
   },
   "outputs": [],
   "source": [
    "#myTest = tTest(df_ds1_mean[30000:500000],df_ds2_mean[30000:500000],df_ds1_std[30000:500000],df_ds2_std[30000:500000],len(df_ds2_std[30000:500000]))"
   ]
  },
  {
   "cell_type": "code",
   "execution_count": 472,
   "metadata": {},
   "outputs": [
    {
     "data": {
      "text/plain": [
       "[<matplotlib.lines.Line2D at 0x7ff85c368eb8>]"
      ]
     },
     "execution_count": 472,
     "metadata": {},
     "output_type": "execute_result"
    },
    {
     "data": {
      "image/png": "[encoded data removed]",
      "text/plain": [
       "<Figure size 432x288 with 1 Axes>"
      ]
     },
     "metadata": {
      "needs_background": "light"
     },
     "output_type": "display_data"
    }
   ],
   "source": [
    "plt.plot(myTest)"
   ]
  },
  {
   "cell_type": "markdown",
   "metadata": {},
   "source": [
    "### Degree of freedom"
   ]
  },
  {
   "cell_type": "code",
   "execution_count": 473,
   "metadata": {},
   "outputs": [],
   "source": [
    "def vS2(data_len,df_ds1_std,df_ds2_std):    \n",
    "    s22 = (tSN(df_ds1_std,data_len) + tSN(df_ds2_std,data_len))**2\n",
    "    return(s22)"
   ]
  },
  {
   "cell_type": "code",
   "execution_count": 474,
   "metadata": {},
   "outputs": [],
   "source": [
    "def df(df_ds1_std,df_ds2_std):\n",
    "    \n",
    "    data_len = rl_num\n",
    "    s22 = vS2(data_len,df_ds1_std,df_ds2_std)\n",
    "    \n",
    "    term1 = (df_ds1_std**2 / (data_len))**2 / (data_len - 1)\n",
    "    term2 = (df_ds2_std**2 / (data_len))**2 / (data_len - 1)\n",
    "\n",
    "    v = s22 / (term1 + term2)\n",
    "    \n",
    "    return(v)"
   ]
  },
  {
   "cell_type": "markdown",
   "metadata": {},
   "source": [
    "### CDF"
   ]
  },
  {
   "cell_type": "code",
   "execution_count": 475,
   "metadata": {},
   "outputs": [],
   "source": [
    "def cdf(df_ds1_mean,df_ds2_mean,df_ds1_std,df_ds2_std):\n",
    "    cdf_array = []\n",
    "    \n",
    "    colLen = 50\n",
    "\n",
    "    tV = tTest(df_ds1_mean,df_ds2_mean,df_ds1_std,df_ds2_std,colLen)\n",
    "    #print(tV)\n",
    "    v = df(df_ds1_std,df_ds2_std)\n",
    "    \n",
    "    \n",
    "    #print(\"t-value\",tV[24])\n",
    "    #print(\"v-value\",v[24])\n",
    "    \n",
    "    for i in range(0,colLen):\n",
    "        cdf_array.append(t.cdf(-1 *(tV[i]),v[i]))\n",
    "        \n",
    "    return(cdf_array)"
   ]
  },
  {
   "cell_type": "markdown",
   "metadata": {},
   "source": [
    "### T-Test TS1"
   ]
  },
  {
   "cell_type": "code",
   "execution_count": 476,
   "metadata": {},
   "outputs": [],
   "source": [
    "#df_CDF = cdf(df_ds1_mean[30000:500000],df_ds2_mean[30000:500000],df_ds1_std[30000:500000],df_ds2_std[30000:500000])"
   ]
  },
  {
   "cell_type": "code",
   "execution_count": 477,
   "metadata": {},
   "outputs": [
    {
     "data": {
      "application/vnd.jupyter.widget-view+json": {
       "model_id": "d77aa5404e944e85acbb1f9397fe5fd8",
       "version_major": 2,
       "version_minor": 0
      },
      "text/plain": [
       "HBox(children=(IntProgress(value=0, max=50), HTML(value='')))"
      ]
     },
     "metadata": {},
     "output_type": "display_data"
    },
    {
     "name": "stdout",
     "output_type": "stream",
     "text": [
      "\n"
     ]
    }
   ],
   "source": [
    "df_CDF = cdf(df_ds1_mean,df_ds2_mean,df_ds1_std,df_ds2_std)"
   ]
  },
  {
   "cell_type": "code",
   "execution_count": 478,
   "metadata": {},
   "outputs": [
    {
     "data": {
      "image/png": "[encoded data removed]",
      "text/plain": [
       "<Figure size 432x288 with 1 Axes>"
      ]
     },
     "metadata": {
      "needs_background": "light"
     },
     "output_type": "display_data"
    }
   ],
   "source": [
    "plt.plot(-np.log10(df_CDF),'-')\n",
    "plt.axhline(y=5.0, xmin=0, xmax=1, color='r', linestyle='-', lw=1)\n",
    "plt.show()"
   ]
  },
  {
   "cell_type": "markdown",
   "metadata": {},
   "source": [
    "### Analyzing"
   ]
  },
  {
   "cell_type": "code",
   "execution_count": 479,
   "metadata": {},
   "outputs": [],
   "source": [
    "meanData = df_ds1_mean - df_ds2_mean"
   ]
  },
  {
   "cell_type": "code",
   "execution_count": 480,
   "metadata": {},
   "outputs": [
    {
     "data": {
      "text/plain": [
       "[<matplotlib.lines.Line2D at 0x7ff85c2ad978>]"
      ]
     },
     "execution_count": 480,
     "metadata": {},
     "output_type": "execute_result"
    },
    {
     "data": {
      "image/png": "[encoded data removed]",
      "text/plain": [
       "<Figure size 432x288 with 1 Axes>"
      ]
     },
     "metadata": {
      "needs_background": "light"
     },
     "output_type": "display_data"
    }
   ],
   "source": [
    "plt.plot(meanData)"
   ]
  }
 ],
 "metadata": {
  "kernelspec": {
   "display_name": "Python 3",
   "language": "python",
   "name": "python3"
  },
  "language_info": {
   "codemirror_mode": {
    "name": "ipython",
    "version": 3
   },
   "file_extension": ".py",
   "mimetype": "text/x-python",
   "name": "python",
   "nbconvert_exporter": "python",
   "pygments_lexer": "ipython3",
   "version": "3.6.9"
  }
 },
 "nbformat": 4,
 "nbformat_minor": 4
}
