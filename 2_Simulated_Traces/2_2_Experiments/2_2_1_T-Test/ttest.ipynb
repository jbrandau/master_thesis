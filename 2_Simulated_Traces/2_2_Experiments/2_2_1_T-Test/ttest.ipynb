{
 "cells": [
  {
   "cell_type": "code",
   "execution_count": 903,
   "metadata": {},
   "outputs": [
    {
     "data": {
      "text/html": [
       "<style>.container { width:90% !important; }</style>"
      ],
      "text/plain": [
       "<IPython.core.display.HTML object>"
      ]
     },
     "metadata": {},
     "output_type": "display_data"
    }
   ],
   "source": [
    "from IPython.core.display import display, HTML\n",
    "display(HTML(\"<style>.container { width:90% !important; }</style>\"))\n",
    "import pandas as pd\n",
    "import numpy as np\n",
    "from scipy.stats import t\n",
    "from mpmath import *\n",
    "import math\n",
    "from scipy import special"
   ]
  },
  {
   "cell_type": "code",
   "execution_count": 981,
   "metadata": {},
   "outputs": [],
   "source": [
    "numberOfTraces = 50000"
   ]
  },
  {
   "cell_type": "code",
   "execution_count": 982,
   "metadata": {},
   "outputs": [
    {
     "data": {
      "text/html": [
       "<div>\n",
       "<style scoped>\n",
       "    .dataframe tbody tr th:only-of-type {\n",
       "        vertical-align: middle;\n",
       "    }\n",
       "\n",
       "    .dataframe tbody tr th {\n",
       "        vertical-align: top;\n",
       "    }\n",
       "\n",
       "    .dataframe thead th {\n",
       "        text-align: right;\n",
       "    }\n",
       "</style>\n",
       "<table border=\"1\" class=\"dataframe\">\n",
       "  <thead>\n",
       "    <tr style=\"text-align: right;\">\n",
       "      <th></th>\n",
       "      <th>0</th>\n",
       "      <th>1</th>\n",
       "      <th>2</th>\n",
       "      <th>3</th>\n",
       "      <th>4</th>\n",
       "      <th>5</th>\n",
       "      <th>6</th>\n",
       "      <th>7</th>\n",
       "      <th>8</th>\n",
       "      <th>9</th>\n",
       "      <th>...</th>\n",
       "      <th>40</th>\n",
       "      <th>41</th>\n",
       "      <th>42</th>\n",
       "      <th>43</th>\n",
       "      <th>44</th>\n",
       "      <th>45</th>\n",
       "      <th>46</th>\n",
       "      <th>47</th>\n",
       "      <th>48</th>\n",
       "      <th>49</th>\n",
       "    </tr>\n",
       "  </thead>\n",
       "  <tbody>\n",
       "    <tr>\n",
       "      <th>0</th>\n",
       "      <td>4.748824</td>\n",
       "      <td>1.055765</td>\n",
       "      <td>14.714282</td>\n",
       "      <td>12.887082</td>\n",
       "      <td>15.110624</td>\n",
       "      <td>9.899239</td>\n",
       "      <td>7.577087</td>\n",
       "      <td>4.313600</td>\n",
       "      <td>7.983295</td>\n",
       "      <td>3.950423</td>\n",
       "      <td>...</td>\n",
       "      <td>10.159692</td>\n",
       "      <td>11.422782</td>\n",
       "      <td>-2.727226</td>\n",
       "      <td>8.199789</td>\n",
       "      <td>2.419598</td>\n",
       "      <td>7.266814</td>\n",
       "      <td>-1.549038</td>\n",
       "      <td>-1.987634</td>\n",
       "      <td>9.218193</td>\n",
       "      <td>16.891397</td>\n",
       "    </tr>\n",
       "    <tr>\n",
       "      <th>1</th>\n",
       "      <td>4.094319</td>\n",
       "      <td>0.834178</td>\n",
       "      <td>0.850604</td>\n",
       "      <td>1.796690</td>\n",
       "      <td>15.337914</td>\n",
       "      <td>13.003245</td>\n",
       "      <td>-11.224867</td>\n",
       "      <td>12.232412</td>\n",
       "      <td>1.909251</td>\n",
       "      <td>1.706561</td>\n",
       "      <td>...</td>\n",
       "      <td>8.138185</td>\n",
       "      <td>12.303735</td>\n",
       "      <td>7.360064</td>\n",
       "      <td>-1.906470</td>\n",
       "      <td>17.437027</td>\n",
       "      <td>-4.073006</td>\n",
       "      <td>4.320870</td>\n",
       "      <td>2.724282</td>\n",
       "      <td>10.893693</td>\n",
       "      <td>6.302217</td>\n",
       "    </tr>\n",
       "    <tr>\n",
       "      <th>2</th>\n",
       "      <td>3.674072</td>\n",
       "      <td>8.925165</td>\n",
       "      <td>5.838884</td>\n",
       "      <td>5.456958</td>\n",
       "      <td>-5.649085</td>\n",
       "      <td>3.577269</td>\n",
       "      <td>2.380623</td>\n",
       "      <td>8.751573</td>\n",
       "      <td>-4.181833</td>\n",
       "      <td>4.252258</td>\n",
       "      <td>...</td>\n",
       "      <td>13.441388</td>\n",
       "      <td>8.862254</td>\n",
       "      <td>2.724311</td>\n",
       "      <td>2.199702</td>\n",
       "      <td>10.135903</td>\n",
       "      <td>-2.206998</td>\n",
       "      <td>-2.900358</td>\n",
       "      <td>5.640395</td>\n",
       "      <td>5.614741</td>\n",
       "      <td>5.747399</td>\n",
       "    </tr>\n",
       "    <tr>\n",
       "      <th>3</th>\n",
       "      <td>2.534276</td>\n",
       "      <td>-1.169627</td>\n",
       "      <td>-7.684645</td>\n",
       "      <td>14.202237</td>\n",
       "      <td>-3.121385</td>\n",
       "      <td>4.867523</td>\n",
       "      <td>2.542510</td>\n",
       "      <td>-3.201195</td>\n",
       "      <td>-4.093690</td>\n",
       "      <td>-0.236870</td>\n",
       "      <td>...</td>\n",
       "      <td>13.982830</td>\n",
       "      <td>-5.079300</td>\n",
       "      <td>15.400874</td>\n",
       "      <td>6.075328</td>\n",
       "      <td>-2.154184</td>\n",
       "      <td>-3.347925</td>\n",
       "      <td>-6.882136</td>\n",
       "      <td>-2.389319</td>\n",
       "      <td>1.705329</td>\n",
       "      <td>-5.429191</td>\n",
       "    </tr>\n",
       "    <tr>\n",
       "      <th>4</th>\n",
       "      <td>7.196238</td>\n",
       "      <td>16.097094</td>\n",
       "      <td>3.373868</td>\n",
       "      <td>3.462772</td>\n",
       "      <td>-3.715627</td>\n",
       "      <td>10.499527</td>\n",
       "      <td>12.038195</td>\n",
       "      <td>5.557648</td>\n",
       "      <td>-1.211236</td>\n",
       "      <td>10.003899</td>\n",
       "      <td>...</td>\n",
       "      <td>-2.171194</td>\n",
       "      <td>5.858414</td>\n",
       "      <td>-2.021658</td>\n",
       "      <td>15.662071</td>\n",
       "      <td>7.847262</td>\n",
       "      <td>8.431966</td>\n",
       "      <td>4.739082</td>\n",
       "      <td>-0.399186</td>\n",
       "      <td>3.626803</td>\n",
       "      <td>10.820191</td>\n",
       "    </tr>\n",
       "  </tbody>\n",
       "</table>\n",
       "<p>5 rows × 50 columns</p>\n",
       "</div>"
      ],
      "text/plain": [
       "          0          1          2          3          4          5          6  \\\n",
       "0  4.748824   1.055765  14.714282  12.887082  15.110624   9.899239   7.577087   \n",
       "1  4.094319   0.834178   0.850604   1.796690  15.337914  13.003245 -11.224867   \n",
       "2  3.674072   8.925165   5.838884   5.456958  -5.649085   3.577269   2.380623   \n",
       "3  2.534276  -1.169627  -7.684645  14.202237  -3.121385   4.867523   2.542510   \n",
       "4  7.196238  16.097094   3.373868   3.462772  -3.715627  10.499527  12.038195   \n",
       "\n",
       "           7         8          9    ...             40         41         42  \\\n",
       "0   4.313600  7.983295   3.950423    ...      10.159692  11.422782  -2.727226   \n",
       "1  12.232412  1.909251   1.706561    ...       8.138185  12.303735   7.360064   \n",
       "2   8.751573 -4.181833   4.252258    ...      13.441388   8.862254   2.724311   \n",
       "3  -3.201195 -4.093690  -0.236870    ...      13.982830  -5.079300  15.400874   \n",
       "4   5.557648 -1.211236  10.003899    ...      -2.171194   5.858414  -2.021658   \n",
       "\n",
       "          43         44        45        46        47         48         49  \n",
       "0   8.199789   2.419598  7.266814 -1.549038 -1.987634   9.218193  16.891397  \n",
       "1  -1.906470  17.437027 -4.073006  4.320870  2.724282  10.893693   6.302217  \n",
       "2   2.199702  10.135903 -2.206998 -2.900358  5.640395   5.614741   5.747399  \n",
       "3   6.075328  -2.154184 -3.347925 -6.882136 -2.389319   1.705329  -5.429191  \n",
       "4  15.662071   7.847262  8.431966  4.739082 -0.399186   3.626803  10.820191  \n",
       "\n",
       "[5 rows x 50 columns]"
      ]
     },
     "execution_count": 982,
     "metadata": {},
     "output_type": "execute_result"
    }
   ],
   "source": [
    "df_data1 = pd.read_csv('../DataFactory/FixedPlaintext/FPFK.csv')\n",
    "df_data1 = df_data1.drop(['label'],axis=1)\n",
    "df_data1 = df_data1[0:numberOfTraces]\n",
    "df_data1.head()"
   ]
  },
  {
   "cell_type": "code",
   "execution_count": 983,
   "metadata": {},
   "outputs": [
    {
     "data": {
      "text/html": [
       "<div>\n",
       "<style scoped>\n",
       "    .dataframe tbody tr th:only-of-type {\n",
       "        vertical-align: middle;\n",
       "    }\n",
       "\n",
       "    .dataframe tbody tr th {\n",
       "        vertical-align: top;\n",
       "    }\n",
       "\n",
       "    .dataframe thead th {\n",
       "        text-align: right;\n",
       "    }\n",
       "</style>\n",
       "<table border=\"1\" class=\"dataframe\">\n",
       "  <thead>\n",
       "    <tr style=\"text-align: right;\">\n",
       "      <th></th>\n",
       "      <th>0</th>\n",
       "      <th>1</th>\n",
       "      <th>2</th>\n",
       "      <th>3</th>\n",
       "      <th>4</th>\n",
       "      <th>5</th>\n",
       "      <th>6</th>\n",
       "      <th>7</th>\n",
       "      <th>8</th>\n",
       "      <th>9</th>\n",
       "      <th>...</th>\n",
       "      <th>41</th>\n",
       "      <th>42</th>\n",
       "      <th>43</th>\n",
       "      <th>44</th>\n",
       "      <th>45</th>\n",
       "      <th>46</th>\n",
       "      <th>47</th>\n",
       "      <th>48</th>\n",
       "      <th>49</th>\n",
       "      <th>label</th>\n",
       "    </tr>\n",
       "  </thead>\n",
       "  <tbody>\n",
       "    <tr>\n",
       "      <th>0</th>\n",
       "      <td>-6.973577</td>\n",
       "      <td>2.447974</td>\n",
       "      <td>-9.851880</td>\n",
       "      <td>11.868268</td>\n",
       "      <td>9.420810</td>\n",
       "      <td>3.046863</td>\n",
       "      <td>-1.114315</td>\n",
       "      <td>-0.416408</td>\n",
       "      <td>2.556177</td>\n",
       "      <td>3.847380</td>\n",
       "      <td>...</td>\n",
       "      <td>6.635931</td>\n",
       "      <td>5.447528</td>\n",
       "      <td>-1.324486</td>\n",
       "      <td>0.998822</td>\n",
       "      <td>1.346430</td>\n",
       "      <td>3.748446</td>\n",
       "      <td>8.858773</td>\n",
       "      <td>5.944002</td>\n",
       "      <td>10.813704</td>\n",
       "      <td>210</td>\n",
       "    </tr>\n",
       "    <tr>\n",
       "      <th>1</th>\n",
       "      <td>9.192420</td>\n",
       "      <td>7.223946</td>\n",
       "      <td>11.774557</td>\n",
       "      <td>-0.824299</td>\n",
       "      <td>3.696919</td>\n",
       "      <td>0.328605</td>\n",
       "      <td>-5.526986</td>\n",
       "      <td>2.159307</td>\n",
       "      <td>10.079803</td>\n",
       "      <td>2.491291</td>\n",
       "      <td>...</td>\n",
       "      <td>8.918476</td>\n",
       "      <td>9.601267</td>\n",
       "      <td>2.316854</td>\n",
       "      <td>3.707042</td>\n",
       "      <td>6.395154</td>\n",
       "      <td>6.913579</td>\n",
       "      <td>4.781577</td>\n",
       "      <td>0.682398</td>\n",
       "      <td>14.151133</td>\n",
       "      <td>210</td>\n",
       "    </tr>\n",
       "    <tr>\n",
       "      <th>2</th>\n",
       "      <td>3.867326</td>\n",
       "      <td>8.321930</td>\n",
       "      <td>7.796142</td>\n",
       "      <td>5.336612</td>\n",
       "      <td>12.298200</td>\n",
       "      <td>-0.519870</td>\n",
       "      <td>6.280395</td>\n",
       "      <td>8.114155</td>\n",
       "      <td>1.445991</td>\n",
       "      <td>6.717050</td>\n",
       "      <td>...</td>\n",
       "      <td>-2.701327</td>\n",
       "      <td>3.352914</td>\n",
       "      <td>8.980492</td>\n",
       "      <td>4.225336</td>\n",
       "      <td>6.084451</td>\n",
       "      <td>9.637898</td>\n",
       "      <td>1.298142</td>\n",
       "      <td>8.523003</td>\n",
       "      <td>-3.586282</td>\n",
       "      <td>210</td>\n",
       "    </tr>\n",
       "    <tr>\n",
       "      <th>3</th>\n",
       "      <td>-2.676299</td>\n",
       "      <td>8.879771</td>\n",
       "      <td>13.609305</td>\n",
       "      <td>-1.150922</td>\n",
       "      <td>11.271358</td>\n",
       "      <td>2.787271</td>\n",
       "      <td>7.198100</td>\n",
       "      <td>14.877937</td>\n",
       "      <td>14.065224</td>\n",
       "      <td>2.381170</td>\n",
       "      <td>...</td>\n",
       "      <td>8.761120</td>\n",
       "      <td>3.044486</td>\n",
       "      <td>-4.087876</td>\n",
       "      <td>2.654585</td>\n",
       "      <td>5.756626</td>\n",
       "      <td>-10.280611</td>\n",
       "      <td>-0.186197</td>\n",
       "      <td>5.224265</td>\n",
       "      <td>9.349829</td>\n",
       "      <td>210</td>\n",
       "    </tr>\n",
       "    <tr>\n",
       "      <th>4</th>\n",
       "      <td>0.527456</td>\n",
       "      <td>8.382433</td>\n",
       "      <td>3.645772</td>\n",
       "      <td>-5.117443</td>\n",
       "      <td>0.922938</td>\n",
       "      <td>7.458163</td>\n",
       "      <td>0.486321</td>\n",
       "      <td>8.588789</td>\n",
       "      <td>10.456004</td>\n",
       "      <td>-4.279165</td>\n",
       "      <td>...</td>\n",
       "      <td>5.763774</td>\n",
       "      <td>3.959131</td>\n",
       "      <td>8.822436</td>\n",
       "      <td>2.880200</td>\n",
       "      <td>9.275008</td>\n",
       "      <td>1.358360</td>\n",
       "      <td>1.424039</td>\n",
       "      <td>11.092270</td>\n",
       "      <td>-5.685175</td>\n",
       "      <td>210</td>\n",
       "    </tr>\n",
       "  </tbody>\n",
       "</table>\n",
       "<p>5 rows × 51 columns</p>\n",
       "</div>"
      ],
      "text/plain": [
       "          0         1          2          3          4         5         6  \\\n",
       "0 -6.973577  2.447974  -9.851880  11.868268   9.420810  3.046863 -1.114315   \n",
       "1  9.192420  7.223946  11.774557  -0.824299   3.696919  0.328605 -5.526986   \n",
       "2  3.867326  8.321930   7.796142   5.336612  12.298200 -0.519870  6.280395   \n",
       "3 -2.676299  8.879771  13.609305  -1.150922  11.271358  2.787271  7.198100   \n",
       "4  0.527456  8.382433   3.645772  -5.117443   0.922938  7.458163  0.486321   \n",
       "\n",
       "           7          8         9  ...          41        42        43  \\\n",
       "0  -0.416408   2.556177  3.847380  ...    6.635931  5.447528 -1.324486   \n",
       "1   2.159307  10.079803  2.491291  ...    8.918476  9.601267  2.316854   \n",
       "2   8.114155   1.445991  6.717050  ...   -2.701327  3.352914  8.980492   \n",
       "3  14.877937  14.065224  2.381170  ...    8.761120  3.044486 -4.087876   \n",
       "4   8.588789  10.456004 -4.279165  ...    5.763774  3.959131  8.822436   \n",
       "\n",
       "         44        45         46        47         48         49  label  \n",
       "0  0.998822  1.346430   3.748446  8.858773   5.944002  10.813704    210  \n",
       "1  3.707042  6.395154   6.913579  4.781577   0.682398  14.151133    210  \n",
       "2  4.225336  6.084451   9.637898  1.298142   8.523003  -3.586282    210  \n",
       "3  2.654585  5.756626 -10.280611 -0.186197   5.224265   9.349829    210  \n",
       "4  2.880200  9.275008   1.358360  1.424039  11.092270  -5.685175    210  \n",
       "\n",
       "[5 rows x 51 columns]"
      ]
     },
     "execution_count": 983,
     "metadata": {},
     "output_type": "execute_result"
    }
   ],
   "source": [
    "df_data2 = pd.read_csv('../DataFactory/FixedPlaintext/TS1.csv')\n",
    "#df_data2 = df_data2.drop(['label'],axis=1)\n",
    "df_data2 = df_data2[0:numberOfTraces]\n",
    "df_data2.head()"
   ]
  },
  {
   "cell_type": "markdown",
   "metadata": {},
   "source": [
    "### Mean"
   ]
  },
  {
   "cell_type": "code",
   "execution_count": 984,
   "metadata": {},
   "outputs": [],
   "source": [
    "def myMean(data):\n",
    "    return data.mean()"
   ]
  },
  {
   "cell_type": "code",
   "execution_count": 985,
   "metadata": {},
   "outputs": [
    {
     "data": {
      "text/plain": [
       "0     4.017784\n",
       "1     4.003864\n",
       "2     3.972762\n",
       "3     3.942082\n",
       "4     4.018443\n",
       "5     4.049306\n",
       "6     3.988556\n",
       "7     3.975774\n",
       "8     3.962164\n",
       "9     3.982661\n",
       "10    4.000732\n",
       "11    3.974266\n",
       "12    3.971529\n",
       "13    4.049574\n",
       "14    4.026404\n",
       "15    3.983852\n",
       "16    3.972342\n",
       "17    3.999900\n",
       "18    4.013601\n",
       "19    3.979104\n",
       "20    4.042273\n",
       "21    3.937511\n",
       "22    4.040182\n",
       "23    4.007925\n",
       "24    3.013150\n",
       "25    3.998788\n",
       "26    4.006010\n",
       "27    4.001404\n",
       "28    4.003901\n",
       "29    3.997873\n",
       "30    3.992405\n",
       "31    3.994181\n",
       "32    4.002589\n",
       "33    3.955640\n",
       "34    3.974767\n",
       "35    4.029030\n",
       "36    3.987301\n",
       "37    4.051338\n",
       "38    3.992728\n",
       "39    4.032724\n",
       "40    4.010402\n",
       "41    3.954710\n",
       "42    4.046316\n",
       "43    4.048275\n",
       "44    4.019673\n",
       "45    4.007873\n",
       "46    3.984261\n",
       "47    4.024513\n",
       "48    4.010593\n",
       "49    3.942634\n",
       "dtype: float64"
      ]
     },
     "execution_count": 985,
     "metadata": {},
     "output_type": "execute_result"
    }
   ],
   "source": [
    "df_data1_mean = myMean(df_data1)\n",
    "df_data1_mean"
   ]
  },
  {
   "cell_type": "code",
   "execution_count": 986,
   "metadata": {},
   "outputs": [
    {
     "data": {
      "text/plain": [
       "0          3.967819\n",
       "1          4.007288\n",
       "2          3.979279\n",
       "3          3.982235\n",
       "4          4.062251\n",
       "5          4.017551\n",
       "6          4.006335\n",
       "7          3.992305\n",
       "8          4.053625\n",
       "9          4.009896\n",
       "10         3.969981\n",
       "11         3.979611\n",
       "12         3.974810\n",
       "13         3.957048\n",
       "14         3.985741\n",
       "15         3.991413\n",
       "16         3.992644\n",
       "17         3.985109\n",
       "18         4.023298\n",
       "19         3.966377\n",
       "20         3.991658\n",
       "21         4.005278\n",
       "22         4.050423\n",
       "23         3.950759\n",
       "24         3.994302\n",
       "25         3.994787\n",
       "26         3.990597\n",
       "27         4.028200\n",
       "28         4.023089\n",
       "29         3.990392\n",
       "30         3.983421\n",
       "31         4.012688\n",
       "32         3.956362\n",
       "33         3.994217\n",
       "34         3.990361\n",
       "35         4.012788\n",
       "36         3.978525\n",
       "37         3.985466\n",
       "38         3.987693\n",
       "39         3.990182\n",
       "40         3.964679\n",
       "41         4.006963\n",
       "42         3.997035\n",
       "43         3.998923\n",
       "44         4.026514\n",
       "45         4.050581\n",
       "46         4.001362\n",
       "47         3.988877\n",
       "48         4.023577\n",
       "49         3.969371\n",
       "label    210.000000\n",
       "dtype: float64"
      ]
     },
     "execution_count": 986,
     "metadata": {},
     "output_type": "execute_result"
    }
   ],
   "source": [
    "df_data2_mean = myMean(df_data2)\n",
    "df_data2_mean"
   ]
  },
  {
   "cell_type": "markdown",
   "metadata": {},
   "source": [
    "### Sandard Derivation"
   ]
  },
  {
   "cell_type": "code",
   "execution_count": 987,
   "metadata": {},
   "outputs": [],
   "source": [
    "def myStd(data):\n",
    "    return data.std()"
   ]
  },
  {
   "cell_type": "code",
   "execution_count": 988,
   "metadata": {},
   "outputs": [
    {
     "data": {
      "text/plain": [
       "0     5.639435\n",
       "1     5.611731\n",
       "2     5.627690\n",
       "3     5.598230\n",
       "4     5.615567\n",
       "5     5.640304\n",
       "6     5.607894\n",
       "7     5.604566\n",
       "8     5.635842\n",
       "9     5.608786\n",
       "10    5.655447\n",
       "11    5.620063\n",
       "12    5.646872\n",
       "13    5.631837\n",
       "14    5.623138\n",
       "15    5.647206\n",
       "16    5.623343\n",
       "17    5.636342\n",
       "18    5.634624\n",
       "19    5.624595\n",
       "20    5.627154\n",
       "21    5.638427\n",
       "22    5.629879\n",
       "23    5.611383\n",
       "24    5.035308\n",
       "25    5.621461\n",
       "26    5.608485\n",
       "27    5.607440\n",
       "28    5.637734\n",
       "29    5.642892\n",
       "30    5.640714\n",
       "31    5.640444\n",
       "32    5.647811\n",
       "33    5.616426\n",
       "34    5.620906\n",
       "35    5.640479\n",
       "36    5.647202\n",
       "37    5.628950\n",
       "38    5.621364\n",
       "39    5.579233\n",
       "40    5.617316\n",
       "41    5.619489\n",
       "42    5.651166\n",
       "43    5.627794\n",
       "44    5.632000\n",
       "45    5.625381\n",
       "46    5.639645\n",
       "47    5.644280\n",
       "48    5.643810\n",
       "49    5.631660\n",
       "dtype: float64"
      ]
     },
     "execution_count": 988,
     "metadata": {},
     "output_type": "execute_result"
    }
   ],
   "source": [
    "df_data1_std = myStd(df_data1)\n",
    "df_data1_std"
   ]
  },
  {
   "cell_type": "code",
   "execution_count": 989,
   "metadata": {},
   "outputs": [
    {
     "data": {
      "text/plain": [
       "0        5.619383\n",
       "1        5.623184\n",
       "2        5.630967\n",
       "3        5.635142\n",
       "4        5.622411\n",
       "5        5.625068\n",
       "6        5.623342\n",
       "7        5.623221\n",
       "8        5.630346\n",
       "9        5.646471\n",
       "10       5.626643\n",
       "11       5.615124\n",
       "12       5.626436\n",
       "13       5.622529\n",
       "14       5.646375\n",
       "15       5.641347\n",
       "16       5.644538\n",
       "17       5.622182\n",
       "18       5.638138\n",
       "19       5.663305\n",
       "20       5.600718\n",
       "21       5.623435\n",
       "22       5.617054\n",
       "23       5.624710\n",
       "24       4.999743\n",
       "25       5.625348\n",
       "26       5.629378\n",
       "27       5.629949\n",
       "28       5.619200\n",
       "29       5.639031\n",
       "30       5.648939\n",
       "31       5.627679\n",
       "32       5.665240\n",
       "33       5.591597\n",
       "34       5.617278\n",
       "35       5.626940\n",
       "36       5.646107\n",
       "37       5.627043\n",
       "38       5.649597\n",
       "39       5.614558\n",
       "40       5.621367\n",
       "41       5.606437\n",
       "42       5.627210\n",
       "43       5.636063\n",
       "44       5.612023\n",
       "45       5.644430\n",
       "46       5.662655\n",
       "47       5.628422\n",
       "48       5.615616\n",
       "49       5.642268\n",
       "label    0.000000\n",
       "dtype: float64"
      ]
     },
     "execution_count": 989,
     "metadata": {},
     "output_type": "execute_result"
    }
   ],
   "source": [
    "df_data2_std = myStd(df_data2)\n",
    "df_data2_std"
   ]
  },
  {
   "cell_type": "markdown",
   "metadata": {},
   "source": [
    "### T-Test "
   ]
  },
  {
   "cell_type": "code",
   "execution_count": 990,
   "metadata": {},
   "outputs": [],
   "source": [
    "def tMean(data1,data2):\n",
    "    return(data1 - data2)"
   ]
  },
  {
   "cell_type": "code",
   "execution_count": 991,
   "metadata": {},
   "outputs": [],
   "source": [
    "def myStd(data):\n",
    "    return data.std()"
   ]
  },
  {
   "cell_type": "code",
   "execution_count": 992,
   "metadata": {},
   "outputs": [],
   "source": [
    "def tSN(std,n):\n",
    "    return(std**2/len(n))"
   ]
  },
  {
   "cell_type": "code",
   "execution_count": 993,
   "metadata": {},
   "outputs": [],
   "source": [
    "def ttestCalc(mean1,mean2,std1,std2,data1,data2):\n",
    "    tv = (tMean(mean1,mean2)) / (np.sqrt(tSN(std1,data1) + tSN(std2,data2)))\n",
    "    return(np.abs(tv))"
   ]
  },
  {
   "cell_type": "code",
   "execution_count": 994,
   "metadata": {},
   "outputs": [
    {
     "data": {
      "text/plain": [
       "0        0.035604\n",
       "1        0.035528\n",
       "10       0.035677\n",
       "11       0.035529\n",
       "12       0.035649\n",
       "13       0.035589\n",
       "14       0.035637\n",
       "15       0.035698\n",
       "16       0.035632\n",
       "17       0.035603\n",
       "18       0.035648\n",
       "19       0.035696\n",
       "2        0.035603\n",
       "20       0.035506\n",
       "21       0.035613\n",
       "22       0.035566\n",
       "23       0.035532\n",
       "24       0.031734\n",
       "25       0.035566\n",
       "26       0.035537\n",
       "27       0.035536\n",
       "28       0.035598\n",
       "29       0.035677\n",
       "3        0.035523\n",
       "30       0.035701\n",
       "31       0.035633\n",
       "32       0.035775\n",
       "33       0.035443\n",
       "34       0.035538\n",
       "35       0.035631\n",
       "36       0.035713\n",
       "37       0.035595\n",
       "38       0.035642\n",
       "39       0.035398\n",
       "4        0.035538\n",
       "40       0.035540\n",
       "41       0.035500\n",
       "42       0.035665\n",
       "43       0.035619\n",
       "44       0.035557\n",
       "45       0.035638\n",
       "46       0.035741\n",
       "47       0.035647\n",
       "48       0.035606\n",
       "49       0.035651\n",
       "5        0.035624\n",
       "6        0.035516\n",
       "7        0.035505\n",
       "8        0.035627\n",
       "9        0.035592\n",
       "label         NaN\n",
       "dtype: float64"
      ]
     },
     "execution_count": 994,
     "metadata": {},
     "output_type": "execute_result"
    }
   ],
   "source": [
    "(np.sqrt(tSN(df_data1_std,df_data1) + tSN(df_data2_std,df_data2)))"
   ]
  },
  {
   "cell_type": "code",
   "execution_count": 995,
   "metadata": {},
   "outputs": [
    {
     "name": "stdout",
     "output_type": "stream",
     "text": [
      "0        0.020052\n",
      "1       -0.011453\n",
      "10       0.028804\n",
      "11       0.004939\n",
      "12       0.020436\n",
      "13       0.009308\n",
      "14      -0.023237\n",
      "15       0.005859\n",
      "16      -0.021194\n",
      "17       0.014160\n",
      "18      -0.003515\n",
      "19      -0.038710\n",
      "2       -0.003277\n",
      "20       0.026436\n",
      "21       0.014993\n",
      "22       0.012825\n",
      "23      -0.013327\n",
      "24       0.035565\n",
      "25      -0.003887\n",
      "26      -0.020893\n",
      "27      -0.022509\n",
      "28       0.018533\n",
      "29       0.003862\n",
      "3       -0.036912\n",
      "30      -0.008225\n",
      "31       0.012765\n",
      "32      -0.017429\n",
      "33       0.024829\n",
      "34       0.003628\n",
      "35       0.013539\n",
      "36       0.001096\n",
      "37       0.001907\n",
      "38      -0.028233\n",
      "39      -0.035325\n",
      "4       -0.006843\n",
      "40      -0.004051\n",
      "41       0.013051\n",
      "42       0.023956\n",
      "43      -0.008269\n",
      "44       0.019977\n",
      "45      -0.019050\n",
      "46      -0.023010\n",
      "47       0.015858\n",
      "48       0.028194\n",
      "49      -0.010608\n",
      "5        0.015235\n",
      "6       -0.015448\n",
      "7       -0.018655\n",
      "8        0.005496\n",
      "9       -0.037685\n",
      "label         NaN\n",
      "dtype: float64\n"
     ]
    }
   ],
   "source": [
    "print(tMean(df_data1_std,df_data2_std))"
   ]
  },
  {
   "cell_type": "code",
   "execution_count": 996,
   "metadata": {},
   "outputs": [],
   "source": [
    "def tTest(data1,data2,tLeng):\n",
    "    arr_collect_All=[]\n",
    "    mean1 = myMean(data1)\n",
    "    mean2 = myMean(data2)\n",
    "    std1 = myStd(data1)\n",
    "    std2 = myStd(data2)\n",
    "    for j in range(0,tLeng):\n",
    "        arr_collect=[]\n",
    "        for i in range(0,tLeng):\n",
    "            arr_collect.append(ttestCalc(mean1[j],mean2[i],std1[j],std2[i],data1,data2))\n",
    "        arr_collect_All.append(np.amax(arr_collect))\n",
    "    return(arr_collect_All)"
   ]
  },
  {
   "cell_type": "code",
   "execution_count": 997,
   "metadata": {},
   "outputs": [
    {
     "data": {
      "text/plain": [
       "[1.881653909719986,\n",
       " 1.6435478800169538,\n",
       " 2.51546188713065,\n",
       " 3.386682895604016,\n",
       " 1.9041929435348353,\n",
       " 2.766386958929408,\n",
       " 2.075137553691285,\n",
       " 2.435796899268969,\n",
       " 2.8113197206338505,\n",
       " 2.2409516447332236,\n",
       " 1.7249700582674066,\n",
       " 2.474859642471316,\n",
       " 2.545771955315435,\n",
       " 2.775988706667459,\n",
       " 2.126744157139912,\n",
       " 2.1998972546852174,\n",
       " 2.5282435680240183,\n",
       " 1.751269894141749,\n",
       " 1.7649714766294278,\n",
       " 2.3378221870021685,\n",
       " 2.571971764059395,\n",
       " 3.5029644346030895,\n",
       " 2.512588580794921,\n",
       " 1.6088880334399567,\n",
       " 31.081023658689865,\n",
       " 1.784867646101518,\n",
       " 1.583577975675846,\n",
       " 1.7134357303295125,\n",
       " 1.6386955898724518,\n",
       " 1.8071551380830893,\n",
       " 1.9610191748949921,\n",
       " 1.9112059489946882,\n",
       " 1.6740439126566873,\n",
       " 2.999720780288371,\n",
       " 2.460571876776069,\n",
       " 2.1971839505191153,\n",
       " 2.103124043478693,\n",
       " 2.8262719917687193,\n",
       " 1.9553354648783239,\n",
       " 2.313425516613159,\n",
       " 1.677708008872595,\n",
       " 3.0250820144774893,\n",
       " 2.679876933645627,\n",
       " 2.7404954237118844,\n",
       " 1.9359790217237924,\n",
       " 1.6054296787923505,\n",
       " 2.189890722046953,\n",
       " 2.0696725827114286,\n",
       " 1.679122190287233,\n",
       " 3.3611313297102035]"
      ]
     },
     "execution_count": 997,
     "metadata": {},
     "output_type": "execute_result"
    }
   ],
   "source": [
    "tTest(df_data1,df_data2,50)"
   ]
  },
  {
   "cell_type": "code",
   "execution_count": 998,
   "metadata": {},
   "outputs": [
    {
     "data": {
      "text/plain": [
       "0        99996.731262\n",
       "1        99997.584356\n",
       "10       99995.392860\n",
       "11       99997.922714\n",
       "12       99996.685559\n",
       "13       99997.726403\n",
       "14       99996.299446\n",
       "15       99997.892243\n",
       "16       99996.584872\n",
       "17       99997.367245\n",
       "18       99997.961114\n",
       "19       99993.296387\n",
       "2        99997.966121\n",
       "20       99995.782707\n",
       "21       99997.291088\n",
       "22       99997.479870\n",
       "23       99997.437262\n",
       "24       99992.976251\n",
       "25       99997.952233\n",
       "26       99996.617465\n",
       "27       99996.395192\n",
       "28       99996.915785\n",
       "29       99997.953135\n",
       "3        99993.681413\n",
       "30       99997.787693\n",
       "31       99997.486711\n",
       "32       99997.050648\n",
       "33       99996.037049\n",
       "34       99997.958316\n",
       "35       99997.422461\n",
       "36       99997.996235\n",
       "37       99997.988523\n",
       "38       99995.490180\n",
       "39       99994.016810\n",
       "4        99997.851676\n",
       "40       99997.948023\n",
       "41       99997.459349\n",
       "42       99996.195476\n",
       "43       99997.784411\n",
       "44       99996.737427\n",
       "45       99996.857147\n",
       "46       99996.342194\n",
       "47       99997.208453\n",
       "48       99995.492124\n",
       "49       99997.645885\n",
       "5        99997.268413\n",
       "6        99997.243243\n",
       "7        99996.895813\n",
       "8        99997.904822\n",
       "9        99993.516278\n",
       "label             NaN\n",
       "dtype: float64"
      ]
     },
     "execution_count": 998,
     "metadata": {},
     "output_type": "execute_result"
    }
   ],
   "source": [
    "df(df_data1,df_data2)"
   ]
  },
  {
   "cell_type": "code",
   "execution_count": 999,
   "metadata": {},
   "outputs": [],
   "source": [
    "    mean1 = myMean(df_data1)\n",
    "    mean2 = myMean(df_data2)\n",
    "    std1 = myStd(df_data1)\n",
    "    std2 = myStd(df_data2)"
   ]
  },
  {
   "cell_type": "code",
   "execution_count": 1000,
   "metadata": {},
   "outputs": [],
   "source": [
    "testArr = []\n",
    "for i in range(0,50):\n",
    "    testArr.append(ttestCalc(mean1[i],mean2[i],std1[i],std2[i],df_data1,df_data2))"
   ]
  },
  {
   "cell_type": "code",
   "execution_count": 1001,
   "metadata": {},
   "outputs": [
    {
     "data": {
      "image/png": "[encoded data removed]",
      "text/plain": [
       "<Figure size 432x288 with 1 Axes>"
      ]
     },
     "metadata": {},
     "output_type": "display_data"
    }
   ],
   "source": [
    "import matplotlib.pyplot as plt\n",
    "plt.plot(testArr,'-bD',markevery=[24])\n",
    "plt.axhline(y=5.0, xmin=0, xmax=1, color='r', linestyle='-', lw=1)\n",
    "plt.show()"
   ]
  },
  {
   "cell_type": "markdown",
   "metadata": {},
   "source": [
    "### Degree of freedom"
   ]
  },
  {
   "cell_type": "code",
   "execution_count": 1002,
   "metadata": {},
   "outputs": [],
   "source": [
    "def vS2(data1,data2,std1,std2):    \n",
    "    s22 = (tSN(std1,data1) + tSN(std2,data2))**2\n",
    "    return(s22)"
   ]
  },
  {
   "cell_type": "code",
   "execution_count": 1003,
   "metadata": {},
   "outputs": [],
   "source": [
    "def df(data1,data2):\n",
    "    \n",
    "    std1 = myStd(data1)\n",
    "    std2 = myStd(data2)\n",
    "    \n",
    "    s22 = vS2(data1,data2,std1,std2)\n",
    "    \n",
    "    term1 = (std1**2 / (len(data1)))**2 / (len(data1) - 1)\n",
    "    term2 = (std2**2 / (len(data2)))**2 / (len(data2) - 1)\n",
    "\n",
    "    v = s22 / (term1 + term2)\n",
    "    \n",
    "    return(v)\n",
    "    "
   ]
  },
  {
   "cell_type": "markdown",
   "metadata": {},
   "source": [
    "### CDF"
   ]
  },
  {
   "cell_type": "code",
   "execution_count": 1004,
   "metadata": {},
   "outputs": [
    {
     "name": "stdout",
     "output_type": "stream",
     "text": [
      "t-value 31.081023658689865\n",
      "v-value 99997.78769279222\n"
     ]
    }
   ],
   "source": [
    "cdf_array = []\n",
    "\n",
    "tV = tTest(df_data1,df_data2,50)\n",
    "v = df(df_data1,df_data2)\n",
    "\n",
    "print(\"t-value\",tV[24])\n",
    "print(\"v-value\",v[24])\n",
    "\n",
    "for i in range(0,50,1):\n",
    "    cdf_array.append(t.cdf(-1 *(tV[i]),v[i]))"
   ]
  },
  {
   "cell_type": "markdown",
   "metadata": {},
   "source": [
    "### Plot "
   ]
  },
  {
   "cell_type": "code",
   "execution_count": 1005,
   "metadata": {},
   "outputs": [
    {
     "data": {
      "image/png": "[encoded data removed]",
      "text/plain": [
       "<Figure size 432x288 with 1 Axes>"
      ]
     },
     "metadata": {},
     "output_type": "display_data"
    }
   ],
   "source": [
    "import matplotlib.pyplot as plt\n",
    "plt.plot(-np.log10(cdf_array),'-bD',markevery=[24])\n",
    "plt.axhline(y=5.0, xmin=0, xmax=1, color='r', linestyle='-', lw=1)\n",
    "plt.show()"
   ]
  },
  {
   "cell_type": "code",
   "execution_count": 980,
   "metadata": {},
   "outputs": [
    {
     "name": "stdout",
     "output_type": "stream",
     "text": [
      "1e-300\n"
     ]
    }
   ],
   "source": [
    "a=10**(-300)\n",
    "print(a)"
   ]
  }
 ],
 "metadata": {
  "kernelspec": {
   "display_name": "Python 2",
   "language": "python",
   "name": "python2"
  },
  "language_info": {
   "codemirror_mode": {
    "name": "ipython",
    "version": 2
   },
   "file_extension": ".py",
   "mimetype": "text/x-python",
   "name": "python",
   "nbconvert_exporter": "python",
   "pygments_lexer": "ipython2",
   "version": "2.7.15"
  }
 },
 "nbformat": 4,
 "nbformat_minor": 2
}
