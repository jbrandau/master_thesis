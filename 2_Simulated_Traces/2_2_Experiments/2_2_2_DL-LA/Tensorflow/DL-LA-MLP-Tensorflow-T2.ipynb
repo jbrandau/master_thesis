{
 "cells": [
  {
   "cell_type": "markdown",
   "metadata": {},
   "source": [
    "## DL-LA-Tensorflow-Datatset-2"
   ]
  },
  {
   "cell_type": "code",
   "execution_count": 10,
   "metadata": {},
   "outputs": [
    {
     "data": {
      "text/html": [
       "<style>.container { width:90% !important; }</style>"
      ],
      "text/plain": [
       "<IPython.core.display.HTML object>"
      ]
     },
     "metadata": {},
     "output_type": "display_data"
    }
   ],
   "source": [
    "from IPython.core.display import display, HTML\n",
    "display(HTML(\"<style>.container { width:90% !important; }</style>\"))"
   ]
  },
  {
   "cell_type": "code",
   "execution_count": 11,
   "metadata": {},
   "outputs": [],
   "source": [
    "import pandas as pd\n",
    "import pandas as np"
   ]
  },
  {
   "cell_type": "code",
   "execution_count": 12,
   "metadata": {},
   "outputs": [],
   "source": [
    "import os\n",
    "import scipy.io as sio"
   ]
  },
  {
   "cell_type": "code",
   "execution_count": 13,
   "metadata": {},
   "outputs": [],
   "source": [
    "## Loading MNIST dataset from keras\n",
    "import keras\n",
    "from sklearn.preprocessing import LabelBinarizer\n",
    "from sklearn.model_selection import train_test_split\n",
    "import matplotlib.pyplot as plt\n",
    "%matplotlib inline"
   ]
  },
  {
   "cell_type": "code",
   "execution_count": 14,
   "metadata": {},
   "outputs": [],
   "source": [
    "from keras.utils import to_categorical"
   ]
  },
  {
   "cell_type": "code",
   "execution_count": 15,
   "metadata": {},
   "outputs": [
    {
     "name": "stderr",
     "output_type": "stream",
     "text": [
      "/usr/local/lib/python3.6/dist-packages/tensorflow_core/python/client/session.py:1750: UserWarning: An interactive session is already active. This can cause out-of-memory errors in some cases. You must explicitly call `InteractiveSession.close()` to release resources held by the other session(s).\n",
      "  warnings.warn('An interactive session is already active. This can '\n"
     ]
    }
   ],
   "source": [
    "## Importing required libraries\n",
    "import numpy as np\n",
    "import tensorflow.compat.v1 as tf\n",
    "from sklearn.metrics import roc_auc_score, accuracy_score\n",
    "s = tf.InteractiveSession()\n",
    "tf.disable_v2_behavior()"
   ]
  },
  {
   "cell_type": "markdown",
   "metadata": {},
   "source": [
    "### Load Data"
   ]
  },
  {
   "cell_type": "code",
   "execution_count": 16,
   "metadata": {},
   "outputs": [],
   "source": [
    "df_data1 = pd.read_csv('../DataFactory/FixedPlaintext/TS2_A.csv')"
   ]
  },
  {
   "cell_type": "code",
   "execution_count": 17,
   "metadata": {},
   "outputs": [],
   "source": [
    "df_data1['label'] = 0"
   ]
  },
  {
   "cell_type": "code",
   "execution_count": 18,
   "metadata": {},
   "outputs": [],
   "source": [
    "df_data2 = pd.read_csv('../DataFactory/FixedPlaintext/TS2_B.csv')"
   ]
  },
  {
   "cell_type": "code",
   "execution_count": 19,
   "metadata": {},
   "outputs": [],
   "source": [
    "df_data2['label'] = 1"
   ]
  },
  {
   "cell_type": "code",
   "execution_count": 20,
   "metadata": {},
   "outputs": [
    {
     "data": {
      "text/plain": [
       "400000"
      ]
     },
     "execution_count": 20,
     "metadata": {},
     "output_type": "execute_result"
    }
   ],
   "source": [
    "len(df_data1)"
   ]
  },
  {
   "cell_type": "markdown",
   "metadata": {},
   "source": [
    "### Create Label"
   ]
  },
  {
   "cell_type": "code",
   "execution_count": 21,
   "metadata": {},
   "outputs": [],
   "source": [
    "df_label1 = df_data1['label']\n",
    "df_data1 = df_data1.drop(['label'],axis=1)"
   ]
  },
  {
   "cell_type": "code",
   "execution_count": 22,
   "metadata": {},
   "outputs": [],
   "source": [
    "df_label2 = df_data2['label']\n",
    "df_data2 = df_data2.drop(['label'],axis=1)"
   ]
  },
  {
   "cell_type": "code",
   "execution_count": 23,
   "metadata": {},
   "outputs": [],
   "source": [
    "df_data = pd.concat([df_data1,df_data2])\n",
    "df_data = df_data.reset_index()\n",
    "df_data = df_data.to_numpy()\n",
    "df_data = np.delete(df_data, 0, axis=1)"
   ]
  },
  {
   "cell_type": "code",
   "execution_count": 24,
   "metadata": {},
   "outputs": [
    {
     "data": {
      "text/plain": [
       "800000"
      ]
     },
     "execution_count": 24,
     "metadata": {},
     "output_type": "execute_result"
    }
   ],
   "source": [
    "len(df_data)"
   ]
  },
  {
   "cell_type": "code",
   "execution_count": 25,
   "metadata": {},
   "outputs": [],
   "source": [
    "df_label = pd.concat([df_label1,df_label2])\n",
    "df_label = df_label.reset_index()\n",
    "df_label = df_label.to_numpy()"
   ]
  },
  {
   "cell_type": "code",
   "execution_count": 26,
   "metadata": {},
   "outputs": [],
   "source": [
    "df_label = df_label[:,-1]"
   ]
  },
  {
   "cell_type": "markdown",
   "metadata": {},
   "source": [
    "### Split Label"
   ]
  },
  {
   "cell_type": "code",
   "execution_count": 27,
   "metadata": {},
   "outputs": [],
   "source": [
    "X_train, X_test, y_train, y_test = train_test_split(df_data,df_label,test_size=0.2,shuffle=True,stratify=df_label)"
   ]
  },
  {
   "cell_type": "code",
   "execution_count": 29,
   "metadata": {},
   "outputs": [],
   "source": [
    "y_train = to_categorical(y_train,num_classes=2)"
   ]
  },
  {
   "cell_type": "code",
   "execution_count": 30,
   "metadata": {},
   "outputs": [],
   "source": [
    "y_test = to_categorical(y_test,num_classes=2)"
   ]
  },
  {
   "cell_type": "code",
   "execution_count": 32,
   "metadata": {},
   "outputs": [],
   "source": [
    "import numpy as np"
   ]
  },
  {
   "cell_type": "code",
   "execution_count": 33,
   "metadata": {},
   "outputs": [],
   "source": [
    "X_train = np.array(X_train)"
   ]
  },
  {
   "cell_type": "code",
   "execution_count": 34,
   "metadata": {},
   "outputs": [],
   "source": [
    "y_train = np.array(y_train)"
   ]
  },
  {
   "cell_type": "code",
   "execution_count": 37,
   "metadata": {},
   "outputs": [],
   "source": [
    "X_test = np.array(X_test)"
   ]
  },
  {
   "cell_type": "code",
   "execution_count": 38,
   "metadata": {},
   "outputs": [],
   "source": [
    "y_test = np.array(y_test)"
   ]
  },
  {
   "cell_type": "code",
   "execution_count": 39,
   "metadata": {},
   "outputs": [],
   "source": [
    "## Defining various initialization parameters for 784-512-256-10 MLP model\n",
    "num_classes = y_train.shape[1]\n",
    "num_features = X_train.shape[1]\n",
    "num_output = y_train.shape[1]\n",
    "num_layers_0 = 120\n",
    "num_layers_1 = 90\n",
    "num_layers_2 = 50\n",
    "num_layers_3 = 2\n",
    "starter_learning_rate = 0.001\n",
    "regularizer_rate = 0.1"
   ]
  },
  {
   "cell_type": "code",
   "execution_count": 40,
   "metadata": {},
   "outputs": [],
   "source": [
    "# Placeholders for the input data\n",
    "input_X = tf.placeholder('float32',shape =(None,num_features),name=\"input_X\")\n",
    "input_y = tf.placeholder('float32',shape = (None,num_classes),name='input_Y')\n",
    "## for dropout layer\n",
    "keep_prob = tf.placeholder(tf.float32)"
   ]
  },
  {
   "cell_type": "code",
   "execution_count": 41,
   "metadata": {},
   "outputs": [
    {
     "name": "stdout",
     "output_type": "stream",
     "text": [
      "WARNING:tensorflow:From <ipython-input-41-1bab606d2542>:2: dense (from tensorflow.python.layers.core) is deprecated and will be removed in a future version.\n",
      "Instructions for updating:\n",
      "Use keras.layers.Dense instead.\n",
      "WARNING:tensorflow:From /usr/local/lib/python3.6/dist-packages/tensorflow_core/python/layers/core.py:187: Layer.apply (from tensorflow.python.keras.engine.base_layer) is deprecated and will be removed in a future version.\n",
      "Instructions for updating:\n",
      "Please use `layer.__call__` method instead.\n",
      "WARNING:tensorflow:From <ipython-input-41-1bab606d2542>:3: batch_normalization (from tensorflow.python.layers.normalization) is deprecated and will be removed in a future version.\n",
      "Instructions for updating:\n",
      "Use keras.layers.BatchNormalization instead.  In particular, `tf.control_dependencies(tf.GraphKeys.UPDATE_OPS)` should not be used (consult the `tf.keras.layers.batch_normalization` documentation).\n"
     ]
    }
   ],
   "source": [
    "## Initializing weigths and biases\n",
    "hidden_output_0 = tf.layers.dense(input_X, units=num_layers_0)\n",
    "hidden_output_0 = tf.layers.batch_normalization(hidden_output_0, training=True)\n",
    "hidden_output_0 = tf.nn.relu(hidden_output_0)\n",
    "\n",
    "hidden_output_1 = tf.layers.dense(hidden_output_0, units=num_layers_1)\n",
    "hidden_output_1 = tf.layers.batch_normalization(hidden_output_1, training=True)\n",
    "hidden_output_1 = tf.nn.relu(hidden_output_1)\n",
    "\n",
    "hidden_output_2 = tf.layers.dense(hidden_output_1, units=num_layers_2)\n",
    "hidden_output_2 = tf.layers.batch_normalization(hidden_output_2, training=True)\n",
    "hidden_output_2 = tf.nn.relu(hidden_output_2)\n",
    "\n",
    "hidden_output_3 = tf.layers.dense(hidden_output_2, units=num_layers_3)\n",
    "predicted_y = tf.nn.softmax(hidden_output_3)\n",
    "\n",
    "#predicted_y = tf.nn.softmax(hidden_output_3)"
   ]
  },
  {
   "cell_type": "code",
   "execution_count": 42,
   "metadata": {},
   "outputs": [],
   "source": [
    "## Defining the loss function\n",
    "loss = tf.reduce_mean(tf.squared_difference(predicted_y, input_y))"
   ]
  },
  {
   "cell_type": "code",
   "execution_count": 43,
   "metadata": {},
   "outputs": [],
   "source": [
    "## Variable learning rate\n",
    "learning_rate = tf.train.exponential_decay(starter_learning_rate, 0, 5, 0.85, staircase=True)\n",
    "\n",
    "## Adam optimzer for finding the right weight\n",
    "optimizer = tf.train.AdamOptimizer(learning_rate).minimize(loss)"
   ]
  },
  {
   "cell_type": "code",
   "execution_count": 44,
   "metadata": {},
   "outputs": [],
   "source": [
    "## Metrics definition\n",
    "correct_prediction = tf.equal(tf.argmax(y_train,1), tf.argmax(predicted_y,1))\n",
    "accuracy = tf.reduce_mean(tf.cast(correct_prediction, tf.float32))"
   ]
  },
  {
   "cell_type": "code",
   "execution_count": 45,
   "metadata": {
    "scrolled": false
   },
   "outputs": [
    {
     "name": "stdout",
     "output_type": "stream",
     "text": [
      "Epoch:0, Train loss: 0.25 Train acc: 0.526, Test acc:0.512\n",
      "Epoch:1, Train loss: 0.25 Train acc: 0.534, Test acc:0.514\n",
      "Epoch:2, Train loss: 0.25 Train acc: 0.539, Test acc:0.513\n",
      "Epoch:3, Train loss: 0.25 Train acc: 0.545, Test acc:0.515\n",
      "Epoch:4, Train loss: 0.25 Train acc: 0.547, Test acc:0.513\n",
      "Epoch:5, Train loss: 0.25 Train acc: 0.551, Test acc:0.514\n",
      "Epoch:6, Train loss: 0.25 Train acc: 0.555, Test acc:0.509\n",
      "Epoch:7, Train loss: 0.24 Train acc: 0.559, Test acc:0.511\n",
      "Epoch:8, Train loss: 0.24 Train acc: 0.563, Test acc:0.510\n",
      "Epoch:9, Train loss: 0.24 Train acc: 0.567, Test acc:0.508\n",
      "Epoch:10, Train loss: 0.24 Train acc: 0.569, Test acc:0.509\n",
      "Epoch:11, Train loss: 0.24 Train acc: 0.573, Test acc:0.508\n",
      "Epoch:12, Train loss: 0.24 Train acc: 0.576, Test acc:0.508\n",
      "Epoch:13, Train loss: 0.24 Train acc: 0.579, Test acc:0.505\n",
      "Epoch:14, Train loss: 0.24 Train acc: 0.579, Test acc:0.508\n",
      "Epoch:15, Train loss: 0.24 Train acc: 0.583, Test acc:0.507\n",
      "Epoch:16, Train loss: 0.24 Train acc: 0.584, Test acc:0.506\n",
      "Epoch:17, Train loss: 0.24 Train acc: 0.586, Test acc:0.505\n",
      "Epoch:18, Train loss: 0.24 Train acc: 0.587, Test acc:0.507\n",
      "Epoch:19, Train loss: 0.24 Train acc: 0.589, Test acc:0.507\n",
      "Epoch:20, Train loss: 0.24 Train acc: 0.590, Test acc:0.506\n",
      "Epoch:21, Train loss: 0.24 Train acc: 0.592, Test acc:0.507\n",
      "Epoch:22, Train loss: 0.24 Train acc: 0.591, Test acc:0.506\n",
      "Epoch:23, Train loss: 0.24 Train acc: 0.593, Test acc:0.507\n",
      "Epoch:24, Train loss: 0.24 Train acc: 0.594, Test acc:0.509\n",
      "Epoch:25, Train loss: 0.24 Train acc: 0.597, Test acc:0.507\n",
      "Epoch:26, Train loss: 0.24 Train acc: 0.597, Test acc:0.506\n",
      "Epoch:27, Train loss: 0.24 Train acc: 0.598, Test acc:0.507\n",
      "Epoch:28, Train loss: 0.24 Train acc: 0.596, Test acc:0.506\n",
      "Epoch:29, Train loss: 0.24 Train acc: 0.599, Test acc:0.507\n"
     ]
    }
   ],
   "source": [
    "## Training parameters\n",
    "batch_size = 1000\n",
    "epochs=30\n",
    "dropout_prob = 0.6\n",
    "training_accuracy = []\n",
    "training_loss = []\n",
    "testing_accuracy = []\n",
    "saver = tf.train.Saver()\n",
    "s.run(tf.global_variables_initializer())\n",
    "file_writer = tf.summary.FileWriter('./', tf.get_default_graph())\n",
    "\n",
    "for epoch in range(epochs):    \n",
    "    arr = np.arange(X_train.shape[0])\n",
    "    np.random.shuffle(arr)\n",
    "    for index in range(0,X_train.shape[0],batch_size):\n",
    "        s.run(optimizer, {input_X: X_train[arr[index:index+batch_size]],\n",
    "                          input_y: y_train[arr[index:index+batch_size]]})\n",
    "    \n",
    "    saver.save(s, './model.ckpt')\n",
    "    training_accuracy.append(s.run(accuracy, feed_dict= {input_X: X_train, \n",
    "                                                         input_y: y_train}))\n",
    "    training_loss.append(s.run(loss, {input_X: X_train, \n",
    "                                      input_y: y_train}))\n",
    "    \n",
    "    \n",
    "    ## Evaluation of model\n",
    "    testing_accuracy.append(accuracy_score(y_test.argmax(1), \n",
    "                                           s.run(predicted_y, {input_X: X_test}).argmax(1)))\n",
    "    print(\"Epoch:{0}, Train loss: {1:.2f} Train acc: {2:.3f}, Test acc:{3:.3f}\".format(epoch,\n",
    "                                                                    training_loss[epoch],\n",
    "                                                                    training_accuracy[epoch],\n",
    "                                                                    testing_accuracy[epoch]))"
   ]
  },
  {
   "cell_type": "code",
   "execution_count": 46,
   "metadata": {},
   "outputs": [
    {
     "data": {
      "image/png": "[encoded data removed]",
      "text/plain": [
       "<Figure size 432x288 with 1 Axes>"
      ]
     },
     "metadata": {
      "needs_background": "light"
     },
     "output_type": "display_data"
    },
    {
     "name": "stdout",
     "output_type": "stream",
     "text": [
      "Train Accuracy: 0.60\n",
      "Test Accuracy:0.51\n"
     ]
    }
   ],
   "source": [
    "## Plotting chart of training and testing accuracy as a function of iterations\n",
    "iterations = list(range(epochs))\n",
    "plt.plot(iterations, training_accuracy, label='Train')\n",
    "plt.plot(iterations, testing_accuracy, label='Test')\n",
    "plt.ylabel('Accuracy')\n",
    "plt.xlabel('iterations')\n",
    "plt.show()\n",
    "print(\"Train Accuracy: {0:.2f}\".format(training_accuracy[-1]))\n",
    "print(\"Test Accuracy:{0:.2f}\".format(testing_accuracy[-1]))"
   ]
  },
  {
   "cell_type": "markdown",
   "metadata": {},
   "source": [
    "### SA"
   ]
  },
  {
   "cell_type": "code",
   "execution_count": 47,
   "metadata": {},
   "outputs": [],
   "source": [
    "dO_i = tf.gradients(predicted_y, tf.trainable_variables(),unconnected_gradients='zero')"
   ]
  },
  {
   "cell_type": "code",
   "execution_count": 48,
   "metadata": {},
   "outputs": [],
   "source": [
    "gradients= None\n",
    "gradients = s.run(dO_i, feed_dict= {input_X: X_train})"
   ]
  },
  {
   "cell_type": "code",
   "execution_count": 49,
   "metadata": {},
   "outputs": [],
   "source": [
    "def calcLayer(inputLayer,outputLayer):\n",
    "    tmpArr = []\n",
    "    for i in inputLayer:\n",
    "        tmpSUM = []\n",
    "        for j in outputLayer:\n",
    "            tmpSUM.append(j * i)\n",
    "        tmpArr.append(sum(tmpSUM))\n",
    "    return(tmpArr)"
   ]
  },
  {
   "cell_type": "code",
   "execution_count": 50,
   "metadata": {},
   "outputs": [],
   "source": [
    "L1 = calcLayer(gradients[0],np.array(gradients[3]))\n",
    "L2 = calcLayer(L1,np.array(gradients[7]))\n",
    "L3 = calcLayer(L2,np.array(gradients[11]))\n",
    "L4 = calcLayer(L3,np.array([gradients[13][0]]))"
   ]
  },
  {
   "cell_type": "code",
   "execution_count": 51,
   "metadata": {},
   "outputs": [],
   "source": [
    "myTmp = []\n",
    "tmpArr = []\n",
    "for j in range(500,5000,150):\n",
    "    gradients= None\n",
    "    gradients = s.run(dO_i, feed_dict= {input_X: X_train[0:j]})\n",
    "\n",
    "    \n",
    "    \n",
    "    L1 = calcLayer(gradients[0],np.array(gradients[3]))\n",
    "    L2 = calcLayer(L1,np.array(gradients[7]))\n",
    "    L3 = calcLayer(L2,np.array(gradients[11]))\n",
    "    L4 = calcLayer(L3,np.array([gradients[13][0]]))\n",
    "    tmpArr.append(np.max(L4))    \n",
    "    \n",
    "#myTmp.append(np.max(-np.log10(np.abs(L4))))"
   ]
  },
  {
   "cell_type": "code",
   "execution_count": 52,
   "metadata": {},
   "outputs": [
    {
     "data": {
      "image/png": "[encoded data removed]",
      "text/plain": [
       "<Figure size 432x288 with 1 Axes>"
      ]
     },
     "metadata": {
      "needs_background": "light"
     },
     "output_type": "display_data"
    }
   ],
   "source": [
    "plt.plot(-np.log10(np.abs(tmpArr)))\n",
    "plt.show()"
   ]
  }
 ],
 "metadata": {
  "kernelspec": {
   "display_name": "Python 2",
   "language": "python",
   "name": "python2"
  },
  "language_info": {
   "codemirror_mode": {
    "name": "ipython",
    "version": 2
   },
   "file_extension": ".py",
   "mimetype": "text/x-python",
   "name": "python",
   "nbconvert_exporter": "python",
   "pygments_lexer": "ipython2",
   "version": "2.7.15"
  }
 },
 "nbformat": 4,
 "nbformat_minor": 2
}
