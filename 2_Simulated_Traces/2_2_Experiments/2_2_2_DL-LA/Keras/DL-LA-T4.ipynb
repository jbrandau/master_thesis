{
 "cells": [
  {
   "cell_type": "markdown",
   "metadata": {},
   "source": [
    "## Deep Learning Dataset 4"
   ]
  },
  {
   "cell_type": "code",
   "execution_count": 1,
   "metadata": {},
   "outputs": [
    {
     "data": {
      "text/html": [
       "<style>.container { width:90% !important; }</style>"
      ],
      "text/plain": [
       "<IPython.core.display.HTML object>"
      ]
     },
     "metadata": {},
     "output_type": "display_data"
    }
   ],
   "source": [
    "from IPython.core.display import display, HTML\n",
    "display(HTML(\"<style>.container { width:90% !important; }</style>\"))"
   ]
  },
  {
   "cell_type": "code",
   "execution_count": 2,
   "metadata": {},
   "outputs": [],
   "source": [
    "import pandas as pd\n",
    "import pandas as np"
   ]
  },
  {
   "cell_type": "code",
   "execution_count": 3,
   "metadata": {},
   "outputs": [],
   "source": [
    "import os\n",
    "import scipy.io as sio"
   ]
  },
  {
   "cell_type": "code",
   "execution_count": 4,
   "metadata": {},
   "outputs": [
    {
     "name": "stderr",
     "output_type": "stream",
     "text": [
      "Using TensorFlow backend.\n"
     ]
    },
    {
     "name": "stdout",
     "output_type": "stream",
     "text": [
      "WARNING:tensorflow:From /usr/local/lib/python3.6/dist-packages/tensorflow_core/python/compat/v2_compat.py:65: disable_resource_variables (from tensorflow.python.ops.variable_scope) is deprecated and will be removed in a future version.\n",
      "Instructions for updating:\n",
      "non-resource variables are not supported in the long term\n"
     ]
    },
    {
     "name": "stderr",
     "output_type": "stream",
     "text": [
      "/home/pace/.local/lib/python3.6/site-packages/tensorboard/compat/tensorflow_stub/dtypes.py:541: FutureWarning: Passing (type, 1) or '1type' as a synonym of type is deprecated; in a future version of numpy, it will be understood as (type, (1,)) / '(1,)type'.\n",
      "  _np_qint8 = np.dtype([(\"qint8\", np.int8, 1)])\n",
      "/home/pace/.local/lib/python3.6/site-packages/tensorboard/compat/tensorflow_stub/dtypes.py:542: FutureWarning: Passing (type, 1) or '1type' as a synonym of type is deprecated; in a future version of numpy, it will be understood as (type, (1,)) / '(1,)type'.\n",
      "  _np_quint8 = np.dtype([(\"quint8\", np.uint8, 1)])\n",
      "/home/pace/.local/lib/python3.6/site-packages/tensorboard/compat/tensorflow_stub/dtypes.py:543: FutureWarning: Passing (type, 1) or '1type' as a synonym of type is deprecated; in a future version of numpy, it will be understood as (type, (1,)) / '(1,)type'.\n",
      "  _np_qint16 = np.dtype([(\"qint16\", np.int16, 1)])\n",
      "/home/pace/.local/lib/python3.6/site-packages/tensorboard/compat/tensorflow_stub/dtypes.py:544: FutureWarning: Passing (type, 1) or '1type' as a synonym of type is deprecated; in a future version of numpy, it will be understood as (type, (1,)) / '(1,)type'.\n",
      "  _np_quint16 = np.dtype([(\"quint16\", np.uint16, 1)])\n",
      "/home/pace/.local/lib/python3.6/site-packages/tensorboard/compat/tensorflow_stub/dtypes.py:545: FutureWarning: Passing (type, 1) or '1type' as a synonym of type is deprecated; in a future version of numpy, it will be understood as (type, (1,)) / '(1,)type'.\n",
      "  _np_qint32 = np.dtype([(\"qint32\", np.int32, 1)])\n",
      "/home/pace/.local/lib/python3.6/site-packages/tensorboard/compat/tensorflow_stub/dtypes.py:550: FutureWarning: Passing (type, 1) or '1type' as a synonym of type is deprecated; in a future version of numpy, it will be understood as (type, (1,)) / '(1,)type'.\n",
      "  np_resource = np.dtype([(\"resource\", np.ubyte, 1)])\n"
     ]
    },
    {
     "data": {
      "text/html": [
       "<style>.container { width:90% !important; }</style>"
      ],
      "text/plain": [
       "<IPython.core.display.HTML object>"
      ]
     },
     "metadata": {},
     "output_type": "display_data"
    }
   ],
   "source": [
    "import pandas as pd\n",
    "from scipy.stats import ttest_ind\n",
    "import numpy as np\n",
    "#import python libraries\n",
    "import os\n",
    "os.environ[\"CUDA_DEVICE_ORDER\"]=\"PCI_BUS_ID\";\n",
    " \n",
    "# The GPU id to use, usually either \"0\" or \"1\";\n",
    "os.environ[\"CUDA_VISIBLE_DEVICES\"]=\"0\"; \n",
    "import keras\n",
    "from sklearn.model_selection import train_test_split\n",
    "from keras.models import Model, Sequential\n",
    "from keras.layers import Flatten, Dense, Input, Conv1D, MaxPooling1D, GlobalAveragePooling1D, GlobalMaxPooling1D, AveragePooling1D,BatchNormalization\n",
    "from keras.engine.topology import get_source_inputs\n",
    "from keras.utils import layer_utils\n",
    "from keras.utils.data_utils import get_file\n",
    "from keras import backend as K\n",
    "from keras.applications.imagenet_utils import decode_predictions\n",
    "from keras.applications.imagenet_utils import preprocess_input\n",
    "from keras_applications.imagenet_utils import _obtain_input_shape\n",
    "from keras.optimizers import RMSprop\n",
    "from keras.callbacks import ModelCheckpoint\n",
    "from keras.utils import to_categorical\n",
    "from keras.models import load_model\n",
    "from keras.layers import Dropout\n",
    "from sklearn.preprocessing import MultiLabelBinarizer\n",
    "from sklearn.model_selection import train_test_split\n",
    "from sklearn.metrics import accuracy_score\n",
    "\n",
    "import tensorflow.compat.v1 as tf\n",
    "s = tf.InteractiveSession()\n",
    "tf.disable_v2_behavior()\n",
    "import operator as op\n",
    "from functools import reduce\n",
    "from tqdm import tnrange,tqdm_notebook\n",
    "import operator as op\n",
    "from functools import reduce\n",
    "import os\n",
    "import scipy.io as sio\n",
    "\n",
    "from IPython.core.display import display, HTML\n",
    "display(HTML(\"<style>.container { width:90% !important; }</style>\"))\n",
    "import matplotlib.pyplot as plt"
   ]
  },
  {
   "cell_type": "code",
   "execution_count": 5,
   "metadata": {},
   "outputs": [],
   "source": [
    "from keras.utils import to_categorical"
   ]
  },
  {
   "cell_type": "code",
   "execution_count": 6,
   "metadata": {},
   "outputs": [
    {
     "name": "stderr",
     "output_type": "stream",
     "text": [
      "/usr/local/lib/python3.6/dist-packages/tensorflow_core/python/client/session.py:1750: UserWarning: An interactive session is already active. This can cause out-of-memory errors in some cases. You must explicitly call `InteractiveSession.close()` to release resources held by the other session(s).\n",
      "  warnings.warn('An interactive session is already active. This can '\n"
     ]
    }
   ],
   "source": [
    "## Importing required libraries\n",
    "import numpy as np\n",
    "import tensorflow.compat.v1 as tf\n",
    "from sklearn.metrics import roc_auc_score, accuracy_score\n",
    "s = tf.InteractiveSession()\n",
    "tf.disable_v2_behavior()"
   ]
  },
  {
   "cell_type": "code",
   "execution_count": 7,
   "metadata": {},
   "outputs": [],
   "source": [
    "d_len = 100000\n",
    "d_file_len = 100000\n",
    "num_files = 1000"
   ]
  },
  {
   "cell_type": "code",
   "execution_count": 8,
   "metadata": {},
   "outputs": [],
   "source": [
    "def concatDataTraces(path):\n",
    "    mats = []\n",
    "    index = 0 \n",
    "    fileNames = np.arange(100, (d_len + 100), 100).tolist()\n",
    "    for r in range(0,num_files):\n",
    "        mats.append(sio.loadmat(path+\"traces_\"+ str(fileNames[index]) +\".mat\", verify_compressed_data_integrity=False))\n",
    "        index = index + 1\n",
    "    mats = np.array(mats)\n",
    "    myArray = []\n",
    "    \n",
    "    for i in range(0,num_files):\n",
    "        for j in range(0,10):\n",
    "            myArray.append(mats[i]['data'][j])\n",
    "    return(myArray)"
   ]
  },
  {
   "cell_type": "code",
   "execution_count": 9,
   "metadata": {},
   "outputs": [],
   "source": [
    "def concatDataTrigger(path):\n",
    "    mats = []\n",
    "    index = 0 \n",
    "    fileNames = np.arange(100, (d_len + 100), 100).tolist()\n",
    "    for r in range(0,num_files):\n",
    "        mats.append(sio.loadmat(path+\"trigger_\"+ str(fileNames[index]) +\".mat\", verify_compressed_data_integrity=False))\n",
    "        index = index + 1\n",
    "    mats = np.array(mats)\n",
    "    myArray = []\n",
    "    \n",
    "    for i in range(0,num_files):\n",
    "        for j in range(0,10):\n",
    "            myArray.append(mats[i]['data'][j])\n",
    "    return(myArray)"
   ]
  },
  {
   "cell_type": "markdown",
   "metadata": {},
   "source": [
    "### Load Data"
   ]
  },
  {
   "cell_type": "code",
   "execution_count": 10,
   "metadata": {},
   "outputs": [],
   "source": [
    "df_data1 = pd.read_csv('../DataFactory/FixedPlaintext/TS4_A.csv')"
   ]
  },
  {
   "cell_type": "code",
   "execution_count": 11,
   "metadata": {},
   "outputs": [],
   "source": [
    "df_data1['label'] = 0"
   ]
  },
  {
   "cell_type": "code",
   "execution_count": 12,
   "metadata": {},
   "outputs": [],
   "source": [
    "df_data2 = pd.read_csv('../DataFactory/FixedPlaintext/TS4_B.csv')"
   ]
  },
  {
   "cell_type": "code",
   "execution_count": 13,
   "metadata": {},
   "outputs": [],
   "source": [
    "df_data2['label'] = 1"
   ]
  },
  {
   "cell_type": "code",
   "execution_count": 14,
   "metadata": {},
   "outputs": [
    {
     "data": {
      "text/plain": [
       "1500000"
      ]
     },
     "execution_count": 14,
     "metadata": {},
     "output_type": "execute_result"
    }
   ],
   "source": [
    "len(df_data1)"
   ]
  },
  {
   "cell_type": "markdown",
   "metadata": {},
   "source": [
    "### Create Label"
   ]
  },
  {
   "cell_type": "code",
   "execution_count": 15,
   "metadata": {},
   "outputs": [],
   "source": [
    "df_label1 = df_data1['label']\n",
    "df_data1 = df_data1.drop(['label'],axis=1)"
   ]
  },
  {
   "cell_type": "code",
   "execution_count": 16,
   "metadata": {},
   "outputs": [],
   "source": [
    "df_label2 = df_data2['label']\n",
    "df_data2 = df_data2.drop(['label'],axis=1)"
   ]
  },
  {
   "cell_type": "code",
   "execution_count": 17,
   "metadata": {},
   "outputs": [],
   "source": [
    "df_data = pd.concat([df_data1,df_data2])\n",
    "df_data = df_data.reset_index()\n",
    "df_data = df_data.to_numpy()\n",
    "df_data = np.delete(df_data, 0, axis=1)"
   ]
  },
  {
   "cell_type": "code",
   "execution_count": 18,
   "metadata": {},
   "outputs": [
    {
     "data": {
      "text/plain": [
       "3000000"
      ]
     },
     "execution_count": 18,
     "metadata": {},
     "output_type": "execute_result"
    }
   ],
   "source": [
    "len(df_data)"
   ]
  },
  {
   "cell_type": "code",
   "execution_count": 19,
   "metadata": {},
   "outputs": [],
   "source": [
    "df_label = pd.concat([df_label1,df_label2])\n",
    "df_label = df_label.reset_index()\n",
    "df_label = df_label.to_numpy()"
   ]
  },
  {
   "cell_type": "code",
   "execution_count": 20,
   "metadata": {},
   "outputs": [],
   "source": [
    "df_label = df_label[:,-1]"
   ]
  },
  {
   "cell_type": "markdown",
   "metadata": {},
   "source": [
    "### Split Label"
   ]
  },
  {
   "cell_type": "code",
   "execution_count": 21,
   "metadata": {},
   "outputs": [],
   "source": [
    "X_train, X_test, y_train, y_test = train_test_split(df_data,df_label,test_size=0.2,shuffle=True,stratify=df_label)"
   ]
  },
  {
   "cell_type": "code",
   "execution_count": 23,
   "metadata": {},
   "outputs": [],
   "source": [
    "y_train = to_categorical(y_train,num_classes=2)"
   ]
  },
  {
   "cell_type": "code",
   "execution_count": 24,
   "metadata": {},
   "outputs": [],
   "source": [
    "y_test = to_categorical(y_test,num_classes=2)"
   ]
  },
  {
   "cell_type": "code",
   "execution_count": 26,
   "metadata": {},
   "outputs": [],
   "source": [
    "import numpy as np"
   ]
  },
  {
   "cell_type": "code",
   "execution_count": 27,
   "metadata": {},
   "outputs": [],
   "source": [
    "X_train = np.array(X_train)"
   ]
  },
  {
   "cell_type": "code",
   "execution_count": 28,
   "metadata": {},
   "outputs": [],
   "source": [
    "y_train = np.array(y_train)"
   ]
  },
  {
   "cell_type": "code",
   "execution_count": 31,
   "metadata": {},
   "outputs": [],
   "source": [
    "X_test = np.array(X_test)"
   ]
  },
  {
   "cell_type": "code",
   "execution_count": 32,
   "metadata": {},
   "outputs": [],
   "source": [
    "y_test = np.array(y_test)"
   ]
  },
  {
   "cell_type": "code",
   "execution_count": 33,
   "metadata": {},
   "outputs": [],
   "source": [
    "from keras import backend as k"
   ]
  },
  {
   "cell_type": "code",
   "execution_count": 89,
   "metadata": {},
   "outputs": [],
   "source": [
    "def createMLPModel():\n",
    "    model = Sequential()\n",
    "    model.add(Dense(120,input_dim=50, activation='relu'))\n",
    "    model.add(BatchNormalization())\n",
    "    model.add(Dense(90, activation='relu'))\n",
    "    model.add(BatchNormalization())\n",
    "    model.add(Dense(50, activation='relu'))\n",
    "    model.add(BatchNormalization())\n",
    "    model.add(Dense(2, activation='softmax'))\n",
    "    optimizer = keras.optimizers.Adam(lr=0.001, beta_1=0.9, beta_2=0.999, epsilon=1/100000000, decay=0.0, amsgrad=False)\n",
    "    model.compile(loss='mean_squared_error', optimizer=optimizer, metrics=['accuracy'])   \n",
    "    \n",
    "    return model"
   ]
  },
  {
   "cell_type": "code",
   "execution_count": 90,
   "metadata": {},
   "outputs": [],
   "source": [
    "tmpModel = createMLPModel()"
   ]
  },
  {
   "cell_type": "code",
   "execution_count": 91,
   "metadata": {},
   "outputs": [
    {
     "name": "stdout",
     "output_type": "stream",
     "text": [
      "Epoch 1/30\n",
      "60000/60000 [==============================] - 1s 16us/step - loss: 0.2901 - accuracy: 0.4999\n",
      "Epoch 2/30\n",
      "60000/60000 [==============================] - 1s 14us/step - loss: 0.2545 - accuracy: 0.5383\n",
      "Epoch 3/30\n",
      "60000/60000 [==============================] - 1s 15us/step - loss: 0.2456 - accuracy: 0.5638\n",
      "Epoch 4/30\n",
      "60000/60000 [==============================] - 1s 14us/step - loss: 0.2406 - accuracy: 0.5814\n",
      "Epoch 5/30\n",
      "60000/60000 [==============================] - 1s 15us/step - loss: 0.2365 - accuracy: 0.5983\n",
      "Epoch 6/30\n",
      "60000/60000 [==============================] - 1s 15us/step - loss: 0.2332 - accuracy: 0.6110\n",
      "Epoch 7/30\n",
      "60000/60000 [==============================] - 1s 14us/step - loss: 0.2297 - accuracy: 0.6216\n",
      "Epoch 8/30\n",
      "60000/60000 [==============================] - 1s 14us/step - loss: 0.2263 - accuracy: 0.6331\n",
      "Epoch 9/30\n",
      "60000/60000 [==============================] - 1s 15us/step - loss: 0.2227 - accuracy: 0.6430\n",
      "Epoch 10/30\n",
      "60000/60000 [==============================] - 1s 14us/step - loss: 0.2193 - accuracy: 0.6494\n",
      "Epoch 11/30\n",
      "60000/60000 [==============================] - 1s 14us/step - loss: 0.2159 - accuracy: 0.6582\n",
      "Epoch 12/30\n",
      "60000/60000 [==============================] - 1s 14us/step - loss: 0.2124 - accuracy: 0.6686\n",
      "Epoch 13/30\n",
      "60000/60000 [==============================] - 1s 14us/step - loss: 0.2093 - accuracy: 0.6760\n",
      "Epoch 14/30\n",
      "60000/60000 [==============================] - 1s 15us/step - loss: 0.2057 - accuracy: 0.6852\n",
      "Epoch 15/30\n",
      "60000/60000 [==============================] - 1s 15us/step - loss: 0.2026 - accuracy: 0.6928\n",
      "Epoch 16/30\n",
      "60000/60000 [==============================] - 1s 15us/step - loss: 0.1992 - accuracy: 0.6989\n",
      "Epoch 17/30\n",
      "60000/60000 [==============================] - 1s 15us/step - loss: 0.1967 - accuracy: 0.7043\n",
      "Epoch 18/30\n",
      "60000/60000 [==============================] - 1s 15us/step - loss: 0.1930 - accuracy: 0.7128\n",
      "Epoch 19/30\n",
      "60000/60000 [==============================] - 1s 13us/step - loss: 0.1902 - accuracy: 0.7196\n",
      "Epoch 20/30\n",
      "60000/60000 [==============================] - 1s 14us/step - loss: 0.1878 - accuracy: 0.7240\n",
      "Epoch 21/30\n",
      "60000/60000 [==============================] - 1s 14us/step - loss: 0.1848 - accuracy: 0.7322\n",
      "Epoch 22/30\n",
      "60000/60000 [==============================] - 1s 14us/step - loss: 0.1824 - accuracy: 0.7339\n",
      "Epoch 23/30\n",
      "60000/60000 [==============================] - 1s 14us/step - loss: 0.1799 - accuracy: 0.7406\n",
      "Epoch 24/30\n",
      "60000/60000 [==============================] - 1s 14us/step - loss: 0.1778 - accuracy: 0.7447\n",
      "Epoch 25/30\n",
      "60000/60000 [==============================] - 1s 14us/step - loss: 0.1757 - accuracy: 0.7484\n",
      "Epoch 26/30\n",
      "60000/60000 [==============================] - 1s 14us/step - loss: 0.1731 - accuracy: 0.7530\n",
      "Epoch 27/30\n",
      "60000/60000 [==============================] - 1s 15us/step - loss: 0.1711 - accuracy: 0.7587\n",
      "Epoch 28/30\n",
      "60000/60000 [==============================] - 1s 14us/step - loss: 0.1688 - accuracy: 0.7619\n",
      "Epoch 29/30\n",
      "60000/60000 [==============================] - 1s 15us/step - loss: 0.1662 - accuracy: 0.7663\n",
      "Epoch 30/30\n",
      "60000/60000 [==============================] - 1s 14us/step - loss: 0.1652 - accuracy: 0.7672\n"
     ]
    }
   ],
   "source": [
    "trainedModel = tmpModel.fit(x=[X_train[0:60000]],\n",
    "                            y=y_train[0:60000],\n",
    "                            batch_size=1000,\n",
    "                            verbose=1,\n",
    "                            epochs=30\n",
    "                            )"
   ]
  },
  {
   "cell_type": "code",
   "execution_count": 92,
   "metadata": {},
   "outputs": [],
   "source": [
    "gradient = K.gradients(tmpModel.output[0],tmpModel.input)"
   ]
  },
  {
   "cell_type": "code",
   "execution_count": 93,
   "metadata": {},
   "outputs": [],
   "source": [
    "iterate = K.function([tmpModel.input], [gradient])"
   ]
  },
  {
   "cell_type": "code",
   "execution_count": 94,
   "metadata": {},
   "outputs": [],
   "source": [
    "grad = iterate(np.array(X_test[0:5000],dtype=np.float128))"
   ]
  },
  {
   "cell_type": "code",
   "execution_count": 95,
   "metadata": {},
   "outputs": [
    {
     "data": {
      "text/plain": [
       "array([-4.2289447e-09,  7.0880404e-09,  7.6311603e-11, -3.4420331e-09,\n",
       "        2.5061928e-09,  1.8704425e-09,  6.5045040e-09,  4.3065138e-09,\n",
       "        1.8328042e-09,  3.3697249e-09, -5.9199419e-09, -3.4675702e-09,\n",
       "       -5.6618319e-09,  6.4958583e-10,  2.9767144e-09, -3.5203211e-09,\n",
       "        4.5457510e-10,  9.9298070e-10, -1.9630433e-09,  1.2754630e-09,\n",
       "       -3.1284095e-09,  3.9376294e-10, -2.0418173e-10,  1.0712946e-09,\n",
       "       -6.9096959e-09,  5.1172955e-09, -1.0059573e-09,  5.5153744e-09,\n",
       "        4.2400576e-09, -4.0066039e-09,  2.4216020e-09,  4.8763686e-09,\n",
       "       -3.5971102e-09,  8.7350305e-09, -9.4456905e-09, -2.5649144e-10,\n",
       "        3.4092944e-09, -5.0448734e-09, -1.9333461e-09,  2.6471099e-09,\n",
       "        1.6111914e-09, -7.8651774e-10,  5.4730878e-09,  8.7657046e-09,\n",
       "        4.5877542e-09,  4.5032098e-09,  4.4610018e-09, -8.8253560e-10,\n",
       "        1.9166229e-09,  3.6236767e-09], dtype=float32)"
      ]
     },
     "execution_count": 95,
     "metadata": {},
     "output_type": "execute_result"
    }
   ],
   "source": [
    "grad[0][0][0]"
   ]
  },
  {
   "cell_type": "code",
   "execution_count": 96,
   "metadata": {},
   "outputs": [
    {
     "data": {
      "text/plain": [
       "[[array([[-4.2289447e-09,  7.0880404e-09,  7.6311603e-11, ...,\n",
       "          -8.8253560e-10,  1.9166229e-09,  3.6236767e-09],\n",
       "         [ 0.0000000e+00,  0.0000000e+00,  0.0000000e+00, ...,\n",
       "           0.0000000e+00,  0.0000000e+00,  0.0000000e+00],\n",
       "         [ 0.0000000e+00,  0.0000000e+00,  0.0000000e+00, ...,\n",
       "           0.0000000e+00,  0.0000000e+00,  0.0000000e+00],\n",
       "         ...,\n",
       "         [ 0.0000000e+00,  0.0000000e+00,  0.0000000e+00, ...,\n",
       "           0.0000000e+00,  0.0000000e+00,  0.0000000e+00],\n",
       "         [ 0.0000000e+00,  0.0000000e+00,  0.0000000e+00, ...,\n",
       "           0.0000000e+00,  0.0000000e+00,  0.0000000e+00],\n",
       "         [ 0.0000000e+00,  0.0000000e+00,  0.0000000e+00, ...,\n",
       "           0.0000000e+00,  0.0000000e+00,  0.0000000e+00]], dtype=float32)]]"
      ]
     },
     "execution_count": 96,
     "metadata": {},
     "output_type": "execute_result"
    }
   ],
   "source": [
    "grad"
   ]
  },
  {
   "cell_type": "code",
   "execution_count": 99,
   "metadata": {},
   "outputs": [
    {
     "data": {
      "image/png": "[encoded data removed]",
      "text/plain": [
       "<Figure size 432x288 with 1 Axes>"
      ]
     },
     "metadata": {
      "needs_background": "light"
     },
     "output_type": "display_data"
    }
   ],
   "source": [
    "plt.axvline(x=19, color='r', linestyle='--')\n",
    "plt.axvline(x=29, color='r', linestyle='--')\n",
    "plt.axvline(x=8, color='g', linestyle='--')\n",
    "plt.axvline(x=0, color='g', linestyle='--')\n",
    "plt.plot(-np.log10(np.abs(grad[0][0][0])))\n",
    "plt.show()"
   ]
  },
  {
   "cell_type": "code",
   "execution_count": 100,
   "metadata": {},
   "outputs": [
    {
     "data": {
      "image/png": "[encoded data removed]",
      "text/plain": [
       "<Figure size 432x288 with 1 Axes>"
      ]
     },
     "metadata": {
      "needs_background": "light"
     },
     "output_type": "display_data"
    }
   ],
   "source": [
    "plt.axvline(x=19, color='r', linestyle='--')\n",
    "plt.axvline(x=29, color='r', linestyle='--')\n",
    "plt.axvline(x=8, color='g', linestyle='--')\n",
    "plt.axvline(x=0, color='g', linestyle='--')\n",
    "plt.plot(np.abs(grad[0][0][0]))\n",
    "plt.show()"
   ]
  }
 ],
 "metadata": {
  "kernelspec": {
   "display_name": "Python 3",
   "language": "python",
   "name": "python3"
  },
  "language_info": {
   "codemirror_mode": {
    "name": "ipython",
    "version": 3
   },
   "file_extension": ".py",
   "mimetype": "text/x-python",
   "name": "python",
   "nbconvert_exporter": "python",
   "pygments_lexer": "ipython3",
   "version": "3.7.1"
  }
 },
 "nbformat": 4,
 "nbformat_minor": 2
}
