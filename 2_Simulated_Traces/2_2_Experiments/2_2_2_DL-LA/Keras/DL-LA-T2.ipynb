{
 "cells": [
  {
   "cell_type": "markdown",
   "metadata": {},
   "source": [
    "## Deep Learning Dataset 2"
   ]
  },
  {
   "cell_type": "code",
   "execution_count": 1,
   "metadata": {},
   "outputs": [
    {
     "data": {
      "text/html": [
       "<style>.container { width:90% !important; }</style>"
      ],
      "text/plain": [
       "<IPython.core.display.HTML object>"
      ]
     },
     "metadata": {},
     "output_type": "display_data"
    }
   ],
   "source": [
    "from IPython.core.display import display, HTML\n",
    "display(HTML(\"<style>.container { width:90% !important; }</style>\"))"
   ]
  },
  {
   "cell_type": "code",
   "execution_count": 2,
   "metadata": {},
   "outputs": [],
   "source": [
    "import pandas as pd\n",
    "import pandas as np"
   ]
  },
  {
   "cell_type": "code",
   "execution_count": 3,
   "metadata": {},
   "outputs": [],
   "source": [
    "import os\n",
    "import scipy.io as sio"
   ]
  },
  {
   "cell_type": "code",
   "execution_count": 4,
   "metadata": {},
   "outputs": [
    {
     "name": "stderr",
     "output_type": "stream",
     "text": [
      "Using TensorFlow backend.\n"
     ]
    },
    {
     "name": "stdout",
     "output_type": "stream",
     "text": [
      "WARNING:tensorflow:From /usr/local/lib/python3.6/dist-packages/tensorflow_core/python/compat/v2_compat.py:65: disable_resource_variables (from tensorflow.python.ops.variable_scope) is deprecated and will be removed in a future version.\n",
      "Instructions for updating:\n",
      "non-resource variables are not supported in the long term\n"
     ]
    },
    {
     "name": "stderr",
     "output_type": "stream",
     "text": [
      "/home/pace/.local/lib/python3.6/site-packages/tensorboard/compat/tensorflow_stub/dtypes.py:541: FutureWarning: Passing (type, 1) or '1type' as a synonym of type is deprecated; in a future version of numpy, it will be understood as (type, (1,)) / '(1,)type'.\n",
      "  _np_qint8 = np.dtype([(\"qint8\", np.int8, 1)])\n",
      "/home/pace/.local/lib/python3.6/site-packages/tensorboard/compat/tensorflow_stub/dtypes.py:542: FutureWarning: Passing (type, 1) or '1type' as a synonym of type is deprecated; in a future version of numpy, it will be understood as (type, (1,)) / '(1,)type'.\n",
      "  _np_quint8 = np.dtype([(\"quint8\", np.uint8, 1)])\n",
      "/home/pace/.local/lib/python3.6/site-packages/tensorboard/compat/tensorflow_stub/dtypes.py:543: FutureWarning: Passing (type, 1) or '1type' as a synonym of type is deprecated; in a future version of numpy, it will be understood as (type, (1,)) / '(1,)type'.\n",
      "  _np_qint16 = np.dtype([(\"qint16\", np.int16, 1)])\n",
      "/home/pace/.local/lib/python3.6/site-packages/tensorboard/compat/tensorflow_stub/dtypes.py:544: FutureWarning: Passing (type, 1) or '1type' as a synonym of type is deprecated; in a future version of numpy, it will be understood as (type, (1,)) / '(1,)type'.\n",
      "  _np_quint16 = np.dtype([(\"quint16\", np.uint16, 1)])\n",
      "/home/pace/.local/lib/python3.6/site-packages/tensorboard/compat/tensorflow_stub/dtypes.py:545: FutureWarning: Passing (type, 1) or '1type' as a synonym of type is deprecated; in a future version of numpy, it will be understood as (type, (1,)) / '(1,)type'.\n",
      "  _np_qint32 = np.dtype([(\"qint32\", np.int32, 1)])\n",
      "/home/pace/.local/lib/python3.6/site-packages/tensorboard/compat/tensorflow_stub/dtypes.py:550: FutureWarning: Passing (type, 1) or '1type' as a synonym of type is deprecated; in a future version of numpy, it will be understood as (type, (1,)) / '(1,)type'.\n",
      "  np_resource = np.dtype([(\"resource\", np.ubyte, 1)])\n"
     ]
    },
    {
     "data": {
      "text/html": [
       "<style>.container { width:90% !important; }</style>"
      ],
      "text/plain": [
       "<IPython.core.display.HTML object>"
      ]
     },
     "metadata": {},
     "output_type": "display_data"
    }
   ],
   "source": [
    "import pandas as pd\n",
    "from scipy.stats import ttest_ind\n",
    "import numpy as np\n",
    "#import python libraries\n",
    "import os\n",
    "os.environ[\"CUDA_DEVICE_ORDER\"]=\"PCI_BUS_ID\";\n",
    " \n",
    "# The GPU id to use, usually either \"0\" or \"1\";\n",
    "os.environ[\"CUDA_VISIBLE_DEVICES\"]=\"0\"; \n",
    "import keras\n",
    "from sklearn.model_selection import train_test_split\n",
    "from keras.models import Model, Sequential\n",
    "from keras.layers import Flatten, Dense, Input, Conv1D, MaxPooling1D, GlobalAveragePooling1D, GlobalMaxPooling1D, AveragePooling1D,BatchNormalization\n",
    "from keras.engine.topology import get_source_inputs\n",
    "from keras.utils import layer_utils\n",
    "from keras.utils.data_utils import get_file\n",
    "from keras import backend as K\n",
    "from keras.applications.imagenet_utils import decode_predictions\n",
    "from keras.applications.imagenet_utils import preprocess_input\n",
    "from keras_applications.imagenet_utils import _obtain_input_shape\n",
    "from keras.optimizers import RMSprop\n",
    "from keras.callbacks import ModelCheckpoint\n",
    "from keras.utils import to_categorical\n",
    "from keras.models import load_model\n",
    "from keras.layers import Dropout\n",
    "from sklearn.preprocessing import MultiLabelBinarizer\n",
    "from sklearn.model_selection import train_test_split\n",
    "from sklearn.metrics import accuracy_score\n",
    "\n",
    "import tensorflow.compat.v1 as tf\n",
    "s = tf.InteractiveSession()\n",
    "tf.disable_v2_behavior()\n",
    "import operator as op\n",
    "from functools import reduce\n",
    "from tqdm import tnrange,tqdm_notebook\n",
    "import operator as op\n",
    "from functools import reduce\n",
    "import os\n",
    "import scipy.io as sio\n",
    "\n",
    "from IPython.core.display import display, HTML\n",
    "display(HTML(\"<style>.container { width:90% !important; }</style>\"))\n",
    "import matplotlib.pyplot as plt"
   ]
  },
  {
   "cell_type": "code",
   "execution_count": 5,
   "metadata": {},
   "outputs": [],
   "source": [
    "from keras.utils import to_categorical"
   ]
  },
  {
   "cell_type": "code",
   "execution_count": 6,
   "metadata": {},
   "outputs": [
    {
     "name": "stderr",
     "output_type": "stream",
     "text": [
      "/usr/local/lib/python3.6/dist-packages/tensorflow_core/python/client/session.py:1750: UserWarning: An interactive session is already active. This can cause out-of-memory errors in some cases. You must explicitly call `InteractiveSession.close()` to release resources held by the other session(s).\n",
      "  warnings.warn('An interactive session is already active. This can '\n"
     ]
    }
   ],
   "source": [
    "## Importing required libraries\n",
    "import numpy as np\n",
    "import tensorflow.compat.v1 as tf\n",
    "from sklearn.metrics import roc_auc_score, accuracy_score\n",
    "s = tf.InteractiveSession()\n",
    "tf.disable_v2_behavior()"
   ]
  },
  {
   "cell_type": "code",
   "execution_count": 7,
   "metadata": {},
   "outputs": [],
   "source": [
    "d_len = 100000\n",
    "d_file_len = 100000\n",
    "num_files = 1000"
   ]
  },
  {
   "cell_type": "code",
   "execution_count": 8,
   "metadata": {},
   "outputs": [],
   "source": [
    "def concatDataTraces(path):\n",
    "    mats = []\n",
    "    index = 0 \n",
    "    fileNames = np.arange(100, (d_len + 100), 100).tolist()\n",
    "    for r in range(0,num_files):\n",
    "        mats.append(sio.loadmat(path+\"traces_\"+ str(fileNames[index]) +\".mat\", verify_compressed_data_integrity=False))\n",
    "        index = index + 1\n",
    "    mats = np.array(mats)\n",
    "    myArray = []\n",
    "    \n",
    "    for i in range(0,num_files):\n",
    "        for j in range(0,10):\n",
    "            myArray.append(mats[i]['data'][j])\n",
    "    return(myArray)"
   ]
  },
  {
   "cell_type": "code",
   "execution_count": 9,
   "metadata": {},
   "outputs": [],
   "source": [
    "def concatDataTrigger(path):\n",
    "    mats = []\n",
    "    index = 0 \n",
    "    fileNames = np.arange(100, (d_len + 100), 100).tolist()\n",
    "    for r in range(0,num_files):\n",
    "        mats.append(sio.loadmat(path+\"trigger_\"+ str(fileNames[index]) +\".mat\", verify_compressed_data_integrity=False))\n",
    "        index = index + 1\n",
    "    mats = np.array(mats)\n",
    "    myArray = []\n",
    "    \n",
    "    for i in range(0,num_files):\n",
    "        for j in range(0,10):\n",
    "            myArray.append(mats[i]['data'][j])\n",
    "    return(myArray)"
   ]
  },
  {
   "cell_type": "markdown",
   "metadata": {},
   "source": [
    "### Load Data"
   ]
  },
  {
   "cell_type": "code",
   "execution_count": 10,
   "metadata": {},
   "outputs": [],
   "source": [
    "df_data1 = pd.read_csv('../DataFactory/FixedPlaintext/TS2_A.csv')"
   ]
  },
  {
   "cell_type": "code",
   "execution_count": 11,
   "metadata": {},
   "outputs": [],
   "source": [
    "df_data1['label'] = 0"
   ]
  },
  {
   "cell_type": "code",
   "execution_count": 12,
   "metadata": {},
   "outputs": [],
   "source": [
    "df_data2 = pd.read_csv('../DataFactory/FixedPlaintext/TS2_B.csv')"
   ]
  },
  {
   "cell_type": "code",
   "execution_count": 13,
   "metadata": {},
   "outputs": [],
   "source": [
    "df_data2['label'] = 1"
   ]
  },
  {
   "cell_type": "code",
   "execution_count": 14,
   "metadata": {},
   "outputs": [
    {
     "data": {
      "text/plain": [
       "400000"
      ]
     },
     "execution_count": 14,
     "metadata": {},
     "output_type": "execute_result"
    }
   ],
   "source": [
    "len(df_data1)"
   ]
  },
  {
   "cell_type": "markdown",
   "metadata": {},
   "source": [
    "### Create Label"
   ]
  },
  {
   "cell_type": "code",
   "execution_count": 15,
   "metadata": {},
   "outputs": [],
   "source": [
    "df_label1 = df_data1['label']\n",
    "df_data1 = df_data1.drop(['label'],axis=1)"
   ]
  },
  {
   "cell_type": "code",
   "execution_count": 16,
   "metadata": {},
   "outputs": [],
   "source": [
    "df_label2 = df_data2['label']\n",
    "df_data2 = df_data2.drop(['label'],axis=1)"
   ]
  },
  {
   "cell_type": "code",
   "execution_count": 17,
   "metadata": {},
   "outputs": [],
   "source": [
    "df_data = pd.concat([df_data1,df_data2])\n",
    "df_data = df_data.reset_index()\n",
    "df_data = df_data.to_numpy()\n",
    "df_data = np.delete(df_data, 0, axis=1)"
   ]
  },
  {
   "cell_type": "code",
   "execution_count": 18,
   "metadata": {},
   "outputs": [
    {
     "data": {
      "text/plain": [
       "800000"
      ]
     },
     "execution_count": 18,
     "metadata": {},
     "output_type": "execute_result"
    }
   ],
   "source": [
    "len(df_data)"
   ]
  },
  {
   "cell_type": "code",
   "execution_count": 19,
   "metadata": {},
   "outputs": [],
   "source": [
    "df_label = pd.concat([df_label1,df_label2])\n",
    "df_label = df_label.reset_index()\n",
    "df_label = df_label.to_numpy()"
   ]
  },
  {
   "cell_type": "code",
   "execution_count": 20,
   "metadata": {},
   "outputs": [],
   "source": [
    "df_label = df_label[:,-1]"
   ]
  },
  {
   "cell_type": "markdown",
   "metadata": {},
   "source": [
    "### Split Label"
   ]
  },
  {
   "cell_type": "code",
   "execution_count": 141,
   "metadata": {},
   "outputs": [],
   "source": [
    "X_train, X_test, y_train, y_test = train_test_split(df_data,df_label,test_size=0.2,shuffle=True,stratify=df_label)"
   ]
  },
  {
   "cell_type": "code",
   "execution_count": 143,
   "metadata": {},
   "outputs": [],
   "source": [
    "y_train = to_categorical(y_train,num_classes=2)"
   ]
  },
  {
   "cell_type": "code",
   "execution_count": 144,
   "metadata": {},
   "outputs": [],
   "source": [
    "y_test = to_categorical(y_test,num_classes=2)"
   ]
  },
  {
   "cell_type": "code",
   "execution_count": 146,
   "metadata": {},
   "outputs": [],
   "source": [
    "import numpy as np"
   ]
  },
  {
   "cell_type": "code",
   "execution_count": 147,
   "metadata": {},
   "outputs": [],
   "source": [
    "X_train = np.array(X_train)"
   ]
  },
  {
   "cell_type": "code",
   "execution_count": 148,
   "metadata": {},
   "outputs": [],
   "source": [
    "y_train = np.array(y_train)"
   ]
  },
  {
   "cell_type": "code",
   "execution_count": 151,
   "metadata": {},
   "outputs": [],
   "source": [
    "X_test = np.array(X_test)"
   ]
  },
  {
   "cell_type": "code",
   "execution_count": 152,
   "metadata": {},
   "outputs": [],
   "source": [
    "y_test = np.array(y_test)"
   ]
  },
  {
   "cell_type": "code",
   "execution_count": 153,
   "metadata": {},
   "outputs": [],
   "source": [
    "from keras import backend as k"
   ]
  },
  {
   "cell_type": "code",
   "execution_count": 154,
   "metadata": {},
   "outputs": [],
   "source": [
    "def createMLPModel():\n",
    "    model = Sequential()\n",
    "    model.add(Dense(120,input_dim=50, activation='relu'))\n",
    "    model.add(BatchNormalization())\n",
    "    model.add(Dense(90, activation='relu'))\n",
    "    model.add(BatchNormalization())\n",
    "    model.add(Dense(50, activation='relu'))\n",
    "    model.add(BatchNormalization())\n",
    "    model.add(Dense(2, activation='softmax'))\n",
    "    optimizer = keras.optimizers.Adam(lr=0.001, beta_1=0.9, beta_2=0.999, epsilon=1/100000000, decay=0.0, amsgrad=False)\n",
    "    model.compile(loss='mean_squared_error', optimizer=optimizer, metrics=['accuracy'])   \n",
    "    \n",
    "    return model"
   ]
  },
  {
   "cell_type": "code",
   "execution_count": 155,
   "metadata": {},
   "outputs": [],
   "source": [
    "tmpModel = createMLPModel()"
   ]
  },
  {
   "cell_type": "code",
   "execution_count": 156,
   "metadata": {},
   "outputs": [
    {
     "name": "stdout",
     "output_type": "stream",
     "text": [
      "Epoch 1/30\n",
      "5000/5000 [==============================] - 0s 47us/step - loss: 0.3323 - accuracy: 0.5118\n",
      "Epoch 2/30\n",
      "5000/5000 [==============================] - 0s 13us/step - loss: 0.2825 - accuracy: 0.5680\n",
      "Epoch 3/30\n",
      "5000/5000 [==============================] - 0s 12us/step - loss: 0.2539 - accuracy: 0.6070\n",
      "Epoch 4/30\n",
      "5000/5000 [==============================] - 0s 13us/step - loss: 0.2323 - accuracy: 0.6456\n",
      "Epoch 5/30\n",
      "5000/5000 [==============================] - 0s 14us/step - loss: 0.2152 - accuracy: 0.6842\n",
      "Epoch 6/30\n",
      "5000/5000 [==============================] - 0s 14us/step - loss: 0.2029 - accuracy: 0.7146\n",
      "Epoch 7/30\n",
      "5000/5000 [==============================] - 0s 14us/step - loss: 0.1902 - accuracy: 0.7382\n",
      "Epoch 8/30\n",
      "5000/5000 [==============================] - 0s 13us/step - loss: 0.1788 - accuracy: 0.7694\n",
      "Epoch 9/30\n",
      "5000/5000 [==============================] - 0s 14us/step - loss: 0.1690 - accuracy: 0.7902\n",
      "Epoch 10/30\n",
      "5000/5000 [==============================] - 0s 14us/step - loss: 0.1592 - accuracy: 0.8128\n",
      "Epoch 11/30\n",
      "5000/5000 [==============================] - 0s 15us/step - loss: 0.1508 - accuracy: 0.8286\n",
      "Epoch 12/30\n",
      "5000/5000 [==============================] - 0s 14us/step - loss: 0.1422 - accuracy: 0.8438\n",
      "Epoch 13/30\n",
      "5000/5000 [==============================] - 0s 14us/step - loss: 0.1330 - accuracy: 0.8636\n",
      "Epoch 14/30\n",
      "5000/5000 [==============================] - 0s 14us/step - loss: 0.1236 - accuracy: 0.8794\n",
      "Epoch 15/30\n",
      "5000/5000 [==============================] - 0s 14us/step - loss: 0.1161 - accuracy: 0.8930\n",
      "Epoch 16/30\n",
      "5000/5000 [==============================] - 0s 14us/step - loss: 0.1091 - accuracy: 0.9028\n",
      "Epoch 17/30\n",
      "5000/5000 [==============================] - 0s 15us/step - loss: 0.1017 - accuracy: 0.9142\n",
      "Epoch 18/30\n",
      "5000/5000 [==============================] - 0s 15us/step - loss: 0.0939 - accuracy: 0.9248\n",
      "Epoch 19/30\n",
      "5000/5000 [==============================] - 0s 14us/step - loss: 0.0870 - accuracy: 0.9344\n",
      "Epoch 20/30\n",
      "5000/5000 [==============================] - 0s 14us/step - loss: 0.0808 - accuracy: 0.9416\n",
      "Epoch 21/30\n",
      "5000/5000 [==============================] - 0s 15us/step - loss: 0.0737 - accuracy: 0.9556\n",
      "Epoch 22/30\n",
      "5000/5000 [==============================] - 0s 15us/step - loss: 0.0677 - accuracy: 0.9598\n",
      "Epoch 23/30\n",
      "5000/5000 [==============================] - 0s 15us/step - loss: 0.0621 - accuracy: 0.9656\n",
      "Epoch 24/30\n",
      "5000/5000 [==============================] - 0s 14us/step - loss: 0.0562 - accuracy: 0.9722\n",
      "Epoch 25/30\n",
      "5000/5000 [==============================] - 0s 14us/step - loss: 0.0518 - accuracy: 0.9774\n",
      "Epoch 26/30\n",
      "5000/5000 [==============================] - 0s 13us/step - loss: 0.0465 - accuracy: 0.9824\n",
      "Epoch 27/30\n",
      "5000/5000 [==============================] - 0s 14us/step - loss: 0.0424 - accuracy: 0.9854\n",
      "Epoch 28/30\n",
      "5000/5000 [==============================] - 0s 13us/step - loss: 0.0383 - accuracy: 0.9868\n",
      "Epoch 29/30\n",
      "5000/5000 [==============================] - 0s 14us/step - loss: 0.0346 - accuracy: 0.9898\n",
      "Epoch 30/30\n",
      "5000/5000 [==============================] - 0s 14us/step - loss: 0.0315 - accuracy: 0.9922\n"
     ]
    }
   ],
   "source": [
    "trainedModel = tmpModel.fit(x=[X_train[0:5000]],\n",
    "                            y=y_train[0:5000],\n",
    "                            batch_size=1000,\n",
    "                            verbose=1,\n",
    "                            epochs=30\n",
    "                            )"
   ]
  },
  {
   "cell_type": "code",
   "execution_count": 157,
   "metadata": {},
   "outputs": [],
   "source": [
    "gradient = K.gradients(tmpModel.output[0],tmpModel.input)"
   ]
  },
  {
   "cell_type": "code",
   "execution_count": 158,
   "metadata": {},
   "outputs": [],
   "source": [
    "iterate = K.function([tmpModel.input], [gradient])"
   ]
  },
  {
   "cell_type": "code",
   "execution_count": 159,
   "metadata": {},
   "outputs": [],
   "source": [
    "grad = iterate(np.array(X_test[0:10000],dtype=np.float128))"
   ]
  },
  {
   "cell_type": "code",
   "execution_count": 160,
   "metadata": {},
   "outputs": [
    {
     "data": {
      "text/plain": [
       "array([-1.2345468e-09, -3.0090312e-09, -1.3781860e-09,  4.5775081e-10,\n",
       "       -4.6678963e-09,  1.6838505e-09,  1.2068538e-09, -1.9427027e-09,\n",
       "        1.3088396e-10,  1.3591541e-09,  1.1524116e-09,  4.4556070e-10,\n",
       "        3.5708387e-09, -1.8223936e-10, -4.8586819e-09, -3.6047798e-09,\n",
       "       -1.9207125e-09,  2.1959830e-09, -2.2273996e-09, -4.0175494e-09,\n",
       "        2.3080039e-10, -4.3337606e-10,  4.7428292e-09,  2.5141262e-09,\n",
       "       -9.9327535e-10, -1.2325617e-09, -3.0355909e-09,  4.4782480e-09,\n",
       "       -5.5518958e-09, -2.4034152e-10,  2.7737026e-09, -2.1733388e-09,\n",
       "       -4.5836540e-10, -3.3092573e-09,  7.1216051e-09,  5.0489439e-09,\n",
       "        1.8940596e-09, -4.9251119e-09,  3.6383287e-09,  6.1159666e-10,\n",
       "        1.6325316e-09, -3.9287085e-09, -2.9644658e-09, -3.9672399e-09,\n",
       "       -3.0406060e-09,  5.7232974e-09, -9.7134500e-10,  9.2955876e-10,\n",
       "        6.8601254e-09,  1.9321198e-09], dtype=float32)"
      ]
     },
     "execution_count": 160,
     "metadata": {},
     "output_type": "execute_result"
    }
   ],
   "source": [
    "grad[0][0][0]"
   ]
  },
  {
   "cell_type": "code",
   "execution_count": 161,
   "metadata": {},
   "outputs": [
    {
     "data": {
      "text/plain": [
       "[[array([[-1.2345468e-09, -3.0090312e-09, -1.3781860e-09, ...,\n",
       "           9.2955876e-10,  6.8601254e-09,  1.9321198e-09],\n",
       "         [ 0.0000000e+00,  0.0000000e+00,  0.0000000e+00, ...,\n",
       "           0.0000000e+00,  0.0000000e+00,  0.0000000e+00],\n",
       "         [ 0.0000000e+00,  0.0000000e+00,  0.0000000e+00, ...,\n",
       "           0.0000000e+00,  0.0000000e+00,  0.0000000e+00],\n",
       "         ...,\n",
       "         [ 0.0000000e+00,  0.0000000e+00,  0.0000000e+00, ...,\n",
       "           0.0000000e+00,  0.0000000e+00,  0.0000000e+00],\n",
       "         [ 0.0000000e+00,  0.0000000e+00,  0.0000000e+00, ...,\n",
       "           0.0000000e+00,  0.0000000e+00,  0.0000000e+00],\n",
       "         [ 0.0000000e+00,  0.0000000e+00,  0.0000000e+00, ...,\n",
       "           0.0000000e+00,  0.0000000e+00,  0.0000000e+00]], dtype=float32)]]"
      ]
     },
     "execution_count": 161,
     "metadata": {},
     "output_type": "execute_result"
    }
   ],
   "source": [
    "grad"
   ]
  },
  {
   "cell_type": "code",
   "execution_count": 162,
   "metadata": {},
   "outputs": [
    {
     "data": {
      "image/png": "[encoded data removed]",
      "text/plain": [
       "<Figure size 432x288 with 1 Axes>"
      ]
     },
     "metadata": {
      "needs_background": "light"
     },
     "output_type": "display_data"
    }
   ],
   "source": [
    "plt.axvline(x=19, color='r', linestyle='--')\n",
    "plt.axvline(x=29, color='r', linestyle='--')\n",
    "plt.plot(-np.log10(np.abs(grad[0][0][0])))\n",
    "plt.show()"
   ]
  },
  {
   "cell_type": "code",
   "execution_count": 163,
   "metadata": {},
   "outputs": [
    {
     "data": {
      "image/png": "[encoded data removed]",
      "text/plain": [
       "<Figure size 432x288 with 1 Axes>"
      ]
     },
     "metadata": {
      "needs_background": "light"
     },
     "output_type": "display_data"
    }
   ],
   "source": [
    "plt.axvline(x=19, color='r', linestyle='--')\n",
    "plt.axvline(x=29, color='r', linestyle='--')\n",
    "plt.plot(np.abs(grad[0][0][0]))\n",
    "plt.show()"
   ]
  }
 ],
 "metadata": {
  "kernelspec": {
   "display_name": "Python 3",
   "language": "python",
   "name": "python3"
  },
  "language_info": {
   "codemirror_mode": {
    "name": "ipython",
    "version": 3
   },
   "file_extension": ".py",
   "mimetype": "text/x-python",
   "name": "python",
   "nbconvert_exporter": "python",
   "pygments_lexer": "ipython3",
   "version": "3.7.1"
  }
 },
 "nbformat": 4,
 "nbformat_minor": 2
}
