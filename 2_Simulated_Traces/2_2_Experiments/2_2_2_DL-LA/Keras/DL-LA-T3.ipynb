{
 "cells": [
  {
   "cell_type": "markdown",
   "metadata": {},
   "source": [
    "## Deep Learning Dataset 3"
   ]
  },
  {
   "cell_type": "code",
   "execution_count": 1,
   "metadata": {},
   "outputs": [
    {
     "data": {
      "text/html": [
       "<style>.container { width:90% !important; }</style>"
      ],
      "text/plain": [
       "<IPython.core.display.HTML object>"
      ]
     },
     "metadata": {},
     "output_type": "display_data"
    }
   ],
   "source": [
    "from IPython.core.display import display, HTML\n",
    "display(HTML(\"<style>.container { width:90% !important; }</style>\"))"
   ]
  },
  {
   "cell_type": "code",
   "execution_count": 2,
   "metadata": {},
   "outputs": [],
   "source": [
    "import pandas as pd\n",
    "import pandas as np"
   ]
  },
  {
   "cell_type": "code",
   "execution_count": 3,
   "metadata": {},
   "outputs": [],
   "source": [
    "import os\n",
    "import scipy.io as sio"
   ]
  },
  {
   "cell_type": "code",
   "execution_count": 4,
   "metadata": {},
   "outputs": [
    {
     "name": "stderr",
     "output_type": "stream",
     "text": [
      "Using TensorFlow backend.\n"
     ]
    },
    {
     "name": "stdout",
     "output_type": "stream",
     "text": [
      "WARNING:tensorflow:From /usr/local/lib/python3.6/dist-packages/tensorflow_core/python/compat/v2_compat.py:65: disable_resource_variables (from tensorflow.python.ops.variable_scope) is deprecated and will be removed in a future version.\n",
      "Instructions for updating:\n",
      "non-resource variables are not supported in the long term\n"
     ]
    },
    {
     "name": "stderr",
     "output_type": "stream",
     "text": [
      "/home/pace/.local/lib/python3.6/site-packages/tensorboard/compat/tensorflow_stub/dtypes.py:541: FutureWarning: Passing (type, 1) or '1type' as a synonym of type is deprecated; in a future version of numpy, it will be understood as (type, (1,)) / '(1,)type'.\n",
      "  _np_qint8 = np.dtype([(\"qint8\", np.int8, 1)])\n",
      "/home/pace/.local/lib/python3.6/site-packages/tensorboard/compat/tensorflow_stub/dtypes.py:542: FutureWarning: Passing (type, 1) or '1type' as a synonym of type is deprecated; in a future version of numpy, it will be understood as (type, (1,)) / '(1,)type'.\n",
      "  _np_quint8 = np.dtype([(\"quint8\", np.uint8, 1)])\n",
      "/home/pace/.local/lib/python3.6/site-packages/tensorboard/compat/tensorflow_stub/dtypes.py:543: FutureWarning: Passing (type, 1) or '1type' as a synonym of type is deprecated; in a future version of numpy, it will be understood as (type, (1,)) / '(1,)type'.\n",
      "  _np_qint16 = np.dtype([(\"qint16\", np.int16, 1)])\n",
      "/home/pace/.local/lib/python3.6/site-packages/tensorboard/compat/tensorflow_stub/dtypes.py:544: FutureWarning: Passing (type, 1) or '1type' as a synonym of type is deprecated; in a future version of numpy, it will be understood as (type, (1,)) / '(1,)type'.\n",
      "  _np_quint16 = np.dtype([(\"quint16\", np.uint16, 1)])\n",
      "/home/pace/.local/lib/python3.6/site-packages/tensorboard/compat/tensorflow_stub/dtypes.py:545: FutureWarning: Passing (type, 1) or '1type' as a synonym of type is deprecated; in a future version of numpy, it will be understood as (type, (1,)) / '(1,)type'.\n",
      "  _np_qint32 = np.dtype([(\"qint32\", np.int32, 1)])\n",
      "/home/pace/.local/lib/python3.6/site-packages/tensorboard/compat/tensorflow_stub/dtypes.py:550: FutureWarning: Passing (type, 1) or '1type' as a synonym of type is deprecated; in a future version of numpy, it will be understood as (type, (1,)) / '(1,)type'.\n",
      "  np_resource = np.dtype([(\"resource\", np.ubyte, 1)])\n"
     ]
    },
    {
     "data": {
      "text/html": [
       "<style>.container { width:90% !important; }</style>"
      ],
      "text/plain": [
       "<IPython.core.display.HTML object>"
      ]
     },
     "metadata": {},
     "output_type": "display_data"
    }
   ],
   "source": [
    "import pandas as pd\n",
    "from scipy.stats import ttest_ind\n",
    "import numpy as np\n",
    "#import python libraries\n",
    "import os\n",
    "os.environ[\"CUDA_DEVICE_ORDER\"]=\"PCI_BUS_ID\";\n",
    " \n",
    "# The GPU id to use, usually either \"0\" or \"1\";\n",
    "os.environ[\"CUDA_VISIBLE_DEVICES\"]=\"0\"; \n",
    "import keras\n",
    "from sklearn.model_selection import train_test_split\n",
    "from keras.models import Model, Sequential\n",
    "from keras.layers import Flatten, Dense, Input, Conv1D, MaxPooling1D, GlobalAveragePooling1D, GlobalMaxPooling1D, AveragePooling1D,BatchNormalization\n",
    "from keras.engine.topology import get_source_inputs\n",
    "from keras.utils import layer_utils\n",
    "from keras.utils.data_utils import get_file\n",
    "from keras import backend as K\n",
    "from keras.applications.imagenet_utils import decode_predictions\n",
    "from keras.applications.imagenet_utils import preprocess_input\n",
    "from keras_applications.imagenet_utils import _obtain_input_shape\n",
    "from keras.optimizers import RMSprop\n",
    "from keras.callbacks import ModelCheckpoint\n",
    "from keras.utils import to_categorical\n",
    "from keras.models import load_model\n",
    "from keras.layers import Dropout\n",
    "from sklearn.preprocessing import MultiLabelBinarizer\n",
    "from sklearn.model_selection import train_test_split\n",
    "from sklearn.metrics import accuracy_score\n",
    "\n",
    "import tensorflow.compat.v1 as tf\n",
    "s = tf.InteractiveSession()\n",
    "tf.disable_v2_behavior()\n",
    "import operator as op\n",
    "from functools import reduce\n",
    "from tqdm import tnrange,tqdm_notebook\n",
    "import operator as op\n",
    "from functools import reduce\n",
    "import os\n",
    "import scipy.io as sio\n",
    "\n",
    "from IPython.core.display import display, HTML\n",
    "display(HTML(\"<style>.container { width:90% !important; }</style>\"))\n",
    "import matplotlib.pyplot as plt"
   ]
  },
  {
   "cell_type": "code",
   "execution_count": 5,
   "metadata": {},
   "outputs": [],
   "source": [
    "from keras.utils import to_categorical"
   ]
  },
  {
   "cell_type": "code",
   "execution_count": 6,
   "metadata": {},
   "outputs": [
    {
     "name": "stderr",
     "output_type": "stream",
     "text": [
      "/usr/local/lib/python3.6/dist-packages/tensorflow_core/python/client/session.py:1750: UserWarning: An interactive session is already active. This can cause out-of-memory errors in some cases. You must explicitly call `InteractiveSession.close()` to release resources held by the other session(s).\n",
      "  warnings.warn('An interactive session is already active. This can '\n"
     ]
    }
   ],
   "source": [
    "## Importing required libraries\n",
    "import numpy as np\n",
    "import tensorflow.compat.v1 as tf\n",
    "from sklearn.metrics import roc_auc_score, accuracy_score\n",
    "s = tf.InteractiveSession()\n",
    "tf.disable_v2_behavior()"
   ]
  },
  {
   "cell_type": "code",
   "execution_count": 7,
   "metadata": {},
   "outputs": [],
   "source": [
    "d_len = 100000\n",
    "d_file_len = 100000\n",
    "num_files = 1000"
   ]
  },
  {
   "cell_type": "code",
   "execution_count": 8,
   "metadata": {},
   "outputs": [],
   "source": [
    "def concatDataTraces(path):\n",
    "    mats = []\n",
    "    index = 0 \n",
    "    fileNames = np.arange(100, (d_len + 100), 100).tolist()\n",
    "    for r in range(0,num_files):\n",
    "        mats.append(sio.loadmat(path+\"traces_\"+ str(fileNames[index]) +\".mat\", verify_compressed_data_integrity=False))\n",
    "        index = index + 1\n",
    "    mats = np.array(mats)\n",
    "    myArray = []\n",
    "    \n",
    "    for i in range(0,num_files):\n",
    "        for j in range(0,10):\n",
    "            myArray.append(mats[i]['data'][j])\n",
    "    return(myArray)"
   ]
  },
  {
   "cell_type": "code",
   "execution_count": 9,
   "metadata": {},
   "outputs": [],
   "source": [
    "def concatDataTrigger(path):\n",
    "    mats = []\n",
    "    index = 0 \n",
    "    fileNames = np.arange(100, (d_len + 100), 100).tolist()\n",
    "    for r in range(0,num_files):\n",
    "        mats.append(sio.loadmat(path+\"trigger_\"+ str(fileNames[index]) +\".mat\", verify_compressed_data_integrity=False))\n",
    "        index = index + 1\n",
    "    mats = np.array(mats)\n",
    "    myArray = []\n",
    "    \n",
    "    for i in range(0,num_files):\n",
    "        for j in range(0,10):\n",
    "            myArray.append(mats[i]['data'][j])\n",
    "    return(myArray)"
   ]
  },
  {
   "cell_type": "markdown",
   "metadata": {},
   "source": [
    "### Load Data"
   ]
  },
  {
   "cell_type": "code",
   "execution_count": 10,
   "metadata": {},
   "outputs": [],
   "source": [
    "df_data1 = pd.read_csv('../DataFactory/FixedPlaintext/TS3_A.csv')"
   ]
  },
  {
   "cell_type": "code",
   "execution_count": 11,
   "metadata": {},
   "outputs": [],
   "source": [
    "df_data1['label'] = 0"
   ]
  },
  {
   "cell_type": "code",
   "execution_count": 12,
   "metadata": {},
   "outputs": [],
   "source": [
    "df_data2 = pd.read_csv('../DataFactory/FixedPlaintext/TS3_B.csv')"
   ]
  },
  {
   "cell_type": "code",
   "execution_count": 13,
   "metadata": {},
   "outputs": [],
   "source": [
    "df_data2['label'] = 1"
   ]
  },
  {
   "cell_type": "code",
   "execution_count": 14,
   "metadata": {},
   "outputs": [
    {
     "data": {
      "text/plain": [
       "600000"
      ]
     },
     "execution_count": 14,
     "metadata": {},
     "output_type": "execute_result"
    }
   ],
   "source": [
    "len(df_data1)"
   ]
  },
  {
   "cell_type": "markdown",
   "metadata": {},
   "source": [
    "### Create Label"
   ]
  },
  {
   "cell_type": "code",
   "execution_count": 15,
   "metadata": {},
   "outputs": [],
   "source": [
    "df_label1 = df_data1['label']\n",
    "df_data1 = df_data1.drop(['label'],axis=1)"
   ]
  },
  {
   "cell_type": "code",
   "execution_count": 16,
   "metadata": {},
   "outputs": [],
   "source": [
    "df_label2 = df_data2['label']\n",
    "df_data2 = df_data2.drop(['label'],axis=1)"
   ]
  },
  {
   "cell_type": "code",
   "execution_count": 17,
   "metadata": {},
   "outputs": [],
   "source": [
    "df_data = pd.concat([df_data1,df_data2])\n",
    "df_data = df_data.reset_index()\n",
    "df_data = df_data.to_numpy()\n",
    "df_data = np.delete(df_data, 0, axis=1)"
   ]
  },
  {
   "cell_type": "code",
   "execution_count": 18,
   "metadata": {},
   "outputs": [
    {
     "data": {
      "text/plain": [
       "1200000"
      ]
     },
     "execution_count": 18,
     "metadata": {},
     "output_type": "execute_result"
    }
   ],
   "source": [
    "len(df_data)"
   ]
  },
  {
   "cell_type": "code",
   "execution_count": 19,
   "metadata": {},
   "outputs": [],
   "source": [
    "df_label = pd.concat([df_label1,df_label2])\n",
    "df_label = df_label.reset_index()\n",
    "df_label = df_label.to_numpy()"
   ]
  },
  {
   "cell_type": "code",
   "execution_count": 20,
   "metadata": {},
   "outputs": [],
   "source": [
    "df_label = df_label[:,-1]"
   ]
  },
  {
   "cell_type": "markdown",
   "metadata": {},
   "source": [
    "### Split Label"
   ]
  },
  {
   "cell_type": "code",
   "execution_count": 479,
   "metadata": {},
   "outputs": [],
   "source": [
    "X_train, X_test, y_train, y_test = train_test_split(df_data,df_label,test_size=0.2,shuffle=True,stratify=df_label)"
   ]
  },
  {
   "cell_type": "code",
   "execution_count": 481,
   "metadata": {},
   "outputs": [],
   "source": [
    "y_train = to_categorical(y_train,num_classes=2)"
   ]
  },
  {
   "cell_type": "code",
   "execution_count": 482,
   "metadata": {},
   "outputs": [],
   "source": [
    "y_test = to_categorical(y_test,num_classes=2)"
   ]
  },
  {
   "cell_type": "code",
   "execution_count": 484,
   "metadata": {},
   "outputs": [],
   "source": [
    "import numpy as np"
   ]
  },
  {
   "cell_type": "code",
   "execution_count": 485,
   "metadata": {},
   "outputs": [],
   "source": [
    "X_train = np.array(X_train)"
   ]
  },
  {
   "cell_type": "code",
   "execution_count": 486,
   "metadata": {},
   "outputs": [],
   "source": [
    "y_train = np.array(y_train)"
   ]
  },
  {
   "cell_type": "code",
   "execution_count": 489,
   "metadata": {},
   "outputs": [],
   "source": [
    "X_test = np.array(X_test)"
   ]
  },
  {
   "cell_type": "code",
   "execution_count": 490,
   "metadata": {},
   "outputs": [],
   "source": [
    "y_test = np.array(y_test)"
   ]
  },
  {
   "cell_type": "code",
   "execution_count": 491,
   "metadata": {},
   "outputs": [],
   "source": [
    "from keras import backend as k"
   ]
  },
  {
   "cell_type": "code",
   "execution_count": 492,
   "metadata": {},
   "outputs": [],
   "source": [
    "def createMLPModel():\n",
    "    model = Sequential()\n",
    "    model.add(Dense(120,input_dim=50, activation='relu'))\n",
    "    model.add(BatchNormalization())\n",
    "    model.add(Dense(90, activation='relu'))\n",
    "    model.add(BatchNormalization())\n",
    "    model.add(Dense(50, activation='relu'))\n",
    "    model.add(BatchNormalization())\n",
    "    model.add(Dense(2, activation='softmax'))\n",
    "    optimizer = keras.optimizers.Adam(lr=0.001, beta_1=0.9, beta_2=0.999, epsilon=1/100000000, decay=0.0, amsgrad=False)\n",
    "    model.compile(loss='mean_squared_error', optimizer=optimizer, metrics=['accuracy'])   \n",
    "    \n",
    "    return model"
   ]
  },
  {
   "cell_type": "code",
   "execution_count": 493,
   "metadata": {},
   "outputs": [],
   "source": [
    "tmpModel = createMLPModel()"
   ]
  },
  {
   "cell_type": "code",
   "execution_count": 494,
   "metadata": {},
   "outputs": [
    {
     "name": "stdout",
     "output_type": "stream",
     "text": [
      "Epoch 1/30\n",
      "10000/10000 [==============================] - 1s 53us/step - loss: 0.3182 - accuracy: 0.4956\n",
      "Epoch 2/30\n",
      "10000/10000 [==============================] - 0s 15us/step - loss: 0.2685 - accuracy: 0.5588\n",
      "Epoch 3/30\n",
      "10000/10000 [==============================] - 0s 14us/step - loss: 0.2435 - accuracy: 0.6026\n",
      "Epoch 4/30\n",
      "10000/10000 [==============================] - 0s 15us/step - loss: 0.2280 - accuracy: 0.6362\n",
      "Epoch 5/30\n",
      "10000/10000 [==============================] - 0s 14us/step - loss: 0.2156 - accuracy: 0.6697\n",
      "Epoch 6/30\n",
      "10000/10000 [==============================] - 0s 14us/step - loss: 0.2050 - accuracy: 0.7019\n",
      "Epoch 7/30\n",
      "10000/10000 [==============================] - 0s 14us/step - loss: 0.1960 - accuracy: 0.7254\n",
      "Epoch 8/30\n",
      "10000/10000 [==============================] - 0s 13us/step - loss: 0.1875 - accuracy: 0.7407\n",
      "Epoch 9/30\n",
      "10000/10000 [==============================] - 0s 14us/step - loss: 0.1795 - accuracy: 0.7626\n",
      "Epoch 10/30\n",
      "10000/10000 [==============================] - 0s 15us/step - loss: 0.1714 - accuracy: 0.7798\n",
      "Epoch 11/30\n",
      "10000/10000 [==============================] - 0s 15us/step - loss: 0.1627 - accuracy: 0.7996\n",
      "Epoch 12/30\n",
      "10000/10000 [==============================] - 0s 15us/step - loss: 0.1551 - accuracy: 0.8127\n",
      "Epoch 13/30\n",
      "10000/10000 [==============================] - 0s 14us/step - loss: 0.1474 - accuracy: 0.8259\n",
      "Epoch 14/30\n",
      "10000/10000 [==============================] - 0s 15us/step - loss: 0.1404 - accuracy: 0.8376\n",
      "Epoch 15/30\n",
      "10000/10000 [==============================] - 0s 15us/step - loss: 0.1331 - accuracy: 0.8508\n",
      "Epoch 16/30\n",
      "10000/10000 [==============================] - 0s 14us/step - loss: 0.1249 - accuracy: 0.8634\n",
      "Epoch 17/30\n",
      "10000/10000 [==============================] - 0s 14us/step - loss: 0.1173 - accuracy: 0.8788\n",
      "Epoch 18/30\n",
      "10000/10000 [==============================] - 0s 11us/step - loss: 0.1102 - accuracy: 0.8931\n",
      "Epoch 19/30\n",
      "10000/10000 [==============================] - 0s 14us/step - loss: 0.1032 - accuracy: 0.9033\n",
      "Epoch 20/30\n",
      "10000/10000 [==============================] - 0s 15us/step - loss: 0.0971 - accuracy: 0.9114\n",
      "Epoch 21/30\n",
      "10000/10000 [==============================] - 0s 15us/step - loss: 0.0896 - accuracy: 0.9237\n",
      "Epoch 22/30\n",
      "10000/10000 [==============================] - 0s 14us/step - loss: 0.0834 - accuracy: 0.9331\n",
      "Epoch 23/30\n",
      "10000/10000 [==============================] - 0s 15us/step - loss: 0.0784 - accuracy: 0.9372\n",
      "Epoch 24/30\n",
      "10000/10000 [==============================] - 0s 15us/step - loss: 0.0721 - accuracy: 0.9467\n",
      "Epoch 25/30\n",
      "10000/10000 [==============================] - 0s 15us/step - loss: 0.0667 - accuracy: 0.9558\n",
      "Epoch 26/30\n",
      "10000/10000 [==============================] - 0s 15us/step - loss: 0.0609 - accuracy: 0.9624\n",
      "Epoch 27/30\n",
      "10000/10000 [==============================] - 0s 16us/step - loss: 0.0558 - accuracy: 0.9678\n",
      "Epoch 28/30\n",
      "10000/10000 [==============================] - 0s 14us/step - loss: 0.0520 - accuracy: 0.9715\n",
      "Epoch 29/30\n",
      "10000/10000 [==============================] - 0s 14us/step - loss: 0.0479 - accuracy: 0.9763\n",
      "Epoch 30/30\n",
      "10000/10000 [==============================] - 0s 15us/step - loss: 0.0438 - accuracy: 0.9812\n"
     ]
    }
   ],
   "source": [
    "trainedModel = tmpModel.fit(x=[X_train[0:10000]],\n",
    "                            y=y_train[0:10000],\n",
    "                            batch_size=1000,\n",
    "                            verbose=1,\n",
    "                            epochs=30\n",
    "                            )"
   ]
  },
  {
   "cell_type": "code",
   "execution_count": 495,
   "metadata": {},
   "outputs": [],
   "source": [
    "gradient = K.gradients(tmpModel.output[0],tmpModel.input)"
   ]
  },
  {
   "cell_type": "code",
   "execution_count": 496,
   "metadata": {},
   "outputs": [],
   "source": [
    "iterate = K.function([tmpModel.input], [gradient])"
   ]
  },
  {
   "cell_type": "code",
   "execution_count": 502,
   "metadata": {},
   "outputs": [],
   "source": [
    "grad = iterate(np.array(X_test[0:10000],dtype=np.float128))"
   ]
  },
  {
   "cell_type": "code",
   "execution_count": 503,
   "metadata": {},
   "outputs": [
    {
     "data": {
      "text/plain": [
       "array([-9.9816235e-09,  2.0127475e-09, -3.5184844e-09, -6.4253997e-10,\n",
       "        3.5065714e-10,  4.6867425e-09,  1.3562042e-08,  2.7884368e-09,\n",
       "        4.1934056e-09, -5.8650351e-09, -8.4715027e-11, -5.8910223e-09,\n",
       "        6.5901631e-09, -2.1185562e-09,  1.2784285e-08,  4.7358646e-09,\n",
       "       -1.4281771e-09,  2.1107811e-09, -5.9915153e-09, -6.7441506e-09,\n",
       "        7.7716755e-10, -2.0235633e-09,  5.3889299e-10,  3.5425023e-09,\n",
       "       -2.0349701e-08, -2.6096503e-09,  1.1689101e-08,  1.1245261e-08,\n",
       "       -8.8662722e-09,  7.9359186e-09, -8.3920675e-09,  9.3910957e-10,\n",
       "        2.9046552e-09,  5.0540061e-09,  2.6840725e-09,  1.7376319e-09,\n",
       "       -2.6477864e-09, -6.7391528e-09,  1.6213210e-08,  4.7780819e-09,\n",
       "        3.7775387e-09,  4.1116603e-09, -1.8788285e-08, -1.8871688e-08,\n",
       "        6.0394317e-10,  2.8147120e-09,  2.3911479e-09,  3.8084433e-09,\n",
       "       -6.5391728e-09,  9.9740189e-09], dtype=float32)"
      ]
     },
     "execution_count": 503,
     "metadata": {},
     "output_type": "execute_result"
    }
   ],
   "source": [
    "grad[0][0][0]"
   ]
  },
  {
   "cell_type": "code",
   "execution_count": 504,
   "metadata": {},
   "outputs": [
    {
     "data": {
      "text/plain": [
       "[[array([[-9.9816235e-09,  2.0127475e-09, -3.5184844e-09, ...,\n",
       "           3.8084433e-09, -6.5391728e-09,  9.9740189e-09],\n",
       "         [ 0.0000000e+00,  0.0000000e+00,  0.0000000e+00, ...,\n",
       "           0.0000000e+00,  0.0000000e+00,  0.0000000e+00],\n",
       "         [ 0.0000000e+00,  0.0000000e+00,  0.0000000e+00, ...,\n",
       "           0.0000000e+00,  0.0000000e+00,  0.0000000e+00],\n",
       "         ...,\n",
       "         [ 0.0000000e+00,  0.0000000e+00,  0.0000000e+00, ...,\n",
       "           0.0000000e+00,  0.0000000e+00,  0.0000000e+00],\n",
       "         [ 0.0000000e+00,  0.0000000e+00,  0.0000000e+00, ...,\n",
       "           0.0000000e+00,  0.0000000e+00,  0.0000000e+00],\n",
       "         [ 0.0000000e+00,  0.0000000e+00,  0.0000000e+00, ...,\n",
       "           0.0000000e+00,  0.0000000e+00,  0.0000000e+00]], dtype=float32)]]"
      ]
     },
     "execution_count": 504,
     "metadata": {},
     "output_type": "execute_result"
    }
   ],
   "source": [
    "grad"
   ]
  },
  {
   "cell_type": "code",
   "execution_count": 509,
   "metadata": {},
   "outputs": [
    {
     "data": {
      "image/png": "[encoded data removed]",
      "text/plain": [
       "<Figure size 432x288 with 1 Axes>"
      ]
     },
     "metadata": {
      "needs_background": "light"
     },
     "output_type": "display_data"
    }
   ],
   "source": [
    "plt.axvline(x=24, color='r', linestyle='--')\n",
    "plt.axvline(x=4, color='g', linestyle='--')\n",
    "plt.plot(-np.log10(np.abs(grad[0][0][0])))\n",
    "plt.show()"
   ]
  },
  {
   "cell_type": "code",
   "execution_count": 510,
   "metadata": {},
   "outputs": [
    {
     "data": {
      "image/png": "[encoded data removed]",
      "text/plain": [
       "<Figure size 432x288 with 1 Axes>"
      ]
     },
     "metadata": {
      "needs_background": "light"
     },
     "output_type": "display_data"
    }
   ],
   "source": [
    "plt.axvline(x=24, color='r', linestyle='--')\n",
    "plt.axvline(x=4, color='g', linestyle='--')\n",
    "plt.plot(np.abs(grad[0][0][0]))\n",
    "plt.show()"
   ]
  }
 ],
 "metadata": {
  "kernelspec": {
   "display_name": "Python 3",
   "language": "python",
   "name": "python3"
  },
  "language_info": {
   "codemirror_mode": {
    "name": "ipython",
    "version": 3
   },
   "file_extension": ".py",
   "mimetype": "text/x-python",
   "name": "python",
   "nbconvert_exporter": "python",
   "pygments_lexer": "ipython3",
   "version": "3.7.1"
  }
 },
 "nbformat": 4,
 "nbformat_minor": 2
}
