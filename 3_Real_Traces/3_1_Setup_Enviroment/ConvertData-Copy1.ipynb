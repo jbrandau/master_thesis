{
 "cells": [
  {
   "cell_type": "code",
   "execution_count": 132,
   "metadata": {},
   "outputs": [
    {
     "data": {
      "text/html": [
       "<style>.container { width:90% !important; }</style>"
      ],
      "text/plain": [
       "<IPython.core.display.HTML object>"
      ]
     },
     "metadata": {},
     "output_type": "display_data"
    }
   ],
   "source": [
    "import pandas as pd\n",
    "import os\n",
    "import scipy.io as sio\n",
    "import numpy as np\n",
    "from tqdm import tnrange,tqdm_notebook\n",
    "\n",
    "from IPython.core.display import display, HTML\n",
    "display(HTML(\"<style>.container { width:90% !important; }</style>\"))"
   ]
  },
  {
   "cell_type": "code",
   "execution_count": 133,
   "metadata": {},
   "outputs": [],
   "source": [
    "def concatDataLabel(path):\n",
    "    mats = []\n",
    "    index = 0 \n",
    "    fileNames = np.arange(1000, 6000, 1000).tolist()\n",
    "    for file in os.listdir(path):\n",
    "        mats.append(sio.loadmat(path+\"labels_\"+ str(fileNames[index]) +\".mat\"))\n",
    "        index = index + 1\n",
    "    mats = np.array(mats) \n",
    "    myArray = []\n",
    "    for i in range(0,5):\n",
    "        for j in range(0,1000):\n",
    "            myArray.append(mats[i]['data'][0][j])\n",
    "    return(myArray)"
   ]
  },
  {
   "cell_type": "code",
   "execution_count": 134,
   "metadata": {},
   "outputs": [],
   "source": [
    "def concatDataTraces(path):\n",
    "    mats = []\n",
    "    index = 0 \n",
    "    fileNames = np.arange(1000, 6000, 1000).tolist()\n",
    "    for file in os.listdir(path):\n",
    "        mats.append(sio.loadmat(path+\"traces_\"+ str(fileNames[index]) +\".mat\"))\n",
    "        index = index + 1\n",
    "    mats = np.array(mats)\n",
    "    myArray = []\n",
    "    \n",
    "    for i in range(0,5):\n",
    "        for j in range(0,1000):\n",
    "            myArray.append(mats[i]['data'][j])\n",
    "    return(myArray)"
   ]
  },
  {
   "cell_type": "code",
   "execution_count": 135,
   "metadata": {},
   "outputs": [],
   "source": [
    "def avgData(data):\n",
    "    avgArray = []\n",
    "    start = 0 \n",
    "    end = 9\n",
    "    for i in range(0,len(data),10):\n",
    "        avgArray.append(data[start:end].mean())\n",
    "        start = start + 10\n",
    "        end = end + 10\n",
    "    return(pd.DataFrame(avgArray))"
   ]
  },
  {
   "cell_type": "code",
   "execution_count": 136,
   "metadata": {},
   "outputs": [],
   "source": [
    "def conversionProcess(i):\n",
    "    \n",
    "    fixedDir = './SBOX_traces2019-11-10_19_51_35/' \n",
    "    newDir = fixedDir + 'label/'\n",
    "    newDir2 = fixedDir + 'traces/'\n",
    "    for j in tnrange(0,12):\n",
    "        df_label = pd.DataFrame(concatDataLabel(fixedDir +  \"/spot_\" + str(i) + \"_\" + str(j)+ '/label/'))\n",
    "        df_avg_label = avgData(df_label).copy()\n",
    "        df_avg_label.to_csv(newDir + \"label_\" + str(i) + \"_\" + str(j) + \".csv\",index=False)\n",
    "        df_traces = pd.DataFrame(concatDataTraces(fixedDir + \"/spot_\" + str(i) + \"_\" + str(j)+ '/traces/'))\n",
    "        df_sliced_traces = df_traces.transpose()[0:10000].copy().reset_index(drop=True).transpose()\n",
    "        df_avg_traces = avgData(df_sliced_traces)\n",
    "        df_avg_traces.to_csv(newDir2 + \"trace_sliced_\" + str(i) + \"_\" + str(j) + \".csv\",index=False)"
   ]
  },
  {
   "cell_type": "code",
   "execution_count": 137,
   "metadata": {},
   "outputs": [],
   "source": [
    "def conversionCore(i,j):\n",
    "    fixedDir = './SBOX_traces2019-11-10_19_51_35/' \n",
    "    newDir = fixedDir + 'label/'\n",
    "    newDir2 = fixedDir + 'traces/'\n",
    "\n",
    "    df_label = pd.DataFrame(concatDataLabel(fixedDir +  \"/spot_\" + str(i) + \"_\" + str(j)+ '/label/'))\n",
    "    df_avg_label = avgData(df_label).copy()\n",
    "    df_avg_label.to_csv(newDir + \"label_\" + str(i) + \"_\" + str(j) + \".csv\",index=False)\n",
    "    df_traces = pd.DataFrame(concatDataTraces(fixedDir + \"/spot_\" + str(i) + \"_\" + str(j)+ '/traces/'))\n",
    "    df_sliced_traces = df_traces.transpose()[0:10000].copy().reset_index(drop=True).transpose()\n",
    "    df_avg_traces = avgData(df_sliced_traces)\n",
    "    df_avg_traces.to_csv(newDir2 + \"trace_sliced_\" + str(i) + \"_\" + str(j) + \".csv\",index=False)"
   ]
  },
  {
   "cell_type": "code",
   "execution_count": null,
   "metadata": {},
   "outputs": [],
   "source": [
    "fixedDir = './SBOX_traces2019-11-10_19_51_35/' \n",
    "newDir = fixedDir + 'label/'\n",
    "newDir2 = fixedDir + 'traces/'\n",
    "for i in tnrange(9,12):\n",
    "    for j in tnrange(12,20):\n",
    "        df_label = pd.DataFrame(concatDataLabel(fixedDir +  \"/spot_\" + str(i) + \"_\" + str(j)+ '/label/'))\n",
    "        df_avg_label = avgData(df_label).copy()\n",
    "        df_avg_label.to_csv(newDir + \"label_\" + str(i) + \"_\" + str(j) + \".csv\",index=False)\n",
    "        df_traces = pd.DataFrame(concatDataTraces(fixedDir + \"/spot_\" + str(i) + \"_\" + str(j)+ '/traces/'))\n",
    "        df_sliced_traces = df_traces.transpose()[0:10000].copy().reset_index(drop=True).transpose()\n",
    "        df_avg_traces = avgData(df_sliced_traces)\n",
    "        df_avg_traces.to_csv(newDir2 + \"trace_sliced_\" + str(i) + \"_\" + str(j) + \".csv\",index=False)"
   ]
  },
  {
   "cell_type": "code",
   "execution_count": 148,
   "metadata": {
    "scrolled": false
   },
   "outputs": [
    {
     "data": {
      "application/vnd.jupyter.widget-view+json": {
       "model_id": "0f1ae20ced9e44fdba0a37e6c8415508",
       "version_major": 2,
       "version_minor": 0
      },
      "text/plain": [
       "HBox(children=(IntProgress(value=0, max=2), HTML(value='')))"
      ]
     },
     "metadata": {},
     "output_type": "display_data"
    },
    {
     "data": {
      "application/vnd.jupyter.widget-view+json": {
       "model_id": "7c6e648a8b5b463ea15969b102d032ad",
       "version_major": 2,
       "version_minor": 0
      },
      "text/plain": [
       "HBox(children=(IntProgress(value=0, max=20), HTML(value='')))"
      ]
     },
     "metadata": {},
     "output_type": "display_data"
    },
    {
     "name": "stdout",
     "output_type": "stream",
     "text": [
      "\n"
     ]
    },
    {
     "data": {
      "application/vnd.jupyter.widget-view+json": {
       "model_id": "b69d939e121d4fea96adc3131756d4b4",
       "version_major": 2,
       "version_minor": 0
      },
      "text/plain": [
       "HBox(children=(IntProgress(value=0, max=20), HTML(value='')))"
      ]
     },
     "metadata": {},
     "output_type": "display_data"
    },
    {
     "name": "stdout",
     "output_type": "stream",
     "text": [
      "\n",
      "\n"
     ]
    }
   ],
   "source": [
    "import multiprocessing as mp\n",
    "os.system(\"taskset -p 0xff %d\" % os.getpid())\n",
    "\n",
    "\n",
    "for i in tnrange(10,12):\n",
    "    pool = mp.Pool(mp.cpu_count())\n",
    "    results = [pool.apply(conversionCore, args=[i,j]) for j in tnrange(0,20)]\n",
    "    pool.close() "
   ]
  },
  {
   "cell_type": "code",
   "execution_count": 123,
   "metadata": {
    "scrolled": false
   },
   "outputs": [
    {
     "name": "stdout",
     "output_type": "stream",
     "text": [
      "[[110  95 134 ... 167 156 142]\n",
      " [ 80  84 117 ... 132 148 122]\n",
      " [ 96 100 103 ... 151 167 137]\n",
      " ...\n",
      " [127 139  70 ... 110 144 123]\n",
      " [ 98  87 108 ... 166 149 150]\n",
      " [ 99  81  91 ... 105 136 150]]\n"
     ]
    }
   ],
   "source": [
    "fixedDir = './SBOX_traces2019-11-10_19_51_35/' \n",
    "newDir = fixedDir + 'label/'\n",
    "newDir2 = fixedDir + 'traces/'\n",
    "\n",
    "df_traces = pd.DataFrame(concatDataTraces(fixedDir + '/spot_0_0/traces/'))"
   ]
  },
  {
   "cell_type": "code",
   "execution_count": 124,
   "metadata": {},
   "outputs": [
    {
     "data": {
      "text/plain": [
       "5000"
      ]
     },
     "execution_count": 124,
     "metadata": {},
     "output_type": "execute_result"
    }
   ],
   "source": [
    "len(df_traces)"
   ]
  },
  {
   "cell_type": "code",
   "execution_count": 125,
   "metadata": {},
   "outputs": [],
   "source": [
    "myData = avgData(df_traces)"
   ]
  },
  {
   "cell_type": "code",
   "execution_count": 126,
   "metadata": {},
   "outputs": [
    {
     "data": {
      "text/plain": [
       "500"
      ]
     },
     "execution_count": 126,
     "metadata": {},
     "output_type": "execute_result"
    }
   ],
   "source": [
    "len(myData)"
   ]
  },
  {
   "cell_type": "code",
   "execution_count": 127,
   "metadata": {},
   "outputs": [
    {
     "data": {
      "text/plain": [
       "<matplotlib.axes._subplots.AxesSubplot at 0x7f7a540658d0>"
      ]
     },
     "execution_count": 127,
     "metadata": {},
     "output_type": "execute_result"
    },
    {
     "data": {
      "image/png": "[encoded data removed]",
      "text/plain": [
       "<Figure size 432x288 with 1 Axes>"
      ]
     },
     "metadata": {
      "needs_background": "light"
     },
     "output_type": "display_data"
    }
   ],
   "source": [
    "myData.transpose()[0].plot()\n",
    "myData.transpose()[1].plot()\n",
    "myData.transpose()[2].plot()\n",
    "myData.transpose()[3].plot()"
   ]
  },
  {
   "cell_type": "code",
   "execution_count": null,
   "metadata": {},
   "outputs": [],
   "source": []
  }
 ],
 "metadata": {
  "kernelspec": {
   "display_name": "Python 3",
   "language": "python",
   "name": "python3"
  },
  "language_info": {
   "codemirror_mode": {
    "name": "ipython",
    "version": 3
   },
   "file_extension": ".py",
   "mimetype": "text/x-python",
   "name": "python",
   "nbconvert_exporter": "python",
   "pygments_lexer": "ipython3",
   "version": "3.6.8"
  }
 },
 "nbformat": 4,
 "nbformat_minor": 2
}
