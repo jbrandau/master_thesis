{
 "cells": [
  {
   "cell_type": "code",
   "execution_count": null,
   "metadata": {},
   "outputs": [],
   "source": [
    "import pandas as pd\n",
    "import os\n",
    "import scipy.io as sio\n",
    "import numpy as np\n",
    "from tqdm import tnrange,tqdm_notebook\n",
    "\n",
    "from IPython.core.display import display, HTML\n",
    "display(HTML(\"<style>.container { width:90% !important; }</style>\"))"
   ]
  },
  {
   "cell_type": "code",
   "execution_count": null,
   "metadata": {},
   "outputs": [],
   "source": [
    "def concatDataLabel(path):\n",
    "    mats = []\n",
    "    index = 0 \n",
    "    fileNames = np.arange(100, 10100, 100).tolist()\n",
    "    for file in os.listdir(path):\n",
    "        mats.append(sio.loadmat(path+\"labels_\"+ str(fileNames[index]) +\".mat\", verify_compressed_data_integrity=False))\n",
    "        index = index + 1\n",
    "    mats = np.array(mats) \n",
    "    myArray = []\n",
    "    for i in range(0,100):\n",
    "        for j in range(0,100):\n",
    "            myArray.append(mats[i]['data'][0][j])\n",
    "    return(myArray)"
   ]
  },
  {
   "cell_type": "code",
   "execution_count": null,
   "metadata": {},
   "outputs": [],
   "source": [
    "def concatDataTraces(path):\n",
    "    mats = []\n",
    "    index = 0 \n",
    "    fileNames = np.arange(100, 10100, 100).tolist()\n",
    "    for file in os.listdir(path):\n",
    "        mats.append(sio.loadmat(path+\"traces_\"+ str(fileNames[index]) +\".mat\", verify_compressed_data_integrity=False))\n",
    "        index = index + 1\n",
    "    mats = np.array(mats)\n",
    "    myArray = []\n",
    "    \n",
    "    for i in range(0,100):\n",
    "        for j in range(0,100):\n",
    "            myArray.append(mats[i]['data'][j])\n",
    "    return(myArray)"
   ]
  },
  {
   "cell_type": "code",
   "execution_count": null,
   "metadata": {},
   "outputs": [],
   "source": [
    "def avgData(data):\n",
    "    avgArray = []\n",
    "    start = 0 \n",
    "    end = 19\n",
    "    for i in range(0,len(data),20):\n",
    "        avgArray.append(data[start:end].mean())\n",
    "        start = start + 20\n",
    "        end = end + 20\n",
    "    return(pd.DataFrame(avgArray))"
   ]
  },
  {
   "cell_type": "code",
   "execution_count": null,
   "metadata": {},
   "outputs": [],
   "source": [
    "def conversionProcess(i):\n",
    "    \n",
    "    fixedDir = './SBOX_traces_fixed_2/' \n",
    "    newDir = fixedDir + 'label/'\n",
    "    newDir2 = fixedDir + 'traces/'\n",
    "    for j in tnrange(0,12):\n",
    "        df_label = pd.DataFrame(concatDataLabel(fixedDir +  \"/spot_\" + str(i) + \"_\" + str(j)+ '/label/'))\n",
    "        df_avg_label = avgData(df_label).copy()\n",
    "        df_avg_label.to_csv(newDir + \"label_\" + str(i) + \"_\" + str(j) + \".csv\",index=False)\n",
    "        df_traces = pd.DataFrame(concatDataTraces(fixedDir + \"/spot_\" + str(i) + \"_\" + str(j)+ '/traces/'))\n",
    "        df_sliced_traces = df_traces.transpose()[0:10000].copy().reset_index(drop=True).transpose()\n",
    "        df_avg_traces = df_sliced_traces\n",
    "        #df_avg_traces = avgData(df_sliced_traces)\n",
    "        df_avg_traces.to_csv(newDir2 + \"trace_sliced_\" + str(i) + \"_\" + str(j) + \".csv\",index=False)"
   ]
  },
  {
   "cell_type": "code",
   "execution_count": null,
   "metadata": {},
   "outputs": [],
   "source": [
    "def conversionCore(i,j):\n",
    "    fixedDir = './SBOX_traces_fixed_2/' \n",
    "    newDir = fixedDir + 'label/'\n",
    "    newDir2 = fixedDir + 'traces/'\n",
    "\n",
    "    df_label = pd.DataFrame(concatDataLabel(fixedDir +  \"/spot_\" + str(i) + \"_\" + str(j)+ '/label/'))\n",
    "    df_avg_label = df_label\n",
    "    #df_avg_label = avgData(df_label).copy()\n",
    "    df_avg_label.to_csv(newDir + \"label_\" + str(i) + \"_\" + str(j) + \".csv\",index=False)\n",
    "    \n",
    "    df_traces = pd.DataFrame(concatDataTraces(fixedDir + \"/spot_\" + str(i) + \"_\" + str(j)+ '/traces/'))\n",
    "    df_sliced_traces = df_traces.transpose().reset_index(drop=True).transpose()\n",
    "    #df_sliced_traces = df_traces.transpose()[0:100000].copy().reset_index(drop=True).transpose()\n",
    "    df_avg_traces = df_sliced_traces\n",
    "    #df_avg_traces = avgData(df_sliced_traces)\n",
    "    df_avg_traces.to_csv(newDir2 + \"trace_sliced_\" + str(i) + \"_\" + str(j) + \".csv\",index=False)"
   ]
  },
  {
   "cell_type": "code",
   "execution_count": null,
   "metadata": {},
   "outputs": [],
   "source": [
    "fixedDir = './SBOX_traces2019-11-12_11_00_18/' \n",
    "newDir = fixedDir + 'label/'\n",
    "newDir2 = fixedDir + 'traces/'\n",
    "for i in tnrange(9,12):\n",
    "    for j in tnrange(12,20):\n",
    "        df_label = pd.DataFrame(concatDataLabel(fixedDir +  \"/spot_\" + str(i) + \"_\" + str(j)+ '/label/'))\n",
    "        df_avg_label = df_label\n",
    "        #df_avg_label = avgData(df_label).copy()\n",
    "        df_avg_label.to_csv(newDir + \"label_\" + str(i) + \"_\" + str(j) + \".csv\",index=False)\n",
    "        df_traces = pd.DataFrame(concatDataTraces(fixedDir + \"/spot_\" + str(i) + \"_\" + str(j)+ '/traces/'))\n",
    "        df_sliced_traces = df_traces.transpose()[0:10000].copy().reset_index(drop=True).transpose()\n",
    "        df_avg_traces = df_sliced_traces\n",
    "        #df_avg_traces = avgData(df_sliced_traces)\n",
    "        df_avg_traces.to_csv(newDir2 + \"trace_sliced_\" + str(i) + \"_\" + str(j) + \".csv\",index=False)"
   ]
  },
  {
   "cell_type": "code",
   "execution_count": null,
   "metadata": {
    "scrolled": false
   },
   "outputs": [],
   "source": [
    "import multiprocessing as mp\n",
    "os.system(\"taskset -p 0xff %d\" % os.getpid())\n",
    "\n",
    "\n",
    "for i in tnrange(4,5):\n",
    "    pool = mp.Pool(mp.cpu_count())\n",
    "    results = [pool.apply(conversionCore, args=[i,j]) for j in tnrange(12,13)]\n",
    "    pool.close() "
   ]
  },
  {
   "cell_type": "code",
   "execution_count": null,
   "metadata": {
    "scrolled": false
   },
   "outputs": [],
   "source": [
    "fixedDir = './SBOX_traces2019-11-10_19_51_35/' \n",
    "newDir = fixedDir + 'label/'\n",
    "newDir2 = fixedDir + 'traces/'\n",
    "\n",
    "df_traces = pd.DataFrame(concatDataTraces(fixedDir + '/spot_9_12/traces/'))"
   ]
  },
  {
   "cell_type": "code",
   "execution_count": null,
   "metadata": {},
   "outputs": [],
   "source": [
    "len(df_traces)"
   ]
  },
  {
   "cell_type": "code",
   "execution_count": null,
   "metadata": {},
   "outputs": [],
   "source": [
    "myData = avgData(df_traces)"
   ]
  },
  {
   "cell_type": "code",
   "execution_count": null,
   "metadata": {},
   "outputs": [],
   "source": [
    "len(myData)"
   ]
  },
  {
   "cell_type": "code",
   "execution_count": null,
   "metadata": {},
   "outputs": [],
   "source": [
    "myData.transpose()[0].plot()\n",
    "myData.transpose()[1].plot()\n",
    "myData.transpose()[2].plot()\n",
    "myData.transpose()[3].plot()"
   ]
  },
  {
   "cell_type": "code",
   "execution_count": null,
   "metadata": {},
   "outputs": [],
   "source": []
  }
 ],
 "metadata": {
  "kernelspec": {
   "display_name": "Python 3",
   "language": "python",
   "name": "python3"
  },
  "language_info": {
   "codemirror_mode": {
    "name": "ipython",
    "version": 3
   },
   "file_extension": ".py",
   "mimetype": "text/x-python",
   "name": "python",
   "nbconvert_exporter": "python",
   "pygments_lexer": "ipython3",
   "version": "3.6.8"
  }
 },
 "nbformat": 4,
 "nbformat_minor": 2
}
