{
 "cells": [
  {
   "cell_type": "markdown",
   "metadata": {},
   "source": [
    "### SNR"
   ]
  },
  {
   "cell_type": "code",
   "execution_count": 1,
   "metadata": {},
   "outputs": [],
   "source": [
    "import pandas as pd\n",
    "from scipy.stats import ttest_ind\n",
    "import numpy as np\n",
    "import scipy\n",
    "from tqdm import tqdm, trange\n",
    "#from tqdm import tnrange,tqdm_notebook\n",
    "import matplotlib.pyplot as plt\n",
    "from scipy.stats import t\n",
    "import matplotlib.pyplot as plt\n",
    "import gmpy2\n",
    "from gmpy2 import mpz,mpq,mpfr,mpc\n",
    "import os\n",
    "import scipy.io as sio\n",
    "import matplotlib.pyplot as plt\n",
    "from tqdm import tnrange,tqdm_notebook"
   ]
  },
  {
   "cell_type": "code",
   "execution_count": 2,
   "metadata": {},
   "outputs": [],
   "source": [
    "d_len = 25000\n",
    "d_file_len = 500"
   ]
  },
  {
   "cell_type": "code",
   "execution_count": 3,
   "metadata": {},
   "outputs": [],
   "source": [
    "def concatDataTraces(path):\n",
    "    mats = []\n",
    "    index = 0 \n",
    "    fileNames = np.arange(50, (d_len + 50), 50).tolist()\n",
    "    for file in os.listdir(path):\n",
    "        mats.append(sio.loadmat(path+\"traces_\"+ str(fileNames[index]) +\".mat\", verify_compressed_data_integrity=False))\n",
    "        index = index + 1\n",
    "    mats = np.array(mats)\n",
    "    myArray = []\n",
    "    \n",
    "    for i in range(0,d_file_len):\n",
    "        for j in range(0,50):\n",
    "            myArray.append(mats[i]['data'][j])\n",
    "    return(myArray)"
   ]
  },
  {
   "cell_type": "code",
   "execution_count": 4,
   "metadata": {},
   "outputs": [],
   "source": [
    "def concatDataLabel(path):\n",
    "    mats = []\n",
    "    index = 0 \n",
    "    fileNames = np.arange(50, (d_len + 50), 50).tolist()\n",
    "    for file in os.listdir(path):\n",
    "        mats.append(sio.loadmat(path+\"labels_\"+ str(fileNames[index]) +\".mat\", verify_compressed_data_integrity=False))\n",
    "        index = index + 1\n",
    "    mats = np.array(mats) \n",
    "    myArray = []\n",
    "    for i in range(0,d_file_len):\n",
    "        for j in range(0,50):\n",
    "            myArray.append(mats[i]['data'][0][j])\n",
    "    return(myArray)"
   ]
  },
  {
   "cell_type": "markdown",
   "metadata": {},
   "source": [
    "### Load traces"
   ]
  },
  {
   "cell_type": "code",
   "execution_count": 5,
   "metadata": {},
   "outputs": [],
   "source": [
    "df_data = concatDataTraces('../real_traces/SBOX_traces_25k_share1/spot_4_12/traces/')\n",
    "df_data = np.array(df_data)"
   ]
  },
  {
   "cell_type": "code",
   "execution_count": 6,
   "metadata": {},
   "outputs": [],
   "source": [
    "df_label = concatDataLabel('../real_traces/SBOX_traces_25k_share1/spot_4_12/label/')\n",
    "df_label = np.array(df_label)"
   ]
  },
  {
   "cell_type": "code",
   "execution_count": 7,
   "metadata": {},
   "outputs": [],
   "source": [
    "df_new_label = []\n",
    "for i in df_label:\n",
    "    df_new_label.append([i])"
   ]
  },
  {
   "cell_type": "code",
   "execution_count": 8,
   "metadata": {},
   "outputs": [],
   "source": [
    "df_full_data = np.append(df_data, df_new_label, axis=1)"
   ]
  },
  {
   "cell_type": "code",
   "execution_count": 9,
   "metadata": {},
   "outputs": [
    {
     "data": {
      "text/plain": [
       "129"
      ]
     },
     "execution_count": 9,
     "metadata": {},
     "output_type": "execute_result"
    }
   ],
   "source": [
    "#last entry (label)\n",
    "df_full_data[0][-1]"
   ]
  },
  {
   "cell_type": "code",
   "execution_count": 10,
   "metadata": {},
   "outputs": [],
   "source": [
    "df_full_data_sort = df_full_data[df_full_data[:,-1].argsort()]"
   ]
  },
  {
   "cell_type": "code",
   "execution_count": 11,
   "metadata": {},
   "outputs": [
    {
     "data": {
      "text/plain": [
       "250001"
      ]
     },
     "execution_count": 11,
     "metadata": {},
     "output_type": "execute_result"
    }
   ],
   "source": [
    "len(df_full_data_sort[0])"
   ]
  },
  {
   "cell_type": "code",
   "execution_count": 12,
   "metadata": {},
   "outputs": [],
   "source": [
    "tmpPv = -1\n",
    "mainIndex = 0\n",
    "\n",
    "TMP_ROWS = []\n",
    "meanRows = []\n",
    "varRows = []\n",
    "\n",
    "for i in df_full_data_sort:\n",
    "    tmpCv = i[-1]\n",
    "    \n",
    "    if tmpCv == tmpPv:\n",
    "        TMP_ROWS.append(i[0:250000])\n",
    "    else:\n",
    "        \n",
    "        if mainIndex != 0:\n",
    "            \n",
    "            TMP_ROWS=np.array(TMP_ROWS)\n",
    "            \n",
    "            #mean\n",
    "            tmp = TMP_ROWS.mean(axis=0)\n",
    "            meanRows.append(tmp)\n",
    "            \n",
    "            #var\n",
    "            tmp2 = TMP_ROWS.var(axis=0)\n",
    "            varRows.append(tmp2)\n",
    "            \n",
    "            TMP_ROWS = []\n",
    "            TMP_ROWS.append(i[0:250000])\n",
    "            \n",
    "        tmpPv = i[-1]\n",
    "        \n",
    "    if mainIndex == (len(df_full_data_sort) -1):\n",
    "\n",
    "        TMP_ROWS=np.array(TMP_ROWS)\n",
    "        \n",
    "        #mean\n",
    "        tmp = TMP_ROWS.mean(axis=0)\n",
    "        meanRows.append(tmp)\n",
    "        \n",
    "        #var\n",
    "        tmp2 = TMP_ROWS.var(axis=0)\n",
    "        varRows.append(tmp2)\n",
    "        \n",
    "        TMP_ROWS = []\n",
    "        \n",
    "    mainIndex = mainIndex + 1"
   ]
  },
  {
   "cell_type": "code",
   "execution_count": 13,
   "metadata": {},
   "outputs": [
    {
     "data": {
      "text/plain": [
       "256"
      ]
     },
     "execution_count": 13,
     "metadata": {},
     "output_type": "execute_result"
    }
   ],
   "source": [
    "len(meanRows)"
   ]
  },
  {
   "cell_type": "code",
   "execution_count": 14,
   "metadata": {},
   "outputs": [
    {
     "data": {
      "application/vnd.jupyter.widget-view+json": {
       "model_id": "fae69bfa51e24ba0b886a54c7dc07010",
       "version_major": 2,
       "version_minor": 0
      },
      "text/plain": [
       "HBox(children=(IntProgress(value=0, max=250000), HTML(value='')))"
      ]
     },
     "metadata": {},
     "output_type": "display_data"
    },
    {
     "name": "stdout",
     "output_type": "stream",
     "text": [
      "\n"
     ]
    }
   ],
   "source": [
    "dev_VAR = []\n",
    "tmp_prod_VAR = []\n",
    "tmp_sum_VAR = []\n",
    "\n",
    "res_MEAN = []\n",
    "res_VAR = []\n",
    "\n",
    "\n",
    "for i in tnrange(0,len(varRows[0])):\n",
    "   \n",
    "    TMP_ROWS_MEAN = []\n",
    "    TMP_ROWS_VAR =[]\n",
    "    \n",
    "    for j in range(0,256):\n",
    "        TMP_ROWS_MEAN.append(meanRows[j][i])\n",
    "        TMP_ROWS_VAR.append(varRows[j][i])\n",
    "    \n",
    "    res_MEAN.append(np.array(TMP_ROWS_MEAN).var())\n",
    "    res_VAR.append(np.array(TMP_ROWS_VAR).mean())"
   ]
  },
  {
   "cell_type": "code",
   "execution_count": 15,
   "metadata": {},
   "outputs": [
    {
     "data": {
      "text/plain": [
       "250000"
      ]
     },
     "execution_count": 15,
     "metadata": {},
     "output_type": "execute_result"
    }
   ],
   "source": [
    "len(res_VAR)"
   ]
  },
  {
   "cell_type": "code",
   "execution_count": 16,
   "metadata": {},
   "outputs": [],
   "source": [
    "SNR = np.array(res_MEAN) / np.array(res_VAR)"
   ]
  },
  {
   "cell_type": "code",
   "execution_count": 17,
   "metadata": {},
   "outputs": [
    {
     "data": {
      "text/plain": [
       "[<matplotlib.lines.Line2D at 0x7eff20282ba8>]"
      ]
     },
     "execution_count": 17,
     "metadata": {},
     "output_type": "execute_result"
    },
    {
     "data": {
      "image/png": "[encoded data removed]",
      "text/plain": [
       "<Figure size 432x288 with 1 Axes>"
      ]
     },
     "metadata": {
      "needs_background": "light"
     },
     "output_type": "display_data"
    }
   ],
   "source": [
    "plt.plot(SNR)"
   ]
  }
 ],
 "metadata": {
  "kernelspec": {
   "display_name": "Python 2",
   "language": "python",
   "name": "python2"
  },
  "language_info": {
   "codemirror_mode": {
    "name": "ipython",
    "version": 2
   },
   "file_extension": ".py",
   "mimetype": "text/x-python",
   "name": "python",
   "nbconvert_exporter": "python",
   "pygments_lexer": "ipython2",
   "version": "2.7.15"
  }
 },
 "nbformat": 4,
 "nbformat_minor": 2
}
