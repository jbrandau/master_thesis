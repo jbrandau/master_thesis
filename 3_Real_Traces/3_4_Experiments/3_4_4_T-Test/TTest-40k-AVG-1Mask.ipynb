{
 "cells": [
  {
   "cell_type": "markdown",
   "metadata": {},
   "source": [
    "### TTest-40k Averaging 1 Mask Protected"
   ]
  },
  {
   "cell_type": "code",
   "execution_count": 1,
   "metadata": {},
   "outputs": [],
   "source": [
    "import pandas as pd\n",
    "from scipy.stats import ttest_ind\n",
    "import numpy as np\n",
    "import scipy\n",
    "from tqdm import tqdm, trange\n",
    "#from tqdm import tnrange,tqdm_notebook\n",
    "import matplotlib.pyplot as plt\n",
    "from scipy.stats import t\n",
    "import matplotlib.pyplot as plt\n",
    "import gmpy2\n",
    "from gmpy2 import mpz,mpq,mpfr,mpc\n",
    "import os\n",
    "import scipy.io as sio\n",
    "import matplotlib.pyplot as plt\n",
    "from tqdm import tnrange,tqdm_notebook"
   ]
  },
  {
   "cell_type": "code",
   "execution_count": 2,
   "metadata": {},
   "outputs": [],
   "source": [
    "rl_num = 162770 / 2"
   ]
  },
  {
   "cell_type": "code",
   "execution_count": 3,
   "metadata": {},
   "outputs": [],
   "source": [
    "d_len = 1627700\n",
    "d_file_len = 1627700\n",
    "num_files = 16277"
   ]
  },
  {
   "cell_type": "code",
   "execution_count": 4,
   "metadata": {},
   "outputs": [],
   "source": [
    "def prodTraces(path,dataset):\n",
    "    myArray = []\n",
    "    myArray = np.array(myArray)\n",
    "    index = 0\n",
    "    index2 = 1\n",
    "    fileNames = np.arange(100, (d_len + 100), 100).tolist()\n",
    "    for r in range(0,num_files):\n",
    "        mats = []\n",
    "        mats = sio.loadmat(path+\"traces_\"+ str(fileNames[index]) +\".mat\", verify_compressed_data_integrity=False)\n",
    "        myArray = myArray.tolist()\n",
    "        \n",
    "        if dataset == 1:\n",
    "            start_flag = 0\n",
    "        if dataset == 2:\n",
    "            start_flag = 1\n",
    "            \n",
    "        for j in range(start_flag,10,2):\n",
    "            myArray.append(mats['data'][j] * mats['data'][j])\n",
    "        myArray = np.array(myArray)\n",
    "        myArray = myArray.sum(axis=0)\n",
    "        myArray = np.array([myArray])\n",
    "        index = index + 1       \n",
    "    return(myArray)"
   ]
  },
  {
   "cell_type": "code",
   "execution_count": 5,
   "metadata": {},
   "outputs": [],
   "source": [
    "def sumTraces(path,dataset):\n",
    "    myArray = []\n",
    "    myArray = np.array(myArray)\n",
    "    index = 0\n",
    "    fileNames = np.arange(100, (d_len + 100), 100).tolist()\n",
    "    for r in range(0,num_files):\n",
    "        mats = []\n",
    "        mats = sio.loadmat(path+\"traces_\"+ str(fileNames[index]) +\".mat\", verify_compressed_data_integrity=False)\n",
    "        myArray = myArray.tolist()\n",
    "        \n",
    "        # switch between datset 1 and 2\n",
    "        if dataset == 1:\n",
    "            start_flag = 0\n",
    "        if dataset == 2:\n",
    "            start_flag = 1\n",
    "        \n",
    "        for j in range(start_flag,10,2):\n",
    "            myArray.append(mats['data'][j])\n",
    "        myArray = np.array(myArray)\n",
    "        myArray = myArray.sum(axis=0)\n",
    "        myArray = np.array([myArray])\n",
    "        index = index + 1       \n",
    "    return(myArray)"
   ]
  },
  {
   "cell_type": "markdown",
   "metadata": {},
   "source": [
    "### Calculate sum and prod"
   ]
  },
  {
   "cell_type": "code",
   "execution_count": 6,
   "metadata": {},
   "outputs": [],
   "source": [
    "# calulate sum for dataset 1\n",
    "df_ds1_sum = sumTraces('../real_traces/SBOX_traces2019-12-18_17_31_01/spot_4_12/sliced/',1)\n",
    "df_ds1_sum = np.array(df_ds1_sum)"
   ]
  },
  {
   "cell_type": "code",
   "execution_count": 7,
   "metadata": {},
   "outputs": [],
   "source": [
    "# calulate sum for dataset 2\n",
    "df_ds2_sum = sumTraces('../real_traces/SBOX_traces2019-12-18_17_31_01/spot_4_12/sliced/',2)\n",
    "df_ds2_sum = np.array(df_ds2_sum)"
   ]
  },
  {
   "cell_type": "code",
   "execution_count": 8,
   "metadata": {},
   "outputs": [],
   "source": [
    "# calulate prod for dataset 1\n",
    "df_ds1_prod = prodTraces('../real_traces/SBOX_traces2019-12-18_17_31_01/spot_4_12/sliced/',1)\n",
    "df_ds1_prod = np.array(df_ds1_prod)"
   ]
  },
  {
   "cell_type": "code",
   "execution_count": 9,
   "metadata": {},
   "outputs": [
    {
     "data": {
      "text/plain": [
       "array([[ 9290559,  3612509,  9473766, ...,  6010188, 10299054,  4771166]])"
      ]
     },
     "execution_count": 9,
     "metadata": {},
     "output_type": "execute_result"
    }
   ],
   "source": [
    "df_ds1_prod"
   ]
  },
  {
   "cell_type": "code",
   "execution_count": 10,
   "metadata": {},
   "outputs": [
    {
     "data": {
      "text/plain": [
       "12500"
      ]
     },
     "execution_count": 10,
     "metadata": {},
     "output_type": "execute_result"
    }
   ],
   "source": [
    "len(df_ds1_prod[0])"
   ]
  },
  {
   "cell_type": "code",
   "execution_count": 11,
   "metadata": {},
   "outputs": [],
   "source": [
    "# calulate sum for dataset 2\n",
    "df_ds2_prod = prodTraces('../real_traces/SBOX_traces2019-12-18_17_31_01/spot_4_12/sliced/',2)\n",
    "df_ds2_prod = np.array(df_ds2_prod)"
   ]
  },
  {
   "cell_type": "markdown",
   "metadata": {},
   "source": [
    "### Write Files "
   ]
  },
  {
   "cell_type": "code",
   "execution_count": 116,
   "metadata": {},
   "outputs": [],
   "source": [
    "pd.DataFrame(df_ds1_sum).to_csv('../real_traces/SBOX_traces2019__avg_sb1_fx2/df_ds1_sum.csv',index=False,header=False)"
   ]
  },
  {
   "cell_type": "code",
   "execution_count": 117,
   "metadata": {},
   "outputs": [],
   "source": [
    "pd.DataFrame(df_ds2_sum).to_csv('../real_traces/SBOX_traces2019__avg_sb1_fx2/df_ds2_sum.csv',index=False,header=False)"
   ]
  },
  {
   "cell_type": "code",
   "execution_count": 118,
   "metadata": {},
   "outputs": [],
   "source": [
    "pd.DataFrame(df_ds1_prod).to_csv('../real_traces/SBOX_traces2019__avg_sb1_fx2/df_ds1_prod.csv',index=False,header=False)"
   ]
  },
  {
   "cell_type": "code",
   "execution_count": 119,
   "metadata": {},
   "outputs": [],
   "source": [
    "pd.DataFrame(df_ds2_prod[0]).to_csv('../real_traces/SBOX_traces2019__avg_sb1_fx2/df_ds2_prod.csv',index=False,header=False)"
   ]
  },
  {
   "cell_type": "code",
   "execution_count": 6,
   "metadata": {},
   "outputs": [],
   "source": [
    "from numpy import genfromtxt\n",
    "df_ds1_prod = genfromtxt('../real_traces/SBOX_traces2019__avg_sb1_fx2/df_ds1_sum.csv', delimiter=',')\n",
    "df_ds2_prod = genfromtxt('../real_traces/SBOX_traces2019__avg_sb1_fx2/df_ds2_sum.csv', delimiter=',')\n",
    "df_ds1_sum = genfromtxt('../real_traces/SBOX_traces2019__avg_sb1_fx2/df_ds1_prod.csv', delimiter=',')\n",
    "df_ds2_sum = genfromtxt('../real_traces/SBOX_traces2019__avg_sb1_fx2/df_ds2_prod.csv', delimiter=',')"
   ]
  },
  {
   "cell_type": "code",
   "execution_count": 23,
   "metadata": {},
   "outputs": [],
   "source": [
    "df_ds1_mean = df_ds1_sum / rl_num\n",
    "df_ds1_mean = df_ds1_mean[0]"
   ]
  },
  {
   "cell_type": "code",
   "execution_count": 24,
   "metadata": {},
   "outputs": [],
   "source": [
    "df_ds2_mean = df_ds2_sum / rl_num\n",
    "df_ds2_mean = df_ds2_mean[0]"
   ]
  },
  {
   "cell_type": "code",
   "execution_count": 25,
   "metadata": {},
   "outputs": [
    {
     "data": {
      "text/plain": [
       "[<matplotlib.lines.Line2D at 0x7f22928fbc88>]"
      ]
     },
     "execution_count": 25,
     "metadata": {},
     "output_type": "execute_result"
    },
    {
     "data": {
      "image/png": "[encoded data removed]",
      "text/plain": [
       "<Figure size 432x288 with 1 Axes>"
      ]
     },
     "metadata": {
      "needs_background": "light"
     },
     "output_type": "display_data"
    }
   ],
   "source": [
    "plt.plot(df_ds1_mean)"
   ]
  },
  {
   "cell_type": "code",
   "execution_count": 19,
   "metadata": {},
   "outputs": [],
   "source": [
    "#plt.plot(df_ds1_mean[30000:500000])"
   ]
  },
  {
   "cell_type": "code",
   "execution_count": 26,
   "metadata": {},
   "outputs": [
    {
     "data": {
      "text/plain": [
       "[<matplotlib.lines.Line2D at 0x7f22928619e8>]"
      ]
     },
     "execution_count": 26,
     "metadata": {},
     "output_type": "execute_result"
    },
    {
     "data": {
      "image/png": "[encoded data removed]",
      "text/plain": [
       "<Figure size 432x288 with 1 Axes>"
      ]
     },
     "metadata": {
      "needs_background": "light"
     },
     "output_type": "display_data"
    }
   ],
   "source": [
    "plt.plot(df_ds2_mean)"
   ]
  },
  {
   "cell_type": "code",
   "execution_count": 27,
   "metadata": {},
   "outputs": [],
   "source": [
    "df_ds1_var = 1/rl_num*(((df_ds1_sum ** 2) / rl_num) + df_ds1_prod)"
   ]
  },
  {
   "cell_type": "code",
   "execution_count": 28,
   "metadata": {},
   "outputs": [],
   "source": [
    "df_ds2_var = 1/rl_num*(((df_ds2_sum ** 2) / rl_num) + df_ds2_prod)"
   ]
  },
  {
   "cell_type": "code",
   "execution_count": 36,
   "metadata": {},
   "outputs": [],
   "source": [
    "df_ds1_std = np.sqrt(df_ds1_var)\n",
    "df_ds1_std = df_ds1_std[0]"
   ]
  },
  {
   "cell_type": "code",
   "execution_count": 37,
   "metadata": {},
   "outputs": [],
   "source": [
    "df_ds2_std = np.sqrt(df_ds2_var)\n",
    "df_ds2_std = df_ds2_std[0]"
   ]
  },
  {
   "cell_type": "code",
   "execution_count": 38,
   "metadata": {},
   "outputs": [],
   "source": [
    "import matplotlib.pyplot as plt"
   ]
  },
  {
   "cell_type": "code",
   "execution_count": 39,
   "metadata": {},
   "outputs": [
    {
     "data": {
      "text/plain": [
       "[<matplotlib.lines.Line2D at 0x7f2289a1d588>]"
      ]
     },
     "execution_count": 39,
     "metadata": {},
     "output_type": "execute_result"
    },
    {
     "data": {
      "image/png": "[encoded data removed]",
      "text/plain": [
       "<Figure size 432x288 with 1 Axes>"
      ]
     },
     "metadata": {
      "needs_background": "light"
     },
     "output_type": "display_data"
    }
   ],
   "source": [
    "plt.plot(df_ds1_std)"
   ]
  },
  {
   "cell_type": "markdown",
   "metadata": {},
   "source": [
    "### T-Test "
   ]
  },
  {
   "cell_type": "code",
   "execution_count": 40,
   "metadata": {},
   "outputs": [],
   "source": [
    "def tMean(data1,data2):\n",
    "    return(data1 - data2)"
   ]
  },
  {
   "cell_type": "code",
   "execution_count": 41,
   "metadata": {},
   "outputs": [],
   "source": [
    "def tSN(std,n):\n",
    "    return(std**2/n)"
   ]
  },
  {
   "cell_type": "code",
   "execution_count": 42,
   "metadata": {},
   "outputs": [],
   "source": [
    "def ttestCalc(mean1,mean2,std1,std2,data_len):\n",
    "    tv = (tMean(mean1,mean2)) / (np.sqrt(tSN(std1,data_len) + tSN(std2,data_len)))\n",
    "    return(np.abs(tv))"
   ]
  },
  {
   "cell_type": "code",
   "execution_count": 43,
   "metadata": {},
   "outputs": [],
   "source": [
    "def tTest(df_ds1_mean,df_ds2_mean,df_ds1_std,df_ds2_std,tLeng):\n",
    "    arr_collect_All=[]\n",
    "    #for j in tnrange(0,(int(tLeng/2))):\n",
    "    for j in tnrange(0,tLeng):    \n",
    "        arr_collect=[]\n",
    "        arr_collect_All.append(ttestCalc(df_ds1_mean[j],df_ds2_mean[j],df_ds1_std[j],df_ds2_std[j],rl_num))\n",
    "            #arr_collect.append(ttestCalc(df_ds1_mean[j],df_ds2_mean[i],df_ds1_std[j],df_ds2_std[i],data1,data2))\n",
    "        #arr_collect_All.append(np.amax(arr_collect))\n",
    "    return(arr_collect_All)"
   ]
  },
  {
   "cell_type": "code",
   "execution_count": 44,
   "metadata": {},
   "outputs": [
    {
     "data": {
      "application/vnd.jupyter.widget-view+json": {
       "model_id": "cc8110c9e1fe4bf8adc79cd8582edfc3",
       "version_major": 2,
       "version_minor": 0
      },
      "text/plain": [
       "HBox(children=(IntProgress(value=0, max=12500), HTML(value='')))"
      ]
     },
     "metadata": {},
     "output_type": "display_data"
    },
    {
     "name": "stdout",
     "output_type": "stream",
     "text": [
      "\n"
     ]
    }
   ],
   "source": [
    "myTest = tTest(df_ds1_mean,df_ds2_mean,df_ds1_std,df_ds2_std,len(df_ds2_std))"
   ]
  },
  {
   "cell_type": "code",
   "execution_count": 45,
   "metadata": {},
   "outputs": [
    {
     "data": {
      "text/plain": [
       "[<matplotlib.lines.Line2D at 0x7f22899d5ba8>]"
      ]
     },
     "execution_count": 45,
     "metadata": {},
     "output_type": "execute_result"
    },
    {
     "data": {
      "image/png": "[encoded data removed]",
      "text/plain": [
       "<Figure size 432x288 with 1 Axes>"
      ]
     },
     "metadata": {
      "needs_background": "light"
     },
     "output_type": "display_data"
    }
   ],
   "source": [
    "plt.plot(myTest)"
   ]
  },
  {
   "cell_type": "code",
   "execution_count": 46,
   "metadata": {},
   "outputs": [
    {
     "data": {
      "application/vnd.jupyter.widget-view+json": {
       "model_id": "453757bd10ac4396ba73a5aea07fd347",
       "version_major": 2,
       "version_minor": 0
      },
      "text/plain": [
       "HBox(children=(IntProgress(value=0, max=12500), HTML(value='')))"
      ]
     },
     "metadata": {},
     "output_type": "display_data"
    },
    {
     "name": "stdout",
     "output_type": "stream",
     "text": [
      "\n"
     ]
    }
   ],
   "source": [
    "myTest = tTest(df_ds1_mean,df_ds2_mean,df_ds1_std,df_ds2_std,len(df_ds2_std))"
   ]
  },
  {
   "cell_type": "code",
   "execution_count": 47,
   "metadata": {
    "scrolled": true
   },
   "outputs": [],
   "source": [
    "#myTest = tTest(df_ds1_mean[30000:500000],df_ds2_mean[30000:500000],df_ds1_std[30000:500000],df_ds2_std[30000:500000],len(df_ds2_std[30000:500000]))"
   ]
  },
  {
   "cell_type": "code",
   "execution_count": 48,
   "metadata": {},
   "outputs": [
    {
     "data": {
      "text/plain": [
       "[<matplotlib.lines.Line2D at 0x7f2289a05ef0>]"
      ]
     },
     "execution_count": 48,
     "metadata": {},
     "output_type": "execute_result"
    },
    {
     "data": {
      "image/png": "[encoded data removed]",
      "text/plain": [
       "<Figure size 432x288 with 1 Axes>"
      ]
     },
     "metadata": {
      "needs_background": "light"
     },
     "output_type": "display_data"
    }
   ],
   "source": [
    "plt.plot(myTest[276:10490])"
   ]
  },
  {
   "cell_type": "markdown",
   "metadata": {},
   "source": [
    "### Degree of freedom"
   ]
  },
  {
   "cell_type": "code",
   "execution_count": 49,
   "metadata": {},
   "outputs": [],
   "source": [
    "def vS2(data_len,df_ds1_std,df_ds2_std):    \n",
    "    s22 = (tSN(df_ds1_std,data_len) + tSN(df_ds2_std,data_len))**2\n",
    "    return(s22)"
   ]
  },
  {
   "cell_type": "code",
   "execution_count": 50,
   "metadata": {},
   "outputs": [],
   "source": [
    "def df(df_ds1_std,df_ds2_std):\n",
    "    \n",
    "    data_len = rl_num\n",
    "    s22 = vS2(data_len,df_ds1_std,df_ds2_std)\n",
    "    \n",
    "    term1 = (df_ds1_std**2 / (data_len))**2 / (data_len - 1)\n",
    "    term2 = (df_ds2_std**2 / (data_len))**2 / (data_len - 1)\n",
    "\n",
    "    v = s22 / (term1 + term2)\n",
    "    \n",
    "    return(v)"
   ]
  },
  {
   "cell_type": "markdown",
   "metadata": {},
   "source": [
    "### CDF"
   ]
  },
  {
   "cell_type": "code",
   "execution_count": 51,
   "metadata": {},
   "outputs": [],
   "source": [
    "def cdf(df_ds1_mean,df_ds2_mean,df_ds1_std,df_ds2_std):\n",
    "    cdf_array = []\n",
    "    \n",
    "    colLen = 12500\n",
    "\n",
    "    tV = tTest(df_ds1_mean,df_ds2_mean,df_ds1_std,df_ds2_std,colLen)\n",
    "    #print(tV)\n",
    "    v = df(df_ds1_std,df_ds2_std)\n",
    "    \n",
    "    \n",
    "    #print(\"t-value\",tV[24])\n",
    "    #print(\"v-value\",v[24])\n",
    "    \n",
    "    for i in range(0,colLen):\n",
    "        cdf_array.append(t.cdf(-1 *(tV[i]),v[i]))\n",
    "        \n",
    "    return(cdf_array)"
   ]
  },
  {
   "cell_type": "markdown",
   "metadata": {},
   "source": [
    "### T-Test TS1"
   ]
  },
  {
   "cell_type": "code",
   "execution_count": 52,
   "metadata": {},
   "outputs": [],
   "source": [
    "#df_CDF = cdf(df_ds1_mean[30000:500000],df_ds2_mean[30000:500000],df_ds1_std[30000:500000],df_ds2_std[30000:500000])"
   ]
  },
  {
   "cell_type": "code",
   "execution_count": 53,
   "metadata": {},
   "outputs": [
    {
     "data": {
      "application/vnd.jupyter.widget-view+json": {
       "model_id": "be56172c177c44959c2ef427ce80ae22",
       "version_major": 2,
       "version_minor": 0
      },
      "text/plain": [
       "HBox(children=(IntProgress(value=0, max=12500), HTML(value='')))"
      ]
     },
     "metadata": {},
     "output_type": "display_data"
    },
    {
     "name": "stdout",
     "output_type": "stream",
     "text": [
      "\n"
     ]
    }
   ],
   "source": [
    "df_CDF = cdf(df_ds1_mean,df_ds2_mean,df_ds1_std,df_ds2_std)"
   ]
  },
  {
   "cell_type": "code",
   "execution_count": 54,
   "metadata": {},
   "outputs": [],
   "source": [
    "pd.DataFrame(df_CDF).to_csv('../real_traces/SBOX_traces2019__avg_sb1_fx2/df_CDF2.csv',index=False,header=False)"
   ]
  },
  {
   "cell_type": "code",
   "execution_count": 55,
   "metadata": {},
   "outputs": [
    {
     "data": {
      "image/png": "[encoded data removed]",
      "text/plain": [
       "<Figure size 432x288 with 1 Axes>"
      ]
     },
     "metadata": {
      "needs_background": "light"
     },
     "output_type": "display_data"
    }
   ],
   "source": [
    "plt.plot(-np.log10(df_CDF[276:10490]),'-')\n",
    "plt.axhline(y=5.0, xmin=0, xmax=1, color='r', linestyle='-', lw=1)\n",
    "plt.show()"
   ]
  },
  {
   "cell_type": "markdown",
   "metadata": {},
   "source": [
    "## Final Plot of the Test with 1 Mask protection and averaging"
   ]
  },
  {
   "cell_type": "code",
   "execution_count": 56,
   "metadata": {},
   "outputs": [
    {
     "data": {
      "image/png": "[encoded data removed]",
      "text/plain": [
       "<Figure size 432x288 with 1 Axes>"
      ]
     },
     "metadata": {
      "needs_background": "light"
     },
     "output_type": "display_data"
    }
   ],
   "source": [
    "plt.plot(-np.log10(df_CDF),'-')\n",
    "plt.axhline(y=5.0, xmin=0, xmax=1, color='r', linestyle='-', lw=1)\n",
    "plt.show()"
   ]
  },
  {
   "cell_type": "markdown",
   "metadata": {},
   "source": [
    "### Analyzing"
   ]
  },
  {
   "cell_type": "code",
   "execution_count": 57,
   "metadata": {},
   "outputs": [],
   "source": [
    "meanData = df_ds1_mean[276:10490] - df_ds2_mean[276:10490]"
   ]
  },
  {
   "cell_type": "code",
   "execution_count": 59,
   "metadata": {},
   "outputs": [
    {
     "data": {
      "text/plain": [
       "[<matplotlib.lines.Line2D at 0x7f2288ed9a58>]"
      ]
     },
     "execution_count": 59,
     "metadata": {},
     "output_type": "execute_result"
    },
    {
     "data": {
      "image/png": "[encoded data removed]",
      "text/plain": [
       "<Figure size 432x288 with 1 Axes>"
      ]
     },
     "metadata": {
      "needs_background": "light"
     },
     "output_type": "display_data"
    }
   ],
   "source": [
    "plt.plot(meanData)"
   ]
  }
 ],
 "metadata": {
  "kernelspec": {
   "display_name": "Python 2",
   "language": "python",
   "name": "python2"
  },
  "language_info": {
   "codemirror_mode": {
    "name": "ipython",
    "version": 2
   },
   "file_extension": ".py",
   "mimetype": "text/x-python",
   "name": "python",
   "nbconvert_exporter": "python",
   "pygments_lexer": "ipython2",
   "version": "2.7.15"
  }
 },
 "nbformat": 4,
 "nbformat_minor": 4
}
