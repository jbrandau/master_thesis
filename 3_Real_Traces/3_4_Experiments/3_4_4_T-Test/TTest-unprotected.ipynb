{
 "cells": [
  {
   "cell_type": "markdown",
   "metadata": {},
   "source": [
    "### TTest-40k Unprotected"
   ]
  },
  {
   "cell_type": "code",
   "execution_count": 1,
   "metadata": {},
   "outputs": [],
   "source": [
    "import pandas as pd\n",
    "from scipy.stats import ttest_ind\n",
    "import numpy as np\n",
    "import scipy\n",
    "from tqdm import tqdm, trange\n",
    "#from tqdm import tnrange,tqdm_notebook\n",
    "import matplotlib.pyplot as plt\n",
    "from scipy.stats import t\n",
    "import matplotlib.pyplot as plt\n",
    "import gmpy2\n",
    "from gmpy2 import mpz,mpq,mpfr,mpc\n",
    "import os\n",
    "import scipy.io as sio\n",
    "import matplotlib.pyplot as plt\n",
    "from tqdm import tnrange,tqdm_notebook"
   ]
  },
  {
   "cell_type": "code",
   "execution_count": 2,
   "metadata": {},
   "outputs": [],
   "source": [
    "rl_num = 162770 / 2"
   ]
  },
  {
   "cell_type": "code",
   "execution_count": 3,
   "metadata": {},
   "outputs": [],
   "source": [
    "d_len = 1627700\n",
    "d_file_len = 1627700\n",
    "num_files = 16277"
   ]
  },
  {
   "cell_type": "code",
   "execution_count": 4,
   "metadata": {},
   "outputs": [],
   "source": [
    "def prodTraces(path,dataset):\n",
    "    myArray = []\n",
    "    myArray = np.array(myArray)\n",
    "    index = 0\n",
    "    index2 = 1\n",
    "    fileNames = np.arange(100, (d_len + 100), 100).tolist()\n",
    "    for r in range(0,num_files):\n",
    "        mats = []\n",
    "        mats = sio.loadmat(path+\"traces_\"+ str(fileNames[index]) +\".mat\", verify_compressed_data_integrity=False)\n",
    "        myArray = myArray.tolist()\n",
    "        \n",
    "        if dataset == 1:\n",
    "            start_flag = 0\n",
    "        if dataset == 2:\n",
    "            start_flag = 1\n",
    "            \n",
    "        for j in range(start_flag,10,2):\n",
    "            myArray.append(mats['data'][j] * mats['data'][j])\n",
    "        myArray = np.array(myArray)\n",
    "        myArray = myArray.sum(axis=0)\n",
    "        myArray = np.array([myArray])\n",
    "        index = index + 1       \n",
    "    return(myArray)"
   ]
  },
  {
   "cell_type": "code",
   "execution_count": 5,
   "metadata": {},
   "outputs": [],
   "source": [
    "def sumTraces(path,dataset):\n",
    "    myArray = []\n",
    "    myArray = np.array(myArray)\n",
    "    index = 0\n",
    "    fileNames = np.arange(100, (d_len + 100), 100).tolist()\n",
    "    for r in range(0,num_files):\n",
    "        mats = []\n",
    "        mats = sio.loadmat(path+\"traces_\"+ str(fileNames[index]) +\".mat\", verify_compressed_data_integrity=False)\n",
    "        myArray = myArray.tolist()\n",
    "        \n",
    "        # switch between datset 1 and 2\n",
    "        if dataset == 1:\n",
    "            start_flag = 0\n",
    "        if dataset == 2:\n",
    "            start_flag = 1\n",
    "        \n",
    "        for j in range(start_flag,10,2):\n",
    "            myArray.append(mats['data'][j])\n",
    "        myArray = np.array(myArray)\n",
    "        myArray = myArray.sum(axis=0)\n",
    "        myArray = np.array([myArray])\n",
    "        index = index + 1       \n",
    "    return(myArray)"
   ]
  },
  {
   "cell_type": "markdown",
   "metadata": {},
   "source": [
    "### Calculate sum and prod"
   ]
  },
  {
   "cell_type": "code",
   "execution_count": 6,
   "metadata": {},
   "outputs": [],
   "source": [
    "# calulate sum for dataset 1\n",
    "df_ds1_sum = sumTraces('../real_traces/SBOX_traces2019-12-24_10_54_27/spot_4_12/traces/',1)\n",
    "df_ds1_sum = np.array(df_ds1_sum)"
   ]
  },
  {
   "cell_type": "code",
   "execution_count": 7,
   "metadata": {},
   "outputs": [],
   "source": [
    "# calulate sum for dataset 2\n",
    "df_ds2_sum = sumTraces('../real_traces/SBOX_traces2019-12-24_10_54_27/spot_4_12/traces/',2)\n",
    "df_ds2_sum = np.array(df_ds2_sum)"
   ]
  },
  {
   "cell_type": "code",
   "execution_count": 8,
   "metadata": {},
   "outputs": [],
   "source": [
    "# calulate prod for dataset 1\n",
    "df_ds1_prod = prodTraces('../real_traces/SBOX_traces2019-12-24_10_54_27/spot_4_12/traces/',1)\n",
    "df_ds1_prod = np.array(df_ds1_prod)"
   ]
  },
  {
   "cell_type": "code",
   "execution_count": 9,
   "metadata": {},
   "outputs": [
    {
     "data": {
      "text/plain": [
       "array([[1.86250864e+09, 1.88083297e+09, 1.07615548e+09, ...,\n",
       "        1.55896192e+09, 1.61112882e+09, 2.35834577e+09]])"
      ]
     },
     "execution_count": 9,
     "metadata": {},
     "output_type": "execute_result"
    }
   ],
   "source": [
    "df_ds1_prod"
   ]
  },
  {
   "cell_type": "code",
   "execution_count": 10,
   "metadata": {},
   "outputs": [
    {
     "data": {
      "text/plain": [
       "5000"
      ]
     },
     "execution_count": 10,
     "metadata": {},
     "output_type": "execute_result"
    }
   ],
   "source": [
    "len(df_ds1_prod[0])"
   ]
  },
  {
   "cell_type": "code",
   "execution_count": 11,
   "metadata": {},
   "outputs": [],
   "source": [
    "# calulate sum for dataset 2\n",
    "df_ds2_prod = prodTraces('../real_traces/SBOX_traces2019-12-24_10_54_27/spot_4_12/traces/',2)\n",
    "df_ds2_prod = np.array(df_ds2_prod)"
   ]
  },
  {
   "cell_type": "markdown",
   "metadata": {},
   "source": [
    "### Write Files "
   ]
  },
  {
   "cell_type": "code",
   "execution_count": 116,
   "metadata": {},
   "outputs": [],
   "source": [
    "pd.DataFrame(df_ds1_sum).to_csv('../real_traces/SBOX_traces2019__avg_sb1_fx2/df_ds1_sum.csv',index=False,header=False)"
   ]
  },
  {
   "cell_type": "code",
   "execution_count": 117,
   "metadata": {},
   "outputs": [],
   "source": [
    "pd.DataFrame(df_ds2_sum).to_csv('../real_traces/SBOX_traces2019__avg_sb1_fx2/df_ds2_sum.csv',index=False,header=False)"
   ]
  },
  {
   "cell_type": "code",
   "execution_count": 118,
   "metadata": {},
   "outputs": [],
   "source": [
    "pd.DataFrame(df_ds1_prod).to_csv('../real_traces/SBOX_traces2019__avg_sb1_fx2/df_ds1_prod.csv',index=False,header=False)"
   ]
  },
  {
   "cell_type": "code",
   "execution_count": 119,
   "metadata": {},
   "outputs": [],
   "source": [
    "pd.DataFrame(df_ds2_prod[0]).to_csv('../real_traces/SBOX_traces2019__avg_sb1_fx2/df_ds2_prod.csv',index=False,header=False)"
   ]
  },
  {
   "cell_type": "code",
   "execution_count": 6,
   "metadata": {},
   "outputs": [],
   "source": [
    "from numpy import genfromtxt\n",
    "df_ds1_prod = genfromtxt('../real_traces/SBOX_traces2019__avg_sb1_fx2/df_ds1_sum.csv', delimiter=',')\n",
    "df_ds2_prod = genfromtxt('../real_traces/SBOX_traces2019__avg_sb1_fx2/df_ds2_sum.csv', delimiter=',')\n",
    "df_ds1_sum = genfromtxt('../real_traces/SBOX_traces2019__avg_sb1_fx2/df_ds1_prod.csv', delimiter=',')\n",
    "df_ds2_sum = genfromtxt('../real_traces/SBOX_traces2019__avg_sb1_fx2/df_ds2_prod.csv', delimiter=',')"
   ]
  },
  {
   "cell_type": "code",
   "execution_count": 41,
   "metadata": {},
   "outputs": [],
   "source": [
    "df_ds1_mean = df_ds1_sum / rl_num\n",
    "df_ds1_mean = df_ds1_mean[0]"
   ]
  },
  {
   "cell_type": "code",
   "execution_count": 42,
   "metadata": {},
   "outputs": [],
   "source": [
    "df_ds2_mean = df_ds2_sum / rl_num\n",
    "df_ds2_mean = df_ds2_mean[0]"
   ]
  },
  {
   "cell_type": "code",
   "execution_count": 43,
   "metadata": {},
   "outputs": [
    {
     "data": {
      "text/plain": [
       "[<matplotlib.lines.Line2D at 0x7f082d18e908>]"
      ]
     },
     "execution_count": 43,
     "metadata": {},
     "output_type": "execute_result"
    },
    {
     "data": {
      "image/png": "[encoded data removed]",
      "text/plain": [
       "<Figure size 432x288 with 1 Axes>"
      ]
     },
     "metadata": {
      "needs_background": "light"
     },
     "output_type": "display_data"
    }
   ],
   "source": [
    "plt.plot(df_ds1_mean)"
   ]
  },
  {
   "cell_type": "code",
   "execution_count": 44,
   "metadata": {},
   "outputs": [],
   "source": [
    "#plt.plot(df_ds1_mean[30000:500000])"
   ]
  },
  {
   "cell_type": "code",
   "execution_count": 45,
   "metadata": {},
   "outputs": [
    {
     "data": {
      "text/plain": [
       "[<matplotlib.lines.Line2D at 0x7f082d179198>]"
      ]
     },
     "execution_count": 45,
     "metadata": {},
     "output_type": "execute_result"
    },
    {
     "data": {
      "image/png": "[encoded data removed]",
      "text/plain": [
       "<Figure size 432x288 with 1 Axes>"
      ]
     },
     "metadata": {
      "needs_background": "light"
     },
     "output_type": "display_data"
    }
   ],
   "source": [
    "plt.plot(df_ds2_mean)"
   ]
  },
  {
   "cell_type": "code",
   "execution_count": 72,
   "metadata": {},
   "outputs": [],
   "source": [
    "df_ds1_var = 1/rl_num*(((df_ds1_sum ** 2) / rl_num) + df_ds1_prod)\n",
    "df_ds1_var = df_ds1_var"
   ]
  },
  {
   "cell_type": "code",
   "execution_count": 73,
   "metadata": {},
   "outputs": [],
   "source": [
    "df_ds2_var = 1/rl_num*(((df_ds2_sum ** 2) / rl_num) + df_ds2_prod)\n",
    "df_ds2_var = df_ds2_var"
   ]
  },
  {
   "cell_type": "code",
   "execution_count": 74,
   "metadata": {},
   "outputs": [],
   "source": [
    "df_ds1_std = np.sqrt(df_ds1_var)\n",
    "df_ds1_std = df_ds1_std[0]"
   ]
  },
  {
   "cell_type": "code",
   "execution_count": 75,
   "metadata": {},
   "outputs": [],
   "source": [
    "df_ds2_std = np.sqrt(df_ds2_var)\n",
    "df_ds2_std = df_ds2_std[0]"
   ]
  },
  {
   "cell_type": "code",
   "execution_count": 76,
   "metadata": {},
   "outputs": [],
   "source": [
    "import matplotlib.pyplot as plt"
   ]
  },
  {
   "cell_type": "code",
   "execution_count": 77,
   "metadata": {},
   "outputs": [
    {
     "data": {
      "text/plain": [
       "array([213.82611506, 214.9296776 , 162.53604498, ..., 195.50735154,\n",
       "       198.85319597, 240.70713853])"
      ]
     },
     "execution_count": 77,
     "metadata": {},
     "output_type": "execute_result"
    }
   ],
   "source": [
    "df_ds1_std"
   ]
  },
  {
   "cell_type": "code",
   "execution_count": 78,
   "metadata": {},
   "outputs": [
    {
     "data": {
      "text/plain": [
       "[<matplotlib.lines.Line2D at 0x7f081dd23630>]"
      ]
     },
     "execution_count": 78,
     "metadata": {},
     "output_type": "execute_result"
    },
    {
     "data": {
      "image/png": "[encoded data removed]",
      "text/plain": [
       "<Figure size 432x288 with 1 Axes>"
      ]
     },
     "metadata": {
      "needs_background": "light"
     },
     "output_type": "display_data"
    }
   ],
   "source": [
    "plt.plot(df_ds1_std)"
   ]
  },
  {
   "cell_type": "markdown",
   "metadata": {},
   "source": [
    "### T-Test "
   ]
  },
  {
   "cell_type": "code",
   "execution_count": 79,
   "metadata": {},
   "outputs": [],
   "source": [
    "def tMean(data1,data2):\n",
    "    return(data1 - data2)"
   ]
  },
  {
   "cell_type": "code",
   "execution_count": 80,
   "metadata": {},
   "outputs": [],
   "source": [
    "def tSN(std,n):\n",
    "    return(std**2/n)"
   ]
  },
  {
   "cell_type": "code",
   "execution_count": 81,
   "metadata": {},
   "outputs": [],
   "source": [
    "def ttestCalc(mean1,mean2,std1,std2,data_len):\n",
    "    tv = (tMean(mean1,mean2)) / (np.sqrt(tSN(std1,data_len) + tSN(std2,data_len)))\n",
    "    return(np.abs(tv))"
   ]
  },
  {
   "cell_type": "code",
   "execution_count": 82,
   "metadata": {},
   "outputs": [],
   "source": [
    "def tTest(df_ds1_mean,df_ds2_mean,df_ds1_std,df_ds2_std,tLeng):\n",
    "    arr_collect_All=[]\n",
    "    #for j in tnrange(0,(int(tLeng/2))):\n",
    "    for j in tnrange(0,tLeng):    \n",
    "        arr_collect=[]\n",
    "        arr_collect_All.append(ttestCalc(df_ds1_mean[j],df_ds2_mean[j],df_ds1_std[j],df_ds2_std[j],rl_num))\n",
    "            #arr_collect.append(ttestCalc(df_ds1_mean[j],df_ds2_mean[i],df_ds1_std[j],df_ds2_std[i],data1,data2))\n",
    "        #arr_collect_All.append(np.amax(arr_collect))\n",
    "    return(arr_collect_All)"
   ]
  },
  {
   "cell_type": "code",
   "execution_count": 83,
   "metadata": {},
   "outputs": [
    {
     "data": {
      "application/vnd.jupyter.widget-view+json": {
       "model_id": "ad33a9beb8804e2f8a0bb5590903278c",
       "version_major": 2,
       "version_minor": 0
      },
      "text/plain": [
       "HBox(children=(IntProgress(value=0, max=5000), HTML(value='')))"
      ]
     },
     "metadata": {},
     "output_type": "display_data"
    },
    {
     "name": "stdout",
     "output_type": "stream",
     "text": [
      "\n"
     ]
    }
   ],
   "source": [
    "myTest = tTest(df_ds1_mean,df_ds2_mean,df_ds1_std,df_ds2_std,len(df_ds2_std))"
   ]
  },
  {
   "cell_type": "code",
   "execution_count": 84,
   "metadata": {},
   "outputs": [
    {
     "data": {
      "text/plain": [
       "[<matplotlib.lines.Line2D at 0x7f081dcdd5f8>]"
      ]
     },
     "execution_count": 84,
     "metadata": {},
     "output_type": "execute_result"
    },
    {
     "data": {
      "image/png": "[encoded data removed]",
      "text/plain": [
       "<Figure size 432x288 with 1 Axes>"
      ]
     },
     "metadata": {
      "needs_background": "light"
     },
     "output_type": "display_data"
    }
   ],
   "source": [
    "plt.plot(myTest)"
   ]
  },
  {
   "cell_type": "code",
   "execution_count": 86,
   "metadata": {},
   "outputs": [
    {
     "data": {
      "application/vnd.jupyter.widget-view+json": {
       "model_id": "5ee5eebe9fcf4e5c8f2e53c30518bef3",
       "version_major": 2,
       "version_minor": 0
      },
      "text/plain": [
       "HBox(children=(IntProgress(value=0, max=5000), HTML(value='')))"
      ]
     },
     "metadata": {},
     "output_type": "display_data"
    },
    {
     "name": "stdout",
     "output_type": "stream",
     "text": [
      "\n"
     ]
    }
   ],
   "source": [
    "myTest = tTest(df_ds1_mean,df_ds2_mean,df_ds1_std,df_ds2_std,len(df_ds2_std))"
   ]
  },
  {
   "cell_type": "code",
   "execution_count": 87,
   "metadata": {
    "scrolled": true
   },
   "outputs": [],
   "source": [
    "#myTest = tTest(df_ds1_mean[30000:500000],df_ds2_mean[30000:500000],df_ds1_std[30000:500000],df_ds2_std[30000:500000],len(df_ds2_std[30000:500000]))"
   ]
  },
  {
   "cell_type": "code",
   "execution_count": 102,
   "metadata": {},
   "outputs": [
    {
     "data": {
      "text/plain": [
       "[<matplotlib.lines.Line2D at 0x7f081da18d30>]"
      ]
     },
     "execution_count": 102,
     "metadata": {},
     "output_type": "execute_result"
    },
    {
     "data": {
      "image/png": "[encoded data removed]",
      "text/plain": [
       "<Figure size 432x288 with 1 Axes>"
      ]
     },
     "metadata": {
      "needs_background": "light"
     },
     "output_type": "display_data"
    }
   ],
   "source": [
    "plt.plot(myTest)"
   ]
  },
  {
   "cell_type": "markdown",
   "metadata": {},
   "source": [
    "### Degree of freedom"
   ]
  },
  {
   "cell_type": "code",
   "execution_count": 89,
   "metadata": {},
   "outputs": [],
   "source": [
    "def vS2(data_len,df_ds1_std,df_ds2_std):    \n",
    "    s22 = (tSN(df_ds1_std,data_len) + tSN(df_ds2_std,data_len))**2\n",
    "    return(s22)"
   ]
  },
  {
   "cell_type": "code",
   "execution_count": 90,
   "metadata": {},
   "outputs": [],
   "source": [
    "def df(df_ds1_std,df_ds2_std):\n",
    "    \n",
    "    data_len = rl_num\n",
    "    s22 = vS2(data_len,df_ds1_std,df_ds2_std)\n",
    "    \n",
    "    term1 = (df_ds1_std**2 / (data_len))**2 / (data_len - 1)\n",
    "    term2 = (df_ds2_std**2 / (data_len))**2 / (data_len - 1)\n",
    "\n",
    "    v = s22 / (term1 + term2)\n",
    "    \n",
    "    return(v)"
   ]
  },
  {
   "cell_type": "markdown",
   "metadata": {},
   "source": [
    "### CDF"
   ]
  },
  {
   "cell_type": "code",
   "execution_count": 94,
   "metadata": {},
   "outputs": [],
   "source": [
    "def cdf(df_ds1_mean,df_ds2_mean,df_ds1_std,df_ds2_std):\n",
    "    cdf_array = []\n",
    "    \n",
    "    colLen = 5000\n",
    "\n",
    "    tV = tTest(df_ds1_mean,df_ds2_mean,df_ds1_std,df_ds2_std,colLen)\n",
    "    #print(tV)\n",
    "    v = df(df_ds1_std,df_ds2_std)\n",
    "    \n",
    "    \n",
    "    #print(\"t-value\",tV[24])\n",
    "    #print(\"v-value\",v[24])\n",
    "    \n",
    "    for i in range(0,colLen):\n",
    "        cdf_array.append(t.cdf(-1 *(tV[i]),v[i]))\n",
    "        \n",
    "    return(cdf_array)"
   ]
  },
  {
   "cell_type": "markdown",
   "metadata": {},
   "source": [
    "### T-Test TS1"
   ]
  },
  {
   "cell_type": "code",
   "execution_count": 95,
   "metadata": {},
   "outputs": [],
   "source": [
    "#df_CDF = cdf(df_ds1_mean[30000:500000],df_ds2_mean[30000:500000],df_ds1_std[30000:500000],df_ds2_std[30000:500000])"
   ]
  },
  {
   "cell_type": "code",
   "execution_count": 96,
   "metadata": {},
   "outputs": [
    {
     "name": "stdout",
     "output_type": "stream",
     "text": [
      "\n"
     ]
    },
    {
     "data": {
      "application/vnd.jupyter.widget-view+json": {
       "model_id": "ae90c2d2a26040a8919987a89524764c",
       "version_major": 2,
       "version_minor": 0
      },
      "text/plain": [
       "HBox(children=(IntProgress(value=0, max=5000), HTML(value='')))"
      ]
     },
     "metadata": {},
     "output_type": "display_data"
    },
    {
     "name": "stdout",
     "output_type": "stream",
     "text": [
      "\n"
     ]
    }
   ],
   "source": [
    "df_CDF = cdf(df_ds1_mean,df_ds2_mean,df_ds1_std,df_ds2_std)"
   ]
  },
  {
   "cell_type": "code",
   "execution_count": 97,
   "metadata": {},
   "outputs": [],
   "source": [
    "pd.DataFrame(df_CDF).to_csv('../real_traces/SBOX_traces2019__avg_sb1_fx2/df_CDF2.csv',index=False,header=False)"
   ]
  },
  {
   "cell_type": "code",
   "execution_count": 99,
   "metadata": {},
   "outputs": [
    {
     "data": {
      "image/png": "[encoded data removed]",
      "text/plain": [
       "<Figure size 432x288 with 1 Axes>"
      ]
     },
     "metadata": {
      "needs_background": "light"
     },
     "output_type": "display_data"
    }
   ],
   "source": [
    "plt.plot(-np.log10(df_CDF),'-')\n",
    "plt.axhline(y=5.0, xmin=0, xmax=1, color='r', linestyle='-', lw=1)\n",
    "plt.show()"
   ]
  },
  {
   "cell_type": "markdown",
   "metadata": {},
   "source": [
    "### Analyzing"
   ]
  },
  {
   "cell_type": "code",
   "execution_count": 100,
   "metadata": {},
   "outputs": [],
   "source": [
    "meanData = df_ds1_mean - df_ds2_mean"
   ]
  },
  {
   "cell_type": "code",
   "execution_count": 101,
   "metadata": {},
   "outputs": [
    {
     "data": {
      "text/plain": [
       "[<matplotlib.lines.Line2D at 0x7f081da42470>]"
      ]
     },
     "execution_count": 101,
     "metadata": {},
     "output_type": "execute_result"
    },
    {
     "data": {
      "image/png": "[encoded data removed]",
      "text/plain": [
       "<Figure size 432x288 with 1 Axes>"
      ]
     },
     "metadata": {
      "needs_background": "light"
     },
     "output_type": "display_data"
    }
   ],
   "source": [
    "plt.plot(meanData)"
   ]
  }
 ],
 "metadata": {
  "kernelspec": {
   "display_name": "Python 2",
   "language": "python",
   "name": "python2"
  },
  "language_info": {
   "codemirror_mode": {
    "name": "ipython",
    "version": 3
   },
   "file_extension": ".py",
   "mimetype": "text/x-python",
   "name": "python",
   "nbconvert_exporter": "python",
   "pygments_lexer": "ipython3",
   "version": "3.6.9"
  }
 },
 "nbformat": 4,
 "nbformat_minor": 4
}
