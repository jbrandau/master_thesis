{
 "cells": [
  {
   "cell_type": "markdown",
   "metadata": {},
   "source": [
    "## Correlation-Attack"
   ]
  },
  {
   "cell_type": "code",
   "execution_count": 3,
   "metadata": {},
   "outputs": [
    {
     "data": {
      "text/html": [
       "<style>.container { width:90% !important; }</style>"
      ],
      "text/plain": [
       "<IPython.core.display.HTML object>"
      ]
     },
     "metadata": {},
     "output_type": "display_data"
    }
   ],
   "source": [
    "#import python libraries\n",
    "from sklearn.model_selection import train_test_split\n",
    "from keras.models import Model, Sequential\n",
    "from keras.layers import Flatten, Dense, Input, Conv1D, MaxPooling1D, GlobalAveragePooling1D, GlobalMaxPooling1D, AveragePooling1D\n",
    "from keras.engine.topology import get_source_inputs\n",
    "from keras.utils import layer_utils\n",
    "from keras.utils.data_utils import get_file\n",
    "from keras import backend as K\n",
    "from keras.applications.imagenet_utils import decode_predictions\n",
    "from keras.applications.imagenet_utils import preprocess_input\n",
    "from keras_applications.imagenet_utils import _obtain_input_shape\n",
    "from keras.optimizers import RMSprop\n",
    "from keras.callbacks import ModelCheckpoint\n",
    "from keras.utils import to_categorical\n",
    "from keras.models import load_model\n",
    "import pandas as pd\n",
    "import numpy as np\n",
    "import seaborn as sns\n",
    "import matplotlib.pyplot as plt\n",
    "from tqdm import tnrange,tqdm_notebook\n",
    "\n",
    "from IPython.core.display import display, HTML\n",
    "display(HTML(\"<style>.container { width:90% !important; }</style>\"))\n",
    "\n",
    "import warnings\n",
    "warnings.filterwarnings('ignore')\n",
    "from tqdm import tnrange,tqdm_notebook"
   ]
  },
  {
   "cell_type": "markdown",
   "metadata": {},
   "source": [
    "### Read Data "
   ]
  },
  {
   "cell_type": "code",
   "execution_count": 4,
   "metadata": {},
   "outputs": [],
   "source": [
    "simulated_traces = pd.read_csv('../real_traces/SBOX_traces2019-11-10_19_51_35/traces/trace_sliced_0_1.csv',low_memory=False)\n",
    "simulated_metadata= pd.read_csv('../real_traces/SBOX_traces2019-11-10_19_51_35/label/label_0_1.csv')\n",
    "simulated_traces = np.array(simulated_traces)\n",
    "simulated_metadata = np.array(simulated_metadata)"
   ]
  },
  {
   "cell_type": "code",
   "execution_count": 5,
   "metadata": {},
   "outputs": [
    {
     "data": {
      "text/plain": [
       "10000"
      ]
     },
     "execution_count": 5,
     "metadata": {},
     "output_type": "execute_result"
    }
   ],
   "source": [
    "len(simulated_traces.transpose())"
   ]
  },
  {
   "cell_type": "markdown",
   "metadata": {},
   "source": [
    "## Correltion Example"
   ]
  },
  {
   "cell_type": "code",
   "execution_count": 6,
   "metadata": {},
   "outputs": [],
   "source": [
    "mergedData = np.column_stack((pd.DataFrame(simulated_metadata).transpose(), simulated_metadata.T))\n",
    "df_merged_mergedData = pd.DataFrame(mergedData)"
   ]
  },
  {
   "cell_type": "code",
   "execution_count": 7,
   "metadata": {},
   "outputs": [],
   "source": [
    "# Draw correlation with SAS\n",
    "def drawCorr(df):\n",
    "    sns.set(style=\"white\")\n",
    "    sns.set_palette(\"coolwarm\",9)\n",
    "    corr = df.corr()\n",
    "    mask = np.zeros_like(corr, dtype=np.bool)\n",
    "    mask[np.triu_indices_from(mask)] = True\n",
    "    f, ax = plt.subplots(figsize=(10, 10))\n",
    "    cmap = sns.diverging_palette(220, 10, as_cmap=True)\n",
    "    sns.heatmap(corr, annot=True, mask=mask, cmap='coolwarm', vmax=1, center=0, vmin=-1,\n",
    "                square=True, linewidths=.5, cbar_kws={\"shrink\": .5})\n",
    "    sns.set_style(\"whitegrid\")"
   ]
  },
  {
   "cell_type": "code",
   "execution_count": null,
   "metadata": {
    "scrolled": false
   },
   "outputs": [],
   "source": [
    "from numpy import *\n",
    "\n",
    "tmpCorr = []\n",
    "test = pd.DataFrame(simulated_metadata).transpose()\n",
    "for i in range(0,5000):\n",
    "    mergedData = np.column_stack((np.array(test)[i], simulated_metadata))   \n",
    "    df_merged_mergedData = pd.DataFrame(mergedData)\n",
    "    #print(i,df_merged_mergedData.corr().unstack().sort_values().drop_duplicates()[0:1].values)\n",
    "    tmpCorr.append(df_merged_mergedData.corr().unstack().sort_values().drop_duplicates()[0:1].values[0]) \n",
    "    \n",
    "corr_index = np.argmax(tmpCorr)\n",
    "print(corr_index) "
   ]
  },
  {
   "cell_type": "markdown",
   "metadata": {},
   "source": [
    "## Attack 1 - Correlation"
   ]
  },
  {
   "cell_type": "code",
   "execution_count": 9,
   "metadata": {},
   "outputs": [],
   "source": [
    "# AES Sbox\n",
    "AES_Sbox = np.array([\n",
    "            0x63, 0x7C, 0x77, 0x7B, 0xF2, 0x6B, 0x6F, 0xC5, 0x30, 0x01, 0x67, 0x2B, 0xFE, 0xD7, 0xAB, 0x76,\n",
    "            0xCA, 0x82, 0xC9, 0x7D, 0xFA, 0x59, 0x47, 0xF0, 0xAD, 0xD4, 0xA2, 0xAF, 0x9C, 0xA4, 0x72, 0xC0,\n",
    "            0xB7, 0xFD, 0x93, 0x26, 0x36, 0x3F, 0xF7, 0xCC, 0x34, 0xA5, 0xE5, 0xF1, 0x71, 0xD8, 0x31, 0x15,\n",
    "            0x04, 0xC7, 0x23, 0xC3, 0x18, 0x96, 0x05, 0x9A, 0x07, 0x12, 0x80, 0xE2, 0xEB, 0x27, 0xB2, 0x75,\n",
    "            0x09, 0x83, 0x2C, 0x1A, 0x1B, 0x6E, 0x5A, 0xA0, 0x52, 0x3B, 0xD6, 0xB3, 0x29, 0xE3, 0x2F, 0x84,\n",
    "            0x53, 0xD1, 0x00, 0xED, 0x20, 0xFC, 0xB1, 0x5B, 0x6A, 0xCB, 0xBE, 0x39, 0x4A, 0x4C, 0x58, 0xCF,\n",
    "            0xD0, 0xEF, 0xAA, 0xFB, 0x43, 0x4D, 0x33, 0x85, 0x45, 0xF9, 0x02, 0x7F, 0x50, 0x3C, 0x9F, 0xA8,\n",
    "            0x51, 0xA3, 0x40, 0x8F, 0x92, 0x9D, 0x38, 0xF5, 0xBC, 0xB6, 0xDA, 0x21, 0x10, 0xFF, 0xF3, 0xD2,\n",
    "            0xCD, 0x0C, 0x13, 0xEC, 0x5F, 0x97, 0x44, 0x17, 0xC4, 0xA7, 0x7E, 0x3D, 0x64, 0x5D, 0x19, 0x73,\n",
    "            0x60, 0x81, 0x4F, 0xDC, 0x22, 0x2A, 0x90, 0x88, 0x46, 0xEE, 0xB8, 0x14, 0xDE, 0x5E, 0x0B, 0xDB,\n",
    "            0xE0, 0x32, 0x3A, 0x0A, 0x49, 0x06, 0x24, 0x5C, 0xC2, 0xD3, 0xAC, 0x62, 0x91, 0x95, 0xE4, 0x79,\n",
    "            0xE7, 0xC8, 0x37, 0x6D, 0x8D, 0xD5, 0x4E, 0xA9, 0x6C, 0x56, 0xF4, 0xEA, 0x65, 0x7A, 0xAE, 0x08,\n",
    "            0xBA, 0x78, 0x25, 0x2E, 0x1C, 0xA6, 0xB4, 0xC6, 0xE8, 0xDD, 0x74, 0x1F, 0x4B, 0xBD, 0x8B, 0x8A,\n",
    "            0x70, 0x3E, 0xB5, 0x66, 0x48, 0x03, 0xF6, 0x0E, 0x61, 0x35, 0x57, 0xB9, 0x86, 0xC1, 0x1D, 0x9E,\n",
    "            0xE1, 0xF8, 0x98, 0x11, 0x69, 0xD9, 0x8E, 0x94, 0x9B, 0x1E, 0x87, 0xE9, 0xCE, 0x55, 0x28, 0xDF,\n",
    "            0x8C, 0xA1, 0x89, 0x0D, 0xBF, 0xE6, 0x42, 0x68, 0x41, 0x99, 0x2D, 0x0F, 0xB0, 0x54, 0xBB, 0x16\n",
    "            ])"
   ]
  },
  {
   "cell_type": "code",
   "execution_count": 10,
   "metadata": {},
   "outputs": [],
   "source": [
    "# Compute the HW for the key and plaintext\n",
    "def computeHW(plaintext,key):\n",
    "    listHW = []\n",
    "    for p in plaintext:\n",
    "        tmpHW = AES_Sbox[int(p)^key] \n",
    "        listHW.append(tmpHW)\n",
    "    return np.array(listHW)"
   ]
  },
  {
   "cell_type": "code",
   "execution_count": 11,
   "metadata": {},
   "outputs": [],
   "source": [
    "# Get the key by the maximum correlation\n",
    "def getKey(keyList):\n",
    "    tmpCorr = []\n",
    "    for i in keyList:\n",
    "        tmpCorr.append(i[1])\n",
    "    keyIndex = np.argmax(tmpCorr)\n",
    "    return(keyList[keyIndex])"
   ]
  },
  {
   "cell_type": "code",
   "execution_count": 12,
   "metadata": {},
   "outputs": [],
   "source": [
    "import time\n",
    "\n",
    "def startCorrelationAttack(traces,metadata):\n",
    "    #tmpCorr = []\n",
    "    tmpList=[]\n",
    "    fullList = []\n",
    "    print('--- Start Correlation Attack ---')\n",
    "    for i in tnrange(0,10000):\n",
    "        tmpCorr = []\n",
    "        keylist = []\n",
    "        #print('Sample:',i)\n",
    "        for k in range(23,24):\n",
    "            # Compute the HW of the current key\n",
    "            tmpHW = computeHW(metadata.T,k)\n",
    "            # Create new arrawy with the races \n",
    "            mergedData = np.column_stack((traces.T[i], tmpHW.T))\n",
    "            # Tranform array to DataFrame\n",
    "            df_mergedData = pd.DataFrame(mergedData)\n",
    "            #print(mergedData)\n",
    "            # Get correlation \n",
    "            tmpCorr.append(df_mergedData.corr().unstack().sort_values().drop_duplicates()[0:1].values[0])\n",
    "            # Add current key to list\n",
    "            keylist.append(k)\n",
    "        # Get maximum correlation per sample\n",
    "        fullList.append((np.argmax(tmpCorr),tmpCorr))\n",
    "        tmpList.append((keylist[np.argmax(tmpCorr)],np.max(tmpCorr),i))\n",
    "    # Get the final key\n",
    "    print('--- Finished Correlation Attack ---',i,time.time())\n",
    "    finalKey = getKey(tmpList)\n",
    "    print('Key:',finalKey[0],'\\nSample:',finalKey[2],'\\nCorrelation:',finalKey[1]) \n",
    "    \n",
    "    #finalData = [fullList,tmpList]\n",
    "    finalData = [finalKey[0],finalKey[2],finalKey[1]]\n",
    "    return finalData\n",
    "    #%matplotlib inline\n",
    "    #import mpld3\n",
    "    #mpld3.enable_notebook()"
   ]
  },
  {
   "cell_type": "code",
   "execution_count": 13,
   "metadata": {},
   "outputs": [],
   "source": [
    "import time\n",
    "\n",
    "def startCorrelationAttackSingle(traces,metadata):\n",
    "    #tmpCorr = []\n",
    "    tmpList=[]\n",
    "    fullList = []\n",
    "    print('--- Start Correlation Attack ---')\n",
    "    for i in tnrange(0,10000):\n",
    "        tmpCorr = []\n",
    "        keylist = []\n",
    "        #print('Sample:',i)\n",
    "        for k in range(0,255):\n",
    "            # Compute the HW of the current key\n",
    "            tmpHW = computeHW(metadata.T,k)\n",
    "            # Create new arrawy with the races \n",
    "            mergedData = np.column_stack((traces.T[i], tmpHW.T))\n",
    "            # Tranform array to DataFrame\n",
    "            df_mergedData = pd.DataFrame(mergedData)\n",
    "            #print(mergedData)\n",
    "            # Get correlation \n",
    "            tmpCorr.append(df_mergedData.corr().unstack().sort_values().drop_duplicates()[0:1].values[0])\n",
    "            # Add current key to list\n",
    "            keylist.append(k)\n",
    "        # Get maximum correlation per sample\n",
    "        fullList.append((np.argmax(tmpCorr),tmpCorr))\n",
    "        tmpList.append((keylist[np.argmax(tmpCorr)],np.max(tmpCorr),i))\n",
    "    # Get the final key\n",
    "    print('--- Finished Correlation Attack ---',i,time.time())\n",
    "    finalKey = getKey(tmpList)\n",
    "    print('Key:',finalKey[0],'\\nSample:',finalKey[2],'\\nCorrelation:',finalKey[1]) \n",
    "    \n",
    "    finalData = [fullList,tmpList]\n",
    "    #finalData = [finalKey[0],finalKey[2],finalKey[1]]\n",
    "    return finalData\n",
    "    #%matplotlib inline\n",
    "    #import mpld3\n",
    "    #mpld3.enable_notebook()"
   ]
  },
  {
   "cell_type": "code",
   "execution_count": 8,
   "metadata": {},
   "outputs": [
    {
     "data": {
      "text/html": [
       "<div>\n",
       "<style scoped>\n",
       "    .dataframe tbody tr th:only-of-type {\n",
       "        vertical-align: middle;\n",
       "    }\n",
       "\n",
       "    .dataframe tbody tr th {\n",
       "        vertical-align: top;\n",
       "    }\n",
       "\n",
       "    .dataframe thead th {\n",
       "        text-align: right;\n",
       "    }\n",
       "</style>\n",
       "<table border=\"1\" class=\"dataframe\">\n",
       "  <thead>\n",
       "    <tr style=\"text-align: right;\">\n",
       "      <th></th>\n",
       "      <th>0</th>\n",
       "    </tr>\n",
       "  </thead>\n",
       "  <tbody>\n",
       "    <tr>\n",
       "      <th>0</th>\n",
       "      <td>126.111111</td>\n",
       "    </tr>\n",
       "    <tr>\n",
       "      <th>1</th>\n",
       "      <td>110.777778</td>\n",
       "    </tr>\n",
       "    <tr>\n",
       "      <th>2</th>\n",
       "      <td>116.777778</td>\n",
       "    </tr>\n",
       "    <tr>\n",
       "      <th>3</th>\n",
       "      <td>126.111111</td>\n",
       "    </tr>\n",
       "    <tr>\n",
       "      <th>4</th>\n",
       "      <td>120.444444</td>\n",
       "    </tr>\n",
       "    <tr>\n",
       "      <th>...</th>\n",
       "      <td>...</td>\n",
       "    </tr>\n",
       "    <tr>\n",
       "      <th>495</th>\n",
       "      <td>105.222222</td>\n",
       "    </tr>\n",
       "    <tr>\n",
       "      <th>496</th>\n",
       "      <td>118.888889</td>\n",
       "    </tr>\n",
       "    <tr>\n",
       "      <th>497</th>\n",
       "      <td>112.888889</td>\n",
       "    </tr>\n",
       "    <tr>\n",
       "      <th>498</th>\n",
       "      <td>115.888889</td>\n",
       "    </tr>\n",
       "    <tr>\n",
       "      <th>499</th>\n",
       "      <td>114.111111</td>\n",
       "    </tr>\n",
       "  </tbody>\n",
       "</table>\n",
       "<p>500 rows × 1 columns</p>\n",
       "</div>"
      ],
      "text/plain": [
       "              0\n",
       "0    126.111111\n",
       "1    110.777778\n",
       "2    116.777778\n",
       "3    126.111111\n",
       "4    120.444444\n",
       "..          ...\n",
       "495  105.222222\n",
       "496  118.888889\n",
       "497  112.888889\n",
       "498  115.888889\n",
       "499  114.111111\n",
       "\n",
       "[500 rows x 1 columns]"
      ]
     },
     "execution_count": 8,
     "metadata": {},
     "output_type": "execute_result"
    }
   ],
   "source": [
    "pd.DataFrame(simulated_traces[0:1000].T[0])"
   ]
  },
  {
   "cell_type": "code",
   "execution_count": 9,
   "metadata": {},
   "outputs": [
    {
     "data": {
      "text/html": [
       "<div>\n",
       "<style scoped>\n",
       "    .dataframe tbody tr th:only-of-type {\n",
       "        vertical-align: middle;\n",
       "    }\n",
       "\n",
       "    .dataframe tbody tr th {\n",
       "        vertical-align: top;\n",
       "    }\n",
       "\n",
       "    .dataframe thead th {\n",
       "        text-align: right;\n",
       "    }\n",
       "</style>\n",
       "<table border=\"1\" class=\"dataframe\">\n",
       "  <thead>\n",
       "    <tr style=\"text-align: right;\">\n",
       "      <th></th>\n",
       "      <th>0</th>\n",
       "      <th>1</th>\n",
       "      <th>2</th>\n",
       "      <th>3</th>\n",
       "      <th>4</th>\n",
       "      <th>5</th>\n",
       "      <th>6</th>\n",
       "      <th>7</th>\n",
       "      <th>8</th>\n",
       "      <th>9</th>\n",
       "      <th>...</th>\n",
       "      <th>490</th>\n",
       "      <th>491</th>\n",
       "      <th>492</th>\n",
       "      <th>493</th>\n",
       "      <th>494</th>\n",
       "      <th>495</th>\n",
       "      <th>496</th>\n",
       "      <th>497</th>\n",
       "      <th>498</th>\n",
       "      <th>499</th>\n",
       "    </tr>\n",
       "  </thead>\n",
       "  <tbody>\n",
       "    <tr>\n",
       "      <th>0</th>\n",
       "      <td>254.0</td>\n",
       "      <td>66.0</td>\n",
       "      <td>249.0</td>\n",
       "      <td>126.0</td>\n",
       "      <td>20.0</td>\n",
       "      <td>110.0</td>\n",
       "      <td>119.0</td>\n",
       "      <td>159.0</td>\n",
       "      <td>129.0</td>\n",
       "      <td>249.0</td>\n",
       "      <td>...</td>\n",
       "      <td>240.0</td>\n",
       "      <td>189.0</td>\n",
       "      <td>197.0</td>\n",
       "      <td>58.0</td>\n",
       "      <td>162.0</td>\n",
       "      <td>66.0</td>\n",
       "      <td>14.0</td>\n",
       "      <td>115.0</td>\n",
       "      <td>89.0</td>\n",
       "      <td>206.0</td>\n",
       "    </tr>\n",
       "  </tbody>\n",
       "</table>\n",
       "<p>1 rows × 500 columns</p>\n",
       "</div>"
      ],
      "text/plain": [
       "     0     1      2      3     4      5      6      7      8      9    ...  \\\n",
       "0  254.0  66.0  249.0  126.0  20.0  110.0  119.0  159.0  129.0  249.0  ...   \n",
       "\n",
       "     490    491    492   493    494   495   496    497   498    499  \n",
       "0  240.0  189.0  197.0  58.0  162.0  66.0  14.0  115.0  89.0  206.0  \n",
       "\n",
       "[1 rows x 500 columns]"
      ]
     },
     "execution_count": 9,
     "metadata": {},
     "output_type": "execute_result"
    }
   ],
   "source": [
    "pd.DataFrame(simulated_metadata.T[0:1000])"
   ]
  },
  {
   "cell_type": "code",
   "execution_count": 14,
   "metadata": {
    "scrolled": true
   },
   "outputs": [
    {
     "data": {
      "application/vnd.jupyter.widget-view+json": {
       "model_id": "33e91966dcf04192a2aa2df3f34f8db5",
       "version_major": 2,
       "version_minor": 0
      },
      "text/plain": [
       "HBox(children=(IntProgress(value=0, max=20), HTML(value='')))"
      ]
     },
     "metadata": {},
     "output_type": "display_data"
    },
    {
     "name": "stdout",
     "output_type": "stream",
     "text": [
      "--- Start Correlation Attack ---\n"
     ]
    },
    {
     "data": {
      "application/vnd.jupyter.widget-view+json": {
       "model_id": "e3d16fd8223549c593690d02b25e29dc",
       "version_major": 2,
       "version_minor": 0
      },
      "text/plain": [
       "HBox(children=(IntProgress(value=0, max=10000), HTML(value='')))"
      ]
     },
     "metadata": {},
     "output_type": "display_data"
    },
    {
     "name": "stdout",
     "output_type": "stream",
     "text": [
      "\n",
      "--- Finished Correlation Attack --- 9999 1573527988.6905928\n",
      "Key: 23 \n",
      "Sample: 6993 \n",
      "Correlation: 0.17816255392087627\n",
      "--- Start Correlation Attack ---\n"
     ]
    },
    {
     "data": {
      "application/vnd.jupyter.widget-view+json": {
       "model_id": "8f4c7060e75a433081081fd3a994925b",
       "version_major": 2,
       "version_minor": 0
      },
      "text/plain": [
       "HBox(children=(IntProgress(value=0, max=10000), HTML(value='')))"
      ]
     },
     "metadata": {},
     "output_type": "display_data"
    },
    {
     "name": "stdout",
     "output_type": "stream",
     "text": [
      "\n",
      "--- Finished Correlation Attack --- 9999 1573528009.916032\n",
      "Key: 23 \n",
      "Sample: 7242 \n",
      "Correlation: 0.1766364603223295\n",
      "--- Start Correlation Attack ---\n"
     ]
    },
    {
     "data": {
      "application/vnd.jupyter.widget-view+json": {
       "model_id": "4165345263dd4bdd8025059ad0aa3b39",
       "version_major": 2,
       "version_minor": 0
      },
      "text/plain": [
       "HBox(children=(IntProgress(value=0, max=10000), HTML(value='')))"
      ]
     },
     "metadata": {},
     "output_type": "display_data"
    },
    {
     "name": "stdout",
     "output_type": "stream",
     "text": [
      "\n",
      "--- Finished Correlation Attack --- 9999 1573528031.4922922\n",
      "Key: 23 \n",
      "Sample: 6993 \n",
      "Correlation: 0.23423398149509556\n",
      "--- Start Correlation Attack ---\n"
     ]
    },
    {
     "data": {
      "application/vnd.jupyter.widget-view+json": {
       "model_id": "5a09c1760b5c4af5932a18c0d6f92441",
       "version_major": 2,
       "version_minor": 0
      },
      "text/plain": [
       "HBox(children=(IntProgress(value=0, max=10000), HTML(value='')))"
      ]
     },
     "metadata": {},
     "output_type": "display_data"
    },
    {
     "name": "stdout",
     "output_type": "stream",
     "text": [
      "\n",
      "--- Finished Correlation Attack --- 9999 1573528053.006825\n",
      "Key: 23 \n",
      "Sample: 7242 \n",
      "Correlation: 0.24904586219235128\n",
      "--- Start Correlation Attack ---\n"
     ]
    },
    {
     "data": {
      "application/vnd.jupyter.widget-view+json": {
       "model_id": "1debf29b613c4d45a5313e35c975797d",
       "version_major": 2,
       "version_minor": 0
      },
      "text/plain": [
       "HBox(children=(IntProgress(value=0, max=10000), HTML(value='')))"
      ]
     },
     "metadata": {},
     "output_type": "display_data"
    },
    {
     "name": "stdout",
     "output_type": "stream",
     "text": [
      "\n",
      "--- Finished Correlation Attack --- 9999 1573528074.498398\n",
      "Key: 23 \n",
      "Sample: 6533 \n",
      "Correlation: 0.14641644995178046\n",
      "--- Start Correlation Attack ---\n"
     ]
    },
    {
     "data": {
      "application/vnd.jupyter.widget-view+json": {
       "model_id": "5f5f8d22b99e4ef391dbe9b936ae4590",
       "version_major": 2,
       "version_minor": 0
      },
      "text/plain": [
       "HBox(children=(IntProgress(value=0, max=10000), HTML(value='')))"
      ]
     },
     "metadata": {},
     "output_type": "display_data"
    },
    {
     "name": "stdout",
     "output_type": "stream",
     "text": [
      "\n",
      "--- Finished Correlation Attack --- 9999 1573528095.9459329\n",
      "Key: 23 \n",
      "Sample: 4722 \n",
      "Correlation: 0.15204846475511474\n",
      "--- Start Correlation Attack ---\n"
     ]
    },
    {
     "data": {
      "application/vnd.jupyter.widget-view+json": {
       "model_id": "8a447987a26b4c7590d2a65442d5fcac",
       "version_major": 2,
       "version_minor": 0
      },
      "text/plain": [
       "HBox(children=(IntProgress(value=0, max=10000), HTML(value='')))"
      ]
     },
     "metadata": {},
     "output_type": "display_data"
    },
    {
     "name": "stdout",
     "output_type": "stream",
     "text": [
      "\n",
      "--- Finished Correlation Attack --- 9999 1573528117.7165232\n",
      "Key: 23 \n",
      "Sample: 7240 \n",
      "Correlation: 0.1926858677411715\n",
      "--- Start Correlation Attack ---\n"
     ]
    },
    {
     "data": {
      "application/vnd.jupyter.widget-view+json": {
       "model_id": "075c2a5524534420ae6fa589edc5fe40",
       "version_major": 2,
       "version_minor": 0
      },
      "text/plain": [
       "HBox(children=(IntProgress(value=0, max=10000), HTML(value='')))"
      ]
     },
     "metadata": {},
     "output_type": "display_data"
    },
    {
     "name": "stdout",
     "output_type": "stream",
     "text": [
      "\n",
      "--- Finished Correlation Attack --- 9999 1573528139.1896088\n",
      "Key: 23 \n",
      "Sample: 7240 \n",
      "Correlation: 0.28148600015778424\n",
      "--- Start Correlation Attack ---\n"
     ]
    },
    {
     "data": {
      "application/vnd.jupyter.widget-view+json": {
       "model_id": "5e9d320e03cd46098eea61232ff2504c",
       "version_major": 2,
       "version_minor": 0
      },
      "text/plain": [
       "HBox(children=(IntProgress(value=0, max=10000), HTML(value='')))"
      ]
     },
     "metadata": {},
     "output_type": "display_data"
    },
    {
     "name": "stdout",
     "output_type": "stream",
     "text": [
      "\n",
      "--- Finished Correlation Attack --- 9999 1573528160.8021955\n",
      "Key: 23 \n",
      "Sample: 7240 \n",
      "Correlation: 0.2975864277901815\n",
      "--- Start Correlation Attack ---\n"
     ]
    },
    {
     "data": {
      "application/vnd.jupyter.widget-view+json": {
       "model_id": "47d35ca01823418fb53ab3da3dddee8d",
       "version_major": 2,
       "version_minor": 0
      },
      "text/plain": [
       "HBox(children=(IntProgress(value=0, max=10000), HTML(value='')))"
      ]
     },
     "metadata": {},
     "output_type": "display_data"
    },
    {
     "name": "stdout",
     "output_type": "stream",
     "text": [
      "\n",
      "--- Finished Correlation Attack --- 9999 1573528182.328117\n",
      "Key: 23 \n",
      "Sample: 7240 \n",
      "Correlation: 0.22665446417604168\n",
      "--- Start Correlation Attack ---\n"
     ]
    },
    {
     "data": {
      "application/vnd.jupyter.widget-view+json": {
       "model_id": "bea6b16844ed4201b0ff524394e41505",
       "version_major": 2,
       "version_minor": 0
      },
      "text/plain": [
       "HBox(children=(IntProgress(value=0, max=10000), HTML(value='')))"
      ]
     },
     "metadata": {},
     "output_type": "display_data"
    },
    {
     "name": "stdout",
     "output_type": "stream",
     "text": [
      "\n",
      "--- Finished Correlation Attack --- 9999 1573528203.9727726\n",
      "Key: 23 \n",
      "Sample: 8811 \n",
      "Correlation: 0.1931335089927112\n",
      "--- Start Correlation Attack ---\n"
     ]
    },
    {
     "data": {
      "application/vnd.jupyter.widget-view+json": {
       "model_id": "79e0e473861b44bcb60d200600d60199",
       "version_major": 2,
       "version_minor": 0
      },
      "text/plain": [
       "HBox(children=(IntProgress(value=0, max=10000), HTML(value='')))"
      ]
     },
     "metadata": {},
     "output_type": "display_data"
    },
    {
     "name": "stdout",
     "output_type": "stream",
     "text": [
      "\n",
      "--- Finished Correlation Attack --- 9999 1573528225.4472044\n",
      "Key: 23 \n",
      "Sample: 6991 \n",
      "Correlation: 0.164779700908787\n",
      "--- Start Correlation Attack ---\n"
     ]
    },
    {
     "data": {
      "application/vnd.jupyter.widget-view+json": {
       "model_id": "489497fc59754608b782c41db535dc60",
       "version_major": 2,
       "version_minor": 0
      },
      "text/plain": [
       "HBox(children=(IntProgress(value=0, max=10000), HTML(value='')))"
      ]
     },
     "metadata": {},
     "output_type": "display_data"
    },
    {
     "name": "stdout",
     "output_type": "stream",
     "text": [
      "\n",
      "--- Finished Correlation Attack --- 9999 1573528246.88277\n",
      "Key: 23 \n",
      "Sample: 7239 \n",
      "Correlation: 0.18871063782264236\n",
      "--- Start Correlation Attack ---\n"
     ]
    },
    {
     "data": {
      "application/vnd.jupyter.widget-view+json": {
       "model_id": "6d5f376a74144d88aff54b4e9b17009f",
       "version_major": 2,
       "version_minor": 0
      },
      "text/plain": [
       "HBox(children=(IntProgress(value=0, max=10000), HTML(value='')))"
      ]
     },
     "metadata": {},
     "output_type": "display_data"
    },
    {
     "name": "stdout",
     "output_type": "stream",
     "text": [
      "\n",
      "--- Finished Correlation Attack --- 9999 1573528268.3700948\n",
      "Key: 23 \n",
      "Sample: 7240 \n",
      "Correlation: 0.22804391653638967\n",
      "--- Start Correlation Attack ---\n"
     ]
    },
    {
     "data": {
      "application/vnd.jupyter.widget-view+json": {
       "model_id": "603a854d20094bdba036bdb5f7983ec7",
       "version_major": 2,
       "version_minor": 0
      },
      "text/plain": [
       "HBox(children=(IntProgress(value=0, max=10000), HTML(value='')))"
      ]
     },
     "metadata": {},
     "output_type": "display_data"
    },
    {
     "name": "stdout",
     "output_type": "stream",
     "text": [
      "\n",
      "--- Finished Correlation Attack --- 9999 1573528289.8469667\n",
      "Key: 23 \n",
      "Sample: 7239 \n",
      "Correlation: 0.21340303821359052\n",
      "--- Start Correlation Attack ---\n"
     ]
    },
    {
     "data": {
      "application/vnd.jupyter.widget-view+json": {
       "model_id": "13e785d195f249d29415cde72c2c8978",
       "version_major": 2,
       "version_minor": 0
      },
      "text/plain": [
       "HBox(children=(IntProgress(value=0, max=10000), HTML(value='')))"
      ]
     },
     "metadata": {},
     "output_type": "display_data"
    },
    {
     "name": "stdout",
     "output_type": "stream",
     "text": [
      "\n",
      "--- Finished Correlation Attack --- 9999 1573528311.307235\n",
      "Key: 23 \n",
      "Sample: 7240 \n",
      "Correlation: 0.22240834448509111\n",
      "--- Start Correlation Attack ---\n"
     ]
    },
    {
     "data": {
      "application/vnd.jupyter.widget-view+json": {
       "model_id": "a388950898cb493eaca70e1466dde044",
       "version_major": 2,
       "version_minor": 0
      },
      "text/plain": [
       "HBox(children=(IntProgress(value=0, max=10000), HTML(value='')))"
      ]
     },
     "metadata": {},
     "output_type": "display_data"
    },
    {
     "name": "stdout",
     "output_type": "stream",
     "text": [
      "\n",
      "--- Finished Correlation Attack --- 9999 1573528332.9555147\n",
      "Key: 23 \n",
      "Sample: 6996 \n",
      "Correlation: 0.16532923949756176\n",
      "--- Start Correlation Attack ---\n"
     ]
    },
    {
     "data": {
      "application/vnd.jupyter.widget-view+json": {
       "model_id": "1f94a3673b8d428085bcbf12248cba7f",
       "version_major": 2,
       "version_minor": 0
      },
      "text/plain": [
       "HBox(children=(IntProgress(value=0, max=10000), HTML(value='')))"
      ]
     },
     "metadata": {},
     "output_type": "display_data"
    },
    {
     "name": "stdout",
     "output_type": "stream",
     "text": [
      "\n",
      "--- Finished Correlation Attack --- 9999 1573528354.322438\n",
      "Key: 23 \n",
      "Sample: 2328 \n",
      "Correlation: 0.18807021717744768\n",
      "--- Start Correlation Attack ---\n"
     ]
    },
    {
     "data": {
      "application/vnd.jupyter.widget-view+json": {
       "model_id": "967d8e72cdc74be68a446e683a5efbb2",
       "version_major": 2,
       "version_minor": 0
      },
      "text/plain": [
       "HBox(children=(IntProgress(value=0, max=10000), HTML(value='')))"
      ]
     },
     "metadata": {},
     "output_type": "display_data"
    },
    {
     "name": "stdout",
     "output_type": "stream",
     "text": [
      "\n",
      "--- Finished Correlation Attack --- 9999 1573528375.7723854\n",
      "Key: 23 \n",
      "Sample: 4182 \n",
      "Correlation: 0.1584224930278616\n",
      "--- Start Correlation Attack ---\n"
     ]
    },
    {
     "data": {
      "application/vnd.jupyter.widget-view+json": {
       "model_id": "859b7fbec89d4d959ef5374b7f303973",
       "version_major": 2,
       "version_minor": 0
      },
      "text/plain": [
       "HBox(children=(IntProgress(value=0, max=10000), HTML(value='')))"
      ]
     },
     "metadata": {},
     "output_type": "display_data"
    },
    {
     "name": "stdout",
     "output_type": "stream",
     "text": [
      "\n",
      "--- Finished Correlation Attack --- 9999 1573528397.2867887\n",
      "Key: 23 \n",
      "Sample: 3371 \n",
      "Correlation: 0.1322075534184988\n",
      "--- Start Correlation Attack ---\n"
     ]
    },
    {
     "data": {
      "application/vnd.jupyter.widget-view+json": {
       "model_id": "532799cc50b9428380de02260c69af15",
       "version_major": 2,
       "version_minor": 0
      },
      "text/plain": [
       "HBox(children=(IntProgress(value=0, max=10000), HTML(value='')))"
      ]
     },
     "metadata": {},
     "output_type": "display_data"
    },
    {
     "name": "stdout",
     "output_type": "stream",
     "text": [
      "\n",
      "--- Finished Correlation Attack --- 9999 1573528418.910257\n",
      "Key: 23 \n",
      "Sample: 3156 \n",
      "Correlation: 0.16394015510431992\n",
      "--- Start Correlation Attack ---\n"
     ]
    },
    {
     "data": {
      "application/vnd.jupyter.widget-view+json": {
       "model_id": "34759c13e1bf4877bc7915b8735f0597",
       "version_major": 2,
       "version_minor": 0
      },
      "text/plain": [
       "HBox(children=(IntProgress(value=0, max=10000), HTML(value='')))"
      ]
     },
     "metadata": {},
     "output_type": "display_data"
    },
    {
     "name": "stdout",
     "output_type": "stream",
     "text": [
      "\n",
      "--- Finished Correlation Attack --- 9999 1573528440.5268903\n",
      "Key: 23 \n",
      "Sample: 7242 \n",
      "Correlation: 0.2349032298729911\n",
      "--- Start Correlation Attack ---\n"
     ]
    },
    {
     "data": {
      "application/vnd.jupyter.widget-view+json": {
       "model_id": "99c695fe9f50468b849a6dc91bcfa3a8",
       "version_major": 2,
       "version_minor": 0
      },
      "text/plain": [
       "HBox(children=(IntProgress(value=0, max=10000), HTML(value='')))"
      ]
     },
     "metadata": {},
     "output_type": "display_data"
    },
    {
     "name": "stdout",
     "output_type": "stream",
     "text": [
      "\n",
      "--- Finished Correlation Attack --- 9999 1573528461.8780725\n",
      "Key: 23 \n",
      "Sample: 7242 \n",
      "Correlation: 0.252403862368757\n",
      "--- Start Correlation Attack ---\n"
     ]
    },
    {
     "data": {
      "application/vnd.jupyter.widget-view+json": {
       "model_id": "e9cd5ddf13794b08af554de6c821b104",
       "version_major": 2,
       "version_minor": 0
      },
      "text/plain": [
       "HBox(children=(IntProgress(value=0, max=10000), HTML(value='')))"
      ]
     },
     "metadata": {},
     "output_type": "display_data"
    },
    {
     "name": "stdout",
     "output_type": "stream",
     "text": [
      "\n",
      "--- Finished Correlation Attack --- 9999 1573528483.3802025\n",
      "Key: 23 \n",
      "Sample: 7242 \n",
      "Correlation: 0.2134718779018678\n",
      "--- Start Correlation Attack ---\n"
     ]
    },
    {
     "data": {
      "application/vnd.jupyter.widget-view+json": {
       "model_id": "544475a25ca5427ead417eebb94d9344",
       "version_major": 2,
       "version_minor": 0
      },
      "text/plain": [
       "HBox(children=(IntProgress(value=0, max=10000), HTML(value='')))"
      ]
     },
     "metadata": {},
     "output_type": "display_data"
    },
    {
     "name": "stdout",
     "output_type": "stream",
     "text": [
      "\n",
      "--- Finished Correlation Attack --- 9999 1573528504.8761423\n",
      "Key: 23 \n",
      "Sample: 7242 \n",
      "Correlation: 0.2575427254253714\n",
      "--- Start Correlation Attack ---\n"
     ]
    },
    {
     "data": {
      "application/vnd.jupyter.widget-view+json": {
       "model_id": "182f066d6f0240d0b6fb28eb7155a980",
       "version_major": 2,
       "version_minor": 0
      },
      "text/plain": [
       "HBox(children=(IntProgress(value=0, max=10000), HTML(value='')))"
      ]
     },
     "metadata": {},
     "output_type": "display_data"
    },
    {
     "name": "stdout",
     "output_type": "stream",
     "text": [
      "\n",
      "--- Finished Correlation Attack --- 9999 1573528526.35296\n",
      "Key: 23 \n",
      "Sample: 7242 \n",
      "Correlation: 0.24544694031587586\n",
      "--- Start Correlation Attack ---\n"
     ]
    },
    {
     "data": {
      "application/vnd.jupyter.widget-view+json": {
       "model_id": "c84b8a6886cb409883298778b427c2bd",
       "version_major": 2,
       "version_minor": 0
      },
      "text/plain": [
       "HBox(children=(IntProgress(value=0, max=10000), HTML(value='')))"
      ]
     },
     "metadata": {},
     "output_type": "display_data"
    },
    {
     "name": "stdout",
     "output_type": "stream",
     "text": [
      "\n",
      "--- Finished Correlation Attack --- 9999 1573528548.0739655\n",
      "Key: 23 \n",
      "Sample: 2020 \n",
      "Correlation: 0.13248859675894561\n",
      "--- Start Correlation Attack ---\n"
     ]
    },
    {
     "data": {
      "application/vnd.jupyter.widget-view+json": {
       "model_id": "84529cea00cb4136963aebc83a8f8bb5",
       "version_major": 2,
       "version_minor": 0
      },
      "text/plain": [
       "HBox(children=(IntProgress(value=0, max=10000), HTML(value='')))"
      ]
     },
     "metadata": {},
     "output_type": "display_data"
    },
    {
     "name": "stdout",
     "output_type": "stream",
     "text": [
      "\n",
      "--- Finished Correlation Attack --- 9999 1573528569.5437052\n",
      "Key: 23 \n",
      "Sample: 5851 \n",
      "Correlation: 0.1582981258930359\n",
      "--- Start Correlation Attack ---\n"
     ]
    },
    {
     "data": {
      "application/vnd.jupyter.widget-view+json": {
       "model_id": "bbfa1bbf388541098db511858904f6d2",
       "version_major": 2,
       "version_minor": 0
      },
      "text/plain": [
       "HBox(children=(IntProgress(value=0, max=10000), HTML(value='')))"
      ]
     },
     "metadata": {},
     "output_type": "display_data"
    },
    {
     "name": "stdout",
     "output_type": "stream",
     "text": [
      "\n",
      "--- Finished Correlation Attack --- 9999 1573528591.246273\n",
      "Key: 23 \n",
      "Sample: 7240 \n",
      "Correlation: 0.3498939098479927\n",
      "--- Start Correlation Attack ---\n"
     ]
    },
    {
     "data": {
      "application/vnd.jupyter.widget-view+json": {
       "model_id": "a88fcf30c05a4caa89e4d907c5864c54",
       "version_major": 2,
       "version_minor": 0
      },
      "text/plain": [
       "HBox(children=(IntProgress(value=0, max=10000), HTML(value='')))"
      ]
     },
     "metadata": {},
     "output_type": "display_data"
    },
    {
     "name": "stdout",
     "output_type": "stream",
     "text": [
      "\n",
      "--- Finished Correlation Attack --- 9999 1573528612.8231757\n",
      "Key: 23 \n",
      "Sample: 7240 \n",
      "Correlation: 0.2599071944298138\n",
      "--- Start Correlation Attack ---\n"
     ]
    },
    {
     "data": {
      "application/vnd.jupyter.widget-view+json": {
       "model_id": "afe391802e8745feafb82b565ac45e2b",
       "version_major": 2,
       "version_minor": 0
      },
      "text/plain": [
       "HBox(children=(IntProgress(value=0, max=10000), HTML(value='')))"
      ]
     },
     "metadata": {},
     "output_type": "display_data"
    },
    {
     "name": "stdout",
     "output_type": "stream",
     "text": [
      "\n",
      "--- Finished Correlation Attack --- 9999 1573528634.4392176\n",
      "Key: 23 \n",
      "Sample: 6990 \n",
      "Correlation: 0.2275896055216038\n",
      "--- Start Correlation Attack ---\n"
     ]
    },
    {
     "data": {
      "application/vnd.jupyter.widget-view+json": {
       "model_id": "94e13fa667d1493fa70ba5d5b2ba2334",
       "version_major": 2,
       "version_minor": 0
      },
      "text/plain": [
       "HBox(children=(IntProgress(value=0, max=10000), HTML(value='')))"
      ]
     },
     "metadata": {},
     "output_type": "display_data"
    },
    {
     "name": "stdout",
     "output_type": "stream",
     "text": [
      "\n",
      "--- Finished Correlation Attack --- 9999 1573528655.851695\n",
      "Key: 23 \n",
      "Sample: 7240 \n",
      "Correlation: 0.22563307529050916\n",
      "--- Start Correlation Attack ---\n"
     ]
    },
    {
     "data": {
      "application/vnd.jupyter.widget-view+json": {
       "model_id": "0b59993cb36d41bfa65ebf8d88ade6c7",
       "version_major": 2,
       "version_minor": 0
      },
      "text/plain": [
       "HBox(children=(IntProgress(value=0, max=10000), HTML(value='')))"
      ]
     },
     "metadata": {},
     "output_type": "display_data"
    },
    {
     "name": "stdout",
     "output_type": "stream",
     "text": [
      "\n",
      "--- Finished Correlation Attack --- 9999 1573528677.4468005\n",
      "Key: 23 \n",
      "Sample: 7240 \n",
      "Correlation: 0.21443456592082208\n",
      "--- Start Correlation Attack ---\n"
     ]
    },
    {
     "data": {
      "application/vnd.jupyter.widget-view+json": {
       "model_id": "0b54ed35dccb4b3f9387ff6024619b2a",
       "version_major": 2,
       "version_minor": 0
      },
      "text/plain": [
       "HBox(children=(IntProgress(value=0, max=10000), HTML(value='')))"
      ]
     },
     "metadata": {},
     "output_type": "display_data"
    },
    {
     "name": "stdout",
     "output_type": "stream",
     "text": [
      "\n",
      "--- Finished Correlation Attack --- 9999 1573528698.9346144\n",
      "Key: 23 \n",
      "Sample: 7240 \n",
      "Correlation: 0.2514328325448985\n",
      "--- Start Correlation Attack ---\n"
     ]
    },
    {
     "data": {
      "application/vnd.jupyter.widget-view+json": {
       "model_id": "fb3b9a6a20a14505b256e9148038fc42",
       "version_major": 2,
       "version_minor": 0
      },
      "text/plain": [
       "HBox(children=(IntProgress(value=0, max=10000), HTML(value='')))"
      ]
     },
     "metadata": {},
     "output_type": "display_data"
    },
    {
     "name": "stdout",
     "output_type": "stream",
     "text": [
      "\n",
      "--- Finished Correlation Attack --- 9999 1573528720.3969166\n",
      "Key: 23 \n",
      "Sample: 6991 \n",
      "Correlation: 0.16591803913050163\n",
      "--- Start Correlation Attack ---\n"
     ]
    },
    {
     "data": {
      "application/vnd.jupyter.widget-view+json": {
       "model_id": "bce0c3fb046e4d69bc33f37a25c2cde5",
       "version_major": 2,
       "version_minor": 0
      },
      "text/plain": [
       "HBox(children=(IntProgress(value=0, max=10000), HTML(value='')))"
      ]
     },
     "metadata": {},
     "output_type": "display_data"
    },
    {
     "name": "stdout",
     "output_type": "stream",
     "text": [
      "\n",
      "--- Finished Correlation Attack --- 9999 1573528741.998616\n",
      "Key: 23 \n",
      "Sample: 7240 \n",
      "Correlation: 0.1821853324968921\n",
      "--- Start Correlation Attack ---\n"
     ]
    },
    {
     "data": {
      "application/vnd.jupyter.widget-view+json": {
       "model_id": "e288aca850164d80a3eeab399a6039d8",
       "version_major": 2,
       "version_minor": 0
      },
      "text/plain": [
       "HBox(children=(IntProgress(value=0, max=10000), HTML(value='')))"
      ]
     },
     "metadata": {},
     "output_type": "display_data"
    },
    {
     "name": "stdout",
     "output_type": "stream",
     "text": [
      "\n",
      "--- Finished Correlation Attack --- 9999 1573528763.4176867\n",
      "Key: 23 \n",
      "Sample: 7239 \n",
      "Correlation: 0.18033527234660246\n",
      "--- Start Correlation Attack ---\n"
     ]
    },
    {
     "data": {
      "application/vnd.jupyter.widget-view+json": {
       "model_id": "8db2f7bb1ab945d2b01c79ba85d0e37e",
       "version_major": 2,
       "version_minor": 0
      },
      "text/plain": [
       "HBox(children=(IntProgress(value=0, max=10000), HTML(value='')))"
      ]
     },
     "metadata": {},
     "output_type": "display_data"
    },
    {
     "name": "stdout",
     "output_type": "stream",
     "text": [
      "\n",
      "--- Finished Correlation Attack --- 9999 1573528784.9915204\n",
      "Key: 23 \n",
      "Sample: 3876 \n",
      "Correlation: 0.16280088461163483\n",
      "--- Start Correlation Attack ---\n"
     ]
    },
    {
     "data": {
      "application/vnd.jupyter.widget-view+json": {
       "model_id": "8ee8cc837f49458fba09734b32bc10a0",
       "version_major": 2,
       "version_minor": 0
      },
      "text/plain": [
       "HBox(children=(IntProgress(value=0, max=10000), HTML(value='')))"
      ]
     },
     "metadata": {},
     "output_type": "display_data"
    },
    {
     "name": "stdout",
     "output_type": "stream",
     "text": [
      "\n",
      "--- Finished Correlation Attack --- 9999 1573528806.726088\n",
      "Key: 23 \n",
      "Sample: 8785 \n",
      "Correlation: 0.1732454133715282\n",
      "--- Start Correlation Attack ---\n"
     ]
    },
    {
     "data": {
      "application/vnd.jupyter.widget-view+json": {
       "model_id": "5151165706b44542be638c7b249017af",
       "version_major": 2,
       "version_minor": 0
      },
      "text/plain": [
       "HBox(children=(IntProgress(value=0, max=10000), HTML(value='')))"
      ]
     },
     "metadata": {},
     "output_type": "display_data"
    },
    {
     "name": "stdout",
     "output_type": "stream",
     "text": [
      "\n",
      "--- Finished Correlation Attack --- 9999 1573528828.298924\n",
      "Key: 23 \n",
      "Sample: 6183 \n",
      "Correlation: 0.1471048646269014\n",
      "--- Start Correlation Attack ---\n"
     ]
    },
    {
     "data": {
      "application/vnd.jupyter.widget-view+json": {
       "model_id": "f7f77ff92a8a4f959abd82f9607d6a4a",
       "version_major": 2,
       "version_minor": 0
      },
      "text/plain": [
       "HBox(children=(IntProgress(value=0, max=10000), HTML(value='')))"
      ]
     },
     "metadata": {},
     "output_type": "display_data"
    },
    {
     "name": "stdout",
     "output_type": "stream",
     "text": [
      "\n",
      "--- Finished Correlation Attack --- 9999 1573528849.9951158\n",
      "Key: 23 \n",
      "Sample: 7580 \n",
      "Correlation: 0.1485887476568738\n",
      "--- Start Correlation Attack ---\n"
     ]
    },
    {
     "data": {
      "application/vnd.jupyter.widget-view+json": {
       "model_id": "51ecccebcf774c5ea56e3747690060c7",
       "version_major": 2,
       "version_minor": 0
      },
      "text/plain": [
       "HBox(children=(IntProgress(value=0, max=10000), HTML(value='')))"
      ]
     },
     "metadata": {},
     "output_type": "display_data"
    },
    {
     "name": "stdout",
     "output_type": "stream",
     "text": [
      "\n",
      "--- Finished Correlation Attack --- 9999 1573528871.6777363\n",
      "Key: 23 \n",
      "Sample: 920 \n",
      "Correlation: 0.1649931445781454\n",
      "--- Start Correlation Attack ---\n"
     ]
    },
    {
     "data": {
      "application/vnd.jupyter.widget-view+json": {
       "model_id": "9baba105789d4546b1f564e4acb82187",
       "version_major": 2,
       "version_minor": 0
      },
      "text/plain": [
       "HBox(children=(IntProgress(value=0, max=10000), HTML(value='')))"
      ]
     },
     "metadata": {},
     "output_type": "display_data"
    },
    {
     "name": "stdout",
     "output_type": "stream",
     "text": [
      "\n",
      "--- Finished Correlation Attack --- 9999 1573528893.3651145\n",
      "Key: 23 \n",
      "Sample: 1787 \n",
      "Correlation: 0.19497494285741102\n",
      "--- Start Correlation Attack ---\n"
     ]
    },
    {
     "data": {
      "application/vnd.jupyter.widget-view+json": {
       "model_id": "e4532fdfe42c493eb44349f2030b0678",
       "version_major": 2,
       "version_minor": 0
      },
      "text/plain": [
       "HBox(children=(IntProgress(value=0, max=10000), HTML(value='')))"
      ]
     },
     "metadata": {},
     "output_type": "display_data"
    },
    {
     "name": "stdout",
     "output_type": "stream",
     "text": [
      "\n",
      "--- Finished Correlation Attack --- 9999 1573528914.8043957\n",
      "Key: 23 \n",
      "Sample: 7242 \n",
      "Correlation: 0.2172589183717129\n",
      "--- Start Correlation Attack ---\n"
     ]
    },
    {
     "data": {
      "application/vnd.jupyter.widget-view+json": {
       "model_id": "1a799c8e9f0140769e7f947dcb9126de",
       "version_major": 2,
       "version_minor": 0
      },
      "text/plain": [
       "HBox(children=(IntProgress(value=0, max=10000), HTML(value='')))"
      ]
     },
     "metadata": {},
     "output_type": "display_data"
    },
    {
     "name": "stdout",
     "output_type": "stream",
     "text": [
      "\n",
      "--- Finished Correlation Attack --- 9999 1573528936.4829552\n",
      "Key: 23 \n",
      "Sample: 6993 \n",
      "Correlation: 0.1932370115061558\n",
      "--- Start Correlation Attack ---\n"
     ]
    },
    {
     "data": {
      "application/vnd.jupyter.widget-view+json": {
       "model_id": "6a6ad26c921d421891b443138a59afaf",
       "version_major": 2,
       "version_minor": 0
      },
      "text/plain": [
       "HBox(children=(IntProgress(value=0, max=10000), HTML(value='')))"
      ]
     },
     "metadata": {},
     "output_type": "display_data"
    },
    {
     "name": "stdout",
     "output_type": "stream",
     "text": [
      "\n",
      "--- Finished Correlation Attack --- 9999 1573528958.0946355\n",
      "Key: 23 \n",
      "Sample: 6993 \n",
      "Correlation: 0.25243666292750777\n",
      "--- Start Correlation Attack ---\n"
     ]
    },
    {
     "data": {
      "application/vnd.jupyter.widget-view+json": {
       "model_id": "834c0b52fbc5461a847ca16f47759018",
       "version_major": 2,
       "version_minor": 0
      },
      "text/plain": [
       "HBox(children=(IntProgress(value=0, max=10000), HTML(value='')))"
      ]
     },
     "metadata": {},
     "output_type": "display_data"
    },
    {
     "name": "stdout",
     "output_type": "stream",
     "text": [
      "\n",
      "--- Finished Correlation Attack --- 9999 1573528979.651834\n",
      "Key: 23 \n",
      "Sample: 7242 \n",
      "Correlation: 0.2599131911042208\n",
      "--- Start Correlation Attack ---\n"
     ]
    },
    {
     "data": {
      "application/vnd.jupyter.widget-view+json": {
       "model_id": "a4e66af269664ac8802cd65ce2dbb357",
       "version_major": 2,
       "version_minor": 0
      },
      "text/plain": [
       "HBox(children=(IntProgress(value=0, max=10000), HTML(value='')))"
      ]
     },
     "metadata": {},
     "output_type": "display_data"
    },
    {
     "name": "stdout",
     "output_type": "stream",
     "text": [
      "\n",
      "--- Finished Correlation Attack --- 9999 1573529001.3345053\n",
      "Key: 23 \n",
      "Sample: 2186 \n",
      "Correlation: 0.1638707979420347\n",
      "--- Start Correlation Attack ---\n"
     ]
    },
    {
     "data": {
      "application/vnd.jupyter.widget-view+json": {
       "model_id": "5ca10367ba1049f2acb8c5ae01291898",
       "version_major": 2,
       "version_minor": 0
      },
      "text/plain": [
       "HBox(children=(IntProgress(value=0, max=10000), HTML(value='')))"
      ]
     },
     "metadata": {},
     "output_type": "display_data"
    },
    {
     "name": "stdout",
     "output_type": "stream",
     "text": [
      "\n",
      "--- Finished Correlation Attack --- 9999 1573529022.7238748\n",
      "Key: 23 \n",
      "Sample: 749 \n",
      "Correlation: 0.1603278766431997\n",
      "--- Start Correlation Attack ---\n"
     ]
    },
    {
     "data": {
      "application/vnd.jupyter.widget-view+json": {
       "model_id": "69497687b02247b58c22678a74b5aab1",
       "version_major": 2,
       "version_minor": 0
      },
      "text/plain": [
       "HBox(children=(IntProgress(value=0, max=10000), HTML(value='')))"
      ]
     },
     "metadata": {},
     "output_type": "display_data"
    },
    {
     "name": "stdout",
     "output_type": "stream",
     "text": [
      "\n",
      "--- Finished Correlation Attack --- 9999 1573529044.4037526\n",
      "Key: 23 \n",
      "Sample: 7240 \n",
      "Correlation: 0.3086502374265287\n",
      "--- Start Correlation Attack ---\n"
     ]
    },
    {
     "data": {
      "application/vnd.jupyter.widget-view+json": {
       "model_id": "ac1a6eb084894951ad2640406d3cbfe5",
       "version_major": 2,
       "version_minor": 0
      },
      "text/plain": [
       "HBox(children=(IntProgress(value=0, max=10000), HTML(value='')))"
      ]
     },
     "metadata": {},
     "output_type": "display_data"
    },
    {
     "name": "stdout",
     "output_type": "stream",
     "text": [
      "\n",
      "--- Finished Correlation Attack --- 9999 1573529065.8999214\n",
      "Key: 23 \n",
      "Sample: 7240 \n",
      "Correlation: 0.28731104263762963\n",
      "--- Start Correlation Attack ---\n"
     ]
    },
    {
     "data": {
      "application/vnd.jupyter.widget-view+json": {
       "model_id": "ebff0c32034b4e458ce26bce0e168c97",
       "version_major": 2,
       "version_minor": 0
      },
      "text/plain": [
       "HBox(children=(IntProgress(value=0, max=10000), HTML(value='')))"
      ]
     },
     "metadata": {},
     "output_type": "display_data"
    },
    {
     "name": "stdout",
     "output_type": "stream",
     "text": [
      "\n",
      "--- Finished Correlation Attack --- 9999 1573529087.617611\n",
      "Key: 23 \n",
      "Sample: 7240 \n",
      "Correlation: 0.27077274797921974\n",
      "--- Start Correlation Attack ---\n"
     ]
    },
    {
     "data": {
      "application/vnd.jupyter.widget-view+json": {
       "model_id": "1afaa6a6e82f4d389717bf026a0a02ac",
       "version_major": 2,
       "version_minor": 0
      },
      "text/plain": [
       "HBox(children=(IntProgress(value=0, max=10000), HTML(value='')))"
      ]
     },
     "metadata": {},
     "output_type": "display_data"
    },
    {
     "name": "stdout",
     "output_type": "stream",
     "text": [
      "\n",
      "--- Finished Correlation Attack --- 9999 1573529109.1448772\n",
      "Key: 23 \n",
      "Sample: 7240 \n",
      "Correlation: 0.24993627759678075\n",
      "--- Start Correlation Attack ---\n"
     ]
    },
    {
     "data": {
      "application/vnd.jupyter.widget-view+json": {
       "model_id": "a8d5fe49515d4b988a57445c7b4019c4",
       "version_major": 2,
       "version_minor": 0
      },
      "text/plain": [
       "HBox(children=(IntProgress(value=0, max=10000), HTML(value='')))"
      ]
     },
     "metadata": {},
     "output_type": "display_data"
    },
    {
     "name": "stdout",
     "output_type": "stream",
     "text": [
      "\n",
      "--- Finished Correlation Attack --- 9999 1573529130.6987326\n",
      "Key: 23 \n",
      "Sample: 7240 \n",
      "Correlation: 0.2729698493778408\n",
      "--- Start Correlation Attack ---\n"
     ]
    },
    {
     "data": {
      "application/vnd.jupyter.widget-view+json": {
       "model_id": "6497d577fda54c5d9354acc5caacc2eb",
       "version_major": 2,
       "version_minor": 0
      },
      "text/plain": [
       "HBox(children=(IntProgress(value=0, max=10000), HTML(value='')))"
      ]
     },
     "metadata": {},
     "output_type": "display_data"
    },
    {
     "name": "stdout",
     "output_type": "stream",
     "text": [
      "\n",
      "--- Finished Correlation Attack --- 9999 1573529152.1877341\n",
      "Key: 23 \n",
      "Sample: 7240 \n",
      "Correlation: 0.24808964247405388\n",
      "--- Start Correlation Attack ---\n"
     ]
    },
    {
     "data": {
      "application/vnd.jupyter.widget-view+json": {
       "model_id": "6f87c4831b7e45f3a5e213c92a8f6b7f",
       "version_major": 2,
       "version_minor": 0
      },
      "text/plain": [
       "HBox(children=(IntProgress(value=0, max=10000), HTML(value='')))"
      ]
     },
     "metadata": {},
     "output_type": "display_data"
    },
    {
     "name": "stdout",
     "output_type": "stream",
     "text": [
      "\n",
      "--- Finished Correlation Attack --- 9999 1573529173.7601159\n",
      "Key: 23 \n",
      "Sample: 7239 \n",
      "Correlation: 0.22461390940507478\n",
      "--- Start Correlation Attack ---\n"
     ]
    },
    {
     "data": {
      "application/vnd.jupyter.widget-view+json": {
       "model_id": "2eeb6f91d89448978758eec2a93bf1e5",
       "version_major": 2,
       "version_minor": 0
      },
      "text/plain": [
       "HBox(children=(IntProgress(value=0, max=10000), HTML(value='')))"
      ]
     },
     "metadata": {},
     "output_type": "display_data"
    },
    {
     "name": "stdout",
     "output_type": "stream",
     "text": [
      "\n",
      "--- Finished Correlation Attack --- 9999 1573529195.123776\n",
      "Key: 23 \n",
      "Sample: 6992 \n",
      "Correlation: 0.2020629557081063\n",
      "--- Start Correlation Attack ---\n"
     ]
    },
    {
     "data": {
      "application/vnd.jupyter.widget-view+json": {
       "model_id": "d97e44e85d3b41808ce54fd6f8260985",
       "version_major": 2,
       "version_minor": 0
      },
      "text/plain": [
       "HBox(children=(IntProgress(value=0, max=10000), HTML(value='')))"
      ]
     },
     "metadata": {},
     "output_type": "display_data"
    },
    {
     "name": "stdout",
     "output_type": "stream",
     "text": [
      "\n",
      "--- Finished Correlation Attack --- 9999 1573529216.958795\n",
      "Key: 23 \n",
      "Sample: 7239 \n",
      "Correlation: 0.12654055375261536\n",
      "--- Start Correlation Attack ---\n"
     ]
    },
    {
     "data": {
      "application/vnd.jupyter.widget-view+json": {
       "model_id": "1a7a471b1e894e63bf7b17be94925cd3",
       "version_major": 2,
       "version_minor": 0
      },
      "text/plain": [
       "HBox(children=(IntProgress(value=0, max=10000), HTML(value='')))"
      ]
     },
     "metadata": {},
     "output_type": "display_data"
    },
    {
     "name": "stdout",
     "output_type": "stream",
     "text": [
      "\n",
      "--- Finished Correlation Attack --- 9999 1573529238.5667403\n",
      "Key: 23 \n",
      "Sample: 7239 \n",
      "Correlation: 0.18543261302450745\n",
      "--- Start Correlation Attack ---\n"
     ]
    },
    {
     "data": {
      "application/vnd.jupyter.widget-view+json": {
       "model_id": "6fcb6868d0ff47c5a305d20cbfc1a5ea",
       "version_major": 2,
       "version_minor": 0
      },
      "text/plain": [
       "HBox(children=(IntProgress(value=0, max=10000), HTML(value='')))"
      ]
     },
     "metadata": {},
     "output_type": "display_data"
    },
    {
     "name": "stdout",
     "output_type": "stream",
     "text": [
      "\n",
      "--- Finished Correlation Attack --- 9999 1573529260.398358\n",
      "Key: 23 \n",
      "Sample: 6908 \n",
      "Correlation: 0.14410162380372019\n",
      "--- Start Correlation Attack ---\n"
     ]
    },
    {
     "data": {
      "application/vnd.jupyter.widget-view+json": {
       "model_id": "6cbdfdb7addd43c1915ac3bcd67304a1",
       "version_major": 2,
       "version_minor": 0
      },
      "text/plain": [
       "HBox(children=(IntProgress(value=0, max=10000), HTML(value='')))"
      ]
     },
     "metadata": {},
     "output_type": "display_data"
    },
    {
     "name": "stdout",
     "output_type": "stream",
     "text": [
      "\n",
      "--- Finished Correlation Attack --- 9999 1573529281.9702566\n",
      "Key: 23 \n",
      "Sample: 6436 \n",
      "Correlation: 0.1663718731333603\n",
      "--- Start Correlation Attack ---\n"
     ]
    },
    {
     "data": {
      "application/vnd.jupyter.widget-view+json": {
       "model_id": "1f5597e070034006924b7e66049a8176",
       "version_major": 2,
       "version_minor": 0
      },
      "text/plain": [
       "HBox(children=(IntProgress(value=0, max=10000), HTML(value='')))"
      ]
     },
     "metadata": {},
     "output_type": "display_data"
    },
    {
     "name": "stdout",
     "output_type": "stream",
     "text": [
      "\n",
      "--- Finished Correlation Attack --- 9999 1573529303.8034253\n",
      "Key: 23 \n",
      "Sample: 4620 \n",
      "Correlation: 0.15890411622172299\n",
      "--- Start Correlation Attack ---\n"
     ]
    },
    {
     "data": {
      "application/vnd.jupyter.widget-view+json": {
       "model_id": "07f06c7b1b284b1a98072b5784c13e22",
       "version_major": 2,
       "version_minor": 0
      },
      "text/plain": [
       "HBox(children=(IntProgress(value=0, max=10000), HTML(value='')))"
      ]
     },
     "metadata": {},
     "output_type": "display_data"
    },
    {
     "name": "stdout",
     "output_type": "stream",
     "text": [
      "\n",
      "--- Finished Correlation Attack --- 9999 1573529325.2835262\n",
      "Key: 23 \n",
      "Sample: 5786 \n",
      "Correlation: 0.16116493262504458\n",
      "--- Start Correlation Attack ---\n"
     ]
    },
    {
     "data": {
      "application/vnd.jupyter.widget-view+json": {
       "model_id": "ffbf69ccca344e2fabbab0a4ad894d02",
       "version_major": 2,
       "version_minor": 0
      },
      "text/plain": [
       "HBox(children=(IntProgress(value=0, max=10000), HTML(value='')))"
      ]
     },
     "metadata": {},
     "output_type": "display_data"
    },
    {
     "name": "stdout",
     "output_type": "stream",
     "text": [
      "\n",
      "--- Finished Correlation Attack --- 9999 1573529346.7825809\n",
      "Key: 23 \n",
      "Sample: 957 \n",
      "Correlation: 0.14866283309457037\n",
      "--- Start Correlation Attack ---\n"
     ]
    },
    {
     "data": {
      "application/vnd.jupyter.widget-view+json": {
       "model_id": "ca19342de988449eb5b2d13cec37dc42",
       "version_major": 2,
       "version_minor": 0
      },
      "text/plain": [
       "HBox(children=(IntProgress(value=0, max=10000), HTML(value='')))"
      ]
     },
     "metadata": {},
     "output_type": "display_data"
    },
    {
     "name": "stdout",
     "output_type": "stream",
     "text": [
      "\n",
      "--- Finished Correlation Attack --- 9999 1573529368.60867\n",
      "Key: 23 \n",
      "Sample: 7242 \n",
      "Correlation: 0.20427284952797256\n",
      "--- Start Correlation Attack ---\n"
     ]
    },
    {
     "data": {
      "application/vnd.jupyter.widget-view+json": {
       "model_id": "3de14d2d00014f55a98b3f2cf805d201",
       "version_major": 2,
       "version_minor": 0
      },
      "text/plain": [
       "HBox(children=(IntProgress(value=0, max=10000), HTML(value='')))"
      ]
     },
     "metadata": {},
     "output_type": "display_data"
    },
    {
     "name": "stdout",
     "output_type": "stream",
     "text": [
      "\n",
      "--- Finished Correlation Attack --- 9999 1573529390.0449784\n",
      "Key: 23 \n",
      "Sample: 6993 \n",
      "Correlation: 0.17415246429656717\n",
      "--- Start Correlation Attack ---\n"
     ]
    },
    {
     "data": {
      "application/vnd.jupyter.widget-view+json": {
       "model_id": "f5f758a5aaf947e48a1f0b0f577a2864",
       "version_major": 2,
       "version_minor": 0
      },
      "text/plain": [
       "HBox(children=(IntProgress(value=0, max=10000), HTML(value='')))"
      ]
     },
     "metadata": {},
     "output_type": "display_data"
    },
    {
     "name": "stdout",
     "output_type": "stream",
     "text": [
      "\n",
      "--- Finished Correlation Attack --- 9999 1573529411.767792\n",
      "Key: 23 \n",
      "Sample: 7242 \n",
      "Correlation: 0.20113246052183367\n",
      "--- Start Correlation Attack ---\n"
     ]
    },
    {
     "data": {
      "application/vnd.jupyter.widget-view+json": {
       "model_id": "0d4b4bcc63524f5395d91f85d3db2919",
       "version_major": 2,
       "version_minor": 0
      },
      "text/plain": [
       "HBox(children=(IntProgress(value=0, max=10000), HTML(value='')))"
      ]
     },
     "metadata": {},
     "output_type": "display_data"
    },
    {
     "name": "stdout",
     "output_type": "stream",
     "text": [
      "\n",
      "--- Finished Correlation Attack --- 9999 1573529433.631284\n",
      "Key: 23 \n",
      "Sample: 7242 \n",
      "Correlation: 0.2349170469929498\n",
      "--- Start Correlation Attack ---\n"
     ]
    },
    {
     "data": {
      "application/vnd.jupyter.widget-view+json": {
       "model_id": "db98f593c939432e808bd62144364cc2",
       "version_major": 2,
       "version_minor": 0
      },
      "text/plain": [
       "HBox(children=(IntProgress(value=0, max=10000), HTML(value='')))"
      ]
     },
     "metadata": {},
     "output_type": "display_data"
    },
    {
     "name": "stdout",
     "output_type": "stream",
     "text": [
      "\n",
      "--- Finished Correlation Attack --- 9999 1573529455.3151724\n",
      "Key: 23 \n",
      "Sample: 6993 \n",
      "Correlation: 0.17600693931355393\n",
      "--- Start Correlation Attack ---\n"
     ]
    },
    {
     "data": {
      "application/vnd.jupyter.widget-view+json": {
       "model_id": "e2b0766042ec4f028d77026f30e1ce44",
       "version_major": 2,
       "version_minor": 0
      },
      "text/plain": [
       "HBox(children=(IntProgress(value=0, max=10000), HTML(value='')))"
      ]
     },
     "metadata": {},
     "output_type": "display_data"
    },
    {
     "name": "stdout",
     "output_type": "stream",
     "text": [
      "\n",
      "--- Finished Correlation Attack --- 9999 1573529477.0964265\n",
      "Key: 23 \n",
      "Sample: 7728 \n",
      "Correlation: 0.1835143832155598\n",
      "--- Start Correlation Attack ---\n"
     ]
    },
    {
     "data": {
      "application/vnd.jupyter.widget-view+json": {
       "model_id": "5a702439c1194df7993740f001cd92c5",
       "version_major": 2,
       "version_minor": 0
      },
      "text/plain": [
       "HBox(children=(IntProgress(value=0, max=10000), HTML(value='')))"
      ]
     },
     "metadata": {},
     "output_type": "display_data"
    },
    {
     "name": "stdout",
     "output_type": "stream",
     "text": [
      "\n",
      "--- Finished Correlation Attack --- 9999 1573529498.6736245\n",
      "Key: 23 \n",
      "Sample: 7240 \n",
      "Correlation: 0.25359742483582987\n",
      "--- Start Correlation Attack ---\n"
     ]
    },
    {
     "data": {
      "application/vnd.jupyter.widget-view+json": {
       "model_id": "dd8d3db4e367443b883dc6217d209331",
       "version_major": 2,
       "version_minor": 0
      },
      "text/plain": [
       "HBox(children=(IntProgress(value=0, max=10000), HTML(value='')))"
      ]
     },
     "metadata": {},
     "output_type": "display_data"
    },
    {
     "name": "stdout",
     "output_type": "stream",
     "text": [
      "\n",
      "--- Finished Correlation Attack --- 9999 1573529520.4740546\n",
      "Key: 23 \n",
      "Sample: 7240 \n",
      "Correlation: 0.2936500774238364\n",
      "--- Start Correlation Attack ---\n"
     ]
    },
    {
     "data": {
      "application/vnd.jupyter.widget-view+json": {
       "model_id": "5863144fdabd4ce7af86731e2e6cd8c5",
       "version_major": 2,
       "version_minor": 0
      },
      "text/plain": [
       "HBox(children=(IntProgress(value=0, max=10000), HTML(value='')))"
      ]
     },
     "metadata": {},
     "output_type": "display_data"
    },
    {
     "name": "stdout",
     "output_type": "stream",
     "text": [
      "\n",
      "--- Finished Correlation Attack --- 9999 1573529542.2590568\n",
      "Key: 23 \n",
      "Sample: 7240 \n",
      "Correlation: 0.3874434958528762\n",
      "--- Start Correlation Attack ---\n"
     ]
    },
    {
     "data": {
      "application/vnd.jupyter.widget-view+json": {
       "model_id": "5be9dd0cff6e4a7798334de7123e50ce",
       "version_major": 2,
       "version_minor": 0
      },
      "text/plain": [
       "HBox(children=(IntProgress(value=0, max=10000), HTML(value='')))"
      ]
     },
     "metadata": {},
     "output_type": "display_data"
    },
    {
     "name": "stdout",
     "output_type": "stream",
     "text": [
      "\n",
      "--- Finished Correlation Attack --- 9999 1573529564.0201719\n",
      "Key: 23 \n",
      "Sample: 7240 \n",
      "Correlation: 0.21684064876705794\n",
      "--- Start Correlation Attack ---\n"
     ]
    },
    {
     "data": {
      "application/vnd.jupyter.widget-view+json": {
       "model_id": "75fb83a56ce543f3a107ef70c6d94165",
       "version_major": 2,
       "version_minor": 0
      },
      "text/plain": [
       "HBox(children=(IntProgress(value=0, max=10000), HTML(value='')))"
      ]
     },
     "metadata": {},
     "output_type": "display_data"
    },
    {
     "name": "stdout",
     "output_type": "stream",
     "text": [
      "\n",
      "--- Finished Correlation Attack --- 9999 1573529585.4365451\n",
      "Key: 23 \n",
      "Sample: 7240 \n",
      "Correlation: 0.23485883808665578\n",
      "--- Start Correlation Attack ---\n"
     ]
    },
    {
     "data": {
      "application/vnd.jupyter.widget-view+json": {
       "model_id": "c264d06f37ac4316b42201161a51ef93",
       "version_major": 2,
       "version_minor": 0
      },
      "text/plain": [
       "HBox(children=(IntProgress(value=0, max=10000), HTML(value='')))"
      ]
     },
     "metadata": {},
     "output_type": "display_data"
    },
    {
     "name": "stdout",
     "output_type": "stream",
     "text": [
      "\n",
      "--- Finished Correlation Attack --- 9999 1573529607.057202\n",
      "Key: 23 \n",
      "Sample: 6991 \n",
      "Correlation: 0.19213563292531646\n",
      "--- Start Correlation Attack ---\n"
     ]
    },
    {
     "data": {
      "application/vnd.jupyter.widget-view+json": {
       "model_id": "d3614d6671e14dcaa137c100f89e9c56",
       "version_major": 2,
       "version_minor": 0
      },
      "text/plain": [
       "HBox(children=(IntProgress(value=0, max=10000), HTML(value='')))"
      ]
     },
     "metadata": {},
     "output_type": "display_data"
    },
    {
     "name": "stdout",
     "output_type": "stream",
     "text": [
      "\n",
      "--- Finished Correlation Attack --- 9999 1573529629.2858083\n",
      "Key: 23 \n",
      "Sample: 6990 \n",
      "Correlation: 0.161710166900174\n",
      "--- Start Correlation Attack ---\n"
     ]
    },
    {
     "data": {
      "application/vnd.jupyter.widget-view+json": {
       "model_id": "d6eb4ec42b7545d086fc955c92268828",
       "version_major": 2,
       "version_minor": 0
      },
      "text/plain": [
       "HBox(children=(IntProgress(value=0, max=10000), HTML(value='')))"
      ]
     },
     "metadata": {},
     "output_type": "display_data"
    },
    {
     "name": "stdout",
     "output_type": "stream",
     "text": [
      "\n",
      "--- Finished Correlation Attack --- 9999 1573529650.8921\n",
      "Key: 23 \n",
      "Sample: 7239 \n",
      "Correlation: 0.2205791846016078\n",
      "--- Start Correlation Attack ---\n"
     ]
    },
    {
     "data": {
      "application/vnd.jupyter.widget-view+json": {
       "model_id": "8614961e7cd54ca680ad719a30ae5335",
       "version_major": 2,
       "version_minor": 0
      },
      "text/plain": [
       "HBox(children=(IntProgress(value=0, max=10000), HTML(value='')))"
      ]
     },
     "metadata": {},
     "output_type": "display_data"
    },
    {
     "name": "stdout",
     "output_type": "stream",
     "text": [
      "\n",
      "--- Finished Correlation Attack --- 9999 1573529672.7166345\n",
      "Key: 23 \n",
      "Sample: 7239 \n",
      "Correlation: 0.25299057265336045\n",
      "--- Start Correlation Attack ---\n"
     ]
    },
    {
     "data": {
      "application/vnd.jupyter.widget-view+json": {
       "model_id": "a0b259fba0834f7e823b986767482aa8",
       "version_major": 2,
       "version_minor": 0
      },
      "text/plain": [
       "HBox(children=(IntProgress(value=0, max=10000), HTML(value='')))"
      ]
     },
     "metadata": {},
     "output_type": "display_data"
    },
    {
     "name": "stdout",
     "output_type": "stream",
     "text": [
      "\n",
      "--- Finished Correlation Attack --- 9999 1573529693.9816415\n",
      "Key: 23 \n",
      "Sample: 7995 \n",
      "Correlation: 0.16083702462224264\n",
      "--- Start Correlation Attack ---\n"
     ]
    },
    {
     "data": {
      "application/vnd.jupyter.widget-view+json": {
       "model_id": "1cf33431fe8f4ea7875752ffb51a3adc",
       "version_major": 2,
       "version_minor": 0
      },
      "text/plain": [
       "HBox(children=(IntProgress(value=0, max=10000), HTML(value='')))"
      ]
     },
     "metadata": {},
     "output_type": "display_data"
    },
    {
     "name": "stdout",
     "output_type": "stream",
     "text": [
      "\n",
      "--- Finished Correlation Attack --- 9999 1573529715.6421814\n",
      "Key: 23 \n",
      "Sample: 8662 \n",
      "Correlation: 0.16990705126454705\n",
      "--- Start Correlation Attack ---\n"
     ]
    },
    {
     "data": {
      "application/vnd.jupyter.widget-view+json": {
       "model_id": "f55a95a149474f2e9514136109b86ccf",
       "version_major": 2,
       "version_minor": 0
      },
      "text/plain": [
       "HBox(children=(IntProgress(value=0, max=10000), HTML(value='')))"
      ]
     },
     "metadata": {},
     "output_type": "display_data"
    },
    {
     "name": "stdout",
     "output_type": "stream",
     "text": [
      "\n",
      "--- Finished Correlation Attack --- 9999 1573529737.201783\n",
      "Key: 23 \n",
      "Sample: 7256 \n",
      "Correlation: 0.17053773470530814\n",
      "--- Start Correlation Attack ---\n"
     ]
    },
    {
     "data": {
      "application/vnd.jupyter.widget-view+json": {
       "model_id": "6385a865021f4649932573ace9a45c1b",
       "version_major": 2,
       "version_minor": 0
      },
      "text/plain": [
       "HBox(children=(IntProgress(value=0, max=10000), HTML(value='')))"
      ]
     },
     "metadata": {},
     "output_type": "display_data"
    },
    {
     "name": "stdout",
     "output_type": "stream",
     "text": [
      "\n",
      "--- Finished Correlation Attack --- 9999 1573529758.6737802\n",
      "Key: 23 \n",
      "Sample: 2140 \n",
      "Correlation: 0.17070395990434567\n",
      "--- Start Correlation Attack ---\n"
     ]
    },
    {
     "data": {
      "application/vnd.jupyter.widget-view+json": {
       "model_id": "a2ed05510231463a9d36e230819a76d0",
       "version_major": 2,
       "version_minor": 0
      },
      "text/plain": [
       "HBox(children=(IntProgress(value=0, max=10000), HTML(value='')))"
      ]
     },
     "metadata": {},
     "output_type": "display_data"
    },
    {
     "name": "stdout",
     "output_type": "stream",
     "text": [
      "\n",
      "--- Finished Correlation Attack --- 9999 1573529779.9388201\n",
      "Key: 23 \n",
      "Sample: 6605 \n",
      "Correlation: 0.14868757718244166\n",
      "--- Start Correlation Attack ---\n"
     ]
    },
    {
     "data": {
      "application/vnd.jupyter.widget-view+json": {
       "model_id": "4d035909af634fe29272179adfe1bee0",
       "version_major": 2,
       "version_minor": 0
      },
      "text/plain": [
       "HBox(children=(IntProgress(value=0, max=10000), HTML(value='')))"
      ]
     },
     "metadata": {},
     "output_type": "display_data"
    },
    {
     "name": "stdout",
     "output_type": "stream",
     "text": [
      "\n",
      "--- Finished Correlation Attack --- 9999 1573529801.268598\n",
      "Key: 23 \n",
      "Sample: 1524 \n",
      "Correlation: 0.18997464432375455\n",
      "--- Start Correlation Attack ---\n"
     ]
    },
    {
     "data": {
      "application/vnd.jupyter.widget-view+json": {
       "model_id": "6839a23d97c84953bc69a2dbcfc050fc",
       "version_major": 2,
       "version_minor": 0
      },
      "text/plain": [
       "HBox(children=(IntProgress(value=0, max=10000), HTML(value='')))"
      ]
     },
     "metadata": {},
     "output_type": "display_data"
    },
    {
     "name": "stdout",
     "output_type": "stream",
     "text": [
      "\n",
      "--- Finished Correlation Attack --- 9999 1573529822.731633\n",
      "Key: 23 \n",
      "Sample: 6993 \n",
      "Correlation: 0.1352189567313127\n",
      "--- Start Correlation Attack ---\n"
     ]
    },
    {
     "data": {
      "application/vnd.jupyter.widget-view+json": {
       "model_id": "6de3f7caa9f44b3dac8d810e774d0d5e",
       "version_major": 2,
       "version_minor": 0
      },
      "text/plain": [
       "HBox(children=(IntProgress(value=0, max=10000), HTML(value='')))"
      ]
     },
     "metadata": {},
     "output_type": "display_data"
    },
    {
     "name": "stdout",
     "output_type": "stream",
     "text": [
      "\n",
      "--- Finished Correlation Attack --- 9999 1573529843.9905016\n",
      "Key: 23 \n",
      "Sample: 6993 \n",
      "Correlation: 0.13715512098266044\n",
      "--- Start Correlation Attack ---\n"
     ]
    },
    {
     "data": {
      "application/vnd.jupyter.widget-view+json": {
       "model_id": "1a805478a1b94ab8b31c104db34dc900",
       "version_major": 2,
       "version_minor": 0
      },
      "text/plain": [
       "HBox(children=(IntProgress(value=0, max=10000), HTML(value='')))"
      ]
     },
     "metadata": {},
     "output_type": "display_data"
    },
    {
     "name": "stdout",
     "output_type": "stream",
     "text": [
      "\n",
      "--- Finished Correlation Attack --- 9999 1573529865.3791125\n",
      "Key: 23 \n",
      "Sample: 7242 \n",
      "Correlation: 0.1815422661420227\n",
      "--- Start Correlation Attack ---\n"
     ]
    },
    {
     "data": {
      "application/vnd.jupyter.widget-view+json": {
       "model_id": "69d4b8a5a0a74b5dbac65c784bdb31cb",
       "version_major": 2,
       "version_minor": 0
      },
      "text/plain": [
       "HBox(children=(IntProgress(value=0, max=10000), HTML(value='')))"
      ]
     },
     "metadata": {},
     "output_type": "display_data"
    },
    {
     "name": "stdout",
     "output_type": "stream",
     "text": [
      "\n",
      "--- Finished Correlation Attack --- 9999 1573529887.0116308\n",
      "Key: 23 \n",
      "Sample: 6993 \n",
      "Correlation: 0.19377645138825922\n",
      "--- Start Correlation Attack ---\n"
     ]
    },
    {
     "data": {
      "application/vnd.jupyter.widget-view+json": {
       "model_id": "cd1d22bc624a42a189934ba7bb1a93f4",
       "version_major": 2,
       "version_minor": 0
      },
      "text/plain": [
       "HBox(children=(IntProgress(value=0, max=10000), HTML(value='')))"
      ]
     },
     "metadata": {},
     "output_type": "display_data"
    },
    {
     "name": "stdout",
     "output_type": "stream",
     "text": [
      "\n",
      "--- Finished Correlation Attack --- 9999 1573529908.9791987\n",
      "Key: 23 \n",
      "Sample: 6993 \n",
      "Correlation: 0.21013351852171205\n",
      "--- Start Correlation Attack ---\n"
     ]
    },
    {
     "data": {
      "application/vnd.jupyter.widget-view+json": {
       "model_id": "c4108ca4e95c47f2ab07c4262b5da810",
       "version_major": 2,
       "version_minor": 0
      },
      "text/plain": [
       "HBox(children=(IntProgress(value=0, max=10000), HTML(value='')))"
      ]
     },
     "metadata": {},
     "output_type": "display_data"
    },
    {
     "name": "stdout",
     "output_type": "stream",
     "text": [
      "\n",
      "--- Finished Correlation Attack --- 9999 1573529930.8200908\n",
      "Key: 23 \n",
      "Sample: 6974 \n",
      "Correlation: 0.10600909796129515\n",
      "--- Start Correlation Attack ---\n"
     ]
    },
    {
     "data": {
      "application/vnd.jupyter.widget-view+json": {
       "model_id": "3d0b6c0373a54cabb05ae3e75157a324",
       "version_major": 2,
       "version_minor": 0
      },
      "text/plain": [
       "HBox(children=(IntProgress(value=0, max=10000), HTML(value='')))"
      ]
     },
     "metadata": {},
     "output_type": "display_data"
    },
    {
     "name": "stdout",
     "output_type": "stream",
     "text": [
      "\n",
      "--- Finished Correlation Attack --- 9999 1573529952.042481\n",
      "Key: 23 \n",
      "Sample: 6990 \n",
      "Correlation: 0.15766053509878974\n",
      "--- Start Correlation Attack ---\n"
     ]
    },
    {
     "data": {
      "application/vnd.jupyter.widget-view+json": {
       "model_id": "779ee9dbb87c41d5b4a5481e886204b0",
       "version_major": 2,
       "version_minor": 0
      },
      "text/plain": [
       "HBox(children=(IntProgress(value=0, max=10000), HTML(value='')))"
      ]
     },
     "metadata": {},
     "output_type": "display_data"
    },
    {
     "name": "stdout",
     "output_type": "stream",
     "text": [
      "\n",
      "--- Finished Correlation Attack --- 9999 1573529973.462756\n",
      "Key: 23 \n",
      "Sample: 7240 \n",
      "Correlation: 0.25183000891024515\n",
      "--- Start Correlation Attack ---\n"
     ]
    },
    {
     "data": {
      "application/vnd.jupyter.widget-view+json": {
       "model_id": "a3d965c411e04a0ea5d1014e900cb8af",
       "version_major": 2,
       "version_minor": 0
      },
      "text/plain": [
       "HBox(children=(IntProgress(value=0, max=10000), HTML(value='')))"
      ]
     },
     "metadata": {},
     "output_type": "display_data"
    },
    {
     "name": "stdout",
     "output_type": "stream",
     "text": [
      "\n",
      "--- Finished Correlation Attack --- 9999 1573529994.2385244\n",
      "Key: 23 \n",
      "Sample: 6991 \n",
      "Correlation: 0.22882740839943538\n",
      "--- Start Correlation Attack ---\n"
     ]
    },
    {
     "data": {
      "application/vnd.jupyter.widget-view+json": {
       "model_id": "8b4869dd14a14cfabb2d415982ec313c",
       "version_major": 2,
       "version_minor": 0
      },
      "text/plain": [
       "HBox(children=(IntProgress(value=0, max=10000), HTML(value='')))"
      ]
     },
     "metadata": {},
     "output_type": "display_data"
    },
    {
     "name": "stdout",
     "output_type": "stream",
     "text": [
      "\n",
      "--- Finished Correlation Attack --- 9999 1573530015.6427078\n",
      "Key: 23 \n",
      "Sample: 6992 \n",
      "Correlation: 0.22679783821706034\n",
      "--- Start Correlation Attack ---\n"
     ]
    },
    {
     "data": {
      "application/vnd.jupyter.widget-view+json": {
       "model_id": "d51d69421b0843cf916b6dad17328ba9",
       "version_major": 2,
       "version_minor": 0
      },
      "text/plain": [
       "HBox(children=(IntProgress(value=0, max=10000), HTML(value='')))"
      ]
     },
     "metadata": {},
     "output_type": "display_data"
    },
    {
     "name": "stdout",
     "output_type": "stream",
     "text": [
      "\n",
      "--- Finished Correlation Attack --- 9999 1573530036.6522262\n",
      "Key: 23 \n",
      "Sample: 6991 \n",
      "Correlation: 0.22461694275384836\n",
      "--- Start Correlation Attack ---\n"
     ]
    },
    {
     "data": {
      "application/vnd.jupyter.widget-view+json": {
       "model_id": "fd3a1f2e4619412f961d6cd5877eaa93",
       "version_major": 2,
       "version_minor": 0
      },
      "text/plain": [
       "HBox(children=(IntProgress(value=0, max=10000), HTML(value='')))"
      ]
     },
     "metadata": {},
     "output_type": "display_data"
    },
    {
     "name": "stdout",
     "output_type": "stream",
     "text": [
      "\n",
      "--- Finished Correlation Attack --- 9999 1573530058.0406759\n",
      "Key: 23 \n",
      "Sample: 7240 \n",
      "Correlation: 0.27337123236403826\n",
      "--- Start Correlation Attack ---\n"
     ]
    },
    {
     "data": {
      "application/vnd.jupyter.widget-view+json": {
       "model_id": "e7602a87b5a0498a82c6e173dbdaa070",
       "version_major": 2,
       "version_minor": 0
      },
      "text/plain": [
       "HBox(children=(IntProgress(value=0, max=10000), HTML(value='')))"
      ]
     },
     "metadata": {},
     "output_type": "display_data"
    },
    {
     "name": "stdout",
     "output_type": "stream",
     "text": [
      "\n",
      "--- Finished Correlation Attack --- 9999 1573530079.255109\n",
      "Key: 23 \n",
      "Sample: 6991 \n",
      "Correlation: 0.1980369361575037\n",
      "--- Start Correlation Attack ---\n"
     ]
    },
    {
     "data": {
      "application/vnd.jupyter.widget-view+json": {
       "model_id": "637df50f839a433caa642cb4364d1a56",
       "version_major": 2,
       "version_minor": 0
      },
      "text/plain": [
       "HBox(children=(IntProgress(value=0, max=10000), HTML(value='')))"
      ]
     },
     "metadata": {},
     "output_type": "display_data"
    },
    {
     "name": "stdout",
     "output_type": "stream",
     "text": [
      "\n",
      "--- Finished Correlation Attack --- 9999 1573530100.7981575\n",
      "Key: 23 \n",
      "Sample: 7239 \n",
      "Correlation: 0.1359846643763297\n",
      "--- Start Correlation Attack ---\n"
     ]
    },
    {
     "data": {
      "application/vnd.jupyter.widget-view+json": {
       "model_id": "d83a546a1d0c42d2b23e80764d94eef7",
       "version_major": 2,
       "version_minor": 0
      },
      "text/plain": [
       "HBox(children=(IntProgress(value=0, max=10000), HTML(value='')))"
      ]
     },
     "metadata": {},
     "output_type": "display_data"
    },
    {
     "name": "stdout",
     "output_type": "stream",
     "text": [
      "\n",
      "--- Finished Correlation Attack --- 9999 1573530122.2337265\n",
      "Key: 23 \n",
      "Sample: 6447 \n",
      "Correlation: 0.1794454292336402\n",
      "--- Start Correlation Attack ---\n"
     ]
    },
    {
     "data": {
      "application/vnd.jupyter.widget-view+json": {
       "model_id": "f85089886b4440c3b1398879a6d504ba",
       "version_major": 2,
       "version_minor": 0
      },
      "text/plain": [
       "HBox(children=(IntProgress(value=0, max=10000), HTML(value='')))"
      ]
     },
     "metadata": {},
     "output_type": "display_data"
    },
    {
     "name": "stdout",
     "output_type": "stream",
     "text": [
      "\n",
      "--- Finished Correlation Attack --- 9999 1573530143.529676\n",
      "Key: 23 \n",
      "Sample: 7239 \n",
      "Correlation: 0.15566940903423865\n",
      "--- Start Correlation Attack ---\n"
     ]
    },
    {
     "data": {
      "application/vnd.jupyter.widget-view+json": {
       "model_id": "1273d79a48b5417ea45cece9462f2515",
       "version_major": 2,
       "version_minor": 0
      },
      "text/plain": [
       "HBox(children=(IntProgress(value=0, max=10000), HTML(value='')))"
      ]
     },
     "metadata": {},
     "output_type": "display_data"
    },
    {
     "name": "stdout",
     "output_type": "stream",
     "text": [
      "\n",
      "--- Finished Correlation Attack --- 9999 1573530164.943206\n",
      "Key: 23 \n",
      "Sample: 9024 \n",
      "Correlation: 0.13934735168738585\n",
      "--- Start Correlation Attack ---\n"
     ]
    },
    {
     "data": {
      "application/vnd.jupyter.widget-view+json": {
       "model_id": "614fd826f46348c08fc02ba9b7118bc0",
       "version_major": 2,
       "version_minor": 0
      },
      "text/plain": [
       "HBox(children=(IntProgress(value=0, max=10000), HTML(value='')))"
      ]
     },
     "metadata": {},
     "output_type": "display_data"
    },
    {
     "name": "stdout",
     "output_type": "stream",
     "text": [
      "\n",
      "--- Finished Correlation Attack --- 9999 1573530186.1347008\n",
      "Key: 23 \n",
      "Sample: 6474 \n",
      "Correlation: 0.12335475477971948\n",
      "--- Start Correlation Attack ---\n"
     ]
    },
    {
     "data": {
      "application/vnd.jupyter.widget-view+json": {
       "model_id": "3ef19f7d35274a978a79f933e79f391f",
       "version_major": 2,
       "version_minor": 0
      },
      "text/plain": [
       "HBox(children=(IntProgress(value=0, max=10000), HTML(value='')))"
      ]
     },
     "metadata": {},
     "output_type": "display_data"
    },
    {
     "name": "stdout",
     "output_type": "stream",
     "text": [
      "\n",
      "--- Finished Correlation Attack --- 9999 1573530207.4660134\n",
      "Key: 23 \n",
      "Sample: 851 \n",
      "Correlation: 0.1482305063082217\n",
      "--- Start Correlation Attack ---\n"
     ]
    },
    {
     "data": {
      "application/vnd.jupyter.widget-view+json": {
       "model_id": "c3e8ee36608241d4bf678c52241115dd",
       "version_major": 2,
       "version_minor": 0
      },
      "text/plain": [
       "HBox(children=(IntProgress(value=0, max=10000), HTML(value='')))"
      ]
     },
     "metadata": {},
     "output_type": "display_data"
    },
    {
     "name": "stdout",
     "output_type": "stream",
     "text": [
      "\n",
      "--- Finished Correlation Attack --- 9999 1573530228.6169422\n",
      "Key: 23 \n",
      "Sample: 7673 \n",
      "Correlation: 0.1419138082128456\n",
      "--- Start Correlation Attack ---\n"
     ]
    },
    {
     "data": {
      "application/vnd.jupyter.widget-view+json": {
       "model_id": "897ee11b3dd44ad49908992a4b91a99f",
       "version_major": 2,
       "version_minor": 0
      },
      "text/plain": [
       "HBox(children=(IntProgress(value=0, max=10000), HTML(value='')))"
      ]
     },
     "metadata": {},
     "output_type": "display_data"
    },
    {
     "name": "stdout",
     "output_type": "stream",
     "text": [
      "\n",
      "--- Finished Correlation Attack --- 9999 1573530249.8359742\n",
      "Key: 23 \n",
      "Sample: 2437 \n",
      "Correlation: 0.1304032727901194\n",
      "--- Start Correlation Attack ---\n"
     ]
    },
    {
     "data": {
      "application/vnd.jupyter.widget-view+json": {
       "model_id": "f1fd15590bf9464b8b8def094ceb6f2b",
       "version_major": 2,
       "version_minor": 0
      },
      "text/plain": [
       "HBox(children=(IntProgress(value=0, max=10000), HTML(value='')))"
      ]
     },
     "metadata": {},
     "output_type": "display_data"
    },
    {
     "name": "stdout",
     "output_type": "stream",
     "text": [
      "\n",
      "--- Finished Correlation Attack --- 9999 1573530271.2236443\n",
      "Key: 23 \n",
      "Sample: 6992 \n",
      "Correlation: 0.1189759591008483\n",
      "--- Start Correlation Attack ---\n"
     ]
    },
    {
     "data": {
      "application/vnd.jupyter.widget-view+json": {
       "model_id": "2ccc649a5b9e4e3abeb61ba6aabd6bd3",
       "version_major": 2,
       "version_minor": 0
      },
      "text/plain": [
       "HBox(children=(IntProgress(value=0, max=10000), HTML(value='')))"
      ]
     },
     "metadata": {},
     "output_type": "display_data"
    },
    {
     "name": "stdout",
     "output_type": "stream",
     "text": [
      "\n",
      "--- Finished Correlation Attack --- 9999 1573530292.4687474\n",
      "Key: 23 \n",
      "Sample: 7242 \n",
      "Correlation: 0.1297763067736142\n",
      "--- Start Correlation Attack ---\n"
     ]
    },
    {
     "data": {
      "application/vnd.jupyter.widget-view+json": {
       "model_id": "d0680af4d29d4aebb4dd48e09474778e",
       "version_major": 2,
       "version_minor": 0
      },
      "text/plain": [
       "HBox(children=(IntProgress(value=0, max=10000), HTML(value='')))"
      ]
     },
     "metadata": {},
     "output_type": "display_data"
    },
    {
     "name": "stdout",
     "output_type": "stream",
     "text": [
      "\n",
      "--- Finished Correlation Attack --- 9999 1573530313.8777056\n",
      "Key: 23 \n",
      "Sample: 1848 \n",
      "Correlation: 0.1315706819528734\n",
      "--- Start Correlation Attack ---\n"
     ]
    },
    {
     "data": {
      "application/vnd.jupyter.widget-view+json": {
       "model_id": "6a9613759a324ebba13384ee0cb1f6f3",
       "version_major": 2,
       "version_minor": 0
      },
      "text/plain": [
       "HBox(children=(IntProgress(value=0, max=10000), HTML(value='')))"
      ]
     },
     "metadata": {},
     "output_type": "display_data"
    },
    {
     "name": "stdout",
     "output_type": "stream",
     "text": [
      "\n",
      "--- Finished Correlation Attack --- 9999 1573530335.0231566\n",
      "Key: 23 \n",
      "Sample: 7242 \n",
      "Correlation: 0.1917175002575344\n",
      "--- Start Correlation Attack ---\n"
     ]
    },
    {
     "data": {
      "application/vnd.jupyter.widget-view+json": {
       "model_id": "b0cf97a8144b445d86ceaa9abe61393d",
       "version_major": 2,
       "version_minor": 0
      },
      "text/plain": [
       "HBox(children=(IntProgress(value=0, max=10000), HTML(value='')))"
      ]
     },
     "metadata": {},
     "output_type": "display_data"
    },
    {
     "name": "stdout",
     "output_type": "stream",
     "text": [
      "\n",
      "--- Finished Correlation Attack --- 9999 1573530356.2942445\n",
      "Key: 23 \n",
      "Sample: 7242 \n",
      "Correlation: 0.1806385006377706\n",
      "--- Start Correlation Attack ---\n"
     ]
    },
    {
     "data": {
      "application/vnd.jupyter.widget-view+json": {
       "model_id": "a973a8727af2495985545da5f93c9fb9",
       "version_major": 2,
       "version_minor": 0
      },
      "text/plain": [
       "HBox(children=(IntProgress(value=0, max=10000), HTML(value='')))"
      ]
     },
     "metadata": {},
     "output_type": "display_data"
    },
    {
     "name": "stdout",
     "output_type": "stream",
     "text": [
      "\n",
      "--- Finished Correlation Attack --- 9999 1573530377.5332484\n",
      "Key: 23 \n",
      "Sample: 7242 \n",
      "Correlation: 0.16540908551813893\n",
      "--- Start Correlation Attack ---\n"
     ]
    },
    {
     "data": {
      "application/vnd.jupyter.widget-view+json": {
       "model_id": "8ffc451a73c84b4999a7fce994c7dc35",
       "version_major": 2,
       "version_minor": 0
      },
      "text/plain": [
       "HBox(children=(IntProgress(value=0, max=10000), HTML(value='')))"
      ]
     },
     "metadata": {},
     "output_type": "display_data"
    },
    {
     "name": "stdout",
     "output_type": "stream",
     "text": [
      "\n",
      "--- Finished Correlation Attack --- 9999 1573530399.187308\n",
      "Key: 23 \n",
      "Sample: 8660 \n",
      "Correlation: 0.15105788070576676\n",
      "--- Start Correlation Attack ---\n"
     ]
    },
    {
     "data": {
      "application/vnd.jupyter.widget-view+json": {
       "model_id": "73e167b5129143dc94fd6905837bd540",
       "version_major": 2,
       "version_minor": 0
      },
      "text/plain": [
       "HBox(children=(IntProgress(value=0, max=10000), HTML(value='')))"
      ]
     },
     "metadata": {},
     "output_type": "display_data"
    },
    {
     "name": "stdout",
     "output_type": "stream",
     "text": [
      "\n",
      "--- Finished Correlation Attack --- 9999 1573530420.5214224\n",
      "Key: 23 \n",
      "Sample: 7240 \n",
      "Correlation: 0.24273241178300559\n",
      "--- Start Correlation Attack ---\n"
     ]
    },
    {
     "data": {
      "application/vnd.jupyter.widget-view+json": {
       "model_id": "b2b156a7248b4d92827029c4ec0ede28",
       "version_major": 2,
       "version_minor": 0
      },
      "text/plain": [
       "HBox(children=(IntProgress(value=0, max=10000), HTML(value='')))"
      ]
     },
     "metadata": {},
     "output_type": "display_data"
    },
    {
     "name": "stdout",
     "output_type": "stream",
     "text": [
      "\n",
      "--- Finished Correlation Attack --- 9999 1573530441.7912216\n",
      "Key: 23 \n",
      "Sample: 7240 \n",
      "Correlation: 0.22462199289203486\n",
      "--- Start Correlation Attack ---\n"
     ]
    },
    {
     "data": {
      "application/vnd.jupyter.widget-view+json": {
       "model_id": "8cfb517b6d914eb1970e5ee45abd0b2b",
       "version_major": 2,
       "version_minor": 0
      },
      "text/plain": [
       "HBox(children=(IntProgress(value=0, max=10000), HTML(value='')))"
      ]
     },
     "metadata": {},
     "output_type": "display_data"
    },
    {
     "name": "stdout",
     "output_type": "stream",
     "text": [
      "\n",
      "--- Finished Correlation Attack --- 9999 1573530463.335706\n",
      "Key: 23 \n",
      "Sample: 7240 \n",
      "Correlation: 0.2759790932173553\n",
      "--- Start Correlation Attack ---\n"
     ]
    },
    {
     "data": {
      "application/vnd.jupyter.widget-view+json": {
       "model_id": "eaf8c280d6c14ccb8230bcb3ad7d4187",
       "version_major": 2,
       "version_minor": 0
      },
      "text/plain": [
       "HBox(children=(IntProgress(value=0, max=10000), HTML(value='')))"
      ]
     },
     "metadata": {},
     "output_type": "display_data"
    },
    {
     "name": "stdout",
     "output_type": "stream",
     "text": [
      "\n",
      "--- Finished Correlation Attack --- 9999 1573530484.4809854\n",
      "Key: 23 \n",
      "Sample: 6991 \n",
      "Correlation: 0.15166902245947947\n",
      "--- Start Correlation Attack ---\n"
     ]
    },
    {
     "data": {
      "application/vnd.jupyter.widget-view+json": {
       "model_id": "4d46a0a5cabd4f089d4b3aad9d53c9f7",
       "version_major": 2,
       "version_minor": 0
      },
      "text/plain": [
       "HBox(children=(IntProgress(value=0, max=10000), HTML(value='')))"
      ]
     },
     "metadata": {},
     "output_type": "display_data"
    },
    {
     "name": "stdout",
     "output_type": "stream",
     "text": [
      "\n",
      "--- Finished Correlation Attack --- 9999 1573530506.7080693\n",
      "Key: 23 \n",
      "Sample: 7240 \n",
      "Correlation: 0.2809885519984079\n",
      "--- Start Correlation Attack ---\n"
     ]
    },
    {
     "data": {
      "application/vnd.jupyter.widget-view+json": {
       "model_id": "2c6774e20a0e40cb96c7a88fe1fb26ba",
       "version_major": 2,
       "version_minor": 0
      },
      "text/plain": [
       "HBox(children=(IntProgress(value=0, max=10000), HTML(value='')))"
      ]
     },
     "metadata": {},
     "output_type": "display_data"
    },
    {
     "name": "stdout",
     "output_type": "stream",
     "text": [
      "\n",
      "--- Finished Correlation Attack --- 9999 1573530528.658838\n",
      "Key: 23 \n",
      "Sample: 7240 \n",
      "Correlation: 0.19096518662342926\n",
      "--- Start Correlation Attack ---\n"
     ]
    },
    {
     "data": {
      "application/vnd.jupyter.widget-view+json": {
       "model_id": "5f69289e11af4107aafbb670787de87b",
       "version_major": 2,
       "version_minor": 0
      },
      "text/plain": [
       "HBox(children=(IntProgress(value=0, max=10000), HTML(value='')))"
      ]
     },
     "metadata": {},
     "output_type": "display_data"
    },
    {
     "name": "stdout",
     "output_type": "stream",
     "text": [
      "\n",
      "--- Finished Correlation Attack --- 9999 1573530549.9498348\n",
      "Key: 23 \n",
      "Sample: 6182 \n",
      "Correlation: 0.12545280496768024\n",
      "--- Start Correlation Attack ---\n"
     ]
    },
    {
     "data": {
      "application/vnd.jupyter.widget-view+json": {
       "model_id": "43ddab1108c24b188ee1f431366ca70c",
       "version_major": 2,
       "version_minor": 0
      },
      "text/plain": [
       "HBox(children=(IntProgress(value=0, max=10000), HTML(value='')))"
      ]
     },
     "metadata": {},
     "output_type": "display_data"
    },
    {
     "name": "stdout",
     "output_type": "stream",
     "text": [
      "\n",
      "--- Finished Correlation Attack --- 9999 1573530571.5883675\n",
      "Key: 23 \n",
      "Sample: 147 \n",
      "Correlation: 0.14017654791350728\n",
      "--- Start Correlation Attack ---\n"
     ]
    },
    {
     "data": {
      "application/vnd.jupyter.widget-view+json": {
       "model_id": "1c9f1aa174b44975918997b6f68d29aa",
       "version_major": 2,
       "version_minor": 0
      },
      "text/plain": [
       "HBox(children=(IntProgress(value=0, max=10000), HTML(value='')))"
      ]
     },
     "metadata": {},
     "output_type": "display_data"
    },
    {
     "name": "stdout",
     "output_type": "stream",
     "text": [
      "\n",
      "--- Finished Correlation Attack --- 9999 1573530593.1547863\n",
      "Key: 23 \n",
      "Sample: 1675 \n",
      "Correlation: 0.14301232859201257\n",
      "--- Start Correlation Attack ---\n"
     ]
    },
    {
     "data": {
      "application/vnd.jupyter.widget-view+json": {
       "model_id": "b744b1bf59464c3b84dfcc366a615d85",
       "version_major": 2,
       "version_minor": 0
      },
      "text/plain": [
       "HBox(children=(IntProgress(value=0, max=10000), HTML(value='')))"
      ]
     },
     "metadata": {},
     "output_type": "display_data"
    },
    {
     "name": "stdout",
     "output_type": "stream",
     "text": [
      "\n",
      "--- Finished Correlation Attack --- 9999 1573530614.964935\n",
      "Key: 23 \n",
      "Sample: 856 \n",
      "Correlation: 0.15130279441033453\n",
      "--- Start Correlation Attack ---\n"
     ]
    },
    {
     "data": {
      "application/vnd.jupyter.widget-view+json": {
       "model_id": "15feff3175784d05bc2573abc668043f",
       "version_major": 2,
       "version_minor": 0
      },
      "text/plain": [
       "HBox(children=(IntProgress(value=0, max=10000), HTML(value='')))"
      ]
     },
     "metadata": {},
     "output_type": "display_data"
    },
    {
     "name": "stdout",
     "output_type": "stream",
     "text": [
      "\n",
      "--- Finished Correlation Attack --- 9999 1573530636.52743\n",
      "Key: 23 \n",
      "Sample: 8252 \n",
      "Correlation: 0.14967597444485137\n",
      "--- Start Correlation Attack ---\n"
     ]
    },
    {
     "data": {
      "application/vnd.jupyter.widget-view+json": {
       "model_id": "5a5434d7177e46c4a3eac1a3b08e69ce",
       "version_major": 2,
       "version_minor": 0
      },
      "text/plain": [
       "HBox(children=(IntProgress(value=0, max=10000), HTML(value='')))"
      ]
     },
     "metadata": {},
     "output_type": "display_data"
    },
    {
     "name": "stdout",
     "output_type": "stream",
     "text": [
      "\n",
      "--- Finished Correlation Attack --- 9999 1573530658.3660698\n",
      "Key: 23 \n",
      "Sample: 9014 \n",
      "Correlation: 0.19114249630176944\n",
      "--- Start Correlation Attack ---\n"
     ]
    },
    {
     "data": {
      "application/vnd.jupyter.widget-view+json": {
       "model_id": "8ea0eb1f213b462cb39c1ec0d2b639d6",
       "version_major": 2,
       "version_minor": 0
      },
      "text/plain": [
       "HBox(children=(IntProgress(value=0, max=10000), HTML(value='')))"
      ]
     },
     "metadata": {},
     "output_type": "display_data"
    },
    {
     "name": "stdout",
     "output_type": "stream",
     "text": [
      "\n",
      "--- Finished Correlation Attack --- 9999 1573530679.9023733\n",
      "Key: 23 \n",
      "Sample: 5849 \n",
      "Correlation: 0.16529056479089044\n",
      "--- Start Correlation Attack ---\n"
     ]
    },
    {
     "data": {
      "application/vnd.jupyter.widget-view+json": {
       "model_id": "5a1e2879dc7c44888b332e1e8f9c52f1",
       "version_major": 2,
       "version_minor": 0
      },
      "text/plain": [
       "HBox(children=(IntProgress(value=0, max=10000), HTML(value='')))"
      ]
     },
     "metadata": {},
     "output_type": "display_data"
    },
    {
     "name": "stdout",
     "output_type": "stream",
     "text": [
      "\n",
      "--- Finished Correlation Attack --- 9999 1573530701.5394378\n",
      "Key: 23 \n",
      "Sample: 6995 \n",
      "Correlation: 0.13066821082744637\n",
      "--- Start Correlation Attack ---\n"
     ]
    },
    {
     "data": {
      "application/vnd.jupyter.widget-view+json": {
       "model_id": "0785ac78fc9d4082853850e6485b3bb6",
       "version_major": 2,
       "version_minor": 0
      },
      "text/plain": [
       "HBox(children=(IntProgress(value=0, max=10000), HTML(value='')))"
      ]
     },
     "metadata": {},
     "output_type": "display_data"
    },
    {
     "name": "stdout",
     "output_type": "stream",
     "text": [
      "\n",
      "--- Finished Correlation Attack --- 9999 1573530723.36893\n",
      "Key: 23 \n",
      "Sample: 1131 \n",
      "Correlation: 0.12811827763705483\n",
      "--- Start Correlation Attack ---\n"
     ]
    },
    {
     "data": {
      "application/vnd.jupyter.widget-view+json": {
       "model_id": "0869cc1e23834173a8882b1b718054e9",
       "version_major": 2,
       "version_minor": 0
      },
      "text/plain": [
       "HBox(children=(IntProgress(value=0, max=10000), HTML(value='')))"
      ]
     },
     "metadata": {},
     "output_type": "display_data"
    },
    {
     "name": "stdout",
     "output_type": "stream",
     "text": [
      "\n",
      "--- Finished Correlation Attack --- 9999 1573530745.0331016\n",
      "Key: 23 \n",
      "Sample: 6993 \n",
      "Correlation: 0.1437074197676713\n",
      "--- Start Correlation Attack ---\n"
     ]
    },
    {
     "data": {
      "application/vnd.jupyter.widget-view+json": {
       "model_id": "d48fc79479d94ef2aeba8167ae6c11f6",
       "version_major": 2,
       "version_minor": 0
      },
      "text/plain": [
       "HBox(children=(IntProgress(value=0, max=10000), HTML(value='')))"
      ]
     },
     "metadata": {},
     "output_type": "display_data"
    },
    {
     "name": "stdout",
     "output_type": "stream",
     "text": [
      "\n",
      "--- Finished Correlation Attack --- 9999 1573530767.0816834\n",
      "Key: 23 \n",
      "Sample: 6993 \n",
      "Correlation: 0.11881219147900754\n",
      "--- Start Correlation Attack ---\n"
     ]
    },
    {
     "data": {
      "application/vnd.jupyter.widget-view+json": {
       "model_id": "697c8db247944b3b9c574795bb86b4df",
       "version_major": 2,
       "version_minor": 0
      },
      "text/plain": [
       "HBox(children=(IntProgress(value=0, max=10000), HTML(value='')))"
      ]
     },
     "metadata": {},
     "output_type": "display_data"
    },
    {
     "name": "stdout",
     "output_type": "stream",
     "text": [
      "\n",
      "--- Finished Correlation Attack --- 9999 1573530789.0829325\n",
      "Key: 23 \n",
      "Sample: 7242 \n",
      "Correlation: 0.12700968847328764\n",
      "--- Start Correlation Attack ---\n"
     ]
    },
    {
     "data": {
      "application/vnd.jupyter.widget-view+json": {
       "model_id": "ae9c803fa473461886623b14d3bc50bc",
       "version_major": 2,
       "version_minor": 0
      },
      "text/plain": [
       "HBox(children=(IntProgress(value=0, max=10000), HTML(value='')))"
      ]
     },
     "metadata": {},
     "output_type": "display_data"
    },
    {
     "name": "stdout",
     "output_type": "stream",
     "text": [
      "\n",
      "--- Finished Correlation Attack --- 9999 1573530810.8673682\n",
      "Key: 23 \n",
      "Sample: 6993 \n",
      "Correlation: 0.14083935494198235\n",
      "--- Start Correlation Attack ---\n"
     ]
    },
    {
     "data": {
      "application/vnd.jupyter.widget-view+json": {
       "model_id": "7b9fe272680b48f58d93a5479f802b2b",
       "version_major": 2,
       "version_minor": 0
      },
      "text/plain": [
       "HBox(children=(IntProgress(value=0, max=10000), HTML(value='')))"
      ]
     },
     "metadata": {},
     "output_type": "display_data"
    },
    {
     "name": "stdout",
     "output_type": "stream",
     "text": [
      "\n",
      "--- Finished Correlation Attack --- 9999 1573530832.36456\n",
      "Key: 23 \n",
      "Sample: 7242 \n",
      "Correlation: 0.19857732010731405\n",
      "--- Start Correlation Attack ---\n"
     ]
    },
    {
     "data": {
      "application/vnd.jupyter.widget-view+json": {
       "model_id": "4e8a26151dcd4e4399076e1be492f491",
       "version_major": 2,
       "version_minor": 0
      },
      "text/plain": [
       "HBox(children=(IntProgress(value=0, max=10000), HTML(value='')))"
      ]
     },
     "metadata": {},
     "output_type": "display_data"
    },
    {
     "name": "stdout",
     "output_type": "stream",
     "text": [
      "\n",
      "--- Finished Correlation Attack --- 9999 1573530854.075436\n",
      "Key: 23 \n",
      "Sample: 1869 \n",
      "Correlation: 0.11340075656137598\n",
      "--- Start Correlation Attack ---\n"
     ]
    },
    {
     "data": {
      "application/vnd.jupyter.widget-view+json": {
       "model_id": "96518132d42540988c056ee6eb22fd99",
       "version_major": 2,
       "version_minor": 0
      },
      "text/plain": [
       "HBox(children=(IntProgress(value=0, max=10000), HTML(value='')))"
      ]
     },
     "metadata": {},
     "output_type": "display_data"
    },
    {
     "name": "stdout",
     "output_type": "stream",
     "text": [
      "\n",
      "--- Finished Correlation Attack --- 9999 1573530875.5458722\n",
      "Key: 23 \n",
      "Sample: 7239 \n",
      "Correlation: 0.17875657693544075\n",
      "--- Start Correlation Attack ---\n"
     ]
    },
    {
     "data": {
      "application/vnd.jupyter.widget-view+json": {
       "model_id": "0b70f88b0f394224ae32d001b102a10f",
       "version_major": 2,
       "version_minor": 0
      },
      "text/plain": [
       "HBox(children=(IntProgress(value=0, max=10000), HTML(value='')))"
      ]
     },
     "metadata": {},
     "output_type": "display_data"
    },
    {
     "name": "stdout",
     "output_type": "stream",
     "text": [
      "\n",
      "--- Finished Correlation Attack --- 9999 1573530896.7613757\n",
      "Key: 23 \n",
      "Sample: 6992 \n",
      "Correlation: 0.26726772112327446\n",
      "--- Start Correlation Attack ---\n"
     ]
    },
    {
     "data": {
      "application/vnd.jupyter.widget-view+json": {
       "model_id": "96efad20e73b42198506317cb712a429",
       "version_major": 2,
       "version_minor": 0
      },
      "text/plain": [
       "HBox(children=(IntProgress(value=0, max=10000), HTML(value='')))"
      ]
     },
     "metadata": {},
     "output_type": "display_data"
    },
    {
     "name": "stdout",
     "output_type": "stream",
     "text": [
      "\n",
      "--- Finished Correlation Attack --- 9999 1573530918.0576925\n",
      "Key: 23 \n",
      "Sample: 7240 \n",
      "Correlation: 0.2304114914353139\n",
      "--- Start Correlation Attack ---\n"
     ]
    },
    {
     "data": {
      "application/vnd.jupyter.widget-view+json": {
       "model_id": "bde42c02755f4927b3f417f3b6aa34b0",
       "version_major": 2,
       "version_minor": 0
      },
      "text/plain": [
       "HBox(children=(IntProgress(value=0, max=10000), HTML(value='')))"
      ]
     },
     "metadata": {},
     "output_type": "display_data"
    },
    {
     "name": "stdout",
     "output_type": "stream",
     "text": [
      "\n",
      "--- Finished Correlation Attack --- 9999 1573530939.3180962\n",
      "Key: 23 \n",
      "Sample: 7240 \n",
      "Correlation: 0.175821918758936\n",
      "--- Start Correlation Attack ---\n"
     ]
    },
    {
     "data": {
      "application/vnd.jupyter.widget-view+json": {
       "model_id": "3aae6bd2105a47938ef2af14fb08b4a1",
       "version_major": 2,
       "version_minor": 0
      },
      "text/plain": [
       "HBox(children=(IntProgress(value=0, max=10000), HTML(value='')))"
      ]
     },
     "metadata": {},
     "output_type": "display_data"
    },
    {
     "name": "stdout",
     "output_type": "stream",
     "text": [
      "\n",
      "--- Finished Correlation Attack --- 9999 1573530960.6915252\n",
      "Key: 23 \n",
      "Sample: 6991 \n",
      "Correlation: 0.21198175618436557\n",
      "--- Start Correlation Attack ---\n"
     ]
    },
    {
     "data": {
      "application/vnd.jupyter.widget-view+json": {
       "model_id": "84db09966acd40558d887bc3c95a2693",
       "version_major": 2,
       "version_minor": 0
      },
      "text/plain": [
       "HBox(children=(IntProgress(value=0, max=10000), HTML(value='')))"
      ]
     },
     "metadata": {},
     "output_type": "display_data"
    },
    {
     "name": "stdout",
     "output_type": "stream",
     "text": [
      "\n",
      "--- Finished Correlation Attack --- 9999 1573530982.1304193\n",
      "Key: 23 \n",
      "Sample: 7239 \n",
      "Correlation: 0.2208932771111296\n",
      "--- Start Correlation Attack ---\n"
     ]
    },
    {
     "data": {
      "application/vnd.jupyter.widget-view+json": {
       "model_id": "bcce4401edd74cb384b2f831eefa03df",
       "version_major": 2,
       "version_minor": 0
      },
      "text/plain": [
       "HBox(children=(IntProgress(value=0, max=10000), HTML(value='')))"
      ]
     },
     "metadata": {},
     "output_type": "display_data"
    },
    {
     "name": "stdout",
     "output_type": "stream",
     "text": [
      "\n",
      "--- Finished Correlation Attack --- 9999 1573531003.2468448\n",
      "Key: 23 \n",
      "Sample: 2762 \n",
      "Correlation: 0.15358519159647444\n",
      "--- Start Correlation Attack ---\n"
     ]
    },
    {
     "data": {
      "application/vnd.jupyter.widget-view+json": {
       "model_id": "efc1a777e5d542ed993e4633a175db54",
       "version_major": 2,
       "version_minor": 0
      },
      "text/plain": [
       "HBox(children=(IntProgress(value=0, max=10000), HTML(value='')))"
      ]
     },
     "metadata": {},
     "output_type": "display_data"
    },
    {
     "name": "stdout",
     "output_type": "stream",
     "text": [
      "\n",
      "--- Finished Correlation Attack --- 9999 1573531024.5139837\n",
      "Key: 23 \n",
      "Sample: 8795 \n",
      "Correlation: 0.1197641768135547\n",
      "--- Start Correlation Attack ---\n"
     ]
    },
    {
     "data": {
      "application/vnd.jupyter.widget-view+json": {
       "model_id": "5b53bb8ca9ef4a01aba3098c4bc62ae4",
       "version_major": 2,
       "version_minor": 0
      },
      "text/plain": [
       "HBox(children=(IntProgress(value=0, max=10000), HTML(value='')))"
      ]
     },
     "metadata": {},
     "output_type": "display_data"
    },
    {
     "name": "stdout",
     "output_type": "stream",
     "text": [
      "\n",
      "--- Finished Correlation Attack --- 9999 1573531045.7637227\n",
      "Key: 23 \n",
      "Sample: 7760 \n",
      "Correlation: 0.20423432103269992\n",
      "--- Start Correlation Attack ---\n"
     ]
    },
    {
     "data": {
      "application/vnd.jupyter.widget-view+json": {
       "model_id": "426dbe0b5a464fd780a5a0d2ec1a3f93",
       "version_major": 2,
       "version_minor": 0
      },
      "text/plain": [
       "HBox(children=(IntProgress(value=0, max=10000), HTML(value='')))"
      ]
     },
     "metadata": {},
     "output_type": "display_data"
    },
    {
     "name": "stdout",
     "output_type": "stream",
     "text": [
      "\n",
      "--- Finished Correlation Attack --- 9999 1573531067.302828\n",
      "Key: 23 \n",
      "Sample: 9815 \n",
      "Correlation: 0.1500032618142213\n",
      "--- Start Correlation Attack ---\n"
     ]
    },
    {
     "data": {
      "application/vnd.jupyter.widget-view+json": {
       "model_id": "d2d708aa9e3240239ba826bc68e2062f",
       "version_major": 2,
       "version_minor": 0
      },
      "text/plain": [
       "HBox(children=(IntProgress(value=0, max=10000), HTML(value='')))"
      ]
     },
     "metadata": {},
     "output_type": "display_data"
    },
    {
     "name": "stdout",
     "output_type": "stream",
     "text": [
      "\n",
      "--- Finished Correlation Attack --- 9999 1573531088.9306452\n",
      "Key: 23 \n",
      "Sample: 6992 \n",
      "Correlation: 0.1908517533724425\n",
      "--- Start Correlation Attack ---\n"
     ]
    },
    {
     "data": {
      "application/vnd.jupyter.widget-view+json": {
       "model_id": "d1f0734c5a104c2bae909ee2793152df",
       "version_major": 2,
       "version_minor": 0
      },
      "text/plain": [
       "HBox(children=(IntProgress(value=0, max=10000), HTML(value='')))"
      ]
     },
     "metadata": {},
     "output_type": "display_data"
    },
    {
     "name": "stdout",
     "output_type": "stream",
     "text": [
      "\n",
      "--- Finished Correlation Attack --- 9999 1573531110.1712112\n",
      "Key: 23 \n",
      "Sample: 6992 \n",
      "Correlation: 0.24882571997635902\n",
      "--- Start Correlation Attack ---\n"
     ]
    },
    {
     "data": {
      "application/vnd.jupyter.widget-view+json": {
       "model_id": "499f6fd091b14a47807ae1f420c6dc6d",
       "version_major": 2,
       "version_minor": 0
      },
      "text/plain": [
       "HBox(children=(IntProgress(value=0, max=10000), HTML(value='')))"
      ]
     },
     "metadata": {},
     "output_type": "display_data"
    },
    {
     "name": "stdout",
     "output_type": "stream",
     "text": [
      "\n",
      "--- Finished Correlation Attack --- 9999 1573531131.6551492\n",
      "Key: 23 \n",
      "Sample: 6992 \n",
      "Correlation: 0.18335526053019555\n",
      "--- Start Correlation Attack ---\n"
     ]
    },
    {
     "data": {
      "application/vnd.jupyter.widget-view+json": {
       "model_id": "824bd7790f294c5c86116269063fb0c1",
       "version_major": 2,
       "version_minor": 0
      },
      "text/plain": [
       "HBox(children=(IntProgress(value=0, max=10000), HTML(value='')))"
      ]
     },
     "metadata": {},
     "output_type": "display_data"
    },
    {
     "name": "stdout",
     "output_type": "stream",
     "text": [
      "\n",
      "--- Finished Correlation Attack --- 9999 1573531152.8654444\n",
      "Key: 23 \n",
      "Sample: 9174 \n",
      "Correlation: 0.13227021955067705\n",
      "--- Start Correlation Attack ---\n"
     ]
    },
    {
     "data": {
      "application/vnd.jupyter.widget-view+json": {
       "model_id": "5dd2306bf21e408db7d38564f41772db",
       "version_major": 2,
       "version_minor": 0
      },
      "text/plain": [
       "HBox(children=(IntProgress(value=0, max=10000), HTML(value='')))"
      ]
     },
     "metadata": {},
     "output_type": "display_data"
    },
    {
     "name": "stdout",
     "output_type": "stream",
     "text": [
      "\n",
      "--- Finished Correlation Attack --- 9999 1573531174.0558674\n",
      "Key: 23 \n",
      "Sample: 7242 \n",
      "Correlation: 0.16466770849602705\n",
      "--- Start Correlation Attack ---\n"
     ]
    },
    {
     "data": {
      "application/vnd.jupyter.widget-view+json": {
       "model_id": "a9381a93a3904f49bb9a883c6388863b",
       "version_major": 2,
       "version_minor": 0
      },
      "text/plain": [
       "HBox(children=(IntProgress(value=0, max=10000), HTML(value='')))"
      ]
     },
     "metadata": {},
     "output_type": "display_data"
    },
    {
     "name": "stdout",
     "output_type": "stream",
     "text": [
      "\n",
      "--- Finished Correlation Attack --- 9999 1573531195.1826832\n",
      "Key: 23 \n",
      "Sample: 7242 \n",
      "Correlation: 0.1776389513132243\n",
      "--- Start Correlation Attack ---\n"
     ]
    },
    {
     "data": {
      "application/vnd.jupyter.widget-view+json": {
       "model_id": "7960c1ce684846ca878fc55a3c915af5",
       "version_major": 2,
       "version_minor": 0
      },
      "text/plain": [
       "HBox(children=(IntProgress(value=0, max=10000), HTML(value='')))"
      ]
     },
     "metadata": {},
     "output_type": "display_data"
    },
    {
     "name": "stdout",
     "output_type": "stream",
     "text": [
      "\n",
      "--- Finished Correlation Attack --- 9999 1573531216.54504\n",
      "Key: 23 \n",
      "Sample: 6382 \n",
      "Correlation: 0.1109533297789274\n",
      "--- Start Correlation Attack ---\n"
     ]
    },
    {
     "data": {
      "application/vnd.jupyter.widget-view+json": {
       "model_id": "fbe57306a3ab4945acb4cc33c5cf0498",
       "version_major": 2,
       "version_minor": 0
      },
      "text/plain": [
       "HBox(children=(IntProgress(value=0, max=10000), HTML(value='')))"
      ]
     },
     "metadata": {},
     "output_type": "display_data"
    },
    {
     "name": "stdout",
     "output_type": "stream",
     "text": [
      "\n",
      "--- Finished Correlation Attack --- 9999 1573531237.7495196\n",
      "Key: 23 \n",
      "Sample: 7242 \n",
      "Correlation: 0.1777268962529099\n",
      "--- Start Correlation Attack ---\n"
     ]
    },
    {
     "data": {
      "application/vnd.jupyter.widget-view+json": {
       "model_id": "ec9bee6e2b7e476080c0d6718e67d089",
       "version_major": 2,
       "version_minor": 0
      },
      "text/plain": [
       "HBox(children=(IntProgress(value=0, max=10000), HTML(value='')))"
      ]
     },
     "metadata": {},
     "output_type": "display_data"
    },
    {
     "name": "stdout",
     "output_type": "stream",
     "text": [
      "\n",
      "--- Finished Correlation Attack --- 9999 1573531259.0779269\n",
      "Key: 23 \n",
      "Sample: 7242 \n",
      "Correlation: 0.14995112410957984\n",
      "--- Start Correlation Attack ---\n"
     ]
    },
    {
     "data": {
      "application/vnd.jupyter.widget-view+json": {
       "model_id": "cdff6964069644aeb4ae7c0e768910f3",
       "version_major": 2,
       "version_minor": 0
      },
      "text/plain": [
       "HBox(children=(IntProgress(value=0, max=10000), HTML(value='')))"
      ]
     },
     "metadata": {},
     "output_type": "display_data"
    },
    {
     "name": "stdout",
     "output_type": "stream",
     "text": [
      "\n",
      "--- Finished Correlation Attack --- 9999 1573531280.3909652\n",
      "Key: 23 \n",
      "Sample: 7242 \n",
      "Correlation: 0.17113323574400255\n",
      "--- Start Correlation Attack ---\n"
     ]
    },
    {
     "data": {
      "application/vnd.jupyter.widget-view+json": {
       "model_id": "24164377cea140e58a6163a7db12d549",
       "version_major": 2,
       "version_minor": 0
      },
      "text/plain": [
       "HBox(children=(IntProgress(value=0, max=10000), HTML(value='')))"
      ]
     },
     "metadata": {},
     "output_type": "display_data"
    },
    {
     "name": "stdout",
     "output_type": "stream",
     "text": [
      "\n",
      "--- Finished Correlation Attack --- 9999 1573531301.5433095\n",
      "Key: 23 \n",
      "Sample: 6059 \n",
      "Correlation: 0.13003042597461964\n",
      "--- Start Correlation Attack ---\n"
     ]
    },
    {
     "data": {
      "application/vnd.jupyter.widget-view+json": {
       "model_id": "3fb801a16cdd455095d8c4bca6b9bffa",
       "version_major": 2,
       "version_minor": 0
      },
      "text/plain": [
       "HBox(children=(IntProgress(value=0, max=10000), HTML(value='')))"
      ]
     },
     "metadata": {},
     "output_type": "display_data"
    },
    {
     "name": "stdout",
     "output_type": "stream",
     "text": [
      "\n",
      "--- Finished Correlation Attack --- 9999 1573531322.8293157\n",
      "Key: 23 \n",
      "Sample: 6117 \n",
      "Correlation: 0.16043134740814347\n",
      "--- Start Correlation Attack ---\n"
     ]
    },
    {
     "data": {
      "application/vnd.jupyter.widget-view+json": {
       "model_id": "fb1d30a83ceb4cffb925df9100216505",
       "version_major": 2,
       "version_minor": 0
      },
      "text/plain": [
       "HBox(children=(IntProgress(value=0, max=10000), HTML(value='')))"
      ]
     },
     "metadata": {},
     "output_type": "display_data"
    },
    {
     "name": "stdout",
     "output_type": "stream",
     "text": [
      "\n",
      "--- Finished Correlation Attack --- 9999 1573531344.1638932\n",
      "Key: 23 \n",
      "Sample: 7240 \n",
      "Correlation: 0.2388093874339813\n",
      "--- Start Correlation Attack ---\n"
     ]
    },
    {
     "data": {
      "application/vnd.jupyter.widget-view+json": {
       "model_id": "372d5ab4efa448078bc82fdd6eabddb2",
       "version_major": 2,
       "version_minor": 0
      },
      "text/plain": [
       "HBox(children=(IntProgress(value=0, max=10000), HTML(value='')))"
      ]
     },
     "metadata": {},
     "output_type": "display_data"
    },
    {
     "name": "stdout",
     "output_type": "stream",
     "text": [
      "\n",
      "--- Finished Correlation Attack --- 9999 1573531365.6279373\n",
      "Key: 23 \n",
      "Sample: 6990 \n",
      "Correlation: 0.21301104115716077\n",
      "--- Start Correlation Attack ---\n"
     ]
    },
    {
     "data": {
      "application/vnd.jupyter.widget-view+json": {
       "model_id": "e20ecd67bb3343ea966e339efb457684",
       "version_major": 2,
       "version_minor": 0
      },
      "text/plain": [
       "HBox(children=(IntProgress(value=0, max=10000), HTML(value='')))"
      ]
     },
     "metadata": {},
     "output_type": "display_data"
    },
    {
     "name": "stdout",
     "output_type": "stream",
     "text": [
      "\n",
      "--- Finished Correlation Attack --- 9999 1573531386.8030105\n",
      "Key: 23 \n",
      "Sample: 6990 \n",
      "Correlation: 0.19863505276732435\n",
      "--- Start Correlation Attack ---\n"
     ]
    },
    {
     "data": {
      "application/vnd.jupyter.widget-view+json": {
       "model_id": "5703651bc0134e6093f512e0cf198578",
       "version_major": 2,
       "version_minor": 0
      },
      "text/plain": [
       "HBox(children=(IntProgress(value=0, max=10000), HTML(value='')))"
      ]
     },
     "metadata": {},
     "output_type": "display_data"
    },
    {
     "name": "stdout",
     "output_type": "stream",
     "text": [
      "\n",
      "--- Finished Correlation Attack --- 9999 1573531408.1088257\n",
      "Key: 23 \n",
      "Sample: 6991 \n",
      "Correlation: 0.1667329701254117\n",
      "--- Start Correlation Attack ---\n"
     ]
    },
    {
     "data": {
      "application/vnd.jupyter.widget-view+json": {
       "model_id": "2d385f4b006243a6b9f172d1e377bf79",
       "version_major": 2,
       "version_minor": 0
      },
      "text/plain": [
       "HBox(children=(IntProgress(value=0, max=10000), HTML(value='')))"
      ]
     },
     "metadata": {},
     "output_type": "display_data"
    },
    {
     "name": "stdout",
     "output_type": "stream",
     "text": [
      "\n",
      "--- Finished Correlation Attack --- 9999 1573531429.3758109\n",
      "Key: 23 \n",
      "Sample: 7239 \n",
      "Correlation: 0.18031111676984982\n",
      "--- Start Correlation Attack ---\n"
     ]
    },
    {
     "data": {
      "application/vnd.jupyter.widget-view+json": {
       "model_id": "c1ec3f0492ea4dd3868fd8c764b3641b",
       "version_major": 2,
       "version_minor": 0
      },
      "text/plain": [
       "HBox(children=(IntProgress(value=0, max=10000), HTML(value='')))"
      ]
     },
     "metadata": {},
     "output_type": "display_data"
    },
    {
     "name": "stdout",
     "output_type": "stream",
     "text": [
      "\n",
      "--- Finished Correlation Attack --- 9999 1573531450.5168898\n",
      "Key: 23 \n",
      "Sample: 5470 \n",
      "Correlation: 0.1314434585550579\n",
      "--- Start Correlation Attack ---\n"
     ]
    },
    {
     "data": {
      "application/vnd.jupyter.widget-view+json": {
       "model_id": "67b60751cc0b4f72bc1269d10a2817ac",
       "version_major": 2,
       "version_minor": 0
      },
      "text/plain": [
       "HBox(children=(IntProgress(value=0, max=10000), HTML(value='')))"
      ]
     },
     "metadata": {},
     "output_type": "display_data"
    },
    {
     "name": "stdout",
     "output_type": "stream",
     "text": [
      "\n",
      "--- Finished Correlation Attack --- 9999 1573531471.9040077\n",
      "Key: 23 \n",
      "Sample: 8466 \n",
      "Correlation: 0.12859358509939103\n",
      "--- Start Correlation Attack ---\n"
     ]
    },
    {
     "data": {
      "application/vnd.jupyter.widget-view+json": {
       "model_id": "a59d40a53b2941a89afffb3bf45b3f77",
       "version_major": 2,
       "version_minor": 0
      },
      "text/plain": [
       "HBox(children=(IntProgress(value=0, max=10000), HTML(value='')))"
      ]
     },
     "metadata": {},
     "output_type": "display_data"
    },
    {
     "name": "stdout",
     "output_type": "stream",
     "text": [
      "\n",
      "--- Finished Correlation Attack --- 9999 1573531493.1721816\n",
      "Key: 23 \n",
      "Sample: 3859 \n",
      "Correlation: 0.20119043605286177\n",
      "--- Start Correlation Attack ---\n"
     ]
    },
    {
     "data": {
      "application/vnd.jupyter.widget-view+json": {
       "model_id": "04fc5a481bef44d2a3d1078dd1d7e28f",
       "version_major": 2,
       "version_minor": 0
      },
      "text/plain": [
       "HBox(children=(IntProgress(value=0, max=10000), HTML(value='')))"
      ]
     },
     "metadata": {},
     "output_type": "display_data"
    },
    {
     "name": "stdout",
     "output_type": "stream",
     "text": [
      "\n",
      "--- Finished Correlation Attack --- 9999 1573531514.5242774\n",
      "Key: 23 \n",
      "Sample: 5714 \n",
      "Correlation: 0.17459928431898106\n",
      "--- Start Correlation Attack ---\n"
     ]
    },
    {
     "data": {
      "application/vnd.jupyter.widget-view+json": {
       "model_id": "5c414a9fbd83453c80067e29d8362dc9",
       "version_major": 2,
       "version_minor": 0
      },
      "text/plain": [
       "HBox(children=(IntProgress(value=0, max=10000), HTML(value='')))"
      ]
     },
     "metadata": {},
     "output_type": "display_data"
    },
    {
     "name": "stdout",
     "output_type": "stream",
     "text": [
      "\n",
      "--- Finished Correlation Attack --- 9999 1573531535.5877163\n",
      "Key: 23 \n",
      "Sample: 7005 \n",
      "Correlation: 0.17701160051861073\n",
      "--- Start Correlation Attack ---\n"
     ]
    },
    {
     "data": {
      "application/vnd.jupyter.widget-view+json": {
       "model_id": "81f5c31635c14f759a55c54794197302",
       "version_major": 2,
       "version_minor": 0
      },
      "text/plain": [
       "HBox(children=(IntProgress(value=0, max=10000), HTML(value='')))"
      ]
     },
     "metadata": {},
     "output_type": "display_data"
    },
    {
     "name": "stdout",
     "output_type": "stream",
     "text": [
      "\n",
      "--- Finished Correlation Attack --- 9999 1573531556.9403863\n",
      "Key: 23 \n",
      "Sample: 6998 \n",
      "Correlation: 0.15318458302927923\n",
      "--- Start Correlation Attack ---\n"
     ]
    },
    {
     "data": {
      "application/vnd.jupyter.widget-view+json": {
       "model_id": "c1fdd9817fe044ce8feff4c76edb8761",
       "version_major": 2,
       "version_minor": 0
      },
      "text/plain": [
       "HBox(children=(IntProgress(value=0, max=10000), HTML(value='')))"
      ]
     },
     "metadata": {},
     "output_type": "display_data"
    },
    {
     "name": "stdout",
     "output_type": "stream",
     "text": [
      "\n",
      "--- Finished Correlation Attack --- 9999 1573531578.3258407\n",
      "Key: 23 \n",
      "Sample: 7256 \n",
      "Correlation: 0.18759779116899283\n",
      "--- Start Correlation Attack ---\n"
     ]
    },
    {
     "data": {
      "application/vnd.jupyter.widget-view+json": {
       "model_id": "f56f306d3e2a4fd093362229d514cdd9",
       "version_major": 2,
       "version_minor": 0
      },
      "text/plain": [
       "HBox(children=(IntProgress(value=0, max=10000), HTML(value='')))"
      ]
     },
     "metadata": {},
     "output_type": "display_data"
    },
    {
     "name": "stdout",
     "output_type": "stream",
     "text": [
      "\n",
      "--- Finished Correlation Attack --- 9999 1573531599.549441\n",
      "Key: 23 \n",
      "Sample: 7244 \n",
      "Correlation: 0.10871896874268844\n",
      "--- Start Correlation Attack ---\n"
     ]
    },
    {
     "data": {
      "application/vnd.jupyter.widget-view+json": {
       "model_id": "0d06cf47288340d59c30f8b6ef76eb5f",
       "version_major": 2,
       "version_minor": 0
      },
      "text/plain": [
       "HBox(children=(IntProgress(value=0, max=10000), HTML(value='')))"
      ]
     },
     "metadata": {},
     "output_type": "display_data"
    },
    {
     "name": "stdout",
     "output_type": "stream",
     "text": [
      "\n",
      "--- Finished Correlation Attack --- 9999 1573531620.816337\n",
      "Key: 23 \n",
      "Sample: 8339 \n",
      "Correlation: 0.1285782847245971\n",
      "--- Start Correlation Attack ---\n"
     ]
    },
    {
     "data": {
      "application/vnd.jupyter.widget-view+json": {
       "model_id": "bbfe495c5411435d89067c472e6a760e",
       "version_major": 2,
       "version_minor": 0
      },
      "text/plain": [
       "HBox(children=(IntProgress(value=0, max=10000), HTML(value='')))"
      ]
     },
     "metadata": {},
     "output_type": "display_data"
    },
    {
     "name": "stdout",
     "output_type": "stream",
     "text": [
      "\n",
      "--- Finished Correlation Attack --- 9999 1573531642.1281762\n",
      "Key: 23 \n",
      "Sample: 4135 \n",
      "Correlation: 0.15433713574229382\n",
      "--- Start Correlation Attack ---\n"
     ]
    },
    {
     "data": {
      "application/vnd.jupyter.widget-view+json": {
       "model_id": "ee1fca06d9cd417baf49c08446cf0797",
       "version_major": 2,
       "version_minor": 0
      },
      "text/plain": [
       "HBox(children=(IntProgress(value=0, max=10000), HTML(value='')))"
      ]
     },
     "metadata": {},
     "output_type": "display_data"
    },
    {
     "name": "stdout",
     "output_type": "stream",
     "text": [
      "\n",
      "--- Finished Correlation Attack --- 9999 1573531663.5061054\n",
      "Key: 23 \n",
      "Sample: 7152 \n",
      "Correlation: 0.1246790697695502\n",
      "--- Start Correlation Attack ---\n"
     ]
    },
    {
     "data": {
      "application/vnd.jupyter.widget-view+json": {
       "model_id": "43395a24e9134740960aa7211466669b",
       "version_major": 2,
       "version_minor": 0
      },
      "text/plain": [
       "HBox(children=(IntProgress(value=0, max=10000), HTML(value='')))"
      ]
     },
     "metadata": {},
     "output_type": "display_data"
    },
    {
     "name": "stdout",
     "output_type": "stream",
     "text": [
      "\n",
      "--- Finished Correlation Attack --- 9999 1573531684.775429\n",
      "Key: 23 \n",
      "Sample: 912 \n",
      "Correlation: 0.15522487563839568\n",
      "--- Start Correlation Attack ---\n"
     ]
    },
    {
     "data": {
      "application/vnd.jupyter.widget-view+json": {
       "model_id": "7be72da0bd7249e883ae5388594499f0",
       "version_major": 2,
       "version_minor": 0
      },
      "text/plain": [
       "HBox(children=(IntProgress(value=0, max=10000), HTML(value='')))"
      ]
     },
     "metadata": {},
     "output_type": "display_data"
    },
    {
     "name": "stdout",
     "output_type": "stream",
     "text": [
      "\n",
      "--- Finished Correlation Attack --- 9999 1573531706.1575186\n",
      "Key: 23 \n",
      "Sample: 8117 \n",
      "Correlation: 0.11823020973524528\n",
      "--- Start Correlation Attack ---\n"
     ]
    },
    {
     "data": {
      "application/vnd.jupyter.widget-view+json": {
       "model_id": "a73b2f99f9764f97924617bfe38416b6",
       "version_major": 2,
       "version_minor": 0
      },
      "text/plain": [
       "HBox(children=(IntProgress(value=0, max=10000), HTML(value='')))"
      ]
     },
     "metadata": {},
     "output_type": "display_data"
    },
    {
     "name": "stdout",
     "output_type": "stream",
     "text": [
      "\n",
      "--- Finished Correlation Attack --- 9999 1573531727.4379904\n",
      "Key: 23 \n",
      "Sample: 7756 \n",
      "Correlation: 0.15437627970249398\n",
      "--- Start Correlation Attack ---\n"
     ]
    },
    {
     "data": {
      "application/vnd.jupyter.widget-view+json": {
       "model_id": "feefccfc8142420a8e2807b3690d1401",
       "version_major": 2,
       "version_minor": 0
      },
      "text/plain": [
       "HBox(children=(IntProgress(value=0, max=10000), HTML(value='')))"
      ]
     },
     "metadata": {},
     "output_type": "display_data"
    },
    {
     "name": "stdout",
     "output_type": "stream",
     "text": [
      "\n",
      "--- Finished Correlation Attack --- 9999 1573531748.7269962\n",
      "Key: 23 \n",
      "Sample: 6993 \n",
      "Correlation: 0.1521627191039219\n",
      "--- Start Correlation Attack ---\n"
     ]
    },
    {
     "data": {
      "application/vnd.jupyter.widget-view+json": {
       "model_id": "ca7e1fcd203e4655a27a9dca1b496b33",
       "version_major": 2,
       "version_minor": 0
      },
      "text/plain": [
       "HBox(children=(IntProgress(value=0, max=10000), HTML(value='')))"
      ]
     },
     "metadata": {},
     "output_type": "display_data"
    },
    {
     "name": "stdout",
     "output_type": "stream",
     "text": [
      "\n",
      "--- Finished Correlation Attack --- 9999 1573531770.089371\n",
      "Key: 23 \n",
      "Sample: 9308 \n",
      "Correlation: 0.13254843243863212\n",
      "--- Start Correlation Attack ---\n"
     ]
    },
    {
     "data": {
      "application/vnd.jupyter.widget-view+json": {
       "model_id": "678c91016f8342f5931651928cf16dd2",
       "version_major": 2,
       "version_minor": 0
      },
      "text/plain": [
       "HBox(children=(IntProgress(value=0, max=10000), HTML(value='')))"
      ]
     },
     "metadata": {},
     "output_type": "display_data"
    },
    {
     "name": "stdout",
     "output_type": "stream",
     "text": [
      "\n",
      "--- Finished Correlation Attack --- 9999 1573531791.399646\n",
      "Key: 23 \n",
      "Sample: 6990 \n",
      "Correlation: 0.22415801167485777\n",
      "--- Start Correlation Attack ---\n"
     ]
    },
    {
     "data": {
      "application/vnd.jupyter.widget-view+json": {
       "model_id": "0f406416adc14e71aee2dc32156e0ca1",
       "version_major": 2,
       "version_minor": 0
      },
      "text/plain": [
       "HBox(children=(IntProgress(value=0, max=10000), HTML(value='')))"
      ]
     },
     "metadata": {},
     "output_type": "display_data"
    },
    {
     "name": "stdout",
     "output_type": "stream",
     "text": [
      "\n",
      "--- Finished Correlation Attack --- 9999 1573531812.9637127\n",
      "Key: 23 \n",
      "Sample: 9001 \n",
      "Correlation: 0.14611413385360883\n",
      "--- Start Correlation Attack ---\n"
     ]
    },
    {
     "data": {
      "application/vnd.jupyter.widget-view+json": {
       "model_id": "5a6bd9281e8a4a55b59475cb73948d2b",
       "version_major": 2,
       "version_minor": 0
      },
      "text/plain": [
       "HBox(children=(IntProgress(value=0, max=10000), HTML(value='')))"
      ]
     },
     "metadata": {},
     "output_type": "display_data"
    },
    {
     "name": "stdout",
     "output_type": "stream",
     "text": [
      "\n",
      "--- Finished Correlation Attack --- 9999 1573531834.46969\n",
      "Key: 23 \n",
      "Sample: 6991 \n",
      "Correlation: 0.12624795580363235\n",
      "--- Start Correlation Attack ---\n"
     ]
    },
    {
     "data": {
      "application/vnd.jupyter.widget-view+json": {
       "model_id": "21bbe23de2684cb186d6031ddd66bb6f",
       "version_major": 2,
       "version_minor": 0
      },
      "text/plain": [
       "HBox(children=(IntProgress(value=0, max=10000), HTML(value='')))"
      ]
     },
     "metadata": {},
     "output_type": "display_data"
    },
    {
     "name": "stdout",
     "output_type": "stream",
     "text": [
      "\n",
      "--- Finished Correlation Attack --- 9999 1573531855.7687807\n",
      "Key: 23 \n",
      "Sample: 6991 \n",
      "Correlation: 0.2055096435398776\n",
      "--- Start Correlation Attack ---\n"
     ]
    },
    {
     "data": {
      "application/vnd.jupyter.widget-view+json": {
       "model_id": "98625b5f1e3c4177b4a73d4ee107d03a",
       "version_major": 2,
       "version_minor": 0
      },
      "text/plain": [
       "HBox(children=(IntProgress(value=0, max=10000), HTML(value='')))"
      ]
     },
     "metadata": {},
     "output_type": "display_data"
    },
    {
     "name": "stdout",
     "output_type": "stream",
     "text": [
      "\n",
      "--- Finished Correlation Attack --- 9999 1573531877.3979487\n",
      "Key: 23 \n",
      "Sample: 4809 \n",
      "Correlation: 0.15492476644097664\n",
      "--- Start Correlation Attack ---\n"
     ]
    },
    {
     "data": {
      "application/vnd.jupyter.widget-view+json": {
       "model_id": "55651e2d9c6a44c4a31e2f7d78496d5c",
       "version_major": 2,
       "version_minor": 0
      },
      "text/plain": [
       "HBox(children=(IntProgress(value=0, max=10000), HTML(value='')))"
      ]
     },
     "metadata": {},
     "output_type": "display_data"
    },
    {
     "name": "stdout",
     "output_type": "stream",
     "text": [
      "\n",
      "--- Finished Correlation Attack --- 9999 1573531898.768085\n",
      "Key: 23 \n",
      "Sample: 6992 \n",
      "Correlation: 0.1419683689352891\n",
      "--- Start Correlation Attack ---\n"
     ]
    },
    {
     "data": {
      "application/vnd.jupyter.widget-view+json": {
       "model_id": "b82ffdebfdf54125b81769ae2f16f3f8",
       "version_major": 2,
       "version_minor": 0
      },
      "text/plain": [
       "HBox(children=(IntProgress(value=0, max=10000), HTML(value='')))"
      ]
     },
     "metadata": {},
     "output_type": "display_data"
    },
    {
     "name": "stdout",
     "output_type": "stream",
     "text": [
      "\n",
      "--- Finished Correlation Attack --- 9999 1573531920.1495938\n",
      "Key: 23 \n",
      "Sample: 9177 \n",
      "Correlation: 0.16403006469935433\n",
      "--- Start Correlation Attack ---\n"
     ]
    },
    {
     "data": {
      "application/vnd.jupyter.widget-view+json": {
       "model_id": "7b2ff54374ae442c81aa15532a775a68",
       "version_major": 2,
       "version_minor": 0
      },
      "text/plain": [
       "HBox(children=(IntProgress(value=0, max=10000), HTML(value='')))"
      ]
     },
     "metadata": {},
     "output_type": "display_data"
    },
    {
     "name": "stdout",
     "output_type": "stream",
     "text": [
      "\n",
      "--- Finished Correlation Attack --- 9999 1573531941.4615865\n",
      "Key: 23 \n",
      "Sample: 8185 \n",
      "Correlation: 0.1428385179335267\n",
      "--- Start Correlation Attack ---\n"
     ]
    },
    {
     "data": {
      "application/vnd.jupyter.widget-view+json": {
       "model_id": "86583486e30145dea59bcc7328f9ff84",
       "version_major": 2,
       "version_minor": 0
      },
      "text/plain": [
       "HBox(children=(IntProgress(value=0, max=10000), HTML(value='')))"
      ]
     },
     "metadata": {},
     "output_type": "display_data"
    },
    {
     "name": "stdout",
     "output_type": "stream",
     "text": [
      "\n",
      "--- Finished Correlation Attack --- 9999 1573531962.7743933\n",
      "Key: 23 \n",
      "Sample: 7580 \n",
      "Correlation: 0.1849267350816522\n",
      "--- Start Correlation Attack ---\n"
     ]
    },
    {
     "data": {
      "application/vnd.jupyter.widget-view+json": {
       "model_id": "2682fe987a884253b93fc51ea58601e6",
       "version_major": 2,
       "version_minor": 0
      },
      "text/plain": [
       "HBox(children=(IntProgress(value=0, max=10000), HTML(value='')))"
      ]
     },
     "metadata": {},
     "output_type": "display_data"
    },
    {
     "name": "stdout",
     "output_type": "stream",
     "text": [
      "\n",
      "--- Finished Correlation Attack --- 9999 1573531984.181973\n",
      "Key: 23 \n",
      "Sample: 7580 \n",
      "Correlation: 0.232783639755559\n",
      "--- Start Correlation Attack ---\n"
     ]
    },
    {
     "data": {
      "application/vnd.jupyter.widget-view+json": {
       "model_id": "60ccb313661d4ff3844b69c37ab5dc18",
       "version_major": 2,
       "version_minor": 0
      },
      "text/plain": [
       "HBox(children=(IntProgress(value=0, max=10000), HTML(value='')))"
      ]
     },
     "metadata": {},
     "output_type": "display_data"
    },
    {
     "name": "stdout",
     "output_type": "stream",
     "text": [
      "\n",
      "--- Finished Correlation Attack --- 9999 1573532005.5251007\n",
      "Key: 23 \n",
      "Sample: 6132 \n",
      "Correlation: 0.15034868451986522\n",
      "--- Start Correlation Attack ---\n"
     ]
    },
    {
     "data": {
      "application/vnd.jupyter.widget-view+json": {
       "model_id": "26cec0f2fa63479480c5173c18f52785",
       "version_major": 2,
       "version_minor": 0
      },
      "text/plain": [
       "HBox(children=(IntProgress(value=0, max=10000), HTML(value='')))"
      ]
     },
     "metadata": {},
     "output_type": "display_data"
    },
    {
     "name": "stdout",
     "output_type": "stream",
     "text": [
      "\n",
      "--- Finished Correlation Attack --- 9999 1573532027.0076334\n",
      "Key: 23 \n",
      "Sample: 6845 \n",
      "Correlation: 0.14262116445681383\n",
      "--- Start Correlation Attack ---\n"
     ]
    },
    {
     "data": {
      "application/vnd.jupyter.widget-view+json": {
       "model_id": "1ee8212d13034b6b8d1e0c0fa8435913",
       "version_major": 2,
       "version_minor": 0
      },
      "text/plain": [
       "HBox(children=(IntProgress(value=0, max=10000), HTML(value='')))"
      ]
     },
     "metadata": {},
     "output_type": "display_data"
    },
    {
     "name": "stdout",
     "output_type": "stream",
     "text": [
      "\n",
      "--- Finished Correlation Attack --- 9999 1573532048.566755\n",
      "Key: 23 \n",
      "Sample: 7240 \n",
      "Correlation: 0.22401058172038413\n",
      "--- Start Correlation Attack ---\n"
     ]
    },
    {
     "data": {
      "application/vnd.jupyter.widget-view+json": {
       "model_id": "67ffad7aa9a74b00a0761b450a99fded",
       "version_major": 2,
       "version_minor": 0
      },
      "text/plain": [
       "HBox(children=(IntProgress(value=0, max=10000), HTML(value='')))"
      ]
     },
     "metadata": {},
     "output_type": "display_data"
    },
    {
     "name": "stdout",
     "output_type": "stream",
     "text": [
      "\n",
      "--- Finished Correlation Attack --- 9999 1573532070.0378897\n",
      "Key: 23 \n",
      "Sample: 7240 \n",
      "Correlation: 0.24198035948944527\n",
      "--- Start Correlation Attack ---\n"
     ]
    },
    {
     "data": {
      "application/vnd.jupyter.widget-view+json": {
       "model_id": "15d39a6d8f134dd2bc03952dbe7ca423",
       "version_major": 2,
       "version_minor": 0
      },
      "text/plain": [
       "HBox(children=(IntProgress(value=0, max=10000), HTML(value='')))"
      ]
     },
     "metadata": {},
     "output_type": "display_data"
    },
    {
     "name": "stdout",
     "output_type": "stream",
     "text": [
      "\n",
      "--- Finished Correlation Attack --- 9999 1573532091.456828\n",
      "Key: 23 \n",
      "Sample: 7240 \n",
      "Correlation: 0.20036033869187292\n",
      "--- Start Correlation Attack ---\n"
     ]
    },
    {
     "data": {
      "application/vnd.jupyter.widget-view+json": {
       "model_id": "51a0735b08e14207b52c634ed0e244b4",
       "version_major": 2,
       "version_minor": 0
      },
      "text/plain": [
       "HBox(children=(IntProgress(value=0, max=10000), HTML(value='')))"
      ]
     },
     "metadata": {},
     "output_type": "display_data"
    },
    {
     "name": "stdout",
     "output_type": "stream",
     "text": [
      "\n",
      "--- Finished Correlation Attack --- 9999 1573532112.8019862\n",
      "Key: 23 \n",
      "Sample: 7240 \n",
      "Correlation: 0.246247796000632\n",
      "--- Start Correlation Attack ---\n"
     ]
    },
    {
     "data": {
      "application/vnd.jupyter.widget-view+json": {
       "model_id": "df6472659351423aa952d993d5ae150b",
       "version_major": 2,
       "version_minor": 0
      },
      "text/plain": [
       "HBox(children=(IntProgress(value=0, max=10000), HTML(value='')))"
      ]
     },
     "metadata": {},
     "output_type": "display_data"
    },
    {
     "name": "stdout",
     "output_type": "stream",
     "text": [
      "\n",
      "--- Finished Correlation Attack --- 9999 1573532134.1629972\n",
      "Key: 23 \n",
      "Sample: 7240 \n",
      "Correlation: 0.22239020872733484\n",
      "--- Start Correlation Attack ---\n"
     ]
    },
    {
     "data": {
      "application/vnd.jupyter.widget-view+json": {
       "model_id": "b209811dbcb94e09af7dd315ceb9d9f4",
       "version_major": 2,
       "version_minor": 0
      },
      "text/plain": [
       "HBox(children=(IntProgress(value=0, max=10000), HTML(value='')))"
      ]
     },
     "metadata": {},
     "output_type": "display_data"
    },
    {
     "name": "stdout",
     "output_type": "stream",
     "text": [
      "\n",
      "--- Finished Correlation Attack --- 9999 1573532155.4793766\n",
      "Key: 23 \n",
      "Sample: 7240 \n",
      "Correlation: 0.16134791324419695\n",
      "--- Start Correlation Attack ---\n"
     ]
    },
    {
     "data": {
      "application/vnd.jupyter.widget-view+json": {
       "model_id": "db7ca7d68bc14c36a9453b8d05899209",
       "version_major": 2,
       "version_minor": 0
      },
      "text/plain": [
       "HBox(children=(IntProgress(value=0, max=10000), HTML(value='')))"
      ]
     },
     "metadata": {},
     "output_type": "display_data"
    },
    {
     "name": "stdout",
     "output_type": "stream",
     "text": [
      "\n",
      "--- Finished Correlation Attack --- 9999 1573532176.8765287\n",
      "Key: 23 \n",
      "Sample: 2533 \n",
      "Correlation: 0.14862296334885736\n",
      "--- Start Correlation Attack ---\n"
     ]
    },
    {
     "data": {
      "application/vnd.jupyter.widget-view+json": {
       "model_id": "4d5c9007fd8042aca42a5b40cd4d5902",
       "version_major": 2,
       "version_minor": 0
      },
      "text/plain": [
       "HBox(children=(IntProgress(value=0, max=10000), HTML(value='')))"
      ]
     },
     "metadata": {},
     "output_type": "display_data"
    },
    {
     "name": "stdout",
     "output_type": "stream",
     "text": [
      "\n",
      "--- Finished Correlation Attack --- 9999 1573532198.2190914\n",
      "Key: 23 \n",
      "Sample: 6637 \n",
      "Correlation: 0.12046234677788889\n",
      "--- Start Correlation Attack ---\n"
     ]
    },
    {
     "data": {
      "application/vnd.jupyter.widget-view+json": {
       "model_id": "b733dd1420b544568419d0d067cbf416",
       "version_major": 2,
       "version_minor": 0
      },
      "text/plain": [
       "HBox(children=(IntProgress(value=0, max=10000), HTML(value='')))"
      ]
     },
     "metadata": {},
     "output_type": "display_data"
    },
    {
     "name": "stdout",
     "output_type": "stream",
     "text": [
      "\n",
      "--- Finished Correlation Attack --- 9999 1573532219.494378\n",
      "Key: 23 \n",
      "Sample: 7579 \n",
      "Correlation: 0.13604984290791616\n",
      "--- Start Correlation Attack ---\n"
     ]
    },
    {
     "data": {
      "application/vnd.jupyter.widget-view+json": {
       "model_id": "a7d8ddb7ae3248a5ac653eb133675f6f",
       "version_major": 2,
       "version_minor": 0
      },
      "text/plain": [
       "HBox(children=(IntProgress(value=0, max=10000), HTML(value='')))"
      ]
     },
     "metadata": {},
     "output_type": "display_data"
    },
    {
     "name": "stdout",
     "output_type": "stream",
     "text": [
      "\n",
      "--- Finished Correlation Attack --- 9999 1573532240.924376\n",
      "Key: 23 \n",
      "Sample: 9619 \n",
      "Correlation: 0.1706984982249002\n",
      "--- Start Correlation Attack ---\n"
     ]
    },
    {
     "data": {
      "application/vnd.jupyter.widget-view+json": {
       "model_id": "acc9c3681b3d4247a315de435a5dad70",
       "version_major": 2,
       "version_minor": 0
      },
      "text/plain": [
       "HBox(children=(IntProgress(value=0, max=10000), HTML(value='')))"
      ]
     },
     "metadata": {},
     "output_type": "display_data"
    },
    {
     "name": "stdout",
     "output_type": "stream",
     "text": [
      "\n",
      "--- Finished Correlation Attack --- 9999 1573532262.4430234\n",
      "Key: 23 \n",
      "Sample: 6990 \n",
      "Correlation: 0.1056657107086276\n",
      "--- Start Correlation Attack ---\n"
     ]
    },
    {
     "data": {
      "application/vnd.jupyter.widget-view+json": {
       "model_id": "e12e33b2aac44c7c89ae05019aaa664a",
       "version_major": 2,
       "version_minor": 0
      },
      "text/plain": [
       "HBox(children=(IntProgress(value=0, max=10000), HTML(value='')))"
      ]
     },
     "metadata": {},
     "output_type": "display_data"
    },
    {
     "name": "stdout",
     "output_type": "stream",
     "text": [
      "\n",
      "--- Finished Correlation Attack --- 9999 1573532284.0814362\n",
      "Key: 23 \n",
      "Sample: 6991 \n",
      "Correlation: 0.13017757488376885\n",
      "--- Start Correlation Attack ---\n"
     ]
    },
    {
     "data": {
      "application/vnd.jupyter.widget-view+json": {
       "model_id": "c396c0a642ee424e850b2d70f776f783",
       "version_major": 2,
       "version_minor": 0
      },
      "text/plain": [
       "HBox(children=(IntProgress(value=0, max=10000), HTML(value='')))"
      ]
     },
     "metadata": {},
     "output_type": "display_data"
    },
    {
     "name": "stdout",
     "output_type": "stream",
     "text": [
      "\n",
      "--- Finished Correlation Attack --- 9999 1573532305.3943899\n",
      "Key: 23 \n",
      "Sample: 6991 \n",
      "Correlation: 0.19852505685547311\n",
      "--- Start Correlation Attack ---\n"
     ]
    },
    {
     "data": {
      "application/vnd.jupyter.widget-view+json": {
       "model_id": "15f1f7c047954e80934a4f47b5c0c83c",
       "version_major": 2,
       "version_minor": 0
      },
      "text/plain": [
       "HBox(children=(IntProgress(value=0, max=10000), HTML(value='')))"
      ]
     },
     "metadata": {},
     "output_type": "display_data"
    },
    {
     "name": "stdout",
     "output_type": "stream",
     "text": [
      "\n",
      "--- Finished Correlation Attack --- 9999 1573532326.8809257\n",
      "Key: 23 \n",
      "Sample: 7580 \n",
      "Correlation: 0.2946452447824992\n",
      "--- Start Correlation Attack ---\n"
     ]
    },
    {
     "data": {
      "application/vnd.jupyter.widget-view+json": {
       "model_id": "169784732c62472496771d35d3febfa4",
       "version_major": 2,
       "version_minor": 0
      },
      "text/plain": [
       "HBox(children=(IntProgress(value=0, max=10000), HTML(value='')))"
      ]
     },
     "metadata": {},
     "output_type": "display_data"
    },
    {
     "name": "stdout",
     "output_type": "stream",
     "text": [
      "\n",
      "--- Finished Correlation Attack --- 9999 1573532348.7861884\n",
      "Key: 23 \n",
      "Sample: 7581 \n",
      "Correlation: 0.18232145193210128\n",
      "--- Start Correlation Attack ---\n"
     ]
    },
    {
     "data": {
      "application/vnd.jupyter.widget-view+json": {
       "model_id": "9c00a3aa0c67436c88a76a7d4351beb8",
       "version_major": 2,
       "version_minor": 0
      },
      "text/plain": [
       "HBox(children=(IntProgress(value=0, max=10000), HTML(value='')))"
      ]
     },
     "metadata": {},
     "output_type": "display_data"
    },
    {
     "name": "stdout",
     "output_type": "stream",
     "text": [
      "\n",
      "--- Finished Correlation Attack --- 9999 1573532370.1250021\n",
      "Key: 23 \n",
      "Sample: 4097 \n",
      "Correlation: 0.14310316121122743\n",
      "--- Start Correlation Attack ---\n"
     ]
    },
    {
     "data": {
      "application/vnd.jupyter.widget-view+json": {
       "model_id": "00742e4abdd84b53a1b5398f092510d3",
       "version_major": 2,
       "version_minor": 0
      },
      "text/plain": [
       "HBox(children=(IntProgress(value=0, max=10000), HTML(value='')))"
      ]
     },
     "metadata": {},
     "output_type": "display_data"
    },
    {
     "name": "stdout",
     "output_type": "stream",
     "text": [
      "\n",
      "--- Finished Correlation Attack --- 9999 1573532391.5842607\n",
      "Key: 23 \n",
      "Sample: 7581 \n",
      "Correlation: 0.1996700192762983\n",
      "--- Start Correlation Attack ---\n"
     ]
    },
    {
     "data": {
      "application/vnd.jupyter.widget-view+json": {
       "model_id": "d98db240354a49d1b9326ffa5cb88c09",
       "version_major": 2,
       "version_minor": 0
      },
      "text/plain": [
       "HBox(children=(IntProgress(value=0, max=10000), HTML(value='')))"
      ]
     },
     "metadata": {},
     "output_type": "display_data"
    },
    {
     "name": "stdout",
     "output_type": "stream",
     "text": [
      "\n",
      "--- Finished Correlation Attack --- 9999 1573532412.8170328\n",
      "Key: 23 \n",
      "Sample: 7581 \n",
      "Correlation: 0.1883861746587762\n",
      "--- Start Correlation Attack ---\n"
     ]
    },
    {
     "data": {
      "application/vnd.jupyter.widget-view+json": {
       "model_id": "de58f54a408b4a3ca27d76005ec32cf3",
       "version_major": 2,
       "version_minor": 0
      },
      "text/plain": [
       "HBox(children=(IntProgress(value=0, max=10000), HTML(value='')))"
      ]
     },
     "metadata": {},
     "output_type": "display_data"
    },
    {
     "name": "stdout",
     "output_type": "stream",
     "text": [
      "\n",
      "--- Finished Correlation Attack --- 9999 1573532434.317483\n",
      "Key: 23 \n",
      "Sample: 7242 \n",
      "Correlation: 0.18082554623281438\n",
      "--- Start Correlation Attack ---\n"
     ]
    },
    {
     "data": {
      "application/vnd.jupyter.widget-view+json": {
       "model_id": "72cfbe10a8644e9c98bc266b03d5b458",
       "version_major": 2,
       "version_minor": 0
      },
      "text/plain": [
       "HBox(children=(IntProgress(value=0, max=10000), HTML(value='')))"
      ]
     },
     "metadata": {},
     "output_type": "display_data"
    },
    {
     "name": "stdout",
     "output_type": "stream",
     "text": [
      "\n",
      "--- Finished Correlation Attack --- 9999 1573532455.8196332\n",
      "Key: 23 \n",
      "Sample: 7581 \n",
      "Correlation: 0.13955838840346135\n",
      "--- Start Correlation Attack ---\n"
     ]
    },
    {
     "data": {
      "application/vnd.jupyter.widget-view+json": {
       "model_id": "3c68c8e1d85243b6a39cb6d634c4494a",
       "version_major": 2,
       "version_minor": 0
      },
      "text/plain": [
       "HBox(children=(IntProgress(value=0, max=10000), HTML(value='')))"
      ]
     },
     "metadata": {},
     "output_type": "display_data"
    },
    {
     "name": "stdout",
     "output_type": "stream",
     "text": [
      "\n",
      "--- Finished Correlation Attack --- 9999 1573532477.173547\n",
      "Key: 23 \n",
      "Sample: 6993 \n",
      "Correlation: 0.12649969449858867\n",
      "--- Start Correlation Attack ---\n"
     ]
    },
    {
     "data": {
      "application/vnd.jupyter.widget-view+json": {
       "model_id": "028c9ca7de1440d5960e88a04c229360",
       "version_major": 2,
       "version_minor": 0
      },
      "text/plain": [
       "HBox(children=(IntProgress(value=0, max=10000), HTML(value='')))"
      ]
     },
     "metadata": {},
     "output_type": "display_data"
    },
    {
     "name": "stdout",
     "output_type": "stream",
     "text": [
      "\n",
      "--- Finished Correlation Attack --- 9999 1573532498.5453205\n",
      "Key: 23 \n",
      "Sample: 7240 \n",
      "Correlation: 0.35489863949159134\n",
      "--- Start Correlation Attack ---\n"
     ]
    },
    {
     "data": {
      "application/vnd.jupyter.widget-view+json": {
       "model_id": "e45d47f0716f4b10a4bfcb770c73a36e",
       "version_major": 2,
       "version_minor": 0
      },
      "text/plain": [
       "HBox(children=(IntProgress(value=0, max=10000), HTML(value='')))"
      ]
     },
     "metadata": {},
     "output_type": "display_data"
    },
    {
     "name": "stdout",
     "output_type": "stream",
     "text": [
      "\n",
      "--- Finished Correlation Attack --- 9999 1573532519.7219496\n",
      "Key: 23 \n",
      "Sample: 7240 \n",
      "Correlation: 0.33290700128131656\n",
      "--- Start Correlation Attack ---\n"
     ]
    },
    {
     "data": {
      "application/vnd.jupyter.widget-view+json": {
       "model_id": "e9b452efdee547549a47ae2ad8ed2e83",
       "version_major": 2,
       "version_minor": 0
      },
      "text/plain": [
       "HBox(children=(IntProgress(value=0, max=10000), HTML(value='')))"
      ]
     },
     "metadata": {},
     "output_type": "display_data"
    },
    {
     "name": "stdout",
     "output_type": "stream",
     "text": [
      "\n",
      "--- Finished Correlation Attack --- 9999 1573532541.2965825\n",
      "Key: 23 \n",
      "Sample: 7240 \n",
      "Correlation: 0.32117966259223935\n",
      "--- Start Correlation Attack ---\n"
     ]
    },
    {
     "data": {
      "application/vnd.jupyter.widget-view+json": {
       "model_id": "44dd875aff7b4174819589b52da6a496",
       "version_major": 2,
       "version_minor": 0
      },
      "text/plain": [
       "HBox(children=(IntProgress(value=0, max=10000), HTML(value='')))"
      ]
     },
     "metadata": {},
     "output_type": "display_data"
    },
    {
     "name": "stdout",
     "output_type": "stream",
     "text": [
      "\n",
      "--- Finished Correlation Attack --- 9999 1573532562.8889394\n",
      "Key: 23 \n",
      "Sample: 7240 \n",
      "Correlation: 0.34032292964173916\n",
      "--- Start Correlation Attack ---\n"
     ]
    },
    {
     "data": {
      "application/vnd.jupyter.widget-view+json": {
       "model_id": "4e83329e67234c63bdfbc2bf90a094f3",
       "version_major": 2,
       "version_minor": 0
      },
      "text/plain": [
       "HBox(children=(IntProgress(value=0, max=10000), HTML(value='')))"
      ]
     },
     "metadata": {},
     "output_type": "display_data"
    },
    {
     "name": "stdout",
     "output_type": "stream",
     "text": [
      "\n",
      "--- Finished Correlation Attack --- 9999 1573532584.0563397\n",
      "Key: 23 \n",
      "Sample: 7240 \n",
      "Correlation: 0.2971333149530636\n",
      "--- Start Correlation Attack ---\n"
     ]
    },
    {
     "data": {
      "application/vnd.jupyter.widget-view+json": {
       "model_id": "e2eb9922ce4846cfb6b827964d1cd2b0",
       "version_major": 2,
       "version_minor": 0
      },
      "text/plain": [
       "HBox(children=(IntProgress(value=0, max=10000), HTML(value='')))"
      ]
     },
     "metadata": {},
     "output_type": "display_data"
    },
    {
     "name": "stdout",
     "output_type": "stream",
     "text": [
      "\n",
      "--- Finished Correlation Attack --- 9999 1573532605.4432595\n",
      "Key: 23 \n",
      "Sample: 2669 \n",
      "Correlation: 0.19397384559914\n",
      "--- Start Correlation Attack ---\n"
     ]
    },
    {
     "data": {
      "application/vnd.jupyter.widget-view+json": {
       "model_id": "ea9a63cbe22948738ff7e46050ef0a01",
       "version_major": 2,
       "version_minor": 0
      },
      "text/plain": [
       "HBox(children=(IntProgress(value=0, max=10000), HTML(value='')))"
      ]
     },
     "metadata": {},
     "output_type": "display_data"
    },
    {
     "name": "stdout",
     "output_type": "stream",
     "text": [
      "\n",
      "--- Finished Correlation Attack --- 9999 1573532626.5673697\n",
      "Key: 23 \n",
      "Sample: 6990 \n",
      "Correlation: 0.15098705456256337\n",
      "--- Start Correlation Attack ---\n"
     ]
    },
    {
     "data": {
      "application/vnd.jupyter.widget-view+json": {
       "model_id": "0a32f682967246ca8b5b32422a8c273a",
       "version_major": 2,
       "version_minor": 0
      },
      "text/plain": [
       "HBox(children=(IntProgress(value=0, max=10000), HTML(value='')))"
      ]
     },
     "metadata": {},
     "output_type": "display_data"
    },
    {
     "name": "stdout",
     "output_type": "stream",
     "text": [
      "\n",
      "--- Finished Correlation Attack --- 9999 1573532647.8014324\n",
      "Key: 23 \n",
      "Sample: 7578 \n",
      "Correlation: 0.16181464504587173\n",
      "--- Start Correlation Attack ---\n"
     ]
    },
    {
     "data": {
      "application/vnd.jupyter.widget-view+json": {
       "model_id": "78a6a7ba4b5342f5a09efccf3f4f5f70",
       "version_major": 2,
       "version_minor": 0
      },
      "text/plain": [
       "HBox(children=(IntProgress(value=0, max=10000), HTML(value='')))"
      ]
     },
     "metadata": {},
     "output_type": "display_data"
    },
    {
     "name": "stdout",
     "output_type": "stream",
     "text": [
      "\n",
      "--- Finished Correlation Attack --- 9999 1573532668.997675\n",
      "Key: 23 \n",
      "Sample: 1481 \n",
      "Correlation: 0.1301302807254538\n",
      "--- Start Correlation Attack ---\n"
     ]
    },
    {
     "data": {
      "application/vnd.jupyter.widget-view+json": {
       "model_id": "016789157c8f4f8c9b2c85a89e0ca6bd",
       "version_major": 2,
       "version_minor": 0
      },
      "text/plain": [
       "HBox(children=(IntProgress(value=0, max=10000), HTML(value='')))"
      ]
     },
     "metadata": {},
     "output_type": "display_data"
    },
    {
     "name": "stdout",
     "output_type": "stream",
     "text": [
      "\n",
      "--- Finished Correlation Attack --- 9999 1573532690.4374275\n",
      "Key: 23 \n",
      "Sample: 6992 \n",
      "Correlation: 0.14007777101916657\n",
      "--- Start Correlation Attack ---\n"
     ]
    },
    {
     "data": {
      "application/vnd.jupyter.widget-view+json": {
       "model_id": "83e7b0e1d0d7432f97b968401ea98741",
       "version_major": 2,
       "version_minor": 0
      },
      "text/plain": [
       "HBox(children=(IntProgress(value=0, max=10000), HTML(value='')))"
      ]
     },
     "metadata": {},
     "output_type": "display_data"
    },
    {
     "name": "stdout",
     "output_type": "stream",
     "text": [
      "\n",
      "--- Finished Correlation Attack --- 9999 1573532711.8432493\n",
      "Key: 23 \n",
      "Sample: 5546 \n",
      "Correlation: 0.16783934095310912\n",
      "--- Start Correlation Attack ---\n"
     ]
    },
    {
     "data": {
      "application/vnd.jupyter.widget-view+json": {
       "model_id": "148ce2696a9847a19b1c553db88954f5",
       "version_major": 2,
       "version_minor": 0
      },
      "text/plain": [
       "HBox(children=(IntProgress(value=0, max=10000), HTML(value='')))"
      ]
     },
     "metadata": {},
     "output_type": "display_data"
    },
    {
     "name": "stdout",
     "output_type": "stream",
     "text": [
      "\n",
      "--- Finished Correlation Attack --- 9999 1573532733.1869571\n",
      "Key: 23 \n",
      "Sample: 7242 \n",
      "Correlation: 0.1396576794998801\n",
      "--- Start Correlation Attack ---\n"
     ]
    },
    {
     "data": {
      "application/vnd.jupyter.widget-view+json": {
       "model_id": "a1a9b7e8b725461c88270b329032e00f",
       "version_major": 2,
       "version_minor": 0
      },
      "text/plain": [
       "HBox(children=(IntProgress(value=0, max=10000), HTML(value='')))"
      ]
     },
     "metadata": {},
     "output_type": "display_data"
    },
    {
     "name": "stdout",
     "output_type": "stream",
     "text": [
      "\n",
      "--- Finished Correlation Attack --- 9999 1573532754.6241775\n",
      "Key: 23 \n",
      "Sample: 7241 \n",
      "Correlation: 0.19746475225513455\n",
      "--- Start Correlation Attack ---\n"
     ]
    },
    {
     "data": {
      "application/vnd.jupyter.widget-view+json": {
       "model_id": "6c0f66b5b4014237b344ec76026779b8",
       "version_major": 2,
       "version_minor": 0
      },
      "text/plain": [
       "HBox(children=(IntProgress(value=0, max=10000), HTML(value='')))"
      ]
     },
     "metadata": {},
     "output_type": "display_data"
    },
    {
     "name": "stdout",
     "output_type": "stream",
     "text": [
      "\n",
      "--- Finished Correlation Attack --- 9999 1573532775.9038723\n",
      "Key: 23 \n",
      "Sample: 7242 \n",
      "Correlation: 0.1681139123149027\n",
      "--- Start Correlation Attack ---\n"
     ]
    },
    {
     "data": {
      "application/vnd.jupyter.widget-view+json": {
       "model_id": "62e64f619f7c4db6b04610fee39e25e6",
       "version_major": 2,
       "version_minor": 0
      },
      "text/plain": [
       "HBox(children=(IntProgress(value=0, max=10000), HTML(value='')))"
      ]
     },
     "metadata": {},
     "output_type": "display_data"
    },
    {
     "name": "stdout",
     "output_type": "stream",
     "text": [
      "\n",
      "--- Finished Correlation Attack --- 9999 1573532797.154069\n",
      "Key: 23 \n",
      "Sample: 7581 \n",
      "Correlation: 0.2043557667716311\n",
      "--- Start Correlation Attack ---\n"
     ]
    },
    {
     "data": {
      "application/vnd.jupyter.widget-view+json": {
       "model_id": "f863335e422c4091808142afce9d05fe",
       "version_major": 2,
       "version_minor": 0
      },
      "text/plain": [
       "HBox(children=(IntProgress(value=0, max=10000), HTML(value='')))"
      ]
     },
     "metadata": {},
     "output_type": "display_data"
    },
    {
     "name": "stdout",
     "output_type": "stream",
     "text": [
      "\n",
      "--- Finished Correlation Attack --- 9999 1573532818.4639652\n",
      "Key: 23 \n",
      "Sample: 7239 \n",
      "Correlation: 0.21211944344403327\n",
      "--- Start Correlation Attack ---\n"
     ]
    },
    {
     "data": {
      "application/vnd.jupyter.widget-view+json": {
       "model_id": "0cecfe760ba44136aacdd7c6f8c97b6c",
       "version_major": 2,
       "version_minor": 0
      },
      "text/plain": [
       "HBox(children=(IntProgress(value=0, max=10000), HTML(value='')))"
      ]
     },
     "metadata": {},
     "output_type": "display_data"
    },
    {
     "name": "stdout",
     "output_type": "stream",
     "text": [
      "\n",
      "--- Finished Correlation Attack --- 9999 1573532839.866845\n",
      "Key: 23 \n",
      "Sample: 7581 \n",
      "Correlation: 0.16059635435186176\n",
      "--- Start Correlation Attack ---\n"
     ]
    },
    {
     "data": {
      "application/vnd.jupyter.widget-view+json": {
       "model_id": "a1a7ad7a86884ab3b0305f25797f4599",
       "version_major": 2,
       "version_minor": 0
      },
      "text/plain": [
       "HBox(children=(IntProgress(value=0, max=10000), HTML(value='')))"
      ]
     },
     "metadata": {},
     "output_type": "display_data"
    },
    {
     "name": "stdout",
     "output_type": "stream",
     "text": [
      "\n",
      "--- Finished Correlation Attack --- 9999 1573532861.2794554\n",
      "Key: 23 \n",
      "Sample: 7239 \n",
      "Correlation: 0.18224581865107348\n",
      "--- Start Correlation Attack ---\n"
     ]
    },
    {
     "data": {
      "application/vnd.jupyter.widget-view+json": {
       "model_id": "e7c07031632448c9a1815eb29639f07c",
       "version_major": 2,
       "version_minor": 0
      },
      "text/plain": [
       "HBox(children=(IntProgress(value=0, max=10000), HTML(value='')))"
      ]
     },
     "metadata": {},
     "output_type": "display_data"
    },
    {
     "name": "stdout",
     "output_type": "stream",
     "text": [
      "\n",
      "--- Finished Correlation Attack --- 9999 1573532882.7035766\n",
      "Key: 23 \n",
      "Sample: 4520 \n",
      "Correlation: 0.160173956010331\n",
      "--- Start Correlation Attack ---\n"
     ]
    },
    {
     "data": {
      "application/vnd.jupyter.widget-view+json": {
       "model_id": "ab9ac83670e74050a13274d29e988b87",
       "version_major": 2,
       "version_minor": 0
      },
      "text/plain": [
       "HBox(children=(IntProgress(value=0, max=10000), HTML(value='')))"
      ]
     },
     "metadata": {},
     "output_type": "display_data"
    },
    {
     "name": "stdout",
     "output_type": "stream",
     "text": [
      "\n",
      "--- Finished Correlation Attack --- 9999 1573532904.0553596\n",
      "Key: 23 \n",
      "Sample: 7242 \n",
      "Correlation: 0.1488748950630442\n",
      "--- Start Correlation Attack ---\n"
     ]
    },
    {
     "data": {
      "application/vnd.jupyter.widget-view+json": {
       "model_id": "d1ae6231ee0a4f49960db3706454d6cf",
       "version_major": 2,
       "version_minor": 0
      },
      "text/plain": [
       "HBox(children=(IntProgress(value=0, max=10000), HTML(value='')))"
      ]
     },
     "metadata": {},
     "output_type": "display_data"
    },
    {
     "name": "stdout",
     "output_type": "stream",
     "text": [
      "\n",
      "--- Finished Correlation Attack --- 9999 1573532925.274379\n",
      "Key: 23 \n",
      "Sample: 7242 \n",
      "Correlation: 0.15353897167988137\n",
      "--- Start Correlation Attack ---\n"
     ]
    },
    {
     "data": {
      "application/vnd.jupyter.widget-view+json": {
       "model_id": "1a2c88c35eb240f0a0e87352b66f27e0",
       "version_major": 2,
       "version_minor": 0
      },
      "text/plain": [
       "HBox(children=(IntProgress(value=0, max=10000), HTML(value='')))"
      ]
     },
     "metadata": {},
     "output_type": "display_data"
    },
    {
     "name": "stdout",
     "output_type": "stream",
     "text": [
      "\n",
      "--- Finished Correlation Attack --- 9999 1573532946.298535\n",
      "Key: 23 \n",
      "Sample: 7240 \n",
      "Correlation: 0.15433713557619136\n",
      "--- Start Correlation Attack ---\n"
     ]
    },
    {
     "data": {
      "application/vnd.jupyter.widget-view+json": {
       "model_id": "88496571c1234446a3a88f17d58f76ef",
       "version_major": 2,
       "version_minor": 0
      },
      "text/plain": [
       "HBox(children=(IntProgress(value=0, max=10000), HTML(value='')))"
      ]
     },
     "metadata": {},
     "output_type": "display_data"
    },
    {
     "name": "stdout",
     "output_type": "stream",
     "text": [
      "\n",
      "--- Finished Correlation Attack --- 9999 1573532967.501622\n",
      "Key: 23 \n",
      "Sample: 7240 \n",
      "Correlation: 0.16874179958327198\n",
      "--- Start Correlation Attack ---\n"
     ]
    },
    {
     "data": {
      "application/vnd.jupyter.widget-view+json": {
       "model_id": "182afdbbbf874c9488ac756ba78a3e70",
       "version_major": 2,
       "version_minor": 0
      },
      "text/plain": [
       "HBox(children=(IntProgress(value=0, max=10000), HTML(value='')))"
      ]
     },
     "metadata": {},
     "output_type": "display_data"
    },
    {
     "name": "stdout",
     "output_type": "stream",
     "text": [
      "\n",
      "--- Finished Correlation Attack --- 9999 1573532988.698985\n",
      "Key: 23 \n",
      "Sample: 556 \n",
      "Correlation: 0.1920423614474473\n",
      "--- Start Correlation Attack ---\n"
     ]
    },
    {
     "data": {
      "application/vnd.jupyter.widget-view+json": {
       "model_id": "9861b16a94a84fb082f58aeb971e48c7",
       "version_major": 2,
       "version_minor": 0
      },
      "text/plain": [
       "HBox(children=(IntProgress(value=0, max=10000), HTML(value='')))"
      ]
     },
     "metadata": {},
     "output_type": "display_data"
    },
    {
     "name": "stdout",
     "output_type": "stream",
     "text": [
      "\n",
      "--- Finished Correlation Attack --- 9999 1573533009.896548\n",
      "Key: 23 \n",
      "Sample: 7240 \n",
      "Correlation: 0.18367214270254192\n",
      "--- Start Correlation Attack ---\n"
     ]
    },
    {
     "data": {
      "application/vnd.jupyter.widget-view+json": {
       "model_id": "d76a7b532a554c0cb44fc3715f94bf9d",
       "version_major": 2,
       "version_minor": 0
      },
      "text/plain": [
       "HBox(children=(IntProgress(value=0, max=10000), HTML(value='')))"
      ]
     },
     "metadata": {},
     "output_type": "display_data"
    },
    {
     "name": "stdout",
     "output_type": "stream",
     "text": [
      "\n",
      "--- Finished Correlation Attack --- 9999 1573533031.1907408\n",
      "Key: 23 \n",
      "Sample: 7865 \n",
      "Correlation: 0.1713854111595668\n",
      "--- Start Correlation Attack ---\n"
     ]
    },
    {
     "data": {
      "application/vnd.jupyter.widget-view+json": {
       "model_id": "033c9b828413427f88017c969e3e3885",
       "version_major": 2,
       "version_minor": 0
      },
      "text/plain": [
       "HBox(children=(IntProgress(value=0, max=10000), HTML(value='')))"
      ]
     },
     "metadata": {},
     "output_type": "display_data"
    },
    {
     "name": "stdout",
     "output_type": "stream",
     "text": [
      "\n",
      "--- Finished Correlation Attack --- 9999 1573533052.2920868\n",
      "Key: 23 \n",
      "Sample: 7240 \n",
      "Correlation: 0.22237620215016546\n",
      "--- Start Correlation Attack ---\n"
     ]
    },
    {
     "data": {
      "application/vnd.jupyter.widget-view+json": {
       "model_id": "60df69e84264488392af954c25bbdb66",
       "version_major": 2,
       "version_minor": 0
      },
      "text/plain": [
       "HBox(children=(IntProgress(value=0, max=10000), HTML(value='')))"
      ]
     },
     "metadata": {},
     "output_type": "display_data"
    },
    {
     "name": "stdout",
     "output_type": "stream",
     "text": [
      "\n",
      "--- Finished Correlation Attack --- 9999 1573533073.77139\n",
      "Key: 23 \n",
      "Sample: 1769 \n",
      "Correlation: 0.1530273247899308\n",
      "--- Start Correlation Attack ---\n"
     ]
    },
    {
     "data": {
      "application/vnd.jupyter.widget-view+json": {
       "model_id": "977d0e62f74f4555a1346cef4642e334",
       "version_major": 2,
       "version_minor": 0
      },
      "text/plain": [
       "HBox(children=(IntProgress(value=0, max=10000), HTML(value='')))"
      ]
     },
     "metadata": {},
     "output_type": "display_data"
    },
    {
     "name": "stdout",
     "output_type": "stream",
     "text": [
      "\n",
      "--- Finished Correlation Attack --- 9999 1573533094.9421613\n",
      "Key: 23 \n",
      "Sample: 7689 \n",
      "Correlation: 0.14799187511400627\n",
      "--- Start Correlation Attack ---\n"
     ]
    },
    {
     "data": {
      "application/vnd.jupyter.widget-view+json": {
       "model_id": "5706f1143492467b9d244b64d3892546",
       "version_major": 2,
       "version_minor": 0
      },
      "text/plain": [
       "HBox(children=(IntProgress(value=0, max=10000), HTML(value='')))"
      ]
     },
     "metadata": {},
     "output_type": "display_data"
    },
    {
     "name": "stdout",
     "output_type": "stream",
     "text": [
      "\n",
      "--- Finished Correlation Attack --- 9999 1573533116.2621472\n",
      "Key: 23 \n",
      "Sample: 5193 \n",
      "Correlation: 0.14876845743683667\n",
      "--- Start Correlation Attack ---\n"
     ]
    },
    {
     "data": {
      "application/vnd.jupyter.widget-view+json": {
       "model_id": "732c0c8fdc4d4e26911e0abad9291c4f",
       "version_major": 2,
       "version_minor": 0
      },
      "text/plain": [
       "HBox(children=(IntProgress(value=0, max=10000), HTML(value='')))"
      ]
     },
     "metadata": {},
     "output_type": "display_data"
    },
    {
     "name": "stdout",
     "output_type": "stream",
     "text": [
      "\n",
      "--- Finished Correlation Attack --- 9999 1573533137.8757846\n",
      "Key: 23 \n",
      "Sample: 7241 \n",
      "Correlation: 0.1689549583640374\n",
      "--- Start Correlation Attack ---\n"
     ]
    },
    {
     "data": {
      "application/vnd.jupyter.widget-view+json": {
       "model_id": "fe832ad67c1c4621ab8092e301740fa6",
       "version_major": 2,
       "version_minor": 0
      },
      "text/plain": [
       "HBox(children=(IntProgress(value=0, max=10000), HTML(value='')))"
      ]
     },
     "metadata": {},
     "output_type": "display_data"
    },
    {
     "name": "stdout",
     "output_type": "stream",
     "text": [
      "\n",
      "--- Finished Correlation Attack --- 9999 1573533159.2457864\n",
      "Key: 23 \n",
      "Sample: 6992 \n",
      "Correlation: 0.1656403104191125\n",
      "--- Start Correlation Attack ---\n"
     ]
    },
    {
     "data": {
      "application/vnd.jupyter.widget-view+json": {
       "model_id": "fc3085a253094352b93fc1789b7d7460",
       "version_major": 2,
       "version_minor": 0
      },
      "text/plain": [
       "HBox(children=(IntProgress(value=0, max=10000), HTML(value='')))"
      ]
     },
     "metadata": {},
     "output_type": "display_data"
    },
    {
     "name": "stdout",
     "output_type": "stream",
     "text": [
      "\n",
      "--- Finished Correlation Attack --- 9999 1573533180.8054762\n",
      "Key: 23 \n",
      "Sample: 6992 \n",
      "Correlation: 0.14766691772162205\n",
      "--- Start Correlation Attack ---\n"
     ]
    },
    {
     "data": {
      "application/vnd.jupyter.widget-view+json": {
       "model_id": "a331ed03066545dc9258ed1f88bca4c2",
       "version_major": 2,
       "version_minor": 0
      },
      "text/plain": [
       "HBox(children=(IntProgress(value=0, max=10000), HTML(value='')))"
      ]
     },
     "metadata": {},
     "output_type": "display_data"
    },
    {
     "name": "stdout",
     "output_type": "stream",
     "text": [
      "\n",
      "--- Finished Correlation Attack --- 9999 1573533202.2474065\n",
      "Key: 23 \n",
      "Sample: 7241 \n",
      "Correlation: 0.2949365959656767\n",
      "--- Start Correlation Attack ---\n"
     ]
    },
    {
     "data": {
      "application/vnd.jupyter.widget-view+json": {
       "model_id": "2dcf054f0aa44b13a90aa4ce9d41d340",
       "version_major": 2,
       "version_minor": 0
      },
      "text/plain": [
       "HBox(children=(IntProgress(value=0, max=10000), HTML(value='')))"
      ]
     },
     "metadata": {},
     "output_type": "display_data"
    },
    {
     "name": "stdout",
     "output_type": "stream",
     "text": [
      "\n",
      "--- Finished Correlation Attack --- 9999 1573533223.586979\n",
      "Key: 23 \n",
      "Sample: 7241 \n",
      "Correlation: 0.39191176431949243\n",
      "--- Start Correlation Attack ---\n"
     ]
    },
    {
     "data": {
      "application/vnd.jupyter.widget-view+json": {
       "model_id": "9e6bcd8089ae462b831b0ea3725d0fa7",
       "version_major": 2,
       "version_minor": 0
      },
      "text/plain": [
       "HBox(children=(IntProgress(value=0, max=10000), HTML(value='')))"
      ]
     },
     "metadata": {},
     "output_type": "display_data"
    },
    {
     "name": "stdout",
     "output_type": "stream",
     "text": [
      "\n",
      "--- Finished Correlation Attack --- 9999 1573533245.1264029\n",
      "Key: 23 \n",
      "Sample: 7242 \n",
      "Correlation: 0.42619874122338464\n",
      "--- Start Correlation Attack ---\n"
     ]
    },
    {
     "data": {
      "application/vnd.jupyter.widget-view+json": {
       "model_id": "73d62576d86e4c60b34308f50a0a84f1",
       "version_major": 2,
       "version_minor": 0
      },
      "text/plain": [
       "HBox(children=(IntProgress(value=0, max=10000), HTML(value='')))"
      ]
     },
     "metadata": {},
     "output_type": "display_data"
    },
    {
     "name": "stdout",
     "output_type": "stream",
     "text": [
      "\n",
      "--- Finished Correlation Attack --- 9999 1573533266.5965862\n",
      "Key: 23 \n",
      "Sample: 7242 \n",
      "Correlation: 0.27431883130477036\n",
      "--- Start Correlation Attack ---\n"
     ]
    },
    {
     "data": {
      "application/vnd.jupyter.widget-view+json": {
       "model_id": "ec9d9194a55045a890ab51245c15400a",
       "version_major": 2,
       "version_minor": 0
      },
      "text/plain": [
       "HBox(children=(IntProgress(value=0, max=10000), HTML(value='')))"
      ]
     },
     "metadata": {},
     "output_type": "display_data"
    },
    {
     "name": "stdout",
     "output_type": "stream",
     "text": [
      "\n",
      "--- Finished Correlation Attack --- 9999 1573533288.1902227\n",
      "Key: 23 \n",
      "Sample: 7242 \n",
      "Correlation: 0.2735509053712229\n",
      "--- Start Correlation Attack ---\n"
     ]
    },
    {
     "data": {
      "application/vnd.jupyter.widget-view+json": {
       "model_id": "409c2e8cab3d4ec1bbd644c57b24b468",
       "version_major": 2,
       "version_minor": 0
      },
      "text/plain": [
       "HBox(children=(IntProgress(value=0, max=10000), HTML(value='')))"
      ]
     },
     "metadata": {},
     "output_type": "display_data"
    },
    {
     "name": "stdout",
     "output_type": "stream",
     "text": [
      "\n",
      "--- Finished Correlation Attack --- 9999 1573533309.7389445\n",
      "Key: 23 \n",
      "Sample: 7581 \n",
      "Correlation: 0.21951386877564436\n",
      "--- Start Correlation Attack ---\n"
     ]
    },
    {
     "data": {
      "application/vnd.jupyter.widget-view+json": {
       "model_id": "84ee3d93a56041e4b159967dae793b37",
       "version_major": 2,
       "version_minor": 0
      },
      "text/plain": [
       "HBox(children=(IntProgress(value=0, max=10000), HTML(value='')))"
      ]
     },
     "metadata": {},
     "output_type": "display_data"
    },
    {
     "name": "stdout",
     "output_type": "stream",
     "text": [
      "\n",
      "--- Finished Correlation Attack --- 9999 1573533331.2585623\n",
      "Key: 23 \n",
      "Sample: 7242 \n",
      "Correlation: 0.16302458536933156\n",
      "--- Start Correlation Attack ---\n"
     ]
    },
    {
     "data": {
      "application/vnd.jupyter.widget-view+json": {
       "model_id": "bbeed2a1bf99451986de3ffb1868069e",
       "version_major": 2,
       "version_minor": 0
      },
      "text/plain": [
       "HBox(children=(IntProgress(value=0, max=10000), HTML(value='')))"
      ]
     },
     "metadata": {},
     "output_type": "display_data"
    },
    {
     "name": "stdout",
     "output_type": "stream",
     "text": [
      "\n",
      "--- Finished Correlation Attack --- 9999 1573533352.7892544\n",
      "Key: 23 \n",
      "Sample: 1629 \n",
      "Correlation: 0.15113913959214284\n",
      "--- Start Correlation Attack ---\n"
     ]
    },
    {
     "data": {
      "application/vnd.jupyter.widget-view+json": {
       "model_id": "bf91e81407854543b32273ac08dd6101",
       "version_major": 2,
       "version_minor": 0
      },
      "text/plain": [
       "HBox(children=(IntProgress(value=0, max=10000), HTML(value='')))"
      ]
     },
     "metadata": {},
     "output_type": "display_data"
    },
    {
     "name": "stdout",
     "output_type": "stream",
     "text": [
      "\n",
      "--- Finished Correlation Attack --- 9999 1573533374.3381128\n",
      "Key: 23 \n",
      "Sample: 7581 \n",
      "Correlation: 0.1587797924591899\n",
      "--- Start Correlation Attack ---\n"
     ]
    },
    {
     "data": {
      "application/vnd.jupyter.widget-view+json": {
       "model_id": "b3d65366a7424740a48fcdaaab9771bf",
       "version_major": 2,
       "version_minor": 0
      },
      "text/plain": [
       "HBox(children=(IntProgress(value=0, max=10000), HTML(value='')))"
      ]
     },
     "metadata": {},
     "output_type": "display_data"
    },
    {
     "name": "stdout",
     "output_type": "stream",
     "text": [
      "\n",
      "--- Finished Correlation Attack --- 9999 1573533395.9213307\n",
      "Key: 23 \n",
      "Sample: 1609 \n",
      "Correlation: 0.16449909326182502\n",
      "--- Start Correlation Attack ---\n"
     ]
    },
    {
     "data": {
      "application/vnd.jupyter.widget-view+json": {
       "model_id": "668a71ac056c42fd8562c1755c7e9aef",
       "version_major": 2,
       "version_minor": 0
      },
      "text/plain": [
       "HBox(children=(IntProgress(value=0, max=10000), HTML(value='')))"
      ]
     },
     "metadata": {},
     "output_type": "display_data"
    },
    {
     "name": "stdout",
     "output_type": "stream",
     "text": [
      "\n",
      "--- Finished Correlation Attack --- 9999 1573533417.3726933\n",
      "Key: 23 \n",
      "Sample: 6991 \n",
      "Correlation: 0.14046819808477892\n",
      "--- Start Correlation Attack ---\n"
     ]
    },
    {
     "data": {
      "application/vnd.jupyter.widget-view+json": {
       "model_id": "b6d70e8acdfe40c6af5eb6caa0cd922c",
       "version_major": 2,
       "version_minor": 0
      },
      "text/plain": [
       "HBox(children=(IntProgress(value=0, max=10000), HTML(value='')))"
      ]
     },
     "metadata": {},
     "output_type": "display_data"
    },
    {
     "name": "stdout",
     "output_type": "stream",
     "text": [
      "\n",
      "--- Finished Correlation Attack --- 9999 1573533439.0323765\n",
      "Key: 23 \n",
      "Sample: 7241 \n",
      "Correlation: 0.20468379756490915\n",
      "--- Start Correlation Attack ---\n"
     ]
    },
    {
     "data": {
      "application/vnd.jupyter.widget-view+json": {
       "model_id": "2d9f140c556c4cbab2f14adf2cd844cc",
       "version_major": 2,
       "version_minor": 0
      },
      "text/plain": [
       "HBox(children=(IntProgress(value=0, max=10000), HTML(value='')))"
      ]
     },
     "metadata": {},
     "output_type": "display_data"
    },
    {
     "name": "stdout",
     "output_type": "stream",
     "text": [
      "\n",
      "--- Finished Correlation Attack --- 9999 1573533460.3249161\n",
      "Key: 23 \n",
      "Sample: 7241 \n",
      "Correlation: 0.21829180220138492\n",
      "--- Start Correlation Attack ---\n"
     ]
    },
    {
     "data": {
      "application/vnd.jupyter.widget-view+json": {
       "model_id": "affd7ab86ff347cb9110315af0fa3273",
       "version_major": 2,
       "version_minor": 0
      },
      "text/plain": [
       "HBox(children=(IntProgress(value=0, max=10000), HTML(value='')))"
      ]
     },
     "metadata": {},
     "output_type": "display_data"
    },
    {
     "name": "stdout",
     "output_type": "stream",
     "text": [
      "\n",
      "--- Finished Correlation Attack --- 9999 1573533481.6441984\n",
      "Key: 23 \n",
      "Sample: 7241 \n",
      "Correlation: 0.1969818768662699\n",
      "--- Start Correlation Attack ---\n"
     ]
    },
    {
     "data": {
      "application/vnd.jupyter.widget-view+json": {
       "model_id": "e6fdaf6b5e7249138cbff952be0ab0c7",
       "version_major": 2,
       "version_minor": 0
      },
      "text/plain": [
       "HBox(children=(IntProgress(value=0, max=10000), HTML(value='')))"
      ]
     },
     "metadata": {},
     "output_type": "display_data"
    },
    {
     "name": "stdout",
     "output_type": "stream",
     "text": [
      "\n",
      "--- Finished Correlation Attack --- 9999 1573533503.10129\n",
      "Key: 23 \n",
      "Sample: 6991 \n",
      "Correlation: 0.18044747204152653\n",
      "--- Start Correlation Attack ---\n"
     ]
    },
    {
     "data": {
      "application/vnd.jupyter.widget-view+json": {
       "model_id": "a44710fcd86f4dada35fc8ee36fa4273",
       "version_major": 2,
       "version_minor": 0
      },
      "text/plain": [
       "HBox(children=(IntProgress(value=0, max=10000), HTML(value='')))"
      ]
     },
     "metadata": {},
     "output_type": "display_data"
    },
    {
     "name": "stdout",
     "output_type": "stream",
     "text": [
      "\n",
      "--- Finished Correlation Attack --- 9999 1573533524.2813416\n",
      "Key: 23 \n",
      "Sample: 6991 \n",
      "Correlation: 0.25429215312329567\n",
      "--- Start Correlation Attack ---\n"
     ]
    },
    {
     "data": {
      "application/vnd.jupyter.widget-view+json": {
       "model_id": "cae708fbe9134e7ca59c8d625cba07f8",
       "version_major": 2,
       "version_minor": 0
      },
      "text/plain": [
       "HBox(children=(IntProgress(value=0, max=10000), HTML(value='')))"
      ]
     },
     "metadata": {},
     "output_type": "display_data"
    },
    {
     "name": "stdout",
     "output_type": "stream",
     "text": [
      "\n",
      "--- Finished Correlation Attack --- 9999 1573533545.8897886\n",
      "Key: 23 \n",
      "Sample: 7238 \n",
      "Correlation: 0.123414948239937\n",
      "--- Start Correlation Attack ---\n"
     ]
    },
    {
     "data": {
      "application/vnd.jupyter.widget-view+json": {
       "model_id": "7897d143a89348218f6bc9f0d6cb56a1",
       "version_major": 2,
       "version_minor": 0
      },
      "text/plain": [
       "HBox(children=(IntProgress(value=0, max=10000), HTML(value='')))"
      ]
     },
     "metadata": {},
     "output_type": "display_data"
    },
    {
     "name": "stdout",
     "output_type": "stream",
     "text": [
      "\n",
      "--- Finished Correlation Attack --- 9999 1573533567.3428192\n",
      "Key: 23 \n",
      "Sample: 9173 \n",
      "Correlation: 0.1465604225434042\n",
      "--- Start Correlation Attack ---\n"
     ]
    },
    {
     "data": {
      "application/vnd.jupyter.widget-view+json": {
       "model_id": "361a80fcbe314525a073e82404bb40b1",
       "version_major": 2,
       "version_minor": 0
      },
      "text/plain": [
       "HBox(children=(IntProgress(value=0, max=10000), HTML(value='')))"
      ]
     },
     "metadata": {},
     "output_type": "display_data"
    },
    {
     "name": "stdout",
     "output_type": "stream",
     "text": [
      "\n",
      "--- Finished Correlation Attack --- 9999 1573533588.836211\n",
      "Key: 23 \n",
      "Sample: 7241 \n",
      "Correlation: 0.2607078517157965\n",
      "--- Start Correlation Attack ---\n"
     ]
    },
    {
     "data": {
      "application/vnd.jupyter.widget-view+json": {
       "model_id": "6a286700f7ec4df9873c6ecc3b6660f0",
       "version_major": 2,
       "version_minor": 0
      },
      "text/plain": [
       "HBox(children=(IntProgress(value=0, max=10000), HTML(value='')))"
      ]
     },
     "metadata": {},
     "output_type": "display_data"
    },
    {
     "name": "stdout",
     "output_type": "stream",
     "text": [
      "\n",
      "--- Finished Correlation Attack --- 9999 1573533610.385377\n",
      "Key: 23 \n",
      "Sample: 7241 \n",
      "Correlation: 0.3356840104777762\n",
      "--- Start Correlation Attack ---\n"
     ]
    },
    {
     "data": {
      "application/vnd.jupyter.widget-view+json": {
       "model_id": "e6befdc50e164c0b828fdd3e9f6a73ce",
       "version_major": 2,
       "version_minor": 0
      },
      "text/plain": [
       "HBox(children=(IntProgress(value=0, max=10000), HTML(value='')))"
      ]
     },
     "metadata": {},
     "output_type": "display_data"
    },
    {
     "name": "stdout",
     "output_type": "stream",
     "text": [
      "\n",
      "--- Finished Correlation Attack --- 9999 1573533631.802226\n",
      "Key: 23 \n",
      "Sample: 7241 \n",
      "Correlation: 0.21626090170132437\n",
      "--- Start Correlation Attack ---\n"
     ]
    },
    {
     "data": {
      "application/vnd.jupyter.widget-view+json": {
       "model_id": "26fb6dc6436e4e94be0dfd65f8d8f9c2",
       "version_major": 2,
       "version_minor": 0
      },
      "text/plain": [
       "HBox(children=(IntProgress(value=0, max=10000), HTML(value='')))"
      ]
     },
     "metadata": {},
     "output_type": "display_data"
    },
    {
     "name": "stdout",
     "output_type": "stream",
     "text": [
      "\n",
      "--- Finished Correlation Attack --- 9999 1573533653.613618\n",
      "Key: 23 \n",
      "Sample: 7241 \n",
      "Correlation: 0.16483387558063678\n",
      "--- Start Correlation Attack ---\n"
     ]
    },
    {
     "data": {
      "application/vnd.jupyter.widget-view+json": {
       "model_id": "d079a40a51ef4016aa0cfb7a204a15dc",
       "version_major": 2,
       "version_minor": 0
      },
      "text/plain": [
       "HBox(children=(IntProgress(value=0, max=10000), HTML(value='')))"
      ]
     },
     "metadata": {},
     "output_type": "display_data"
    },
    {
     "name": "stdout",
     "output_type": "stream",
     "text": [
      "\n",
      "--- Finished Correlation Attack --- 9999 1573533675.2944984\n",
      "Key: 23 \n",
      "Sample: 1846 \n",
      "Correlation: 0.1632879848370214\n",
      "--- Start Correlation Attack ---\n"
     ]
    },
    {
     "data": {
      "application/vnd.jupyter.widget-view+json": {
       "model_id": "f2b2c65c232e41cdab0b99971b1cffa6",
       "version_major": 2,
       "version_minor": 0
      },
      "text/plain": [
       "HBox(children=(IntProgress(value=0, max=10000), HTML(value='')))"
      ]
     },
     "metadata": {},
     "output_type": "display_data"
    },
    {
     "name": "stdout",
     "output_type": "stream",
     "text": [
      "\n",
      "--- Finished Correlation Attack --- 9999 1573533696.903843\n",
      "Key: 23 \n",
      "Sample: 6994 \n",
      "Correlation: 0.18518960771862217\n",
      "--- Start Correlation Attack ---\n"
     ]
    },
    {
     "data": {
      "application/vnd.jupyter.widget-view+json": {
       "model_id": "d4dd590c65274180a425b77de0880ff4",
       "version_major": 2,
       "version_minor": 0
      },
      "text/plain": [
       "HBox(children=(IntProgress(value=0, max=10000), HTML(value='')))"
      ]
     },
     "metadata": {},
     "output_type": "display_data"
    },
    {
     "name": "stdout",
     "output_type": "stream",
     "text": [
      "\n",
      "--- Finished Correlation Attack --- 9999 1573533718.3641598\n",
      "Key: 23 \n",
      "Sample: 2623 \n",
      "Correlation: 0.16931814612834736\n",
      "--- Start Correlation Attack ---\n"
     ]
    },
    {
     "data": {
      "application/vnd.jupyter.widget-view+json": {
       "model_id": "88ced3839a9f41adaa57f3fc2a39edc0",
       "version_major": 2,
       "version_minor": 0
      },
      "text/plain": [
       "HBox(children=(IntProgress(value=0, max=10000), HTML(value='')))"
      ]
     },
     "metadata": {},
     "output_type": "display_data"
    },
    {
     "name": "stdout",
     "output_type": "stream",
     "text": [
      "\n",
      "--- Finished Correlation Attack --- 9999 1573533739.819088\n",
      "Key: 23 \n",
      "Sample: 3289 \n",
      "Correlation: 0.15035883339893746\n",
      "--- Start Correlation Attack ---\n"
     ]
    },
    {
     "data": {
      "application/vnd.jupyter.widget-view+json": {
       "model_id": "1edd1b2c60984139be264906517b5e36",
       "version_major": 2,
       "version_minor": 0
      },
      "text/plain": [
       "HBox(children=(IntProgress(value=0, max=10000), HTML(value='')))"
      ]
     },
     "metadata": {},
     "output_type": "display_data"
    },
    {
     "name": "stdout",
     "output_type": "stream",
     "text": [
      "\n",
      "--- Finished Correlation Attack --- 9999 1573533761.2327292\n",
      "Key: 23 \n",
      "Sample: 7242 \n",
      "Correlation: 0.18096957552875684\n",
      "--- Start Correlation Attack ---\n"
     ]
    },
    {
     "data": {
      "application/vnd.jupyter.widget-view+json": {
       "model_id": "3a860c3a178d4254afe700d9f3703077",
       "version_major": 2,
       "version_minor": 0
      },
      "text/plain": [
       "HBox(children=(IntProgress(value=0, max=10000), HTML(value='')))"
      ]
     },
     "metadata": {},
     "output_type": "display_data"
    },
    {
     "name": "stdout",
     "output_type": "stream",
     "text": [
      "\n",
      "--- Finished Correlation Attack --- 9999 1573533782.645224\n",
      "Key: 23 \n",
      "Sample: 7875 \n",
      "Correlation: 0.1893516094712967\n",
      "--- Start Correlation Attack ---\n"
     ]
    },
    {
     "data": {
      "application/vnd.jupyter.widget-view+json": {
       "model_id": "c9ccd6bf680e41f39ea7fb58d2729e18",
       "version_major": 2,
       "version_minor": 0
      },
      "text/plain": [
       "HBox(children=(IntProgress(value=0, max=10000), HTML(value='')))"
      ]
     },
     "metadata": {},
     "output_type": "display_data"
    },
    {
     "name": "stdout",
     "output_type": "stream",
     "text": [
      "\n",
      "--- Finished Correlation Attack --- 9999 1573533804.1969604\n",
      "Key: 23 \n",
      "Sample: 7242 \n",
      "Correlation: 0.27136977218944586\n",
      "--- Start Correlation Attack ---\n"
     ]
    },
    {
     "data": {
      "application/vnd.jupyter.widget-view+json": {
       "model_id": "fc6d2197929b4ed99758418e76bbe873",
       "version_major": 2,
       "version_minor": 0
      },
      "text/plain": [
       "HBox(children=(IntProgress(value=0, max=10000), HTML(value='')))"
      ]
     },
     "metadata": {},
     "output_type": "display_data"
    },
    {
     "name": "stdout",
     "output_type": "stream",
     "text": [
      "\n",
      "--- Finished Correlation Attack --- 9999 1573533825.687558\n",
      "Key: 23 \n",
      "Sample: 7242 \n",
      "Correlation: 0.25489427672535475\n",
      "--- Start Correlation Attack ---\n"
     ]
    },
    {
     "data": {
      "application/vnd.jupyter.widget-view+json": {
       "model_id": "4a37a6e947214d678ee3352cb67527a6",
       "version_major": 2,
       "version_minor": 0
      },
      "text/plain": [
       "HBox(children=(IntProgress(value=0, max=10000), HTML(value='')))"
      ]
     },
     "metadata": {},
     "output_type": "display_data"
    },
    {
     "name": "stdout",
     "output_type": "stream",
     "text": [
      "\n",
      "--- Finished Correlation Attack --- 9999 1573533847.0600817\n",
      "Key: 23 \n",
      "Sample: 6894 \n",
      "Correlation: 0.14120821708548126\n",
      "--- Start Correlation Attack ---\n"
     ]
    },
    {
     "data": {
      "application/vnd.jupyter.widget-view+json": {
       "model_id": "438bea5ee0f2465ea5eca9cc38ab2c96",
       "version_major": 2,
       "version_minor": 0
      },
      "text/plain": [
       "HBox(children=(IntProgress(value=0, max=10000), HTML(value='')))"
      ]
     },
     "metadata": {},
     "output_type": "display_data"
    },
    {
     "name": "stdout",
     "output_type": "stream",
     "text": [
      "\n",
      "--- Finished Correlation Attack --- 9999 1573533868.683716\n",
      "Key: 23 \n",
      "Sample: 7241 \n",
      "Correlation: 0.19629621594814659\n",
      "--- Start Correlation Attack ---\n"
     ]
    },
    {
     "data": {
      "application/vnd.jupyter.widget-view+json": {
       "model_id": "dd8a3669fcd444739978068d1b2009b6",
       "version_major": 2,
       "version_minor": 0
      },
      "text/plain": [
       "HBox(children=(IntProgress(value=0, max=10000), HTML(value='')))"
      ]
     },
     "metadata": {},
     "output_type": "display_data"
    },
    {
     "name": "stdout",
     "output_type": "stream",
     "text": [
      "\n",
      "--- Finished Correlation Attack --- 9999 1573533889.94607\n",
      "Key: 23 \n",
      "Sample: 7241 \n",
      "Correlation: 0.15359158747321994\n",
      "--- Start Correlation Attack ---\n"
     ]
    },
    {
     "data": {
      "application/vnd.jupyter.widget-view+json": {
       "model_id": "68ac87972d18476da431ee3ec0b0f2ff",
       "version_major": 2,
       "version_minor": 0
      },
      "text/plain": [
       "HBox(children=(IntProgress(value=0, max=10000), HTML(value='')))"
      ]
     },
     "metadata": {},
     "output_type": "display_data"
    },
    {
     "name": "stdout",
     "output_type": "stream",
     "text": [
      "\n",
      "--- Finished Correlation Attack --- 9999 1573533911.2766159\n",
      "Key: 23 \n",
      "Sample: 7056 \n",
      "Correlation: 0.14348261808951995\n",
      "--- Start Correlation Attack ---\n"
     ]
    },
    {
     "data": {
      "application/vnd.jupyter.widget-view+json": {
       "model_id": "bbbadf619d284f2280e3fd3c311d2c57",
       "version_major": 2,
       "version_minor": 0
      },
      "text/plain": [
       "HBox(children=(IntProgress(value=0, max=10000), HTML(value='')))"
      ]
     },
     "metadata": {},
     "output_type": "display_data"
    },
    {
     "name": "stdout",
     "output_type": "stream",
     "text": [
      "\n",
      "--- Finished Correlation Attack --- 9999 1573533932.791811\n",
      "Key: 23 \n",
      "Sample: 7240 \n",
      "Correlation: 0.21245532824253385\n",
      "--- Start Correlation Attack ---\n"
     ]
    },
    {
     "data": {
      "application/vnd.jupyter.widget-view+json": {
       "model_id": "d04ad237531646d4b429ecdd95dc63b2",
       "version_major": 2,
       "version_minor": 0
      },
      "text/plain": [
       "HBox(children=(IntProgress(value=0, max=10000), HTML(value='')))"
      ]
     },
     "metadata": {},
     "output_type": "display_data"
    },
    {
     "name": "stdout",
     "output_type": "stream",
     "text": [
      "\n",
      "--- Finished Correlation Attack --- 9999 1573533954.203352\n",
      "Key: 23 \n",
      "Sample: 5303 \n",
      "Correlation: 0.16811097246665904\n",
      "--- Start Correlation Attack ---\n"
     ]
    },
    {
     "data": {
      "application/vnd.jupyter.widget-view+json": {
       "model_id": "d6bba29763414c40b1cc73f40c71d603",
       "version_major": 2,
       "version_minor": 0
      },
      "text/plain": [
       "HBox(children=(IntProgress(value=0, max=10000), HTML(value='')))"
      ]
     },
     "metadata": {},
     "output_type": "display_data"
    },
    {
     "name": "stdout",
     "output_type": "stream",
     "text": [
      "\n",
      "--- Finished Correlation Attack --- 9999 1573533975.7762604\n",
      "Key: 23 \n",
      "Sample: 7240 \n",
      "Correlation: 0.2518999904634121\n",
      "--- Start Correlation Attack ---\n"
     ]
    },
    {
     "data": {
      "application/vnd.jupyter.widget-view+json": {
       "model_id": "a1f6d457f82d445888259e32d58c60e6",
       "version_major": 2,
       "version_minor": 0
      },
      "text/plain": [
       "HBox(children=(IntProgress(value=0, max=10000), HTML(value='')))"
      ]
     },
     "metadata": {},
     "output_type": "display_data"
    },
    {
     "name": "stdout",
     "output_type": "stream",
     "text": [
      "\n",
      "--- Finished Correlation Attack --- 9999 1573533997.2535274\n",
      "Key: 23 \n",
      "Sample: 7240 \n",
      "Correlation: 0.3477560982784021\n",
      "--- Start Correlation Attack ---\n"
     ]
    },
    {
     "data": {
      "application/vnd.jupyter.widget-view+json": {
       "model_id": "7a511fe2c30d4b7ab425fc38fbfd4227",
       "version_major": 2,
       "version_minor": 0
      },
      "text/plain": [
       "HBox(children=(IntProgress(value=0, max=10000), HTML(value='')))"
      ]
     },
     "metadata": {},
     "output_type": "display_data"
    },
    {
     "name": "stdout",
     "output_type": "stream",
     "text": [
      "\n",
      "--- Finished Correlation Attack --- 9999 1573534018.7940862\n",
      "Key: 23 \n",
      "Sample: 264 \n",
      "Correlation: 0.1506421704274344\n",
      "--- Start Correlation Attack ---\n"
     ]
    },
    {
     "data": {
      "application/vnd.jupyter.widget-view+json": {
       "model_id": "04e4e9e11480459085ee25b9dae6dbae",
       "version_major": 2,
       "version_minor": 0
      },
      "text/plain": [
       "HBox(children=(IntProgress(value=0, max=10000), HTML(value='')))"
      ]
     },
     "metadata": {},
     "output_type": "display_data"
    },
    {
     "name": "stdout",
     "output_type": "stream",
     "text": [
      "\n",
      "--- Finished Correlation Attack --- 9999 1573534040.6849165\n",
      "Key: 23 \n",
      "Sample: 7462 \n",
      "Correlation: 0.15014110602409872\n",
      "--- Start Correlation Attack ---\n"
     ]
    },
    {
     "data": {
      "application/vnd.jupyter.widget-view+json": {
       "model_id": "629231e5c0cf4583aabf8f302b8fa697",
       "version_major": 2,
       "version_minor": 0
      },
      "text/plain": [
       "HBox(children=(IntProgress(value=0, max=10000), HTML(value='')))"
      ]
     },
     "metadata": {},
     "output_type": "display_data"
    },
    {
     "name": "stdout",
     "output_type": "stream",
     "text": [
      "\n",
      "--- Finished Correlation Attack --- 9999 1573534062.2460475\n",
      "Key: 23 \n",
      "Sample: 7242 \n",
      "Correlation: 0.24939162910510143\n",
      "--- Start Correlation Attack ---\n"
     ]
    },
    {
     "data": {
      "application/vnd.jupyter.widget-view+json": {
       "model_id": "e917150aec1b4cadb8ba5ad8b07184b0",
       "version_major": 2,
       "version_minor": 0
      },
      "text/plain": [
       "HBox(children=(IntProgress(value=0, max=10000), HTML(value='')))"
      ]
     },
     "metadata": {},
     "output_type": "display_data"
    },
    {
     "name": "stdout",
     "output_type": "stream",
     "text": [
      "\n",
      "--- Finished Correlation Attack --- 9999 1573534084.0690866\n",
      "Key: 23 \n",
      "Sample: 7242 \n",
      "Correlation: 0.20685421674862473\n",
      "--- Start Correlation Attack ---\n"
     ]
    },
    {
     "data": {
      "application/vnd.jupyter.widget-view+json": {
       "model_id": "fd2a3b61171e411288e33eaac2fcb6eb",
       "version_major": 2,
       "version_minor": 0
      },
      "text/plain": [
       "HBox(children=(IntProgress(value=0, max=10000), HTML(value='')))"
      ]
     },
     "metadata": {},
     "output_type": "display_data"
    },
    {
     "name": "stdout",
     "output_type": "stream",
     "text": [
      "\n",
      "--- Finished Correlation Attack --- 9999 1573534105.4513342\n",
      "Key: 23 \n",
      "Sample: 7242 \n",
      "Correlation: 0.1930280192167742\n",
      "--- Start Correlation Attack ---\n"
     ]
    },
    {
     "data": {
      "application/vnd.jupyter.widget-view+json": {
       "model_id": "badcd7c6bbda47d1b15f44e0355cefc0",
       "version_major": 2,
       "version_minor": 0
      },
      "text/plain": [
       "HBox(children=(IntProgress(value=0, max=10000), HTML(value='')))"
      ]
     },
     "metadata": {},
     "output_type": "display_data"
    },
    {
     "name": "stdout",
     "output_type": "stream",
     "text": [
      "\n",
      "--- Finished Correlation Attack --- 9999 1573534126.791192\n",
      "Key: 23 \n",
      "Sample: 9873 \n",
      "Correlation: 0.161952045596567\n",
      "--- Start Correlation Attack ---\n"
     ]
    },
    {
     "data": {
      "application/vnd.jupyter.widget-view+json": {
       "model_id": "fe6c7a81ed414caf9741f28831c18b85",
       "version_major": 2,
       "version_minor": 0
      },
      "text/plain": [
       "HBox(children=(IntProgress(value=0, max=10000), HTML(value='')))"
      ]
     },
     "metadata": {},
     "output_type": "display_data"
    },
    {
     "name": "stdout",
     "output_type": "stream",
     "text": [
      "\n",
      "--- Finished Correlation Attack --- 9999 1573534148.5284584\n",
      "Key: 23 \n",
      "Sample: 470 \n",
      "Correlation: 0.14394366340328282\n",
      "--- Start Correlation Attack ---\n"
     ]
    },
    {
     "data": {
      "application/vnd.jupyter.widget-view+json": {
       "model_id": "417fd8b4b63e456eb1ede7fe2aea8cd9",
       "version_major": 2,
       "version_minor": 0
      },
      "text/plain": [
       "HBox(children=(IntProgress(value=0, max=10000), HTML(value='')))"
      ]
     },
     "metadata": {},
     "output_type": "display_data"
    },
    {
     "name": "stdout",
     "output_type": "stream",
     "text": [
      "\n",
      "--- Finished Correlation Attack --- 9999 1573534170.0082526\n",
      "Key: 23 \n",
      "Sample: 4223 \n",
      "Correlation: 0.13586706200950324\n",
      "--- Start Correlation Attack ---\n"
     ]
    },
    {
     "data": {
      "application/vnd.jupyter.widget-view+json": {
       "model_id": "f58b3a1ea2ec41c289bf370ec9e04af4",
       "version_major": 2,
       "version_minor": 0
      },
      "text/plain": [
       "HBox(children=(IntProgress(value=0, max=10000), HTML(value='')))"
      ]
     },
     "metadata": {},
     "output_type": "display_data"
    },
    {
     "name": "stdout",
     "output_type": "stream",
     "text": [
      "\n",
      "--- Finished Correlation Attack --- 9999 1573534191.4343789\n",
      "Key: 23 \n",
      "Sample: 3183 \n",
      "Correlation: 0.12917926146924016\n",
      "--- Start Correlation Attack ---\n"
     ]
    },
    {
     "data": {
      "application/vnd.jupyter.widget-view+json": {
       "model_id": "2ce378cd66f84ba29734311128920eaa",
       "version_major": 2,
       "version_minor": 0
      },
      "text/plain": [
       "HBox(children=(IntProgress(value=0, max=10000), HTML(value='')))"
      ]
     },
     "metadata": {},
     "output_type": "display_data"
    },
    {
     "name": "stdout",
     "output_type": "stream",
     "text": [
      "\n",
      "--- Finished Correlation Attack --- 9999 1573534212.8984535\n",
      "Key: 23 \n",
      "Sample: 7582 \n",
      "Correlation: 0.14674969697719217\n",
      "--- Start Correlation Attack ---\n"
     ]
    },
    {
     "data": {
      "application/vnd.jupyter.widget-view+json": {
       "model_id": "1606135bd406447a9862bdd789d846a6",
       "version_major": 2,
       "version_minor": 0
      },
      "text/plain": [
       "HBox(children=(IntProgress(value=0, max=10000), HTML(value='')))"
      ]
     },
     "metadata": {},
     "output_type": "display_data"
    },
    {
     "name": "stdout",
     "output_type": "stream",
     "text": [
      "\n",
      "--- Finished Correlation Attack --- 9999 1573534234.4599717\n",
      "Key: 23 \n",
      "Sample: 6995 \n",
      "Correlation: 0.1702341458338288\n",
      "--- Start Correlation Attack ---\n"
     ]
    },
    {
     "data": {
      "application/vnd.jupyter.widget-view+json": {
       "model_id": "38aca69a0459442482138464d589c152",
       "version_major": 2,
       "version_minor": 0
      },
      "text/plain": [
       "HBox(children=(IntProgress(value=0, max=10000), HTML(value='')))"
      ]
     },
     "metadata": {},
     "output_type": "display_data"
    },
    {
     "name": "stdout",
     "output_type": "stream",
     "text": [
      "\n",
      "--- Finished Correlation Attack --- 9999 1573534256.1320143\n",
      "Key: 23 \n",
      "Sample: 4894 \n",
      "Correlation: 0.19411401928123753\n",
      "--- Start Correlation Attack ---\n"
     ]
    },
    {
     "data": {
      "application/vnd.jupyter.widget-view+json": {
       "model_id": "3e1a1687543d4f0d87825b53112b9fd7",
       "version_major": 2,
       "version_minor": 0
      },
      "text/plain": [
       "HBox(children=(IntProgress(value=0, max=10000), HTML(value='')))"
      ]
     },
     "metadata": {},
     "output_type": "display_data"
    },
    {
     "name": "stdout",
     "output_type": "stream",
     "text": [
      "\n",
      "--- Finished Correlation Attack --- 9999 1573534277.8368144\n",
      "Key: 23 \n",
      "Sample: 409 \n",
      "Correlation: 0.17282934613324916\n",
      "--- Start Correlation Attack ---\n"
     ]
    },
    {
     "data": {
      "application/vnd.jupyter.widget-view+json": {
       "model_id": "0bcbe779671b4d09bfd25a6d98fab2d7",
       "version_major": 2,
       "version_minor": 0
      },
      "text/plain": [
       "HBox(children=(IntProgress(value=0, max=10000), HTML(value='')))"
      ]
     },
     "metadata": {},
     "output_type": "display_data"
    },
    {
     "name": "stdout",
     "output_type": "stream",
     "text": [
      "\n",
      "--- Finished Correlation Attack --- 9999 1573534299.4616203\n",
      "Key: 23 \n",
      "Sample: 8057 \n",
      "Correlation: 0.1448269167413996\n",
      "--- Start Correlation Attack ---\n"
     ]
    },
    {
     "data": {
      "application/vnd.jupyter.widget-view+json": {
       "model_id": "a86f586d0ff44e8cb66e8580ca5fe6d9",
       "version_major": 2,
       "version_minor": 0
      },
      "text/plain": [
       "HBox(children=(IntProgress(value=0, max=10000), HTML(value='')))"
      ]
     },
     "metadata": {},
     "output_type": "display_data"
    },
    {
     "name": "stdout",
     "output_type": "stream",
     "text": [
      "\n",
      "--- Finished Correlation Attack --- 9999 1573534321.2985756\n",
      "Key: 23 \n",
      "Sample: 1181 \n",
      "Correlation: 0.17690512366141936\n",
      "--- Start Correlation Attack ---\n"
     ]
    },
    {
     "data": {
      "application/vnd.jupyter.widget-view+json": {
       "model_id": "e6cef161f597483b8e342226824181e2",
       "version_major": 2,
       "version_minor": 0
      },
      "text/plain": [
       "HBox(children=(IntProgress(value=0, max=10000), HTML(value='')))"
      ]
     },
     "metadata": {},
     "output_type": "display_data"
    },
    {
     "name": "stdout",
     "output_type": "stream",
     "text": [
      "\n",
      "--- Finished Correlation Attack --- 9999 1573534343.036895\n",
      "Key: 23 \n",
      "Sample: 3615 \n",
      "Correlation: 0.14885124773754452\n",
      "--- Start Correlation Attack ---\n"
     ]
    },
    {
     "data": {
      "application/vnd.jupyter.widget-view+json": {
       "model_id": "ceca019112de43f98f2750bc9156e867",
       "version_major": 2,
       "version_minor": 0
      },
      "text/plain": [
       "HBox(children=(IntProgress(value=0, max=10000), HTML(value='')))"
      ]
     },
     "metadata": {},
     "output_type": "display_data"
    },
    {
     "name": "stdout",
     "output_type": "stream",
     "text": [
      "\n",
      "--- Finished Correlation Attack --- 9999 1573534364.6024106\n",
      "Key: 23 \n",
      "Sample: 9975 \n",
      "Correlation: 0.1316888180076648\n",
      "--- Start Correlation Attack ---\n"
     ]
    },
    {
     "data": {
      "application/vnd.jupyter.widget-view+json": {
       "model_id": "14735ef175174fb29e5a9ef7a9347869",
       "version_major": 2,
       "version_minor": 0
      },
      "text/plain": [
       "HBox(children=(IntProgress(value=0, max=10000), HTML(value='')))"
      ]
     },
     "metadata": {},
     "output_type": "display_data"
    },
    {
     "name": "stdout",
     "output_type": "stream",
     "text": [
      "\n",
      "--- Finished Correlation Attack --- 9999 1573534385.9026003\n",
      "Key: 23 \n",
      "Sample: 6865 \n",
      "Correlation: 0.15296604674775255\n",
      "--- Start Correlation Attack ---\n"
     ]
    },
    {
     "data": {
      "application/vnd.jupyter.widget-view+json": {
       "model_id": "2f7700cc5bf8486da1c23bb53fe453bd",
       "version_major": 2,
       "version_minor": 0
      },
      "text/plain": [
       "HBox(children=(IntProgress(value=0, max=10000), HTML(value='')))"
      ]
     },
     "metadata": {},
     "output_type": "display_data"
    },
    {
     "name": "stdout",
     "output_type": "stream",
     "text": [
      "\n",
      "--- Finished Correlation Attack --- 9999 1573534407.3603065\n",
      "Key: 23 \n",
      "Sample: 7240 \n",
      "Correlation: 0.20472656925600266\n",
      "--- Start Correlation Attack ---\n"
     ]
    },
    {
     "data": {
      "application/vnd.jupyter.widget-view+json": {
       "model_id": "e8029b31148249ca95632e13b8b44087",
       "version_major": 2,
       "version_minor": 0
      },
      "text/plain": [
       "HBox(children=(IntProgress(value=0, max=10000), HTML(value='')))"
      ]
     },
     "metadata": {},
     "output_type": "display_data"
    },
    {
     "name": "stdout",
     "output_type": "stream",
     "text": [
      "\n",
      "--- Finished Correlation Attack --- 9999 1573534429.1386716\n",
      "Key: 23 \n",
      "Sample: 7240 \n",
      "Correlation: 0.299103915522039\n",
      "--- Start Correlation Attack ---\n"
     ]
    },
    {
     "data": {
      "application/vnd.jupyter.widget-view+json": {
       "model_id": "df942d93553546b08c205c2525555ef9",
       "version_major": 2,
       "version_minor": 0
      },
      "text/plain": [
       "HBox(children=(IntProgress(value=0, max=10000), HTML(value='')))"
      ]
     },
     "metadata": {},
     "output_type": "display_data"
    },
    {
     "name": "stdout",
     "output_type": "stream",
     "text": [
      "\n",
      "--- Finished Correlation Attack --- 9999 1573534450.6341946\n",
      "Key: 23 \n",
      "Sample: 226 \n",
      "Correlation: 0.12968840863839348\n",
      "--- Start Correlation Attack ---\n"
     ]
    },
    {
     "data": {
      "application/vnd.jupyter.widget-view+json": {
       "model_id": "46d5d1625a0940b4b7efd250cde4c370",
       "version_major": 2,
       "version_minor": 0
      },
      "text/plain": [
       "HBox(children=(IntProgress(value=0, max=10000), HTML(value='')))"
      ]
     },
     "metadata": {},
     "output_type": "display_data"
    },
    {
     "name": "stdout",
     "output_type": "stream",
     "text": [
      "\n",
      "--- Finished Correlation Attack --- 9999 1573534472.1922286\n",
      "Key: 23 \n",
      "Sample: 7242 \n",
      "Correlation: 0.266400629094396\n",
      "--- Start Correlation Attack ---\n"
     ]
    },
    {
     "data": {
      "application/vnd.jupyter.widget-view+json": {
       "model_id": "0260ef5e456a4436a30fac1ba04f76a3",
       "version_major": 2,
       "version_minor": 0
      },
      "text/plain": [
       "HBox(children=(IntProgress(value=0, max=10000), HTML(value='')))"
      ]
     },
     "metadata": {},
     "output_type": "display_data"
    },
    {
     "name": "stdout",
     "output_type": "stream",
     "text": [
      "\n",
      "--- Finished Correlation Attack --- 9999 1573534493.8538973\n",
      "Key: 23 \n",
      "Sample: 7242 \n",
      "Correlation: 0.3756761478093338\n",
      "--- Start Correlation Attack ---\n"
     ]
    },
    {
     "data": {
      "application/vnd.jupyter.widget-view+json": {
       "model_id": "b321f0022dc24bad9b58bf17dfcb4357",
       "version_major": 2,
       "version_minor": 0
      },
      "text/plain": [
       "HBox(children=(IntProgress(value=0, max=10000), HTML(value='')))"
      ]
     },
     "metadata": {},
     "output_type": "display_data"
    },
    {
     "name": "stdout",
     "output_type": "stream",
     "text": [
      "\n",
      "--- Finished Correlation Attack --- 9999 1573534515.1341243\n",
      "Key: 23 \n",
      "Sample: 7242 \n",
      "Correlation: 0.3614250090759692\n",
      "--- Start Correlation Attack ---\n"
     ]
    },
    {
     "data": {
      "application/vnd.jupyter.widget-view+json": {
       "model_id": "b9f0b207eab347a9a53f89925facfa81",
       "version_major": 2,
       "version_minor": 0
      },
      "text/plain": [
       "HBox(children=(IntProgress(value=0, max=10000), HTML(value='')))"
      ]
     },
     "metadata": {},
     "output_type": "display_data"
    },
    {
     "name": "stdout",
     "output_type": "stream",
     "text": [
      "\n",
      "--- Finished Correlation Attack --- 9999 1573534536.567065\n",
      "Key: 23 \n",
      "Sample: 7242 \n",
      "Correlation: 0.19389202865969188\n",
      "--- Start Correlation Attack ---\n"
     ]
    },
    {
     "data": {
      "application/vnd.jupyter.widget-view+json": {
       "model_id": "28a915cb07254971a54d83369befdbd4",
       "version_major": 2,
       "version_minor": 0
      },
      "text/plain": [
       "HBox(children=(IntProgress(value=0, max=10000), HTML(value='')))"
      ]
     },
     "metadata": {},
     "output_type": "display_data"
    },
    {
     "name": "stdout",
     "output_type": "stream",
     "text": [
      "\n",
      "--- Finished Correlation Attack --- 9999 1573534558.0495732\n",
      "Key: 23 \n",
      "Sample: 7242 \n",
      "Correlation: 0.16332299848682413\n",
      "--- Start Correlation Attack ---\n"
     ]
    },
    {
     "data": {
      "application/vnd.jupyter.widget-view+json": {
       "model_id": "54d5426486ba4c7d91ebb552b6918980",
       "version_major": 2,
       "version_minor": 0
      },
      "text/plain": [
       "HBox(children=(IntProgress(value=0, max=10000), HTML(value='')))"
      ]
     },
     "metadata": {},
     "output_type": "display_data"
    },
    {
     "name": "stdout",
     "output_type": "stream",
     "text": [
      "\n",
      "--- Finished Correlation Attack --- 9999 1573534579.8382168\n",
      "Key: 23 \n",
      "Sample: 7242 \n",
      "Correlation: 0.20853585183946724\n",
      "--- Start Correlation Attack ---\n"
     ]
    },
    {
     "data": {
      "application/vnd.jupyter.widget-view+json": {
       "model_id": "ef3bc668415b481b9715e04fbfe3405c",
       "version_major": 2,
       "version_minor": 0
      },
      "text/plain": [
       "HBox(children=(IntProgress(value=0, max=10000), HTML(value='')))"
      ]
     },
     "metadata": {},
     "output_type": "display_data"
    },
    {
     "name": "stdout",
     "output_type": "stream",
     "text": [
      "\n",
      "--- Finished Correlation Attack --- 9999 1573534601.640857\n",
      "Key: 23 \n",
      "Sample: 9880 \n",
      "Correlation: 0.15326573333687651\n",
      "--- Start Correlation Attack ---\n"
     ]
    },
    {
     "data": {
      "application/vnd.jupyter.widget-view+json": {
       "model_id": "512eaa49434f4b92809c4e442104c8ea",
       "version_major": 2,
       "version_minor": 0
      },
      "text/plain": [
       "HBox(children=(IntProgress(value=0, max=10000), HTML(value='')))"
      ]
     },
     "metadata": {},
     "output_type": "display_data"
    },
    {
     "name": "stdout",
     "output_type": "stream",
     "text": [
      "\n",
      "--- Finished Correlation Attack --- 9999 1573534623.0601425\n",
      "Key: 23 \n",
      "Sample: 7239 \n",
      "Correlation: 0.2219974718597001\n",
      "--- Start Correlation Attack ---\n"
     ]
    },
    {
     "data": {
      "application/vnd.jupyter.widget-view+json": {
       "model_id": "5600e8a1efef49bcb5bb1dae7593b1af",
       "version_major": 2,
       "version_minor": 0
      },
      "text/plain": [
       "HBox(children=(IntProgress(value=0, max=10000), HTML(value='')))"
      ]
     },
     "metadata": {},
     "output_type": "display_data"
    },
    {
     "name": "stdout",
     "output_type": "stream",
     "text": [
      "\n",
      "--- Finished Correlation Attack --- 9999 1573534644.581475\n",
      "Key: 23 \n",
      "Sample: 7239 \n",
      "Correlation: 0.13187187366568162\n",
      "--- Start Correlation Attack ---\n"
     ]
    },
    {
     "data": {
      "application/vnd.jupyter.widget-view+json": {
       "model_id": "9e10aa7297b84bb9bd3b002e30c270eb",
       "version_major": 2,
       "version_minor": 0
      },
      "text/plain": [
       "HBox(children=(IntProgress(value=0, max=10000), HTML(value='')))"
      ]
     },
     "metadata": {},
     "output_type": "display_data"
    },
    {
     "name": "stdout",
     "output_type": "stream",
     "text": [
      "\n",
      "--- Finished Correlation Attack --- 9999 1573534666.0257506\n",
      "Key: 23 \n",
      "Sample: 6990 \n",
      "Correlation: 0.14956500560846486\n",
      "--- Start Correlation Attack ---\n"
     ]
    },
    {
     "data": {
      "application/vnd.jupyter.widget-view+json": {
       "model_id": "650d1524fae54f4d8d3089f2923fcda4",
       "version_major": 2,
       "version_minor": 0
      },
      "text/plain": [
       "HBox(children=(IntProgress(value=0, max=10000), HTML(value='')))"
      ]
     },
     "metadata": {},
     "output_type": "display_data"
    },
    {
     "name": "stdout",
     "output_type": "stream",
     "text": [
      "\n",
      "--- Finished Correlation Attack --- 9999 1573534687.4495173\n",
      "Key: 23 \n",
      "Sample: 7239 \n",
      "Correlation: 0.2067185179176257\n",
      "--- Start Correlation Attack ---\n"
     ]
    },
    {
     "data": {
      "application/vnd.jupyter.widget-view+json": {
       "model_id": "955410c5c20b4bbeb426c633e6b6944f",
       "version_major": 2,
       "version_minor": 0
      },
      "text/plain": [
       "HBox(children=(IntProgress(value=0, max=10000), HTML(value='')))"
      ]
     },
     "metadata": {},
     "output_type": "display_data"
    },
    {
     "name": "stdout",
     "output_type": "stream",
     "text": [
      "\n",
      "--- Finished Correlation Attack --- 9999 1573534708.9790199\n",
      "Key: 23 \n",
      "Sample: 6990 \n",
      "Correlation: 0.1597721682281063\n",
      "--- Start Correlation Attack ---\n"
     ]
    },
    {
     "data": {
      "application/vnd.jupyter.widget-view+json": {
       "model_id": "b91a69a2411e4f01a8fa0b561af6688a",
       "version_major": 2,
       "version_minor": 0
      },
      "text/plain": [
       "HBox(children=(IntProgress(value=0, max=10000), HTML(value='')))"
      ]
     },
     "metadata": {},
     "output_type": "display_data"
    },
    {
     "name": "stdout",
     "output_type": "stream",
     "text": [
      "\n",
      "--- Finished Correlation Attack --- 9999 1573534730.2707193\n",
      "Key: 23 \n",
      "Sample: 6990 \n",
      "Correlation: 0.1924654035696545\n",
      "--- Start Correlation Attack ---\n"
     ]
    },
    {
     "data": {
      "application/vnd.jupyter.widget-view+json": {
       "model_id": "c39971f9ae814f9b9f120f1d610d3484",
       "version_major": 2,
       "version_minor": 0
      },
      "text/plain": [
       "HBox(children=(IntProgress(value=0, max=10000), HTML(value='')))"
      ]
     },
     "metadata": {},
     "output_type": "display_data"
    },
    {
     "name": "stdout",
     "output_type": "stream",
     "text": [
      "\n",
      "--- Finished Correlation Attack --- 9999 1573534751.6902876\n",
      "Key: 23 \n",
      "Sample: 7177 \n",
      "Correlation: 0.13921545826662812\n",
      "--- Start Correlation Attack ---\n"
     ]
    },
    {
     "data": {
      "application/vnd.jupyter.widget-view+json": {
       "model_id": "eb9991fda78447e39357ef329391654d",
       "version_major": 2,
       "version_minor": 0
      },
      "text/plain": [
       "HBox(children=(IntProgress(value=0, max=10000), HTML(value='')))"
      ]
     },
     "metadata": {},
     "output_type": "display_data"
    },
    {
     "name": "stdout",
     "output_type": "stream",
     "text": [
      "\n",
      "--- Finished Correlation Attack --- 9999 1573534773.1394448\n",
      "Key: 23 \n",
      "Sample: 2513 \n",
      "Correlation: 0.15585871962172784\n",
      "--- Start Correlation Attack ---\n"
     ]
    },
    {
     "data": {
      "application/vnd.jupyter.widget-view+json": {
       "model_id": "995d9a5137cd4680b84fd8638940cfae",
       "version_major": 2,
       "version_minor": 0
      },
      "text/plain": [
       "HBox(children=(IntProgress(value=0, max=10000), HTML(value='')))"
      ]
     },
     "metadata": {},
     "output_type": "display_data"
    },
    {
     "name": "stdout",
     "output_type": "stream",
     "text": [
      "\n",
      "--- Finished Correlation Attack --- 9999 1573534794.5778384\n",
      "Key: 23 \n",
      "Sample: 550 \n",
      "Correlation: 0.16162274491666534\n",
      "--- Start Correlation Attack ---\n"
     ]
    },
    {
     "data": {
      "application/vnd.jupyter.widget-view+json": {
       "model_id": "a481ee505ca24878b3c27260c28b6302",
       "version_major": 2,
       "version_minor": 0
      },
      "text/plain": [
       "HBox(children=(IntProgress(value=0, max=10000), HTML(value='')))"
      ]
     },
     "metadata": {},
     "output_type": "display_data"
    },
    {
     "name": "stdout",
     "output_type": "stream",
     "text": [
      "\n",
      "--- Finished Correlation Attack --- 9999 1573534816.2974017\n",
      "Key: 23 \n",
      "Sample: 9671 \n",
      "Correlation: 0.1810592950520933\n",
      "--- Start Correlation Attack ---\n"
     ]
    },
    {
     "data": {
      "application/vnd.jupyter.widget-view+json": {
       "model_id": "20797de7184a42e0abd29d97472ebb90",
       "version_major": 2,
       "version_minor": 0
      },
      "text/plain": [
       "HBox(children=(IntProgress(value=0, max=10000), HTML(value='')))"
      ]
     },
     "metadata": {},
     "output_type": "display_data"
    },
    {
     "name": "stdout",
     "output_type": "stream",
     "text": [
      "\n",
      "--- Finished Correlation Attack --- 9999 1573534837.999786\n",
      "Key: 23 \n",
      "Sample: 7240 \n",
      "Correlation: 0.21776570594330286\n",
      "--- Start Correlation Attack ---\n"
     ]
    },
    {
     "data": {
      "application/vnd.jupyter.widget-view+json": {
       "model_id": "dbe1d3b4c73c4b76b93c1ab90a727fbd",
       "version_major": 2,
       "version_minor": 0
      },
      "text/plain": [
       "HBox(children=(IntProgress(value=0, max=10000), HTML(value='')))"
      ]
     },
     "metadata": {},
     "output_type": "display_data"
    },
    {
     "name": "stdout",
     "output_type": "stream",
     "text": [
      "\n",
      "--- Finished Correlation Attack --- 9999 1573534859.3589082\n",
      "Key: 23 \n",
      "Sample: 7240 \n",
      "Correlation: 0.2098976309953384\n",
      "--- Start Correlation Attack ---\n"
     ]
    },
    {
     "data": {
      "application/vnd.jupyter.widget-view+json": {
       "model_id": "d54e32f6d85249c4bb68bbeb46fc6e8e",
       "version_major": 2,
       "version_minor": 0
      },
      "text/plain": [
       "HBox(children=(IntProgress(value=0, max=10000), HTML(value='')))"
      ]
     },
     "metadata": {},
     "output_type": "display_data"
    },
    {
     "name": "stdout",
     "output_type": "stream",
     "text": [
      "\n",
      "--- Finished Correlation Attack --- 9999 1573534880.8365157\n",
      "Key: 23 \n",
      "Sample: 8182 \n",
      "Correlation: 0.14607140850590952\n",
      "--- Start Correlation Attack ---\n"
     ]
    },
    {
     "data": {
      "application/vnd.jupyter.widget-view+json": {
       "model_id": "74b7b98389a1401d879df8b8f4f2b5e3",
       "version_major": 2,
       "version_minor": 0
      },
      "text/plain": [
       "HBox(children=(IntProgress(value=0, max=10000), HTML(value='')))"
      ]
     },
     "metadata": {},
     "output_type": "display_data"
    },
    {
     "name": "stdout",
     "output_type": "stream",
     "text": [
      "\n",
      "--- Finished Correlation Attack --- 9999 1573534901.9574459\n",
      "Key: 23 \n",
      "Sample: 6994 \n",
      "Correlation: 0.2007788634226325\n",
      "--- Start Correlation Attack ---\n"
     ]
    },
    {
     "data": {
      "application/vnd.jupyter.widget-view+json": {
       "model_id": "0b8a7cdd29bd4b53aa6617c41e230dee",
       "version_major": 2,
       "version_minor": 0
      },
      "text/plain": [
       "HBox(children=(IntProgress(value=0, max=10000), HTML(value='')))"
      ]
     },
     "metadata": {},
     "output_type": "display_data"
    },
    {
     "name": "stdout",
     "output_type": "stream",
     "text": [
      "\n",
      "--- Finished Correlation Attack --- 9999 1573534923.4700766\n",
      "Key: 23 \n",
      "Sample: 7242 \n",
      "Correlation: 0.26959481317822603\n",
      "--- Start Correlation Attack ---\n"
     ]
    },
    {
     "data": {
      "application/vnd.jupyter.widget-view+json": {
       "model_id": "de464e988c9b46d0a4cf48e1f2c85745",
       "version_major": 2,
       "version_minor": 0
      },
      "text/plain": [
       "HBox(children=(IntProgress(value=0, max=10000), HTML(value='')))"
      ]
     },
     "metadata": {},
     "output_type": "display_data"
    },
    {
     "name": "stdout",
     "output_type": "stream",
     "text": [
      "\n",
      "--- Finished Correlation Attack --- 9999 1573534944.649183\n",
      "Key: 23 \n",
      "Sample: 7242 \n",
      "Correlation: 0.347561033251741\n",
      "--- Start Correlation Attack ---\n"
     ]
    },
    {
     "data": {
      "application/vnd.jupyter.widget-view+json": {
       "model_id": "8feaaaef61b84e2992e3eb740e6a9d3b",
       "version_major": 2,
       "version_minor": 0
      },
      "text/plain": [
       "HBox(children=(IntProgress(value=0, max=10000), HTML(value='')))"
      ]
     },
     "metadata": {},
     "output_type": "display_data"
    },
    {
     "name": "stdout",
     "output_type": "stream",
     "text": [
      "\n",
      "--- Finished Correlation Attack --- 9999 1573534965.765244\n",
      "Key: 23 \n",
      "Sample: 7242 \n",
      "Correlation: 0.26610970187870664\n",
      "--- Start Correlation Attack ---\n"
     ]
    },
    {
     "data": {
      "application/vnd.jupyter.widget-view+json": {
       "model_id": "4ee80efdea1a46beb6b229965e0a1f99",
       "version_major": 2,
       "version_minor": 0
      },
      "text/plain": [
       "HBox(children=(IntProgress(value=0, max=10000), HTML(value='')))"
      ]
     },
     "metadata": {},
     "output_type": "display_data"
    },
    {
     "name": "stdout",
     "output_type": "stream",
     "text": [
      "\n",
      "--- Finished Correlation Attack --- 9999 1573534987.0054247\n",
      "Key: 23 \n",
      "Sample: 7242 \n",
      "Correlation: 0.24627962384462343\n",
      "--- Start Correlation Attack ---\n"
     ]
    },
    {
     "data": {
      "application/vnd.jupyter.widget-view+json": {
       "model_id": "69e0b9f553924273a51bf06d0b1305bb",
       "version_major": 2,
       "version_minor": 0
      },
      "text/plain": [
       "HBox(children=(IntProgress(value=0, max=10000), HTML(value='')))"
      ]
     },
     "metadata": {},
     "output_type": "display_data"
    },
    {
     "name": "stdout",
     "output_type": "stream",
     "text": [
      "\n",
      "--- Finished Correlation Attack --- 9999 1573535008.1252375\n",
      "Key: 23 \n",
      "Sample: 7242 \n",
      "Correlation: 0.25426973621458887\n",
      "--- Start Correlation Attack ---\n"
     ]
    },
    {
     "data": {
      "application/vnd.jupyter.widget-view+json": {
       "model_id": "ee779cedd69d4202bdf863eca8863270",
       "version_major": 2,
       "version_minor": 0
      },
      "text/plain": [
       "HBox(children=(IntProgress(value=0, max=10000), HTML(value='')))"
      ]
     },
     "metadata": {},
     "output_type": "display_data"
    },
    {
     "name": "stdout",
     "output_type": "stream",
     "text": [
      "\n",
      "--- Finished Correlation Attack --- 9999 1573535029.5063915\n",
      "Key: 23 \n",
      "Sample: 6993 \n",
      "Correlation: 0.20245148205144237\n",
      "--- Start Correlation Attack ---\n"
     ]
    },
    {
     "data": {
      "application/vnd.jupyter.widget-view+json": {
       "model_id": "5571d2e47e9b4d92b9fefc49d4722412",
       "version_major": 2,
       "version_minor": 0
      },
      "text/plain": [
       "HBox(children=(IntProgress(value=0, max=10000), HTML(value='')))"
      ]
     },
     "metadata": {},
     "output_type": "display_data"
    },
    {
     "name": "stdout",
     "output_type": "stream",
     "text": [
      "\n",
      "--- Finished Correlation Attack --- 9999 1573535050.6355274\n",
      "Key: 23 \n",
      "Sample: 2371 \n",
      "Correlation: 0.15212649845781492\n",
      "--- Start Correlation Attack ---\n"
     ]
    },
    {
     "data": {
      "application/vnd.jupyter.widget-view+json": {
       "model_id": "dd9f700f6e1b4328b5d5ff6cc21677bb",
       "version_major": 2,
       "version_minor": 0
      },
      "text/plain": [
       "HBox(children=(IntProgress(value=0, max=10000), HTML(value='')))"
      ]
     },
     "metadata": {},
     "output_type": "display_data"
    },
    {
     "name": "stdout",
     "output_type": "stream",
     "text": [
      "\n",
      "--- Finished Correlation Attack --- 9999 1573535071.641501\n",
      "Key: 23 \n",
      "Sample: 7637 \n",
      "Correlation: 0.14853080990239673\n",
      "--- Start Correlation Attack ---\n"
     ]
    },
    {
     "data": {
      "application/vnd.jupyter.widget-view+json": {
       "model_id": "5bc804db0bfb4daea85874b55b302b88",
       "version_major": 2,
       "version_minor": 0
      },
      "text/plain": [
       "HBox(children=(IntProgress(value=0, max=10000), HTML(value='')))"
      ]
     },
     "metadata": {},
     "output_type": "display_data"
    },
    {
     "name": "stdout",
     "output_type": "stream",
     "text": [
      "\n",
      "--- Finished Correlation Attack --- 9999 1573535092.877241\n",
      "Key: 23 \n",
      "Sample: 5015 \n",
      "Correlation: 0.17181731774365055\n",
      "--- Start Correlation Attack ---\n"
     ]
    },
    {
     "data": {
      "application/vnd.jupyter.widget-view+json": {
       "model_id": "2d447dccf00846db8abd39e0c831540f",
       "version_major": 2,
       "version_minor": 0
      },
      "text/plain": [
       "HBox(children=(IntProgress(value=0, max=10000), HTML(value='')))"
      ]
     },
     "metadata": {},
     "output_type": "display_data"
    },
    {
     "name": "stdout",
     "output_type": "stream",
     "text": [
      "\n",
      "--- Finished Correlation Attack --- 9999 1573535113.9722757\n",
      "Key: 23 \n",
      "Sample: 6990 \n",
      "Correlation: 0.14560239976581868\n",
      "--- Start Correlation Attack ---\n"
     ]
    },
    {
     "data": {
      "application/vnd.jupyter.widget-view+json": {
       "model_id": "0c21bdb7cb194009930c099af3e9fbd0",
       "version_major": 2,
       "version_minor": 0
      },
      "text/plain": [
       "HBox(children=(IntProgress(value=0, max=10000), HTML(value='')))"
      ]
     },
     "metadata": {},
     "output_type": "display_data"
    },
    {
     "name": "stdout",
     "output_type": "stream",
     "text": [
      "\n",
      "--- Finished Correlation Attack --- 9999 1573535135.0835094\n",
      "Key: 23 \n",
      "Sample: 6990 \n",
      "Correlation: 0.15431231894767772\n",
      "--- Start Correlation Attack ---\n"
     ]
    },
    {
     "data": {
      "application/vnd.jupyter.widget-view+json": {
       "model_id": "869d13ddbed645c289e2f9bc1969805b",
       "version_major": 2,
       "version_minor": 0
      },
      "text/plain": [
       "HBox(children=(IntProgress(value=0, max=10000), HTML(value='')))"
      ]
     },
     "metadata": {},
     "output_type": "display_data"
    },
    {
     "name": "stdout",
     "output_type": "stream",
     "text": [
      "\n",
      "--- Finished Correlation Attack --- 9999 1573535156.3945916\n",
      "Key: 23 \n",
      "Sample: 3792 \n",
      "Correlation: 0.2036951060828894\n",
      "--- Start Correlation Attack ---\n"
     ]
    },
    {
     "data": {
      "application/vnd.jupyter.widget-view+json": {
       "model_id": "572347e5a08a4e3c9e3d1eae06138002",
       "version_major": 2,
       "version_minor": 0
      },
      "text/plain": [
       "HBox(children=(IntProgress(value=0, max=10000), HTML(value='')))"
      ]
     },
     "metadata": {},
     "output_type": "display_data"
    },
    {
     "name": "stdout",
     "output_type": "stream",
     "text": [
      "\n",
      "--- Finished Correlation Attack --- 9999 1573535177.4908917\n",
      "Key: 23 \n",
      "Sample: 9771 \n",
      "Correlation: 0.190256259017149\n",
      "--- Start Correlation Attack ---\n"
     ]
    },
    {
     "data": {
      "application/vnd.jupyter.widget-view+json": {
       "model_id": "10631448a356455c8a53dafd57167957",
       "version_major": 2,
       "version_minor": 0
      },
      "text/plain": [
       "HBox(children=(IntProgress(value=0, max=10000), HTML(value='')))"
      ]
     },
     "metadata": {},
     "output_type": "display_data"
    },
    {
     "name": "stdout",
     "output_type": "stream",
     "text": [
      "\n",
      "--- Finished Correlation Attack --- 9999 1573535198.9329515\n",
      "Key: 23 \n",
      "Sample: 7313 \n",
      "Correlation: 0.17529794348067704\n",
      "--- Start Correlation Attack ---\n"
     ]
    },
    {
     "data": {
      "application/vnd.jupyter.widget-view+json": {
       "model_id": "99e4a77952b2459a8b961733d6cb0fa0",
       "version_major": 2,
       "version_minor": 0
      },
      "text/plain": [
       "HBox(children=(IntProgress(value=0, max=10000), HTML(value='')))"
      ]
     },
     "metadata": {},
     "output_type": "display_data"
    },
    {
     "name": "stdout",
     "output_type": "stream",
     "text": [
      "\n",
      "--- Finished Correlation Attack --- 9999 1573535220.1479707\n",
      "Key: 23 \n",
      "Sample: 977 \n",
      "Correlation: 0.17070048632927803\n",
      "--- Start Correlation Attack ---\n"
     ]
    },
    {
     "data": {
      "application/vnd.jupyter.widget-view+json": {
       "model_id": "0f7a8db312ac47018859b0fa7212c2e7",
       "version_major": 2,
       "version_minor": 0
      },
      "text/plain": [
       "HBox(children=(IntProgress(value=0, max=10000), HTML(value='')))"
      ]
     },
     "metadata": {},
     "output_type": "display_data"
    },
    {
     "name": "stdout",
     "output_type": "stream",
     "text": [
      "\n",
      "--- Finished Correlation Attack --- 9999 1573535241.390152\n",
      "Key: 23 \n",
      "Sample: 6991 \n",
      "Correlation: 0.15353064579546036\n",
      "--- Start Correlation Attack ---\n"
     ]
    },
    {
     "data": {
      "application/vnd.jupyter.widget-view+json": {
       "model_id": "179f6926f54a4d1ab752f89490a64387",
       "version_major": 2,
       "version_minor": 0
      },
      "text/plain": [
       "HBox(children=(IntProgress(value=0, max=10000), HTML(value='')))"
      ]
     },
     "metadata": {},
     "output_type": "display_data"
    },
    {
     "name": "stdout",
     "output_type": "stream",
     "text": [
      "\n",
      "--- Finished Correlation Attack --- 9999 1573535262.8243704\n",
      "Key: 23 \n",
      "Sample: 7463 \n",
      "Correlation: 0.1906617085438318\n",
      "--- Start Correlation Attack ---\n"
     ]
    },
    {
     "data": {
      "application/vnd.jupyter.widget-view+json": {
       "model_id": "f6f6afedd85d4cfb847f219a68e3fa9e",
       "version_major": 2,
       "version_minor": 0
      },
      "text/plain": [
       "HBox(children=(IntProgress(value=0, max=10000), HTML(value='')))"
      ]
     },
     "metadata": {},
     "output_type": "display_data"
    },
    {
     "name": "stdout",
     "output_type": "stream",
     "text": [
      "\n",
      "--- Finished Correlation Attack --- 9999 1573535284.0338933\n",
      "Key: 23 \n",
      "Sample: 6995 \n",
      "Correlation: 0.1657689785296132\n",
      "--- Start Correlation Attack ---\n"
     ]
    },
    {
     "data": {
      "application/vnd.jupyter.widget-view+json": {
       "model_id": "8e05acc1bb5e499ebb6e5e190bba1b63",
       "version_major": 2,
       "version_minor": 0
      },
      "text/plain": [
       "HBox(children=(IntProgress(value=0, max=10000), HTML(value='')))"
      ]
     },
     "metadata": {},
     "output_type": "display_data"
    },
    {
     "name": "stdout",
     "output_type": "stream",
     "text": [
      "\n",
      "--- Finished Correlation Attack --- 9999 1573535305.3451996\n",
      "Key: 23 \n",
      "Sample: 6994 \n",
      "Correlation: 0.18131946748784522\n",
      "--- Start Correlation Attack ---\n"
     ]
    },
    {
     "data": {
      "application/vnd.jupyter.widget-view+json": {
       "model_id": "a6a4daf1dc3a4e968b8845675eb7e747",
       "version_major": 2,
       "version_minor": 0
      },
      "text/plain": [
       "HBox(children=(IntProgress(value=0, max=10000), HTML(value='')))"
      ]
     },
     "metadata": {},
     "output_type": "display_data"
    },
    {
     "name": "stdout",
     "output_type": "stream",
     "text": [
      "\n",
      "--- Finished Correlation Attack --- 9999 1573535326.3663182\n",
      "Key: 23 \n",
      "Sample: 685 \n",
      "Correlation: 0.15133801109189812\n",
      "--- Start Correlation Attack ---\n"
     ]
    },
    {
     "data": {
      "application/vnd.jupyter.widget-view+json": {
       "model_id": "967d9ed86d7a4d279a8e5bd2e2aba3ac",
       "version_major": 2,
       "version_minor": 0
      },
      "text/plain": [
       "HBox(children=(IntProgress(value=0, max=10000), HTML(value='')))"
      ]
     },
     "metadata": {},
     "output_type": "display_data"
    },
    {
     "name": "stdout",
     "output_type": "stream",
     "text": [
      "\n",
      "--- Finished Correlation Attack --- 9999 1573535349.0311956\n",
      "Key: 23 \n",
      "Sample: 7242 \n",
      "Correlation: 0.22682566567839563\n",
      "--- Start Correlation Attack ---\n"
     ]
    },
    {
     "data": {
      "application/vnd.jupyter.widget-view+json": {
       "model_id": "658475989c6a481e9b809e67116276bd",
       "version_major": 2,
       "version_minor": 0
      },
      "text/plain": [
       "HBox(children=(IntProgress(value=0, max=10000), HTML(value='')))"
      ]
     },
     "metadata": {},
     "output_type": "display_data"
    },
    {
     "name": "stdout",
     "output_type": "stream",
     "text": [
      "\n",
      "--- Finished Correlation Attack --- 9999 1573535371.9051464\n",
      "Key: 23 \n",
      "Sample: 7242 \n",
      "Correlation: 0.2717335702607785\n",
      "--- Start Correlation Attack ---\n"
     ]
    },
    {
     "data": {
      "application/vnd.jupyter.widget-view+json": {
       "model_id": "3771b85074a64c8caebf03b4548d7f0f",
       "version_major": 2,
       "version_minor": 0
      },
      "text/plain": [
       "HBox(children=(IntProgress(value=0, max=10000), HTML(value='')))"
      ]
     },
     "metadata": {},
     "output_type": "display_data"
    },
    {
     "name": "stdout",
     "output_type": "stream",
     "text": [
      "\n",
      "--- Finished Correlation Attack --- 9999 1573535393.2945173\n",
      "Key: 23 \n",
      "Sample: 7242 \n",
      "Correlation: 0.2205993884344128\n",
      "--- Start Correlation Attack ---\n"
     ]
    },
    {
     "data": {
      "application/vnd.jupyter.widget-view+json": {
       "model_id": "347ae061d7444c0695e80a4b9be7d5a6",
       "version_major": 2,
       "version_minor": 0
      },
      "text/plain": [
       "HBox(children=(IntProgress(value=0, max=10000), HTML(value='')))"
      ]
     },
     "metadata": {},
     "output_type": "display_data"
    },
    {
     "name": "stdout",
     "output_type": "stream",
     "text": [
      "\n",
      "--- Finished Correlation Attack --- 9999 1573535414.8025932\n",
      "Key: 23 \n",
      "Sample: 7242 \n",
      "Correlation: 0.2078291392933271\n",
      "--- Start Correlation Attack ---\n"
     ]
    },
    {
     "data": {
      "application/vnd.jupyter.widget-view+json": {
       "model_id": "4795ebae87634ac389eaa11f01331e03",
       "version_major": 2,
       "version_minor": 0
      },
      "text/plain": [
       "HBox(children=(IntProgress(value=0, max=10000), HTML(value='')))"
      ]
     },
     "metadata": {},
     "output_type": "display_data"
    },
    {
     "name": "stdout",
     "output_type": "stream",
     "text": [
      "\n",
      "--- Finished Correlation Attack --- 9999 1573535436.1443408\n",
      "Key: 23 \n",
      "Sample: 7242 \n",
      "Correlation: 0.22374663862199898\n",
      "--- Start Correlation Attack ---\n"
     ]
    },
    {
     "data": {
      "application/vnd.jupyter.widget-view+json": {
       "model_id": "c298820e019146e7a2f5af68403aef21",
       "version_major": 2,
       "version_minor": 0
      },
      "text/plain": [
       "HBox(children=(IntProgress(value=0, max=10000), HTML(value='')))"
      ]
     },
     "metadata": {},
     "output_type": "display_data"
    },
    {
     "name": "stdout",
     "output_type": "stream",
     "text": [
      "\n",
      "--- Finished Correlation Attack --- 9999 1573535457.26759\n",
      "Key: 23 \n",
      "Sample: 6993 \n",
      "Correlation: 0.18372912646038694\n",
      "--- Start Correlation Attack ---\n"
     ]
    },
    {
     "data": {
      "application/vnd.jupyter.widget-view+json": {
       "model_id": "da5f4269730b4e279b4d9df793dc3552",
       "version_major": 2,
       "version_minor": 0
      },
      "text/plain": [
       "HBox(children=(IntProgress(value=0, max=10000), HTML(value='')))"
      ]
     },
     "metadata": {},
     "output_type": "display_data"
    },
    {
     "name": "stdout",
     "output_type": "stream",
     "text": [
      "\n",
      "--- Finished Correlation Attack --- 9999 1573535478.6026704\n",
      "Key: 23 \n",
      "Sample: 6993 \n",
      "Correlation: 0.2324801408800383\n",
      "--- Start Correlation Attack ---\n"
     ]
    },
    {
     "data": {
      "application/vnd.jupyter.widget-view+json": {
       "model_id": "ff34d01df1344a369d32862fe5a1c6f8",
       "version_major": 2,
       "version_minor": 0
      },
      "text/plain": [
       "HBox(children=(IntProgress(value=0, max=10000), HTML(value='')))"
      ]
     },
     "metadata": {},
     "output_type": "display_data"
    },
    {
     "name": "stdout",
     "output_type": "stream",
     "text": [
      "\n",
      "--- Finished Correlation Attack --- 9999 1573535499.9594495\n",
      "Key: 23 \n",
      "Sample: 6993 \n",
      "Correlation: 0.2458607446504801\n",
      "--- Start Correlation Attack ---\n"
     ]
    },
    {
     "data": {
      "application/vnd.jupyter.widget-view+json": {
       "model_id": "2b6dd76dc51b43d08acc2cfd6ea76544",
       "version_major": 2,
       "version_minor": 0
      },
      "text/plain": [
       "HBox(children=(IntProgress(value=0, max=10000), HTML(value='')))"
      ]
     },
     "metadata": {},
     "output_type": "display_data"
    },
    {
     "name": "stdout",
     "output_type": "stream",
     "text": [
      "\n",
      "--- Finished Correlation Attack --- 9999 1573535521.308818\n",
      "Key: 23 \n",
      "Sample: 6993 \n",
      "Correlation: 0.16148646503399688\n",
      "--- Start Correlation Attack ---\n"
     ]
    },
    {
     "data": {
      "application/vnd.jupyter.widget-view+json": {
       "model_id": "d1d2bdd55221437ebb92f0b1e2e3ac61",
       "version_major": 2,
       "version_minor": 0
      },
      "text/plain": [
       "HBox(children=(IntProgress(value=0, max=10000), HTML(value='')))"
      ]
     },
     "metadata": {},
     "output_type": "display_data"
    },
    {
     "name": "stdout",
     "output_type": "stream",
     "text": [
      "\n",
      "--- Finished Correlation Attack --- 9999 1573535542.6852155\n",
      "Key: 23 \n",
      "Sample: 8922 \n",
      "Correlation: 0.1275271692014225\n",
      "--- Start Correlation Attack ---\n"
     ]
    },
    {
     "data": {
      "application/vnd.jupyter.widget-view+json": {
       "model_id": "b09683f3707a468db8b0efd6958e1bbe",
       "version_major": 2,
       "version_minor": 0
      },
      "text/plain": [
       "HBox(children=(IntProgress(value=0, max=10000), HTML(value='')))"
      ]
     },
     "metadata": {},
     "output_type": "display_data"
    },
    {
     "name": "stdout",
     "output_type": "stream",
     "text": [
      "\n",
      "--- Finished Correlation Attack --- 9999 1573535563.9000835\n",
      "Key: 23 \n",
      "Sample: 8075 \n",
      "Correlation: 0.1403602969349614\n",
      "--- Start Correlation Attack ---\n"
     ]
    },
    {
     "data": {
      "application/vnd.jupyter.widget-view+json": {
       "model_id": "b42de0c8c73f4ed59a6c4683e71c634d",
       "version_major": 2,
       "version_minor": 0
      },
      "text/plain": [
       "HBox(children=(IntProgress(value=0, max=10000), HTML(value='')))"
      ]
     },
     "metadata": {},
     "output_type": "display_data"
    },
    {
     "name": "stdout",
     "output_type": "stream",
     "text": [
      "\n",
      "--- Finished Correlation Attack --- 9999 1573535586.270345\n",
      "Key: 23 \n",
      "Sample: 1321 \n",
      "Correlation: 0.14837178696063744\n",
      "--- Start Correlation Attack ---\n"
     ]
    },
    {
     "data": {
      "application/vnd.jupyter.widget-view+json": {
       "model_id": "fdb24acdd8b14595966f400f24fb3276",
       "version_major": 2,
       "version_minor": 0
      },
      "text/plain": [
       "HBox(children=(IntProgress(value=0, max=10000), HTML(value='')))"
      ]
     },
     "metadata": {},
     "output_type": "display_data"
    },
    {
     "name": "stdout",
     "output_type": "stream",
     "text": [
      "\n",
      "--- Finished Correlation Attack --- 9999 1573535609.1632805\n",
      "Key: 23 \n",
      "Sample: 2656 \n",
      "Correlation: 0.1750064808327824\n",
      "--- Start Correlation Attack ---\n"
     ]
    },
    {
     "data": {
      "application/vnd.jupyter.widget-view+json": {
       "model_id": "677049c64bdb49139db96c32d01170bf",
       "version_major": 2,
       "version_minor": 0
      },
      "text/plain": [
       "HBox(children=(IntProgress(value=0, max=10000), HTML(value='')))"
      ]
     },
     "metadata": {},
     "output_type": "display_data"
    },
    {
     "name": "stdout",
     "output_type": "stream",
     "text": [
      "\n",
      "--- Finished Correlation Attack --- 9999 1573535632.1059773\n",
      "Key: 23 \n",
      "Sample: 1560 \n",
      "Correlation: 0.1741431306506098\n",
      "--- Start Correlation Attack ---\n"
     ]
    },
    {
     "data": {
      "application/vnd.jupyter.widget-view+json": {
       "model_id": "c5ec5d2cac5f4cf2891561ddbdfc4bf7",
       "version_major": 2,
       "version_minor": 0
      },
      "text/plain": [
       "HBox(children=(IntProgress(value=0, max=10000), HTML(value='')))"
      ]
     },
     "metadata": {},
     "output_type": "display_data"
    },
    {
     "name": "stdout",
     "output_type": "stream",
     "text": [
      "\n",
      "--- Finished Correlation Attack --- 9999 1573535654.8030355\n",
      "Key: 23 \n",
      "Sample: 119 \n",
      "Correlation: 0.17169482666612013\n",
      "--- Start Correlation Attack ---\n"
     ]
    },
    {
     "data": {
      "application/vnd.jupyter.widget-view+json": {
       "model_id": "8dda521e11b9464395cd07f7e0db3ffe",
       "version_major": 2,
       "version_minor": 0
      },
      "text/plain": [
       "HBox(children=(IntProgress(value=0, max=10000), HTML(value='')))"
      ]
     },
     "metadata": {},
     "output_type": "display_data"
    },
    {
     "name": "stdout",
     "output_type": "stream",
     "text": [
      "\n",
      "--- Finished Correlation Attack --- 9999 1573535677.1422844\n",
      "Key: 23 \n",
      "Sample: 9989 \n",
      "Correlation: 0.14645537208932038\n",
      "--- Start Correlation Attack ---\n"
     ]
    },
    {
     "data": {
      "application/vnd.jupyter.widget-view+json": {
       "model_id": "4afd5b21c3e74734acdf66caabe34cee",
       "version_major": 2,
       "version_minor": 0
      },
      "text/plain": [
       "HBox(children=(IntProgress(value=0, max=10000), HTML(value='')))"
      ]
     },
     "metadata": {},
     "output_type": "display_data"
    },
    {
     "name": "stdout",
     "output_type": "stream",
     "text": [
      "\n",
      "--- Finished Correlation Attack --- 9999 1573535699.4408455\n",
      "Key: 23 \n",
      "Sample: 5750 \n",
      "Correlation: 0.1596158650685189\n",
      "--- Start Correlation Attack ---\n"
     ]
    },
    {
     "data": {
      "application/vnd.jupyter.widget-view+json": {
       "model_id": "3fe50f58c112469cb1d814a1b30ed16d",
       "version_major": 2,
       "version_minor": 0
      },
      "text/plain": [
       "HBox(children=(IntProgress(value=0, max=10000), HTML(value='')))"
      ]
     },
     "metadata": {},
     "output_type": "display_data"
    },
    {
     "name": "stdout",
     "output_type": "stream",
     "text": [
      "\n",
      "--- Finished Correlation Attack --- 9999 1573535721.7455225\n",
      "Key: 23 \n",
      "Sample: 7240 \n",
      "Correlation: 0.2567625897728909\n",
      "--- Start Correlation Attack ---\n"
     ]
    },
    {
     "data": {
      "application/vnd.jupyter.widget-view+json": {
       "model_id": "3aa5c4c655cc4cf487e5ed916d9c37f0",
       "version_major": 2,
       "version_minor": 0
      },
      "text/plain": [
       "HBox(children=(IntProgress(value=0, max=10000), HTML(value='')))"
      ]
     },
     "metadata": {},
     "output_type": "display_data"
    },
    {
     "name": "stdout",
     "output_type": "stream",
     "text": [
      "\n",
      "--- Finished Correlation Attack --- 9999 1573535743.9748077\n",
      "Key: 23 \n",
      "Sample: 2344 \n",
      "Correlation: 0.1280208570896066\n",
      "--- Start Correlation Attack ---\n"
     ]
    },
    {
     "data": {
      "application/vnd.jupyter.widget-view+json": {
       "model_id": "0297a99553214c2f83b9e48edde54f4e",
       "version_major": 2,
       "version_minor": 0
      },
      "text/plain": [
       "HBox(children=(IntProgress(value=0, max=10000), HTML(value='')))"
      ]
     },
     "metadata": {},
     "output_type": "display_data"
    },
    {
     "name": "stdout",
     "output_type": "stream",
     "text": [
      "\n",
      "--- Finished Correlation Attack --- 9999 1573535766.4222271\n",
      "Key: 23 \n",
      "Sample: 1150 \n",
      "Correlation: 0.14726326202425952\n",
      "--- Start Correlation Attack ---\n"
     ]
    },
    {
     "data": {
      "application/vnd.jupyter.widget-view+json": {
       "model_id": "22216980793a42e29c1b88defe142505",
       "version_major": 2,
       "version_minor": 0
      },
      "text/plain": [
       "HBox(children=(IntProgress(value=0, max=10000), HTML(value='')))"
      ]
     },
     "metadata": {},
     "output_type": "display_data"
    },
    {
     "name": "stdout",
     "output_type": "stream",
     "text": [
      "\n",
      "--- Finished Correlation Attack --- 9999 1573535788.5818512\n",
      "Key: 23 \n",
      "Sample: 7242 \n",
      "Correlation: 0.221935922219049\n",
      "--- Start Correlation Attack ---\n"
     ]
    },
    {
     "data": {
      "application/vnd.jupyter.widget-view+json": {
       "model_id": "244ee483b1e64ada8ecd5239405b3cf0",
       "version_major": 2,
       "version_minor": 0
      },
      "text/plain": [
       "HBox(children=(IntProgress(value=0, max=10000), HTML(value='')))"
      ]
     },
     "metadata": {},
     "output_type": "display_data"
    },
    {
     "name": "stdout",
     "output_type": "stream",
     "text": [
      "\n",
      "--- Finished Correlation Attack --- 9999 1573535810.7568135\n",
      "Key: 23 \n",
      "Sample: 7242 \n",
      "Correlation: 0.2628905491907681\n",
      "--- Start Correlation Attack ---\n"
     ]
    },
    {
     "data": {
      "application/vnd.jupyter.widget-view+json": {
       "model_id": "1adf7a87147349caa451f4fda377ad76",
       "version_major": 2,
       "version_minor": 0
      },
      "text/plain": [
       "HBox(children=(IntProgress(value=0, max=10000), HTML(value='')))"
      ]
     },
     "metadata": {},
     "output_type": "display_data"
    },
    {
     "name": "stdout",
     "output_type": "stream",
     "text": [
      "\n",
      "--- Finished Correlation Attack --- 9999 1573535832.9764557\n",
      "Key: 23 \n",
      "Sample: 6993 \n",
      "Correlation: 0.2054815281880202\n",
      "--- Start Correlation Attack ---\n"
     ]
    },
    {
     "data": {
      "application/vnd.jupyter.widget-view+json": {
       "model_id": "9994a648428e4f25af90da19399f1552",
       "version_major": 2,
       "version_minor": 0
      },
      "text/plain": [
       "HBox(children=(IntProgress(value=0, max=10000), HTML(value='')))"
      ]
     },
     "metadata": {},
     "output_type": "display_data"
    },
    {
     "name": "stdout",
     "output_type": "stream",
     "text": [
      "\n",
      "--- Finished Correlation Attack --- 9999 1573535855.268731\n",
      "Key: 23 \n",
      "Sample: 7242 \n",
      "Correlation: 0.17154985635670505\n",
      "--- Start Correlation Attack ---\n"
     ]
    },
    {
     "data": {
      "application/vnd.jupyter.widget-view+json": {
       "model_id": "28f9274e99d1434288dd72bdb33b5e05",
       "version_major": 2,
       "version_minor": 0
      },
      "text/plain": [
       "HBox(children=(IntProgress(value=0, max=10000), HTML(value='')))"
      ]
     },
     "metadata": {},
     "output_type": "display_data"
    },
    {
     "name": "stdout",
     "output_type": "stream",
     "text": [
      "\n",
      "--- Finished Correlation Attack --- 9999 1573535877.4403384\n",
      "Key: 23 \n",
      "Sample: 7242 \n",
      "Correlation: 0.21371077279855338\n",
      "--- Start Correlation Attack ---\n"
     ]
    },
    {
     "data": {
      "application/vnd.jupyter.widget-view+json": {
       "model_id": "22dd6a85747147cc8b61c23355b2a993",
       "version_major": 2,
       "version_minor": 0
      },
      "text/plain": [
       "HBox(children=(IntProgress(value=0, max=10000), HTML(value='')))"
      ]
     },
     "metadata": {},
     "output_type": "display_data"
    },
    {
     "name": "stdout",
     "output_type": "stream",
     "text": [
      "\n",
      "--- Finished Correlation Attack --- 9999 1573535899.798169\n",
      "Key: 23 \n",
      "Sample: 7242 \n",
      "Correlation: 0.23466834625178423\n",
      "--- Start Correlation Attack ---\n"
     ]
    },
    {
     "data": {
      "application/vnd.jupyter.widget-view+json": {
       "model_id": "ab73777fefb94d95bfa237ea93094dbe",
       "version_major": 2,
       "version_minor": 0
      },
      "text/plain": [
       "HBox(children=(IntProgress(value=0, max=10000), HTML(value='')))"
      ]
     },
     "metadata": {},
     "output_type": "display_data"
    },
    {
     "name": "stdout",
     "output_type": "stream",
     "text": [
      "\n",
      "--- Finished Correlation Attack --- 9999 1573535922.11204\n",
      "Key: 23 \n",
      "Sample: 3538 \n",
      "Correlation: 0.13736096604828654\n",
      "--- Start Correlation Attack ---\n"
     ]
    },
    {
     "data": {
      "application/vnd.jupyter.widget-view+json": {
       "model_id": "e87f83f259564d1abb1e27065bd7d712",
       "version_major": 2,
       "version_minor": 0
      },
      "text/plain": [
       "HBox(children=(IntProgress(value=0, max=10000), HTML(value='')))"
      ]
     },
     "metadata": {},
     "output_type": "display_data"
    },
    {
     "name": "stdout",
     "output_type": "stream",
     "text": [
      "\n",
      "--- Finished Correlation Attack --- 9999 1573535944.64098\n",
      "Key: 23 \n",
      "Sample: 6993 \n",
      "Correlation: 0.16738558161390338\n",
      "--- Start Correlation Attack ---\n"
     ]
    },
    {
     "data": {
      "application/vnd.jupyter.widget-view+json": {
       "model_id": "7744fb33fe4249f9b164310377325a97",
       "version_major": 2,
       "version_minor": 0
      },
      "text/plain": [
       "HBox(children=(IntProgress(value=0, max=10000), HTML(value='')))"
      ]
     },
     "metadata": {},
     "output_type": "display_data"
    },
    {
     "name": "stdout",
     "output_type": "stream",
     "text": [
      "\n",
      "--- Finished Correlation Attack --- 9999 1573535967.8778918\n",
      "Key: 23 \n",
      "Sample: 6993 \n",
      "Correlation: 0.19109741105916603\n",
      "--- Start Correlation Attack ---\n"
     ]
    },
    {
     "data": {
      "application/vnd.jupyter.widget-view+json": {
       "model_id": "2860aacd264547be9c2f127e330e2844",
       "version_major": 2,
       "version_minor": 0
      },
      "text/plain": [
       "HBox(children=(IntProgress(value=0, max=10000), HTML(value='')))"
      ]
     },
     "metadata": {},
     "output_type": "display_data"
    },
    {
     "name": "stdout",
     "output_type": "stream",
     "text": [
      "\n",
      "--- Finished Correlation Attack --- 9999 1573535990.4827652\n",
      "Key: 23 \n",
      "Sample: 6993 \n",
      "Correlation: 0.21668761898924926\n",
      "--- Start Correlation Attack ---\n"
     ]
    },
    {
     "data": {
      "application/vnd.jupyter.widget-view+json": {
       "model_id": "b5c47b93063f4573bd9550dae55f7d9a",
       "version_major": 2,
       "version_minor": 0
      },
      "text/plain": [
       "HBox(children=(IntProgress(value=0, max=10000), HTML(value='')))"
      ]
     },
     "metadata": {},
     "output_type": "display_data"
    },
    {
     "name": "stdout",
     "output_type": "stream",
     "text": [
      "\n",
      "--- Finished Correlation Attack --- 9999 1573536014.061857\n",
      "Key: 23 \n",
      "Sample: 73 \n",
      "Correlation: 0.14876747185556138\n",
      "--- Start Correlation Attack ---\n"
     ]
    },
    {
     "data": {
      "application/vnd.jupyter.widget-view+json": {
       "model_id": "9749b0f83fc04c08b2951eeb5fb2b6ea",
       "version_major": 2,
       "version_minor": 0
      },
      "text/plain": [
       "HBox(children=(IntProgress(value=0, max=10000), HTML(value='')))"
      ]
     },
     "metadata": {},
     "output_type": "display_data"
    },
    {
     "name": "stdout",
     "output_type": "stream",
     "text": [
      "\n",
      "--- Finished Correlation Attack --- 9999 1573536037.3683288\n",
      "Key: 23 \n",
      "Sample: 6397 \n",
      "Correlation: 0.16229418746601781\n",
      "--- Start Correlation Attack ---\n"
     ]
    },
    {
     "data": {
      "application/vnd.jupyter.widget-view+json": {
       "model_id": "4e4b1794bb9d494d9abdac0821788b4c",
       "version_major": 2,
       "version_minor": 0
      },
      "text/plain": [
       "HBox(children=(IntProgress(value=0, max=10000), HTML(value='')))"
      ]
     },
     "metadata": {},
     "output_type": "display_data"
    },
    {
     "name": "stdout",
     "output_type": "stream",
     "text": [
      "\n",
      "--- Finished Correlation Attack --- 9999 1573536059.9756806\n",
      "Key: 23 \n",
      "Sample: 4975 \n",
      "Correlation: 0.16868473490674055\n",
      "--- Start Correlation Attack ---\n"
     ]
    },
    {
     "data": {
      "application/vnd.jupyter.widget-view+json": {
       "model_id": "1ffe69f4e8854c059c7b756f28d0dc64",
       "version_major": 2,
       "version_minor": 0
      },
      "text/plain": [
       "HBox(children=(IntProgress(value=0, max=10000), HTML(value='')))"
      ]
     },
     "metadata": {},
     "output_type": "display_data"
    },
    {
     "name": "stdout",
     "output_type": "stream",
     "text": [
      "\n",
      "--- Finished Correlation Attack --- 9999 1573536082.8365293\n",
      "Key: 23 \n",
      "Sample: 7239 \n",
      "Correlation: 0.17197336512123038\n",
      "--- Start Correlation Attack ---\n"
     ]
    },
    {
     "data": {
      "application/vnd.jupyter.widget-view+json": {
       "model_id": "db39dca9fd424a5da317876da46330a0",
       "version_major": 2,
       "version_minor": 0
      },
      "text/plain": [
       "HBox(children=(IntProgress(value=0, max=10000), HTML(value='')))"
      ]
     },
     "metadata": {},
     "output_type": "display_data"
    },
    {
     "name": "stdout",
     "output_type": "stream",
     "text": [
      "\n",
      "--- Finished Correlation Attack --- 9999 1573536105.459201\n",
      "Key: 23 \n",
      "Sample: 6991 \n",
      "Correlation: 0.15582778658042065\n",
      "--- Start Correlation Attack ---\n"
     ]
    },
    {
     "data": {
      "application/vnd.jupyter.widget-view+json": {
       "model_id": "6c9a36ab1427420fa35bc84518f99850",
       "version_major": 2,
       "version_minor": 0
      },
      "text/plain": [
       "HBox(children=(IntProgress(value=0, max=10000), HTML(value='')))"
      ]
     },
     "metadata": {},
     "output_type": "display_data"
    },
    {
     "name": "stdout",
     "output_type": "stream",
     "text": [
      "\n",
      "--- Finished Correlation Attack --- 9999 1573536127.352482\n",
      "Key: 23 \n",
      "Sample: 7240 \n",
      "Correlation: 0.20456914538515694\n",
      "--- Start Correlation Attack ---\n"
     ]
    },
    {
     "data": {
      "application/vnd.jupyter.widget-view+json": {
       "model_id": "7054fed2541948bc8ff0f20aa892b058",
       "version_major": 2,
       "version_minor": 0
      },
      "text/plain": [
       "HBox(children=(IntProgress(value=0, max=10000), HTML(value='')))"
      ]
     },
     "metadata": {},
     "output_type": "display_data"
    },
    {
     "name": "stdout",
     "output_type": "stream",
     "text": [
      "\n",
      "--- Finished Correlation Attack --- 9999 1573536149.0944588\n",
      "Key: 23 \n",
      "Sample: 7143 \n",
      "Correlation: 0.1660141956256674\n",
      "--- Start Correlation Attack ---\n"
     ]
    },
    {
     "data": {
      "application/vnd.jupyter.widget-view+json": {
       "model_id": "ab694ea1d09a4924b0789b335e6ee53f",
       "version_major": 2,
       "version_minor": 0
      },
      "text/plain": [
       "HBox(children=(IntProgress(value=0, max=10000), HTML(value='')))"
      ]
     },
     "metadata": {},
     "output_type": "display_data"
    },
    {
     "name": "stdout",
     "output_type": "stream",
     "text": [
      "\n",
      "--- Finished Correlation Attack --- 9999 1573536170.7051377\n",
      "Key: 23 \n",
      "Sample: 7240 \n",
      "Correlation: 0.2634085666011556\n",
      "--- Start Correlation Attack ---\n"
     ]
    },
    {
     "data": {
      "application/vnd.jupyter.widget-view+json": {
       "model_id": "65e72550784c4b728f44f25a57e1486b",
       "version_major": 2,
       "version_minor": 0
      },
      "text/plain": [
       "HBox(children=(IntProgress(value=0, max=10000), HTML(value='')))"
      ]
     },
     "metadata": {},
     "output_type": "display_data"
    },
    {
     "name": "stdout",
     "output_type": "stream",
     "text": [
      "\n",
      "--- Finished Correlation Attack --- 9999 1573536192.2465482\n",
      "Key: 23 \n",
      "Sample: 7293 \n",
      "Correlation: 0.1650870674348499\n",
      "--- Start Correlation Attack ---\n"
     ]
    },
    {
     "data": {
      "application/vnd.jupyter.widget-view+json": {
       "model_id": "45db308dc69043eea600cfae6349b6bf",
       "version_major": 2,
       "version_minor": 0
      },
      "text/plain": [
       "HBox(children=(IntProgress(value=0, max=10000), HTML(value='')))"
      ]
     },
     "metadata": {},
     "output_type": "display_data"
    },
    {
     "name": "stdout",
     "output_type": "stream",
     "text": [
      "\n",
      "--- Finished Correlation Attack --- 9999 1573536213.8238418\n",
      "Key: 23 \n",
      "Sample: 6994 \n",
      "Correlation: 0.1736913020191053\n",
      "--- Start Correlation Attack ---\n"
     ]
    },
    {
     "data": {
      "application/vnd.jupyter.widget-view+json": {
       "model_id": "7358ae91a25448a0a449a89a7f4eedac",
       "version_major": 2,
       "version_minor": 0
      },
      "text/plain": [
       "HBox(children=(IntProgress(value=0, max=10000), HTML(value='')))"
      ]
     },
     "metadata": {},
     "output_type": "display_data"
    },
    {
     "name": "stdout",
     "output_type": "stream",
     "text": [
      "\n",
      "--- Finished Correlation Attack --- 9999 1573536235.5144897\n",
      "Key: 23 \n",
      "Sample: 7242 \n",
      "Correlation: 0.23173681249434155\n",
      "--- Start Correlation Attack ---\n"
     ]
    },
    {
     "data": {
      "application/vnd.jupyter.widget-view+json": {
       "model_id": "8dd1fba547d44a8dba63e6756c9cec93",
       "version_major": 2,
       "version_minor": 0
      },
      "text/plain": [
       "HBox(children=(IntProgress(value=0, max=10000), HTML(value='')))"
      ]
     },
     "metadata": {},
     "output_type": "display_data"
    },
    {
     "name": "stdout",
     "output_type": "stream",
     "text": [
      "\n",
      "--- Finished Correlation Attack --- 9999 1573536257.2545528\n",
      "Key: 23 \n",
      "Sample: 7242 \n",
      "Correlation: 0.2377007778082113\n",
      "--- Start Correlation Attack ---\n"
     ]
    },
    {
     "data": {
      "application/vnd.jupyter.widget-view+json": {
       "model_id": "7125414150ad49abb089a7447d3f63d6",
       "version_major": 2,
       "version_minor": 0
      },
      "text/plain": [
       "HBox(children=(IntProgress(value=0, max=10000), HTML(value='')))"
      ]
     },
     "metadata": {},
     "output_type": "display_data"
    },
    {
     "name": "stdout",
     "output_type": "stream",
     "text": [
      "\n",
      "--- Finished Correlation Attack --- 9999 1573536278.7149608\n",
      "Key: 23 \n",
      "Sample: 7242 \n",
      "Correlation: 0.20867588997657135\n",
      "--- Start Correlation Attack ---\n"
     ]
    },
    {
     "data": {
      "application/vnd.jupyter.widget-view+json": {
       "model_id": "b6e8e2282eb24513a8b8211dbb5cf332",
       "version_major": 2,
       "version_minor": 0
      },
      "text/plain": [
       "HBox(children=(IntProgress(value=0, max=10000), HTML(value='')))"
      ]
     },
     "metadata": {},
     "output_type": "display_data"
    },
    {
     "name": "stdout",
     "output_type": "stream",
     "text": [
      "\n",
      "--- Finished Correlation Attack --- 9999 1573536300.471762\n",
      "Key: 23 \n",
      "Sample: 7242 \n",
      "Correlation: 0.25555410638307763\n",
      "--- Start Correlation Attack ---\n"
     ]
    },
    {
     "data": {
      "application/vnd.jupyter.widget-view+json": {
       "model_id": "054b822377304a018db00d33f7ca0d1e",
       "version_major": 2,
       "version_minor": 0
      },
      "text/plain": [
       "HBox(children=(IntProgress(value=0, max=10000), HTML(value='')))"
      ]
     },
     "metadata": {},
     "output_type": "display_data"
    },
    {
     "name": "stdout",
     "output_type": "stream",
     "text": [
      "\n",
      "--- Finished Correlation Attack --- 9999 1573536321.9509754\n",
      "Key: 23 \n",
      "Sample: 7242 \n",
      "Correlation: 0.22731659236840573\n",
      "--- Start Correlation Attack ---\n"
     ]
    },
    {
     "data": {
      "application/vnd.jupyter.widget-view+json": {
       "model_id": "db843ea2cb8142d58464145dfcf477b9",
       "version_major": 2,
       "version_minor": 0
      },
      "text/plain": [
       "HBox(children=(IntProgress(value=0, max=10000), HTML(value='')))"
      ]
     },
     "metadata": {},
     "output_type": "display_data"
    },
    {
     "name": "stdout",
     "output_type": "stream",
     "text": [
      "\n",
      "--- Finished Correlation Attack --- 9999 1573536343.462211\n",
      "Key: 23 \n",
      "Sample: 8413 \n",
      "Correlation: 0.16782238670611097\n",
      "--- Start Correlation Attack ---\n"
     ]
    },
    {
     "data": {
      "application/vnd.jupyter.widget-view+json": {
       "model_id": "fa6c9ae47fec4a1e896274c07e297702",
       "version_major": 2,
       "version_minor": 0
      },
      "text/plain": [
       "HBox(children=(IntProgress(value=0, max=10000), HTML(value='')))"
      ]
     },
     "metadata": {},
     "output_type": "display_data"
    },
    {
     "name": "stdout",
     "output_type": "stream",
     "text": [
      "\n",
      "--- Finished Correlation Attack --- 9999 1573536365.1076953\n",
      "Key: 23 \n",
      "Sample: 6787 \n",
      "Correlation: 0.1507676610869337\n",
      "--- Start Correlation Attack ---\n"
     ]
    },
    {
     "data": {
      "application/vnd.jupyter.widget-view+json": {
       "model_id": "2f8c911559b043c18fdccaa4fdfc6349",
       "version_major": 2,
       "version_minor": 0
      },
      "text/plain": [
       "HBox(children=(IntProgress(value=0, max=10000), HTML(value='')))"
      ]
     },
     "metadata": {},
     "output_type": "display_data"
    },
    {
     "name": "stdout",
     "output_type": "stream",
     "text": [
      "\n",
      "--- Finished Correlation Attack --- 9999 1573536386.507469\n",
      "Key: 23 \n",
      "Sample: 7242 \n",
      "Correlation: 0.3040189507573144\n",
      "--- Start Correlation Attack ---\n"
     ]
    },
    {
     "data": {
      "application/vnd.jupyter.widget-view+json": {
       "model_id": "737ea133402944be9e1366494d6f302b",
       "version_major": 2,
       "version_minor": 0
      },
      "text/plain": [
       "HBox(children=(IntProgress(value=0, max=10000), HTML(value='')))"
      ]
     },
     "metadata": {},
     "output_type": "display_data"
    },
    {
     "name": "stdout",
     "output_type": "stream",
     "text": [
      "\n",
      "--- Finished Correlation Attack --- 9999 1573536408.1086783\n",
      "Key: 23 \n",
      "Sample: 6993 \n",
      "Correlation: 0.23027850366158759\n",
      "--- Start Correlation Attack ---\n"
     ]
    },
    {
     "data": {
      "application/vnd.jupyter.widget-view+json": {
       "model_id": "47f6b6817d9a44cebcdeb838d538bf0b",
       "version_major": 2,
       "version_minor": 0
      },
      "text/plain": [
       "HBox(children=(IntProgress(value=0, max=10000), HTML(value='')))"
      ]
     },
     "metadata": {},
     "output_type": "display_data"
    },
    {
     "name": "stdout",
     "output_type": "stream",
     "text": [
      "\n",
      "--- Finished Correlation Attack --- 9999 1573536429.556221\n",
      "Key: 23 \n",
      "Sample: 7242 \n",
      "Correlation: 0.16336293033443947\n",
      "--- Start Correlation Attack ---\n"
     ]
    },
    {
     "data": {
      "application/vnd.jupyter.widget-view+json": {
       "model_id": "c49ccd39919c4b61b019ae26278e574d",
       "version_major": 2,
       "version_minor": 0
      },
      "text/plain": [
       "HBox(children=(IntProgress(value=0, max=10000), HTML(value='')))"
      ]
     },
     "metadata": {},
     "output_type": "display_data"
    },
    {
     "name": "stdout",
     "output_type": "stream",
     "text": [
      "\n",
      "--- Finished Correlation Attack --- 9999 1573536451.0409021\n",
      "Key: 23 \n",
      "Sample: 6993 \n",
      "Correlation: 0.2098415406696563\n",
      "--- Start Correlation Attack ---\n"
     ]
    },
    {
     "data": {
      "application/vnd.jupyter.widget-view+json": {
       "model_id": "2b47e070ddfb4c3d92d9118400d7dd9f",
       "version_major": 2,
       "version_minor": 0
      },
      "text/plain": [
       "HBox(children=(IntProgress(value=0, max=10000), HTML(value='')))"
      ]
     },
     "metadata": {},
     "output_type": "display_data"
    },
    {
     "name": "stdout",
     "output_type": "stream",
     "text": [
      "\n",
      "--- Finished Correlation Attack --- 9999 1573536472.717019\n",
      "Key: 23 \n",
      "Sample: 6993 \n",
      "Correlation: 0.19575880132261397\n",
      "--- Start Correlation Attack ---\n"
     ]
    },
    {
     "data": {
      "application/vnd.jupyter.widget-view+json": {
       "model_id": "b3c5f278ea93465db4e7108e5d133cdc",
       "version_major": 2,
       "version_minor": 0
      },
      "text/plain": [
       "HBox(children=(IntProgress(value=0, max=10000), HTML(value='')))"
      ]
     },
     "metadata": {},
     "output_type": "display_data"
    },
    {
     "name": "stdout",
     "output_type": "stream",
     "text": [
      "\n",
      "--- Finished Correlation Attack --- 9999 1573536494.2135255\n",
      "Key: 23 \n",
      "Sample: 568 \n",
      "Correlation: 0.12395773839621385\n",
      "--- Start Correlation Attack ---\n"
     ]
    },
    {
     "data": {
      "application/vnd.jupyter.widget-view+json": {
       "model_id": "6d7e746de5c8424bb14e5b2bfe9815ce",
       "version_major": 2,
       "version_minor": 0
      },
      "text/plain": [
       "HBox(children=(IntProgress(value=0, max=10000), HTML(value='')))"
      ]
     },
     "metadata": {},
     "output_type": "display_data"
    },
    {
     "name": "stdout",
     "output_type": "stream",
     "text": [
      "\n",
      "--- Finished Correlation Attack --- 9999 1573536515.6120663\n",
      "Key: 23 \n",
      "Sample: 3100 \n",
      "Correlation: 0.13788237613775844\n",
      "--- Start Correlation Attack ---\n"
     ]
    },
    {
     "data": {
      "application/vnd.jupyter.widget-view+json": {
       "model_id": "fa1c5e0a99734be4929546f3cee1db95",
       "version_major": 2,
       "version_minor": 0
      },
      "text/plain": [
       "HBox(children=(IntProgress(value=0, max=10000), HTML(value='')))"
      ]
     },
     "metadata": {},
     "output_type": "display_data"
    },
    {
     "name": "stdout",
     "output_type": "stream",
     "text": [
      "\n",
      "--- Finished Correlation Attack --- 9999 1573536536.7468777\n",
      "Key: 23 \n",
      "Sample: 182 \n",
      "Correlation: 0.12486362810912326\n",
      "--- Start Correlation Attack ---\n"
     ]
    },
    {
     "data": {
      "application/vnd.jupyter.widget-view+json": {
       "model_id": "08ce618d769e493193b9ccc7ce9b63ba",
       "version_major": 2,
       "version_minor": 0
      },
      "text/plain": [
       "HBox(children=(IntProgress(value=0, max=10000), HTML(value='')))"
      ]
     },
     "metadata": {},
     "output_type": "display_data"
    },
    {
     "name": "stdout",
     "output_type": "stream",
     "text": [
      "\n",
      "--- Finished Correlation Attack --- 9999 1573536557.716103\n",
      "Key: 23 \n",
      "Sample: 7459 \n",
      "Correlation: 0.11967553148403366\n",
      "--- Start Correlation Attack ---\n"
     ]
    },
    {
     "data": {
      "application/vnd.jupyter.widget-view+json": {
       "model_id": "589254fe1b3742a88a4d0429fc827da0",
       "version_major": 2,
       "version_minor": 0
      },
      "text/plain": [
       "HBox(children=(IntProgress(value=0, max=10000), HTML(value='')))"
      ]
     },
     "metadata": {},
     "output_type": "display_data"
    },
    {
     "name": "stdout",
     "output_type": "stream",
     "text": [
      "\n",
      "--- Finished Correlation Attack --- 9999 1573536578.903018\n",
      "Key: 23 \n",
      "Sample: 7240 \n",
      "Correlation: 0.21695212023833804\n",
      "\n"
     ]
    }
   ],
   "source": [
    "allAttracks = []\n",
    "for i in tnrange(0,20):\n",
    "    for j in range(0,20):\n",
    "        simulated_traces = pd.read_csv('../real_traces/ /traces/trace_sliced_'+ str(i)+'_'+ str(j) +'.csv',low_memory=False)\n",
    "        simulated_metadata= pd.read_csv('../real_traces/SBOX_traces2019-11-10_19_51_35/label/label_'+ str(i)+'_'+ str(j) +'.csv',low_memory=False)\n",
    "        simulated_traces = np.array(simulated_traces)\n",
    "        simulated_metadata = np.array(simulated_metadata)\n",
    "        \n",
    "        corrAttackData = startCorrelationAttack(simulated_traces[0:1000],simulated_metadata.T[0:1000])\n",
    "        allAttracks.append(corrAttackData)"
   ]
  },
  {
   "cell_type": "code",
   "execution_count": 16,
   "metadata": {},
   "outputs": [
    {
     "data": {
      "text/plain": [
       "400"
      ]
     },
     "execution_count": 16,
     "metadata": {},
     "output_type": "execute_result"
    }
   ],
   "source": [
    "len (allAttracks)"
   ]
  },
  {
   "cell_type": "code",
   "execution_count": 17,
   "metadata": {},
   "outputs": [
    {
     "name": "stdout",
     "output_type": "stream",
     "text": [
      "19\n",
      "39\n",
      "59\n",
      "79\n",
      "99\n",
      "119\n",
      "139\n",
      "159\n",
      "179\n",
      "199\n",
      "219\n",
      "239\n",
      "259\n",
      "279\n",
      "299\n",
      "319\n",
      "339\n",
      "359\n",
      "379\n",
      "399\n"
     ]
    }
   ],
   "source": [
    "hm = []\n",
    "tmpArr = []\n",
    "myCounter = 0\n",
    "for i in range(0,len (allAttracks)):\n",
    "    \n",
    "    if myCounter == 19:\n",
    "        tmpArr.append(allAttracks[i][2])\n",
    "        myCounter = myCounter + 1\n",
    "        hm.append(tmpArr)\n",
    "        tmpArr = []\n",
    "        myCounter = 0\n",
    "        print(i)\n",
    "    else:\n",
    "        myCounter = myCounter + 1\n",
    "        tmpArr.append(allAttracks[i][2])\n",
    "    #print(i)\n",
    "    if i == len (allAttracks):\n",
    "        hm.append(tmpArr)\n",
    "        \n",
    "    \n"
   ]
  },
  {
   "cell_type": "code",
   "execution_count": 18,
   "metadata": {},
   "outputs": [
    {
     "data": {
      "text/plain": [
       "20"
      ]
     },
     "execution_count": 18,
     "metadata": {},
     "output_type": "execute_result"
    }
   ],
   "source": [
    "len(np.array(hm))"
   ]
  },
  {
   "cell_type": "markdown",
   "metadata": {},
   "source": [
    "### Heatmap of averaged data"
   ]
  },
  {
   "cell_type": "code",
   "execution_count": 25,
   "metadata": {},
   "outputs": [
    {
     "data": {
      "text/plain": [
       "(20.0, 0.0)"
      ]
     },
     "execution_count": 25,
     "metadata": {},
     "output_type": "execute_result"
    },
    {
     "data": {
      "image/png": "[encoded data removed]",
      "text/plain": [
       "<Figure size 1080x864 with 2 Axes>"
      ]
     },
     "metadata": {},
     "output_type": "display_data"
    }
   ],
   "source": [
    "import numpy as np; np.random.seed(0)\n",
    "import seaborn as sns; sns.set()\n",
    "uniform_data = np.flipud(np.array(hm))\n",
    "plt.subplots(figsize=(15,12))\n",
    "ax = sns.heatmap(uniform_data, annot=True)\n",
    "bottom, top = ax.get_ylim()\n",
    "ax.set_ylim(bottom + 0.5, top - 0.5)"
   ]
  },
  {
   "cell_type": "code",
   "execution_count": 24,
   "metadata": {},
   "outputs": [
    {
     "data": {
      "text/plain": [
       "(20.0, 0.0)"
      ]
     },
     "execution_count": 24,
     "metadata": {},
     "output_type": "execute_result"
    },
    {
     "data": {
      "image/png": "[encoded data removed]",
      "text/plain": [
       "<Figure size 1080x864 with 2 Axes>"
      ]
     },
     "metadata": {},
     "output_type": "display_data"
    }
   ],
   "source": [
    "import numpy as np; np.random.seed(0)\n",
    "import seaborn as sns; sns.set()\n",
    "uniform_data = np.flipud(np.array(hm))\n",
    "plt.subplots(figsize=(15,12))\n",
    "ax = sns.heatmap(uniform_data, annot=False)\n",
    "bottom, top = ax.get_ylim()\n",
    "ax.set_ylim(bottom + 0.5, top - 0.5)"
   ]
  },
  {
   "cell_type": "markdown",
   "metadata": {},
   "source": [
    "### Heatmap of averaged data (small part)"
   ]
  },
  {
   "cell_type": "code",
   "execution_count": 119,
   "metadata": {},
   "outputs": [
    {
     "data": {
      "text/plain": [
       "(9.0, 0.0)"
      ]
     },
     "execution_count": 119,
     "metadata": {},
     "output_type": "execute_result"
    },
    {
     "data": {
      "image/png": "[encoded data removed]",
      "text/plain": [
       "<Figure size 1080x720 with 2 Axes>"
      ]
     },
     "metadata": {},
     "output_type": "display_data"
    }
   ],
   "source": [
    "import numpy as np; np.random.seed(0)\n",
    "import seaborn as sns; sns.set()\n",
    "uniform_data = np.flipud(np.array(hm))\n",
    "plt.subplots(figsize=(15,10))\n",
    "ax = sns.heatmap(uniform_data, annot=True)\n",
    "bottom, top = ax.get_ylim()\n",
    "ax.set_ylim(bottom + 0.5, top - 0.5)"
   ]
  },
  {
   "cell_type": "code",
   "execution_count": 136,
   "metadata": {},
   "outputs": [
    {
     "name": "stdout",
     "output_type": "stream",
     "text": [
      "--- Start Correlation Attack ---\n"
     ]
    },
    {
     "data": {
      "application/vnd.jupyter.widget-view+json": {
       "model_id": "631e5597ea56472f823240221462a13d",
       "version_major": 2,
       "version_minor": 0
      },
      "text/plain": [
       "HBox(children=(IntProgress(value=0, max=4200), HTML(value='')))"
      ]
     },
     "metadata": {},
     "output_type": "display_data"
    },
    {
     "name": "stdout",
     "output_type": "stream",
     "text": [
      "\n",
      "--- Finished Correlation Attack --- 4199 1572932414.9654896\n",
      "Key: 23 \n",
      "Sample: 1531 \n",
      "Correlation: 0.5084775257093045\n"
     ]
    }
   ],
   "source": [
    "simulated_traces = pd.read_csv('../real_traces/SBOX_traces2019-11-04_16_35_27/traces/trace_sliced_4_13.csv',low_memory=False)\n",
    "simulated_metadata= pd.read_csv('../real_traces/SBOX_traces2019-11-04_16_35_27/label/label_4_13.csv',low_memory=False)\n",
    "simulated_traces = np.array(simulated_traces)\n",
    "simulated_metadata = np.array(simulated_metadata)\n",
    "        \n",
    "corrAttackData = startCorrelationAttackSingle(simulated_traces[0:1000],simulated_metadata.T[0:1000])\n",
    "allAttracks.append(corrAttackData)"
   ]
  },
  {
   "cell_type": "code",
   "execution_count": 34,
   "metadata": {},
   "outputs": [],
   "source": [
    "def plotAllCorr(myData):\n",
    "    maxCorr=[]\n",
    "    myCounter = 0\n",
    "    plt.figure(figsize=(30,10))\n",
    "    for i in myData:\n",
    "        maxCorr.append(i[1])\n",
    "        if myCounter == 1531:\n",
    "            final = maxCorr[myCounter]\n",
    "        else:\n",
    "            plt.plot(pd.DataFrame(maxCorr[myCounter]).abs(),color=\"blue\")\n",
    "        myCounter = myCounter + 1\n",
    "    plt.plot(final,color=\"red\")\n",
    "    \n",
    "    plt.show()\n",
    "   \n",
    "    #return test"
   ]
  },
  {
   "cell_type": "code",
   "execution_count": null,
   "metadata": {
    "scrolled": false
   },
   "outputs": [],
   "source": [
    "plotAllCorr(corrAttackData[0])"
   ]
  },
  {
   "cell_type": "markdown",
   "metadata": {},
   "source": [
    "### Heatmap of none averaged Data - first trial"
   ]
  },
  {
   "cell_type": "code",
   "execution_count": 652,
   "metadata": {
    "scrolled": false
   },
   "outputs": [
    {
     "data": {
      "text/plain": [
       "(10.0, 0.0)"
      ]
     },
     "execution_count": 652,
     "metadata": {},
     "output_type": "execute_result"
    },
    {
     "data": {
      "image/png": "[encoded data removed]",
      "text/plain": [
       "<Figure size 720x720 with 2 Axes>"
      ]
     },
     "metadata": {},
     "output_type": "display_data"
    }
   ],
   "source": [
    "import numpy as np; np.random.seed(0)\n",
    "import seaborn as sns; sns.set()\n",
    "uniform_data = np.array(hm).T\n",
    "plt.subplots(figsize=(10,10))\n",
    "ax = sns.heatmap(uniform_data, annot=True)\n",
    "bottom, top = ax.get_ylim()\n",
    "ax.set_ylim(bottom + 0.5, top - 0.5)"
   ]
  },
  {
   "cell_type": "code",
   "execution_count": 615,
   "metadata": {},
   "outputs": [],
   "source": [
    "def plotAllCorr(myData):\n",
    "    maxCorr=[]\n",
    "    for i in myData:\n",
    "        maxCorr.append(i[1])\n",
    "    plt.plot(maxCorr)\n",
    "    plt.show()\n",
    "    #return test"
   ]
  },
  {
   "cell_type": "code",
   "execution_count": 431,
   "metadata": {
    "scrolled": true
   },
   "outputs": [
    {
     "data": {
      "image/png": "[encoded data removed]",
      "text/plain": [
       "<Figure size 432x288 with 1 Axes>"
      ]
     },
     "metadata": {
      "needs_background": "light"
     },
     "output_type": "display_data"
    }
   ],
   "source": [
    "plotAllCorr(corrAttackData[0])"
   ]
  },
  {
   "cell_type": "code",
   "execution_count": 432,
   "metadata": {},
   "outputs": [],
   "source": [
    "def plotSingleCorr(data):\n",
    "    keyData = []\n",
    "    corrData = []\n",
    "    mergedData = []\n",
    "    mergedData.clear()\n",
    "    \n",
    "    for i in data:\n",
    "        \n",
    "        keyData.append(i[0])\n",
    "        corrData.append(i[1])\n",
    "    mergedData = pd.DataFrame(corrData)\n",
    "    mergedData['key'] = keyData \n",
    "    \n",
    "    plt.plot(mergedData[0])\n",
    "    plt.show()\n",
    "    \n",
    "    plt.plot(mergedData['key'])\n",
    "    plt.show()\n",
    "    \n",
    "    plt.plot(mergedData)\n",
    "    plt.show()"
   ]
  },
  {
   "cell_type": "code",
   "execution_count": 433,
   "metadata": {},
   "outputs": [
    {
     "data": {
      "image/png": "[encoded data removed]",
      "text/plain": [
       "<Figure size 432x288 with 1 Axes>"
      ]
     },
     "metadata": {
      "needs_background": "light"
     },
     "output_type": "display_data"
    },
    {
     "data": {
      "image/png": "[encoded data removed]",
      "text/plain": [
       "<Figure size 432x288 with 1 Axes>"
      ]
     },
     "metadata": {
      "needs_background": "light"
     },
     "output_type": "display_data"
    },
    {
     "data": {
      "image/png": "[encoded data removed]",
      "text/plain": [
       "<Figure size 432x288 with 1 Axes>"
      ]
     },
     "metadata": {
      "needs_background": "light"
     },
     "output_type": "display_data"
    }
   ],
   "source": [
    "plotSingleCorr(corrAttackData[1])"
   ]
  }
 ],
 "metadata": {
  "kernelspec": {
   "display_name": "Python 2",
   "language": "python",
   "name": "python2"
  },
  "language_info": {
   "codemirror_mode": {
    "name": "ipython",
    "version": 2
   },
   "file_extension": ".py",
   "mimetype": "text/x-python",
   "name": "python",
   "nbconvert_exporter": "python",
   "pygments_lexer": "ipython2",
   "version": "2.7.15"
  }
 },
 "nbformat": 4,
 "nbformat_minor": 2
}
