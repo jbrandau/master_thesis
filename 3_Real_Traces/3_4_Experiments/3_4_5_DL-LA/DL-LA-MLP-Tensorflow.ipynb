{
 "cells": [
  {
   "cell_type": "markdown",
   "metadata": {},
   "source": [
    "## DL-LA with Tensorflow "
   ]
  },
  {
   "cell_type": "code",
   "execution_count": 1,
   "metadata": {},
   "outputs": [
    {
     "data": {
      "text/html": [
       "<style>.container { width:90% !important; }</style>"
      ],
      "text/plain": [
       "<IPython.core.display.HTML object>"
      ]
     },
     "metadata": {},
     "output_type": "display_data"
    }
   ],
   "source": [
    "from IPython.core.display import display, HTML\n",
    "display(HTML(\"<style>.container { width:90% !important; }</style>\"))"
   ]
  },
  {
   "cell_type": "code",
   "execution_count": 2,
   "metadata": {},
   "outputs": [],
   "source": [
    "import os\n",
    "import scipy.io as sio"
   ]
  },
  {
   "cell_type": "code",
   "execution_count": 3,
   "metadata": {},
   "outputs": [
    {
     "name": "stderr",
     "output_type": "stream",
     "text": [
      "Using TensorFlow backend.\n",
      "/home/pace/.local/lib/python3.6/site-packages/tensorboard/compat/tensorflow_stub/dtypes.py:541: FutureWarning: Passing (type, 1) or '1type' as a synonym of type is deprecated; in a future version of numpy, it will be understood as (type, (1,)) / '(1,)type'.\n",
      "  _np_qint8 = np.dtype([(\"qint8\", np.int8, 1)])\n",
      "/home/pace/.local/lib/python3.6/site-packages/tensorboard/compat/tensorflow_stub/dtypes.py:542: FutureWarning: Passing (type, 1) or '1type' as a synonym of type is deprecated; in a future version of numpy, it will be understood as (type, (1,)) / '(1,)type'.\n",
      "  _np_quint8 = np.dtype([(\"quint8\", np.uint8, 1)])\n",
      "/home/pace/.local/lib/python3.6/site-packages/tensorboard/compat/tensorflow_stub/dtypes.py:543: FutureWarning: Passing (type, 1) or '1type' as a synonym of type is deprecated; in a future version of numpy, it will be understood as (type, (1,)) / '(1,)type'.\n",
      "  _np_qint16 = np.dtype([(\"qint16\", np.int16, 1)])\n",
      "/home/pace/.local/lib/python3.6/site-packages/tensorboard/compat/tensorflow_stub/dtypes.py:544: FutureWarning: Passing (type, 1) or '1type' as a synonym of type is deprecated; in a future version of numpy, it will be understood as (type, (1,)) / '(1,)type'.\n",
      "  _np_quint16 = np.dtype([(\"quint16\", np.uint16, 1)])\n",
      "/home/pace/.local/lib/python3.6/site-packages/tensorboard/compat/tensorflow_stub/dtypes.py:545: FutureWarning: Passing (type, 1) or '1type' as a synonym of type is deprecated; in a future version of numpy, it will be understood as (type, (1,)) / '(1,)type'.\n",
      "  _np_qint32 = np.dtype([(\"qint32\", np.int32, 1)])\n",
      "/home/pace/.local/lib/python3.6/site-packages/tensorboard/compat/tensorflow_stub/dtypes.py:550: FutureWarning: Passing (type, 1) or '1type' as a synonym of type is deprecated; in a future version of numpy, it will be understood as (type, (1,)) / '(1,)type'.\n",
      "  np_resource = np.dtype([(\"resource\", np.ubyte, 1)])\n"
     ]
    }
   ],
   "source": [
    "## Loading MNIST dataset from keras\n",
    "import keras\n",
    "from sklearn.preprocessing import LabelBinarizer\n",
    "from sklearn.model_selection import train_test_split\n",
    "import matplotlib.pyplot as plt\n",
    "%matplotlib inline"
   ]
  },
  {
   "cell_type": "code",
   "execution_count": 4,
   "metadata": {},
   "outputs": [],
   "source": [
    "from keras.utils import to_categorical"
   ]
  },
  {
   "cell_type": "code",
   "execution_count": 5,
   "metadata": {},
   "outputs": [
    {
     "name": "stdout",
     "output_type": "stream",
     "text": [
      "WARNING:tensorflow:From /usr/local/lib/python3.6/dist-packages/tensorflow_core/python/compat/v2_compat.py:65: disable_resource_variables (from tensorflow.python.ops.variable_scope) is deprecated and will be removed in a future version.\n",
      "Instructions for updating:\n",
      "non-resource variables are not supported in the long term\n"
     ]
    }
   ],
   "source": [
    "## Importing required libraries\n",
    "import numpy as np\n",
    "import tensorflow.compat.v1 as tf\n",
    "from sklearn.metrics import roc_auc_score, accuracy_score\n",
    "s = tf.InteractiveSession()\n",
    "tf.disable_v2_behavior()"
   ]
  },
  {
   "cell_type": "code",
   "execution_count": 6,
   "metadata": {},
   "outputs": [],
   "source": [
    "d_len = 5083400\n",
    "d_file_len = 5083400\n",
    "num_files = 50834"
   ]
  },
  {
   "cell_type": "code",
   "execution_count": 7,
   "metadata": {},
   "outputs": [],
   "source": [
    "def concatDataTraces(path):\n",
    "    mats = []\n",
    "    index = 0 \n",
    "    fileNames = np.arange(100, (d_len + 100), 100).tolist()\n",
    "    for r in range(0,num_files):\n",
    "        mats.append(sio.loadmat(path+\"traces_\"+ str(fileNames[index]) +\".mat\", verify_compressed_data_integrity=False))\n",
    "        index = index + 1\n",
    "    mats = np.array(mats)\n",
    "    myArray = []\n",
    "    \n",
    "    for i in range(0,num_files):\n",
    "        for j in range(0,10):\n",
    "            myArray.append(mats[i]['data'][j])\n",
    "    return(myArray)"
   ]
  },
  {
   "cell_type": "code",
   "execution_count": 8,
   "metadata": {},
   "outputs": [],
   "source": [
    "def concatDataTrigger(path):\n",
    "    mats = []\n",
    "    index = 0 \n",
    "    fileNames = np.arange(100, (d_len + 100), 100).tolist()\n",
    "    for r in range(0,num_files):\n",
    "        mats.append(sio.loadmat(path+\"trigger_\"+ str(fileNames[index]) +\".mat\", verify_compressed_data_integrity=False))\n",
    "        index = index + 1\n",
    "    mats = np.array(mats)\n",
    "    myArray = []\n",
    "    \n",
    "    for i in range(0,num_files):\n",
    "        for j in range(0,10):\n",
    "            myArray.append(mats[i]['data'][j])\n",
    "    return(myArray)"
   ]
  },
  {
   "cell_type": "markdown",
   "metadata": {},
   "source": [
    "### Load Data"
   ]
  },
  {
   "cell_type": "code",
   "execution_count": 9,
   "metadata": {},
   "outputs": [],
   "source": [
    "df_data = concatDataTraces('../real_traces/SBOX_traces2019-12-18_17_31_01/spot_4_12/sliced/')"
   ]
  },
  {
   "cell_type": "code",
   "execution_count": 10,
   "metadata": {},
   "outputs": [
    {
     "data": {
      "text/plain": [
       "508340"
      ]
     },
     "execution_count": 10,
     "metadata": {},
     "output_type": "execute_result"
    }
   ],
   "source": [
    "len(df_data)"
   ]
  },
  {
   "cell_type": "code",
   "execution_count": null,
   "metadata": {},
   "outputs": [],
   "source": [
    "df_trigger = concatDataTrigger('../real_traces/SBOX_traces2019-12-18_17_31_01/spot_4_12/trigger/')"
   ]
  },
  {
   "cell_type": "code",
   "execution_count": 11,
   "metadata": {},
   "outputs": [
    {
     "data": {
      "image/png": "[encoded data removed]",
      "text/plain": [
       "<Figure size 432x288 with 1 Axes>"
      ]
     },
     "metadata": {
      "needs_background": "light"
     },
     "output_type": "display_data"
    }
   ],
   "source": [
    "plt.plot(df_trigger[10][80:4850])\n",
    "plt.show()"
   ]
  },
  {
   "cell_type": "code",
   "execution_count": 11,
   "metadata": {},
   "outputs": [],
   "source": [
    "slTest = []\n",
    "for i in df_data:\n",
    "    slTest.append(i[276:10490])\n",
    "df_data = slTest"
   ]
  },
  {
   "cell_type": "code",
   "execution_count": 12,
   "metadata": {},
   "outputs": [
    {
     "data": {
      "text/plain": [
       "10214"
      ]
     },
     "execution_count": 12,
     "metadata": {},
     "output_type": "execute_result"
    }
   ],
   "source": [
    "len(df_data[0])"
   ]
  },
  {
   "cell_type": "code",
   "execution_count": 13,
   "metadata": {},
   "outputs": [],
   "source": [
    "for i in range(0,len(df_data)):\n",
    "    df_data[i] = df_data[i]"
   ]
  },
  {
   "cell_type": "markdown",
   "metadata": {},
   "source": [
    "### Create Label"
   ]
  },
  {
   "cell_type": "code",
   "execution_count": 14,
   "metadata": {},
   "outputs": [],
   "source": [
    "counter = 0\n",
    "df_new_label = []\n",
    "for i in range(0,len(df_data)):\n",
    "    if counter == 0:\n",
    "        df_new_label.append(0)\n",
    "        counter = 1\n",
    "    else:\n",
    "        df_new_label.append(1)\n",
    "        counter = 0"
   ]
  },
  {
   "cell_type": "code",
   "execution_count": 15,
   "metadata": {},
   "outputs": [],
   "source": [
    "df_label = df_new_label"
   ]
  },
  {
   "cell_type": "markdown",
   "metadata": {},
   "source": [
    "### Split Label"
   ]
  },
  {
   "cell_type": "code",
   "execution_count": 16,
   "metadata": {},
   "outputs": [],
   "source": [
    "X_train, X_test, y_train, y_test = train_test_split(df_data,df_label,test_size=0.2,shuffle=True,stratify=df_label)"
   ]
  },
  {
   "cell_type": "code",
   "execution_count": 17,
   "metadata": {},
   "outputs": [],
   "source": [
    "#X_train, X_val, y_train, y_val = train_test_split(X_train,y_train,test_size=0.2,shuffle=True,stratify=y_train)"
   ]
  },
  {
   "cell_type": "code",
   "execution_count": 18,
   "metadata": {},
   "outputs": [],
   "source": [
    "y_train = to_categorical(y_train,num_classes=2)"
   ]
  },
  {
   "cell_type": "code",
   "execution_count": 19,
   "metadata": {},
   "outputs": [],
   "source": [
    "y_test = to_categorical(y_test,num_classes=2)"
   ]
  },
  {
   "cell_type": "code",
   "execution_count": 20,
   "metadata": {},
   "outputs": [],
   "source": [
    "#y_val = to_categorical(y_val,num_classes=2)"
   ]
  },
  {
   "cell_type": "code",
   "execution_count": 21,
   "metadata": {},
   "outputs": [],
   "source": [
    "import numpy as np"
   ]
  },
  {
   "cell_type": "code",
   "execution_count": 22,
   "metadata": {},
   "outputs": [],
   "source": [
    "X_train = np.array(X_train)"
   ]
  },
  {
   "cell_type": "code",
   "execution_count": 23,
   "metadata": {},
   "outputs": [],
   "source": [
    "y_train = np.array(y_train)"
   ]
  },
  {
   "cell_type": "code",
   "execution_count": 24,
   "metadata": {},
   "outputs": [],
   "source": [
    "#X_val = np.array(X_val)"
   ]
  },
  {
   "cell_type": "code",
   "execution_count": 25,
   "metadata": {},
   "outputs": [],
   "source": [
    "#y_val = np.array(y_val)"
   ]
  },
  {
   "cell_type": "code",
   "execution_count": 26,
   "metadata": {},
   "outputs": [],
   "source": [
    "X_test = np.array(X_test)"
   ]
  },
  {
   "cell_type": "code",
   "execution_count": 27,
   "metadata": {},
   "outputs": [],
   "source": [
    "y_test = np.array(y_test)"
   ]
  },
  {
   "cell_type": "code",
   "execution_count": 28,
   "metadata": {},
   "outputs": [],
   "source": [
    "## Defining various initialization parameters for 784-512-256-10 MLP model\n",
    "num_classes = y_train.shape[1]\n",
    "num_features = X_train.shape[1]\n",
    "num_output = y_train.shape[1]\n",
    "num_layers_0 = 120\n",
    "num_layers_1 = 90\n",
    "num_layers_2 = 50\n",
    "num_layers_3 = 2\n",
    "starter_learning_rate = 0.001\n",
    "regularizer_rate = 0.1"
   ]
  },
  {
   "cell_type": "code",
   "execution_count": 29,
   "metadata": {},
   "outputs": [],
   "source": [
    "# Placeholders for the input data\n",
    "input_X = tf.placeholder('float32',shape =(None,num_features),name=\"input_X\")\n",
    "input_y = tf.placeholder('float32',shape = (None,num_classes),name='input_Y')\n",
    "## for dropout layer\n",
    "keep_prob = tf.placeholder(tf.float32)"
   ]
  },
  {
   "cell_type": "code",
   "execution_count": 30,
   "metadata": {},
   "outputs": [
    {
     "name": "stdout",
     "output_type": "stream",
     "text": [
      "WARNING:tensorflow:From <ipython-input-30-1bab606d2542>:2: dense (from tensorflow.python.layers.core) is deprecated and will be removed in a future version.\n",
      "Instructions for updating:\n",
      "Use keras.layers.Dense instead.\n",
      "WARNING:tensorflow:From /usr/local/lib/python3.6/dist-packages/tensorflow_core/python/layers/core.py:187: Layer.apply (from tensorflow.python.keras.engine.base_layer) is deprecated and will be removed in a future version.\n",
      "Instructions for updating:\n",
      "Please use `layer.__call__` method instead.\n",
      "WARNING:tensorflow:From <ipython-input-30-1bab606d2542>:3: batch_normalization (from tensorflow.python.layers.normalization) is deprecated and will be removed in a future version.\n",
      "Instructions for updating:\n",
      "Use keras.layers.BatchNormalization instead.  In particular, `tf.control_dependencies(tf.GraphKeys.UPDATE_OPS)` should not be used (consult the `tf.keras.layers.batch_normalization` documentation).\n"
     ]
    }
   ],
   "source": [
    "## Initializing weigths and biases\n",
    "hidden_output_0 = tf.layers.dense(input_X, units=num_layers_0)\n",
    "hidden_output_0 = tf.layers.batch_normalization(hidden_output_0, training=True)\n",
    "hidden_output_0 = tf.nn.relu(hidden_output_0)\n",
    "\n",
    "hidden_output_1 = tf.layers.dense(hidden_output_0, units=num_layers_1)\n",
    "hidden_output_1 = tf.layers.batch_normalization(hidden_output_1, training=True)\n",
    "hidden_output_1 = tf.nn.relu(hidden_output_1)\n",
    "\n",
    "hidden_output_2 = tf.layers.dense(hidden_output_1, units=num_layers_2)\n",
    "hidden_output_2 = tf.layers.batch_normalization(hidden_output_2, training=True)\n",
    "hidden_output_2 = tf.nn.relu(hidden_output_2)\n",
    "\n",
    "hidden_output_3 = tf.layers.dense(hidden_output_2, units=num_layers_3)\n",
    "predicted_y = tf.nn.softmax(hidden_output_3)\n",
    "\n",
    "#predicted_y = tf.nn.softmax(hidden_output_3)"
   ]
  },
  {
   "cell_type": "code",
   "execution_count": 31,
   "metadata": {},
   "outputs": [],
   "source": [
    "## Defining the loss function\n",
    "loss = tf.reduce_mean(tf.squared_difference(predicted_y, input_y))"
   ]
  },
  {
   "cell_type": "code",
   "execution_count": 32,
   "metadata": {},
   "outputs": [],
   "source": [
    "## Variable learning rate\n",
    "learning_rate = tf.train.exponential_decay(starter_learning_rate, 0, 5, 0.85, staircase=True)\n",
    "\n",
    "## Adam optimzer for finding the right weight\n",
    "optimizer = tf.train.AdamOptimizer(learning_rate).minimize(loss)"
   ]
  },
  {
   "cell_type": "code",
   "execution_count": 33,
   "metadata": {},
   "outputs": [],
   "source": [
    "## Metrics definition\n",
    "correct_prediction = tf.equal(tf.argmax(y_train,1), tf.argmax(predicted_y,1))\n",
    "accuracy = tf.reduce_mean(tf.cast(correct_prediction, tf.float32))"
   ]
  },
  {
   "cell_type": "code",
   "execution_count": 34,
   "metadata": {
    "scrolled": false
   },
   "outputs": [
    {
     "name": "stdout",
     "output_type": "stream",
     "text": [
      "Epoch:0, Train loss: 0.22 Train acc: 0.594, Test acc:0.591\n",
      "Epoch:1, Train loss: 0.21 Train acc: 0.650, Test acc:0.644\n",
      "Epoch:2, Train loss: 0.19 Train acc: 0.692, Test acc:0.681\n",
      "Epoch:3, Train loss: 0.19 Train acc: 0.690, Test acc:0.676\n",
      "Epoch:4, Train loss: 0.19 Train acc: 0.699, Test acc:0.683\n",
      "Epoch:5, Train loss: 0.18 Train acc: 0.702, Test acc:0.685\n",
      "Epoch:6, Train loss: 0.18 Train acc: 0.703, Test acc:0.684\n",
      "Epoch:7, Train loss: 0.18 Train acc: 0.704, Test acc:0.684\n",
      "Epoch:8, Train loss: 0.18 Train acc: 0.708, Test acc:0.687\n",
      "Epoch:9, Train loss: 0.18 Train acc: 0.710, Test acc:0.686\n",
      "Epoch:10, Train loss: 0.18 Train acc: 0.713, Test acc:0.685\n",
      "Epoch:11, Train loss: 0.18 Train acc: 0.714, Test acc:0.682\n",
      "Epoch:12, Train loss: 0.18 Train acc: 0.718, Test acc:0.682\n",
      "Epoch:13, Train loss: 0.17 Train acc: 0.724, Test acc:0.682\n",
      "Epoch:14, Train loss: 0.17 Train acc: 0.732, Test acc:0.684\n",
      "Epoch:15, Train loss: 0.17 Train acc: 0.734, Test acc:0.680\n",
      "Epoch:16, Train loss: 0.16 Train acc: 0.745, Test acc:0.679\n",
      "Epoch:17, Train loss: 0.16 Train acc: 0.747, Test acc:0.680\n",
      "Epoch:18, Train loss: 0.16 Train acc: 0.754, Test acc:0.678\n",
      "Epoch:19, Train loss: 0.16 Train acc: 0.757, Test acc:0.676\n",
      "Epoch:20, Train loss: 0.15 Train acc: 0.768, Test acc:0.674\n",
      "Epoch:21, Train loss: 0.15 Train acc: 0.773, Test acc:0.671\n",
      "Epoch:22, Train loss: 0.15 Train acc: 0.779, Test acc:0.671\n",
      "Epoch:23, Train loss: 0.15 Train acc: 0.783, Test acc:0.668\n",
      "Epoch:24, Train loss: 0.14 Train acc: 0.791, Test acc:0.670\n",
      "Epoch:25, Train loss: 0.14 Train acc: 0.799, Test acc:0.667\n",
      "Epoch:26, Train loss: 0.13 Train acc: 0.803, Test acc:0.666\n",
      "Epoch:27, Train loss: 0.13 Train acc: 0.805, Test acc:0.665\n",
      "Epoch:28, Train loss: 0.13 Train acc: 0.818, Test acc:0.666\n",
      "Epoch:29, Train loss: 0.12 Train acc: 0.824, Test acc:0.665\n"
     ]
    }
   ],
   "source": [
    "## Training parameters\n",
    "batch_size = 1000\n",
    "epochs=30\n",
    "dropout_prob = 0.6\n",
    "training_accuracy = []\n",
    "training_loss = []\n",
    "testing_accuracy = []\n",
    "saver = tf.train.Saver()\n",
    "s.run(tf.global_variables_initializer())\n",
    "file_writer = tf.summary.FileWriter('./', tf.get_default_graph())\n",
    "\n",
    "for epoch in range(epochs):    \n",
    "    arr = np.arange(X_train.shape[0])\n",
    "    np.random.shuffle(arr)\n",
    "    for index in range(0,X_train.shape[0],batch_size):\n",
    "        s.run(optimizer, {input_X: X_train[arr[index:index+batch_size]],\n",
    "                          input_y: y_train[arr[index:index+batch_size]]})\n",
    "    \n",
    "    saver.save(s, './model.ckpt')\n",
    "    training_accuracy.append(s.run(accuracy, feed_dict= {input_X: X_train, \n",
    "                                                         input_y: y_train}))\n",
    "    training_loss.append(s.run(loss, {input_X: X_train, \n",
    "                                      input_y: y_train}))\n",
    "    \n",
    "    \n",
    "    ## Evaluation of model\n",
    "    testing_accuracy.append(accuracy_score(y_test.argmax(1), \n",
    "                                           s.run(predicted_y, {input_X: X_test}).argmax(1)))\n",
    "    print(\"Epoch:{0}, Train loss: {1:.2f} Train acc: {2:.3f}, Test acc:{3:.3f}\".format(epoch,\n",
    "                                                                    training_loss[epoch],\n",
    "                                                                    training_accuracy[epoch],\n",
    "                                                                    testing_accuracy[epoch]))"
   ]
  },
  {
   "cell_type": "code",
   "execution_count": 35,
   "metadata": {},
   "outputs": [
    {
     "data": {
      "image/png": "[encoded data removed]",
      "text/plain": [
       "<Figure size 432x288 with 1 Axes>"
      ]
     },
     "metadata": {
      "needs_background": "light"
     },
     "output_type": "display_data"
    },
    {
     "name": "stdout",
     "output_type": "stream",
     "text": [
      "Train Accuracy: 0.82\n",
      "Test Accuracy:  0.67\n"
     ]
    }
   ],
   "source": [
    "## Plotting chart of training and testing accuracy as a function of iterations\n",
    "iterations = list(range(epochs))\n",
    "plt.plot(iterations, training_accuracy, label='Train')\n",
    "plt.plot(iterations, testing_accuracy, label='Test')\n",
    "plt.ylabel('Accuracy')\n",
    "plt.xlabel('iterations')\n",
    "plt.show()\n",
    "print(\"Train Accuracy: {0:.2f}\".format(training_accuracy[-1]))\n",
    "print(\"Test Accuracy: {0: .2f}\".format(testing_accuracy[-1]))"
   ]
  },
  {
   "cell_type": "code",
   "execution_count": 38,
   "metadata": {},
   "outputs": [],
   "source": [
    "dO_i = tf.gradients(predicted_y, tf.trainable_variables(),unconnected_gradients='zero')"
   ]
  },
  {
   "cell_type": "code",
   "execution_count": 39,
   "metadata": {},
   "outputs": [],
   "source": [
    "gradients= None\n",
    "gradients = s.run(dO_i, feed_dict= {input_X: X_train[0:3500]})"
   ]
  },
  {
   "cell_type": "code",
   "execution_count": 40,
   "metadata": {},
   "outputs": [
    {
     "data": {
      "text/plain": [
       "14"
      ]
     },
     "execution_count": 40,
     "metadata": {},
     "output_type": "execute_result"
    }
   ],
   "source": [
    "len(gradients)"
   ]
  },
  {
   "cell_type": "code",
   "execution_count": 41,
   "metadata": {
    "scrolled": false
   },
   "outputs": [],
   "source": [
    "#gradients"
   ]
  },
  {
   "cell_type": "code",
   "execution_count": 42,
   "metadata": {},
   "outputs": [
    {
     "data": {
      "text/plain": [
       "(10214, 120)"
      ]
     },
     "execution_count": 42,
     "metadata": {},
     "output_type": "execute_result"
    }
   ],
   "source": [
    "# Dense 120\n",
    "gradients[0].shape"
   ]
  },
  {
   "cell_type": "code",
   "execution_count": 43,
   "metadata": {},
   "outputs": [
    {
     "data": {
      "text/plain": [
       "(120,)"
      ]
     },
     "execution_count": 43,
     "metadata": {},
     "output_type": "execute_result"
    }
   ],
   "source": [
    "# Batch Normalizer\n",
    "gradients[1].shape"
   ]
  },
  {
   "cell_type": "code",
   "execution_count": 44,
   "metadata": {},
   "outputs": [
    {
     "data": {
      "text/plain": [
       "(120,)"
      ]
     },
     "execution_count": 44,
     "metadata": {},
     "output_type": "execute_result"
    }
   ],
   "source": [
    "# Batch Normalizer\n",
    "gradients[2].shape"
   ]
  },
  {
   "cell_type": "code",
   "execution_count": 45,
   "metadata": {},
   "outputs": [
    {
     "data": {
      "text/plain": [
       "(120,)"
      ]
     },
     "execution_count": 45,
     "metadata": {},
     "output_type": "execute_result"
    }
   ],
   "source": [
    "# ReLU\n",
    "gradients[3].shape"
   ]
  },
  {
   "cell_type": "code",
   "execution_count": 46,
   "metadata": {},
   "outputs": [
    {
     "data": {
      "text/plain": [
       "(120, 90)"
      ]
     },
     "execution_count": 46,
     "metadata": {},
     "output_type": "execute_result"
    }
   ],
   "source": [
    "# Dense 90\n",
    "gradients[4].shape"
   ]
  },
  {
   "cell_type": "code",
   "execution_count": 47,
   "metadata": {},
   "outputs": [
    {
     "data": {
      "text/plain": [
       "(90,)"
      ]
     },
     "execution_count": 47,
     "metadata": {},
     "output_type": "execute_result"
    }
   ],
   "source": [
    "# Batch Normalizer\n",
    "gradients[5].shape"
   ]
  },
  {
   "cell_type": "code",
   "execution_count": 48,
   "metadata": {},
   "outputs": [
    {
     "data": {
      "text/plain": [
       "(90,)"
      ]
     },
     "execution_count": 48,
     "metadata": {},
     "output_type": "execute_result"
    }
   ],
   "source": [
    "# Batch Normalizer\n",
    "gradients[6].shape"
   ]
  },
  {
   "cell_type": "code",
   "execution_count": 49,
   "metadata": {},
   "outputs": [
    {
     "data": {
      "text/plain": [
       "(90,)"
      ]
     },
     "execution_count": 49,
     "metadata": {},
     "output_type": "execute_result"
    }
   ],
   "source": [
    "# ReLU\n",
    "gradients[7].shape"
   ]
  },
  {
   "cell_type": "code",
   "execution_count": 50,
   "metadata": {},
   "outputs": [
    {
     "data": {
      "text/plain": [
       "(90, 50)"
      ]
     },
     "execution_count": 50,
     "metadata": {},
     "output_type": "execute_result"
    }
   ],
   "source": [
    "# Dense 50\n",
    "gradients[8].shape"
   ]
  },
  {
   "cell_type": "code",
   "execution_count": 51,
   "metadata": {},
   "outputs": [
    {
     "data": {
      "text/plain": [
       "(50,)"
      ]
     },
     "execution_count": 51,
     "metadata": {},
     "output_type": "execute_result"
    }
   ],
   "source": [
    "# Batch Normalizer\n",
    "gradients[9].shape"
   ]
  },
  {
   "cell_type": "code",
   "execution_count": 52,
   "metadata": {},
   "outputs": [
    {
     "data": {
      "text/plain": [
       "(50,)"
      ]
     },
     "execution_count": 52,
     "metadata": {},
     "output_type": "execute_result"
    }
   ],
   "source": [
    "# Batch Normalizer\n",
    "gradients[10].shape"
   ]
  },
  {
   "cell_type": "code",
   "execution_count": 53,
   "metadata": {},
   "outputs": [
    {
     "data": {
      "text/plain": [
       "(50,)"
      ]
     },
     "execution_count": 53,
     "metadata": {},
     "output_type": "execute_result"
    }
   ],
   "source": [
    "# ReLU\n",
    "gradients[11].shape"
   ]
  },
  {
   "cell_type": "code",
   "execution_count": 54,
   "metadata": {},
   "outputs": [
    {
     "data": {
      "text/plain": [
       "(50, 2)"
      ]
     },
     "execution_count": 54,
     "metadata": {},
     "output_type": "execute_result"
    }
   ],
   "source": [
    "# Dense 2\n",
    "gradients[12].shape"
   ]
  },
  {
   "cell_type": "code",
   "execution_count": 55,
   "metadata": {},
   "outputs": [
    {
     "data": {
      "text/plain": [
       "(2,)"
      ]
     },
     "execution_count": 55,
     "metadata": {},
     "output_type": "execute_result"
    }
   ],
   "source": [
    "# Softmax\n",
    "gradients[13].shape"
   ]
  },
  {
   "cell_type": "code",
   "execution_count": 56,
   "metadata": {},
   "outputs": [
    {
     "data": {
      "text/plain": [
       "array([-2.14248743e-07,  7.82273233e-08, -3.00840099e-07,  2.44746388e-07,\n",
       "        9.69431042e-08,  8.16914451e-07, -1.77614680e-07,  3.91803781e-08,\n",
       "       -9.43880885e-09, -4.75459842e-07,  4.72869885e-07,  2.16475684e-07,\n",
       "       -1.44159472e-07,  4.16881463e-08, -3.53640779e-08,  1.05105050e-06,\n",
       "       -2.36189308e-07, -3.00234603e-07,  2.84332700e-08, -7.52112861e-09,\n",
       "        2.79186622e-07, -4.94687882e-08, -2.29403611e-07,  1.57053847e-07,\n",
       "       -1.30485518e-07,  1.05428715e-08,  1.60061063e-07,  3.80230233e-07,\n",
       "        2.54121119e-07, -3.61099154e-07, -1.08846322e-07, -3.00959954e-07,\n",
       "       -4.95146139e-07, -3.38032208e-07, -2.76310288e-07, -1.39013451e-07,\n",
       "       -6.25153746e-07, -4.43784415e-07, -2.20496133e-07, -5.32955710e-07,\n",
       "       -2.30903353e-07,  4.99227156e-07, -4.94554513e-07,  9.37401126e-08,\n",
       "        4.46513013e-07, -3.67187852e-07,  2.00734732e-07, -5.58960267e-07,\n",
       "       -2.57419174e-07,  3.43460478e-08, -4.24043122e-07, -7.72167184e-08,\n",
       "        4.63228702e-07, -2.59981732e-07,  8.60303757e-08, -6.40939675e-08,\n",
       "       -1.06093268e-08, -3.08393652e-07,  5.30266050e-07, -3.66754129e-08,\n",
       "       -2.96060904e-07,  3.60501332e-07, -1.86420351e-07,  5.16473563e-07,\n",
       "       -1.89960375e-07, -5.51355527e-07,  3.51158263e-07, -1.24775099e-07,\n",
       "       -1.34615135e-07, -3.64311830e-07, -2.59372342e-07,  4.93500750e-07,\n",
       "        1.07595881e-07,  7.53215488e-07, -3.91806964e-07, -1.97810834e-07,\n",
       "        1.37695494e-07, -2.52511882e-07, -2.02230808e-07, -1.88025567e-07,\n",
       "        5.59716170e-07, -7.86731391e-07, -1.73658776e-07, -5.04531954e-07,\n",
       "       -9.17480179e-07,  1.43281341e-07, -2.51666933e-07,  5.17943533e-07,\n",
       "        4.82375128e-07, -6.99658187e-07,  1.98069458e-07,  7.02103176e-09,\n",
       "       -5.93849201e-08,  4.05412010e-07,  3.25611097e-07, -6.02038099e-08,\n",
       "        7.44102636e-07, -4.12733669e-07, -1.03734074e-07,  3.41080835e-08,\n",
       "       -2.84954552e-07, -1.91893136e-07, -7.89589365e-07, -3.25983471e-08,\n",
       "        7.42833947e-07,  3.70290905e-07,  6.83867967e-08, -9.52965422e-08,\n",
       "       -2.95179419e-08, -2.24113833e-07, -1.41059019e-07, -1.15018572e-07,\n",
       "       -5.14710962e-07, -7.74022837e-08,  1.88271741e-07,  2.24670686e-07,\n",
       "       -7.52129154e-07, -8.45135787e-07, -1.62664790e-07, -2.48569251e-07],\n",
       "      dtype=float32)"
      ]
     },
     "execution_count": 56,
     "metadata": {},
     "output_type": "execute_result"
    }
   ],
   "source": [
    "gradients[3]"
   ]
  },
  {
   "cell_type": "code",
   "execution_count": 57,
   "metadata": {},
   "outputs": [
    {
     "data": {
      "text/plain": [
       "-1.8351045e-09"
      ]
     },
     "execution_count": 57,
     "metadata": {},
     "output_type": "execute_result"
    }
   ],
   "source": [
    "gradients[0][0][0]"
   ]
  },
  {
   "cell_type": "code",
   "execution_count": 58,
   "metadata": {},
   "outputs": [
    {
     "data": {
      "text/plain": [
       "array([[-1.83510451e-09, -9.31721544e-09, -6.93867719e-09, ...,\n",
       "         1.24959887e-09, -9.14855747e-10,  6.19946405e-09],\n",
       "       [ 1.70713932e-09,  1.03412034e-08,  5.27364108e-09, ...,\n",
       "        -1.33069999e-08, -3.24570948e-09, -1.92383247e-08],\n",
       "       [ 1.62669878e-09,  3.72125442e-09, -4.28620694e-10, ...,\n",
       "         8.85482709e-09, -6.41422204e-09,  1.33050904e-08],\n",
       "       ...,\n",
       "       [ 1.09713003e-08, -7.12335435e-09, -1.73791932e-08, ...,\n",
       "         1.57819784e-08,  1.17455059e-08,  3.27271472e-08],\n",
       "       [ 1.45063339e-09, -9.80727677e-09, -2.36558009e-08, ...,\n",
       "         5.68590330e-09,  2.00684553e-08,  2.86369328e-09],\n",
       "       [-9.66288383e-10, -9.72276126e-09, -6.55126797e-09, ...,\n",
       "        -6.83329304e-09, -9.16707421e-09, -2.80115842e-09]], dtype=float32)"
      ]
     },
     "execution_count": 58,
     "metadata": {},
     "output_type": "execute_result"
    }
   ],
   "source": [
    "gradients[0]"
   ]
  },
  {
   "cell_type": "code",
   "execution_count": 59,
   "metadata": {},
   "outputs": [
    {
     "data": {
      "text/plain": [
       "array([[-1.83510451e-09, -9.31721544e-09, -6.93867719e-09, ...,\n",
       "         1.24959887e-09, -9.14855747e-10,  6.19946405e-09],\n",
       "       [ 1.70713932e-09,  1.03412034e-08,  5.27364108e-09, ...,\n",
       "        -1.33069999e-08, -3.24570948e-09, -1.92383247e-08],\n",
       "       [ 1.62669878e-09,  3.72125442e-09, -4.28620694e-10, ...,\n",
       "         8.85482709e-09, -6.41422204e-09,  1.33050904e-08],\n",
       "       ...,\n",
       "       [ 1.09713003e-08, -7.12335435e-09, -1.73791932e-08, ...,\n",
       "         1.57819784e-08,  1.17455059e-08,  3.27271472e-08],\n",
       "       [ 1.45063339e-09, -9.80727677e-09, -2.36558009e-08, ...,\n",
       "         5.68590330e-09,  2.00684553e-08,  2.86369328e-09],\n",
       "       [-9.66288383e-10, -9.72276126e-09, -6.55126797e-09, ...,\n",
       "        -6.83329304e-09, -9.16707421e-09, -2.80115842e-09]], dtype=float32)"
      ]
     },
     "execution_count": 59,
     "metadata": {},
     "output_type": "execute_result"
    }
   ],
   "source": [
    "gradients[0]"
   ]
  },
  {
   "cell_type": "code",
   "execution_count": 60,
   "metadata": {},
   "outputs": [],
   "source": [
    "def calcLayer(inputLayer,outputLayer):\n",
    "    tmpArr = []\n",
    "    for i in inputLayer:\n",
    "        tmpSUM = []\n",
    "        for j in outputLayer:\n",
    "            tmpSUM.append(j * i)\n",
    "        tmpArr.append(sum(tmpSUM))\n",
    "    return(tmpArr)"
   ]
  },
  {
   "cell_type": "code",
   "execution_count": 61,
   "metadata": {},
   "outputs": [],
   "source": [
    "L1 = calcLayer(gradients[0],np.array(gradients[3]))\n",
    "L2 = calcLayer(L1,np.array(gradients[7]))\n",
    "L3 = calcLayer(L2,np.array(gradients[11]))\n",
    "L4 = calcLayer(L3,np.array([gradients[13][0]]))"
   ]
  },
  {
   "cell_type": "code",
   "execution_count": 62,
   "metadata": {},
   "outputs": [
    {
     "data": {
      "text/plain": [
       "0.0040831324"
      ]
     },
     "execution_count": 62,
     "metadata": {},
     "output_type": "execute_result"
    }
   ],
   "source": [
    "(gradients[13][0] * X_train[0][0]) + (gradients[13][0] * X_train[1][0])"
   ]
  },
  {
   "cell_type": "code",
   "execution_count": 63,
   "metadata": {},
   "outputs": [],
   "source": [
    "myTmp = []\n",
    "tmpArr = []\n",
    "for j in range(500,5000,150):\n",
    "    gradients= None\n",
    "    gradients = s.run(dO_i, feed_dict= {input_X: X_train[0:j]})\n",
    "\n",
    "    L1 = calcLayer(gradients[0],np.array(gradients[3]))\n",
    "    L2 = calcLayer(L1,np.array(gradients[7]))\n",
    "    L3 = calcLayer(L2,np.array(gradients[11]))\n",
    "    L4 = calcLayer(L3,np.array([gradients[13][0]]))\n",
    "    tmpArr.append(np.max(L4))    \n",
    "    \n",
    "#myTmp.append(np.max(-np.log10(np.abs(L4))))"
   ]
  },
  {
   "cell_type": "code",
   "execution_count": 64,
   "metadata": {},
   "outputs": [
    {
     "data": {
      "image/png": "[encoded data removed]",
      "text/plain": [
       "<Figure size 432x288 with 1 Axes>"
      ]
     },
     "metadata": {
      "needs_background": "light"
     },
     "output_type": "display_data"
    }
   ],
   "source": [
    "plt.plot(-np.log10(np.abs(tmpArr)))\n",
    "plt.show()"
   ]
  },
  {
   "cell_type": "code",
   "execution_count": 67,
   "metadata": {},
   "outputs": [
    {
     "data": {
      "image/png": "[encoded data removed]",
      "text/plain": [
       "<Figure size 432x288 with 1 Axes>"
      ]
     },
     "metadata": {
      "needs_background": "light"
     },
     "output_type": "display_data"
    }
   ],
   "source": [
    "plt.plot(np.abs(tmpArr))\n",
    "plt.show()"
   ]
  },
  {
   "cell_type": "code",
   "execution_count": 65,
   "metadata": {},
   "outputs": [],
   "source": [
    "myTmp.append(np.max(-np.log10(np.abs(tmpArr))))"
   ]
  },
  {
   "cell_type": "code",
   "execution_count": null,
   "metadata": {},
   "outputs": [],
   "source": [
    "myTmp = []"
   ]
  },
  {
   "cell_type": "code",
   "execution_count": null,
   "metadata": {},
   "outputs": [],
   "source": [
    "test = []\n",
    "for i in range(0,len(gradients[0])):\n",
    "    test.append(np.mean(gradients[0][i,:]))"
   ]
  },
  {
   "cell_type": "code",
   "execution_count": null,
   "metadata": {},
   "outputs": [],
   "source": [
    "test"
   ]
  },
  {
   "cell_type": "code",
   "execution_count": null,
   "metadata": {},
   "outputs": [],
   "source": [
    "np.mean(test)"
   ]
  },
  {
   "cell_type": "code",
   "execution_count": null,
   "metadata": {},
   "outputs": [],
   "source": [
    " preds = s.run(predicted_y, {input_X: X_test})"
   ]
  },
  {
   "cell_type": "code",
   "execution_count": null,
   "metadata": {},
   "outputs": [],
   "source": [
    "preds"
   ]
  },
  {
   "cell_type": "code",
   "execution_count": null,
   "metadata": {},
   "outputs": [],
   "source": [
    "## Plotting chart of training and testing accuracy as a function of iterations\n",
    "iterations = list(range(epochs))\n",
    "plt.plot(iterations, training_accuracy, label='Train')\n",
    "plt.plot(iterations, testing_accuracy, label='Test')\n",
    "plt.ylabel('Accuracy')\n",
    "plt.xlabel('iterations')\n",
    "plt.show()\n",
    "print(\"Train Accuracy: {0:.2f}\".format(training_accuracy[-1]))\n",
    "print(\"Test Accuracy:{0:.2f}\".format(testing_accuracy[-1]))"
   ]
  },
  {
   "cell_type": "code",
   "execution_count": null,
   "metadata": {},
   "outputs": [],
   "source": [
    "dO = tf.gradients(y_test,X_test,unconnected_gradients='zero')"
   ]
  },
  {
   "cell_type": "code",
   "execution_count": null,
   "metadata": {},
   "outputs": [],
   "source": [
    "dO_i = tf.gradients(predicted_y[0], X_train[1,:],unconnected_gradients='zero')"
   ]
  },
  {
   "cell_type": "code",
   "execution_count": null,
   "metadata": {},
   "outputs": [],
   "source": [
    "dO_i"
   ]
  },
  {
   "cell_type": "code",
   "execution_count": null,
   "metadata": {},
   "outputs": [],
   "source": [
    "with tf.Session() as s:\n",
    "    init_op = tf.global_variables_initializer()\n",
    "    s.run(init_op)\n",
    "\n",
    "    gradients = s.run(dO, feed_dict= {input_X: X_train})"
   ]
  },
  {
   "cell_type": "code",
   "execution_count": null,
   "metadata": {},
   "outputs": [],
   "source": [
    "len(gradients)"
   ]
  },
  {
   "cell_type": "code",
   "execution_count": null,
   "metadata": {},
   "outputs": [],
   "source": [
    "gradients[17].shape"
   ]
  },
  {
   "cell_type": "code",
   "execution_count": null,
   "metadata": {},
   "outputs": [],
   "source": [
    "gradients[15]"
   ]
  },
  {
   "cell_type": "code",
   "execution_count": null,
   "metadata": {},
   "outputs": [],
   "source": [
    "sum(gradients[14]>0)"
   ]
  },
  {
   "cell_type": "code",
   "execution_count": null,
   "metadata": {},
   "outputs": [],
   "source": [
    "test = []\n",
    "for i in range(0,len(gradients[0])):\n",
    "    test.append(np.mean(gradients[0][i,:]))"
   ]
  },
  {
   "cell_type": "code",
   "execution_count": null,
   "metadata": {},
   "outputs": [],
   "source": [
    "test"
   ]
  },
  {
   "cell_type": "code",
   "execution_count": null,
   "metadata": {},
   "outputs": [],
   "source": [
    "np.mean(test)"
   ]
  },
  {
   "cell_type": "code",
   "execution_count": null,
   "metadata": {},
   "outputs": [],
   "source": [
    "import keras\n",
    "\n",
    "# Dummy input\n",
    "test = np.random.rand(1, 32, 32, 1)"
   ]
  },
  {
   "cell_type": "code",
   "execution_count": null,
   "metadata": {},
   "outputs": [],
   "source": [
    "#x = tf.placeholder(tf.float32, shape=(None, 32, 32, 1))\n",
    "input_X = tf.placeholder('float32',shape =(None,num_features),name=\"input_X\")"
   ]
  },
  {
   "cell_type": "code",
   "execution_count": null,
   "metadata": {},
   "outputs": [],
   "source": [
    "model = keras.layers.Conv2D(16, 5, padding = 'same', activation='elu') (x)\n",
    "model = keras.layers.Flatten() (model)\n",
    "model = keras.layers.Dense(128, activation='relu') (model)\n",
    "predictions = keras.layers.Dense(1) (model)"
   ]
  },
  {
   "cell_type": "code",
   "execution_count": null,
   "metadata": {},
   "outputs": [],
   "source": [
    "# This was the part that I was missing.\n",
    "\n",
    "opt = tf.train.GradientDescentOptimizer(learning_rate=0.01)\n",
    "gradient_step = opt.compute_gradients(predictions, tf.trainable_variables())"
   ]
  },
  {
   "cell_type": "code",
   "execution_count": null,
   "metadata": {},
   "outputs": [],
   "source": [
    "with tf.Session() as sess:\n",
    "    init_op = tf.global_variables_initializer()\n",
    "    sess.run(init_op)\n",
    "\n",
    "    # This part changed too.\n",
    "\n",
    "    gradients = sess.run(gradient_step, feed_dict= {input_X: X_train})"
   ]
  },
  {
   "cell_type": "code",
   "execution_count": null,
   "metadata": {},
   "outputs": [],
   "source": [
    "import sys\n",
    "!{sys.executable} -m pip install --upgrade tensorflow"
   ]
  },
  {
   "cell_type": "code",
   "execution_count": null,
   "metadata": {},
   "outputs": [],
   "source": [
    "import tensorflow as tf\n"
   ]
  },
  {
   "cell_type": "code",
   "execution_count": null,
   "metadata": {},
   "outputs": [],
   "source": [
    "## Initializing weigths and biases\n",
    "hidden_output_0 = tf.layers.dense(input_X, units=num_layers_0)\n",
    "hidden_output_0 = tf.layers.batch_normalization(hidden_output_0, training=True)\n",
    "hidden_output_0 = tf.nn.relu(hidden_output_0)\n",
    "\n",
    "hidden_output_1 = tf.layers.dense(hidden_output_0, units=num_layers_1)\n",
    "hidden_output_1 = tf.layers.batch_normalization(hidden_output_1, training=True)\n",
    "hidden_output_1 = tf.nn.relu(hidden_output_1)\n",
    "\n",
    "hidden_output_2 = tf.layers.dense(hidden_output_1, units=num_layers_2)\n",
    "hidden_output_2 = tf.layers.batch_normalization(hidden_output_2, training=True)\n",
    "hidden_output_2 = tf.nn.relu(hidden_output_2)\n",
    "\n",
    "hidden_output_3 = tf.layers.dense(hidden_output_2, units=num_layers_3)\n",
    "hidden_output_3 = tf.nn.softmax(hidden_output_3)\n",
    "\n",
    "predicted_y = tf.nn.softmax(hidden_output_3)"
   ]
  },
  {
   "cell_type": "code",
   "execution_count": null,
   "metadata": {},
   "outputs": [],
   "source": [
    "input_X = tf.placeholder('float32',shape =(None,num_features),name=\"input_X\")"
   ]
  },
  {
   "cell_type": "code",
   "execution_count": null,
   "metadata": {},
   "outputs": [],
   "source": [
    "predicted_y"
   ]
  },
  {
   "cell_type": "code",
   "execution_count": null,
   "metadata": {},
   "outputs": [],
   "source": [
    "predictions"
   ]
  },
  {
   "cell_type": "code",
   "execution_count": null,
   "metadata": {},
   "outputs": [],
   "source": [
    "x"
   ]
  },
  {
   "cell_type": "code",
   "execution_count": null,
   "metadata": {},
   "outputs": [],
   "source": [
    "X_train"
   ]
  },
  {
   "cell_type": "code",
   "execution_count": null,
   "metadata": {},
   "outputs": [],
   "source": [
    "x = tf.placeholder('float32',shape =(None,num_features))"
   ]
  },
  {
   "cell_type": "code",
   "execution_count": null,
   "metadata": {},
   "outputs": [],
   "source": [
    "test_dict = {x: X_train}"
   ]
  },
  {
   "cell_type": "code",
   "execution_count": null,
   "metadata": {},
   "outputs": [],
   "source": []
  },
  {
   "cell_type": "code",
   "execution_count": null,
   "metadata": {},
   "outputs": [],
   "source": [
    "test_dict"
   ]
  },
  {
   "cell_type": "code",
   "execution_count": null,
   "metadata": {},
   "outputs": [],
   "source": [
    "test = np.random.rand(1, 32, 32, 1)"
   ]
  },
  {
   "cell_type": "code",
   "execution_count": null,
   "metadata": {},
   "outputs": [],
   "source": [
    "test_dict"
   ]
  },
  {
   "cell_type": "code",
   "execution_count": null,
   "metadata": {},
   "outputs": [],
   "source": [
    "test_dict = {x: test}"
   ]
  },
  {
   "cell_type": "code",
   "execution_count": null,
   "metadata": {},
   "outputs": [],
   "source": [
    "test"
   ]
  },
  {
   "cell_type": "code",
   "execution_count": null,
   "metadata": {},
   "outputs": [],
   "source": [
    "test_dict"
   ]
  },
  {
   "cell_type": "code",
   "execution_count": null,
   "metadata": {},
   "outputs": [],
   "source": [
    "mean_sqr = tf.reduce_mean(tf.squared_difference(predicted_y, input_y))\n",
    "optimizer = tf.train.AdamOptimizer(LEARNING_RATE)\n",
    "gradients, variables = zip(*optimizer.compute_gradients(mean_sqr))\n",
    "opt = optimizer.apply_gradients(list(zip(gradients, variables)))"
   ]
  },
  {
   "cell_type": "code",
   "execution_count": null,
   "metadata": {},
   "outputs": [],
   "source": [
    "import numpy as np\n",
    "import keras\n",
    "\n",
    "mean_sqr = tf.reduce_mean(tf.squared_difference(predicted_y, input_y))\n",
    "optimizer = tf.train.AdamOptimizer(0.001)\n",
    "gradients, variables = zip(*optimizer.compute_gradients(mean_sqr))\n",
    "opt = optimizer.apply_gradients(list(zip(gradients, variables)))\n",
    "\n",
    "init = tf.global_variables_initializer()\n",
    "sess = tf.Session()\n",
    "sess.run(init)\n",
    "\n",
    "for j in range(2):\n",
    "    sess.run(opt, feed_dict={input_X: X_train,input_y: y_train})"
   ]
  },
  {
   "cell_type": "code",
   "execution_count": null,
   "metadata": {},
   "outputs": [],
   "source": []
  },
  {
   "cell_type": "code",
   "execution_count": null,
   "metadata": {},
   "outputs": [],
   "source": [
    "\n",
    "\n",
    "# Dummy input\n",
    "#test = np.random.rand(1, 32, 32, 1)\n",
    "\n",
    "x = tf.placeholder('float32',shape =(None,num_features))\n",
    "\n",
    "model = keras.layers.Dense(120, activation='relu') (x)\n",
    "model = keras.layers.Dense(90, activation='relu') (model)\n",
    "model = keras.layers.Dense(50, activation='relu') (model)\n",
    "predictions = keras.layers.Dense(2,activation='softmax') (model)\n",
    "\n",
    "# This was the part that I was missing.\n",
    "\n",
    "opt = tf.train.GradientDescentOptimizer(learning_rate=0.01)\n",
    "gradient_step = opt.compute_gradients(predictions, tf.trainable_variables())\n",
    "\n",
    "\n",
    "with tf.Session() as sess:\n",
    "    #init_op = tf.global_variables_initializer()\n",
    "    #sess.run(init_op)\n",
    "    gradients = sess.run(gradient_step, feed_dict={x: X_train})"
   ]
  },
  {
   "cell_type": "code",
   "execution_count": null,
   "metadata": {},
   "outputs": [],
   "source": [
    "import numpy as np\n",
    "import keras\n",
    "\n",
    "\n",
    "# Dummy input\n",
    "#test = np.random.rand(1, 32, 32, 1)\n",
    "\n",
    "input_X = tf.placeholder('float32',shape =(None,num_features))\n",
    "\n",
    "model = keras.layers.Dense(120, activation='relu') (x)\n",
    "model = keras.layers.Dense(90, activation='relu') (model)\n",
    "model = keras.layers.Dense(2, activation='relu') (model)\n",
    "predictions = keras.layers.Dense(2,activation='softmax') (model)\n",
    "\n",
    "# This was the part that I was missing.\n",
    "\n",
    "opt = tf.train.GradientDescentOptimizer(learning_rate=0.01)\n",
    "gradient_step = opt.compute_gradients(predictions, tf.trainable_variables())\n",
    "\n",
    "\n",
    "with tf.Session() as sess:\n",
    "    init_op = tf.global_variables_initializer()\n",
    "    sess.run(init_op)\n",
    "    gradients = sess.run(predictions, feed_dict={input_X: X_train})"
   ]
  },
  {
   "cell_type": "code",
   "execution_count": null,
   "metadata": {},
   "outputs": [],
   "source": [
    "#funciton to transform gradients\n",
    "def T(g, decay=1.0):\n",
    "    #return decayed gradient\n",
    "    return decay*g\n",
    "\n",
    "# x variable\n",
    "x = tf.Variable(10.0,name='x')\n",
    "# b placeholder (simualtes the \"data\" part of the training)\n",
    "b = tf.placeholder(tf.float32)\n",
    "# make model (1/2)(x-b)^2\n",
    "xx_b = 0.5*tf.pow(x-b,2)\n",
    "y=xx_b\n",
    "\n",
    "learning_rate = 1.0\n",
    "opt = tf.train.GradientDescentOptimizer(learning_rate)\n",
    "# gradient variable list = [ (gradient,variable) ]\n",
    "gv = opt.compute_gradients(y,[x])\n",
    "# transformed gradient variable list = [ (T(gradient),variable) ]\n",
    "decay = 0.1 # decay the gradient for the sake of the example\n",
    "tgv = [(T(g,decay=decay),v) for (g,v) in gv] #list [(grad,var)]\n",
    "# apply transformed gradients (this case no transform)\n",
    "apply_transform_op = opt.apply_gradients(tgv)\n",
    "with tf.Session() as sess:\n",
    "    sess.run(tf.initialize_all_variables())\n",
    "    epochs = 10\n",
    "    for i in range(epochs):\n",
    "        b_val = 1.0 #fake data (in SGD it would be different on every epoch)\n",
    "        print('----')\n",
    "        x_before_update = x.eval()\n",
    "        print('before update',x_before_update)\n",
    "\n",
    "        # compute gradients\n",
    "        grad_vals = sess.run([g for (g,v) in gv], feed_dict={b: b_val})\n",
    "        print('grad_vals: ',grad_vals)\n",
    "        # applies the gradients\n",
    "        result = sess.run(apply_transform_op, feed_dict={b: b_val})\n",
    "\n",
    "        print( 'value of x should be: ', x_before_update - T(grad_vals[0], decay=decay))\n",
    "        x_after_update = x.eval()\n",
    "        print('after update', x_after_update)"
   ]
  }
 ],
 "metadata": {
  "kernelspec": {
   "display_name": "Python 2",
   "language": "python",
   "name": "python2"
  },
  "language_info": {
   "codemirror_mode": {
    "name": "ipython",
    "version": 3
   },
   "file_extension": ".py",
   "mimetype": "text/x-python",
   "name": "python",
   "nbconvert_exporter": "python",
   "pygments_lexer": "ipython3",
   "version": "3.6.9"
  }
 },
 "nbformat": 4,
 "nbformat_minor": 2
}
