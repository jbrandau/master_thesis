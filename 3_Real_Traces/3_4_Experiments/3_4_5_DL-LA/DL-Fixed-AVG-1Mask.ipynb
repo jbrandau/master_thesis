{
 "cells": [
  {
   "cell_type": "markdown",
   "metadata": {},
   "source": [
    "### DL-LA AVG 1 Mask"
   ]
  },
  {
   "cell_type": "code",
   "execution_count": 2,
   "metadata": {},
   "outputs": [
    {
     "name": "stderr",
     "output_type": "stream",
     "text": [
      "Using TensorFlow backend.\n"
     ]
    },
    {
     "name": "stdout",
     "output_type": "stream",
     "text": [
      "WARNING:tensorflow:From /usr/local/lib/python3.6/dist-packages/tensorflow_core/python/compat/v2_compat.py:65: disable_resource_variables (from tensorflow.python.ops.variable_scope) is deprecated and will be removed in a future version.\n",
      "Instructions for updating:\n",
      "non-resource variables are not supported in the long term\n"
     ]
    },
    {
     "name": "stderr",
     "output_type": "stream",
     "text": [
      "/home/pace/.local/lib/python3.6/site-packages/tensorboard/compat/tensorflow_stub/dtypes.py:541: FutureWarning: Passing (type, 1) or '1type' as a synonym of type is deprecated; in a future version of numpy, it will be understood as (type, (1,)) / '(1,)type'.\n",
      "  _np_qint8 = np.dtype([(\"qint8\", np.int8, 1)])\n",
      "/home/pace/.local/lib/python3.6/site-packages/tensorboard/compat/tensorflow_stub/dtypes.py:542: FutureWarning: Passing (type, 1) or '1type' as a synonym of type is deprecated; in a future version of numpy, it will be understood as (type, (1,)) / '(1,)type'.\n",
      "  _np_quint8 = np.dtype([(\"quint8\", np.uint8, 1)])\n",
      "/home/pace/.local/lib/python3.6/site-packages/tensorboard/compat/tensorflow_stub/dtypes.py:543: FutureWarning: Passing (type, 1) or '1type' as a synonym of type is deprecated; in a future version of numpy, it will be understood as (type, (1,)) / '(1,)type'.\n",
      "  _np_qint16 = np.dtype([(\"qint16\", np.int16, 1)])\n",
      "/home/pace/.local/lib/python3.6/site-packages/tensorboard/compat/tensorflow_stub/dtypes.py:544: FutureWarning: Passing (type, 1) or '1type' as a synonym of type is deprecated; in a future version of numpy, it will be understood as (type, (1,)) / '(1,)type'.\n",
      "  _np_quint16 = np.dtype([(\"quint16\", np.uint16, 1)])\n",
      "/home/pace/.local/lib/python3.6/site-packages/tensorboard/compat/tensorflow_stub/dtypes.py:545: FutureWarning: Passing (type, 1) or '1type' as a synonym of type is deprecated; in a future version of numpy, it will be understood as (type, (1,)) / '(1,)type'.\n",
      "  _np_qint32 = np.dtype([(\"qint32\", np.int32, 1)])\n",
      "/home/pace/.local/lib/python3.6/site-packages/tensorboard/compat/tensorflow_stub/dtypes.py:550: FutureWarning: Passing (type, 1) or '1type' as a synonym of type is deprecated; in a future version of numpy, it will be understood as (type, (1,)) / '(1,)type'.\n",
      "  np_resource = np.dtype([(\"resource\", np.ubyte, 1)])\n"
     ]
    },
    {
     "data": {
      "text/html": [
       "<style>.container { width:90% !important; }</style>"
      ],
      "text/plain": [
       "<IPython.core.display.HTML object>"
      ]
     },
     "metadata": {},
     "output_type": "display_data"
    }
   ],
   "source": [
    "import pandas as pd\n",
    "from scipy.stats import ttest_ind\n",
    "import numpy as np\n",
    "#import python libraries\n",
    "import os\n",
    "os.environ[\"CUDA_DEVICE_ORDER\"]=\"PCI_BUS_ID\";\n",
    " \n",
    "# The GPU id to use, usually either \"0\" or \"1\";\n",
    "os.environ[\"CUDA_VISIBLE_DEVICES\"]=\"0\"; \n",
    "import keras\n",
    "from sklearn.model_selection import train_test_split\n",
    "from keras.models import Model, Sequential\n",
    "from keras.layers import Flatten, Dense, Input, Conv1D, MaxPooling1D, GlobalAveragePooling1D, GlobalMaxPooling1D, AveragePooling1D,BatchNormalization\n",
    "from keras.engine.topology import get_source_inputs\n",
    "from keras.utils import layer_utils\n",
    "from keras.utils.data_utils import get_file\n",
    "from keras import backend as K\n",
    "from keras.applications.imagenet_utils import decode_predictions\n",
    "from keras.applications.imagenet_utils import preprocess_input\n",
    "from keras_applications.imagenet_utils import _obtain_input_shape\n",
    "from keras.optimizers import RMSprop\n",
    "from keras.callbacks import ModelCheckpoint\n",
    "from keras.utils import to_categorical\n",
    "from keras.models import load_model\n",
    "from keras.layers import Dropout\n",
    "from sklearn.preprocessing import MultiLabelBinarizer\n",
    "from sklearn.model_selection import train_test_split\n",
    "from sklearn.metrics import accuracy_score\n",
    "\n",
    "import tensorflow.compat.v1 as tf\n",
    "s = tf.InteractiveSession()\n",
    "tf.disable_v2_behavior()\n",
    "import operator as op\n",
    "from functools import reduce\n",
    "from tqdm import tnrange,tqdm_notebook\n",
    "import operator as op\n",
    "from functools import reduce\n",
    "import os\n",
    "import scipy.io as sio\n",
    "\n",
    "from IPython.core.display import display, HTML\n",
    "display(HTML(\"<style>.container { width:90% !important; }</style>\"))\n",
    "import matplotlib.pyplot as plt"
   ]
  },
  {
   "cell_type": "code",
   "execution_count": 3,
   "metadata": {},
   "outputs": [],
   "source": [
    "d_len = 5083400\n",
    "d_file_len = 5083400\n",
    "num_files = 50834"
   ]
  },
  {
   "cell_type": "code",
   "execution_count": 4,
   "metadata": {},
   "outputs": [],
   "source": [
    "def concatDataTraces(path):\n",
    "    mats = []\n",
    "    index = 0 \n",
    "    fileNames = np.arange(100, (d_len + 100), 100).tolist()\n",
    "    for r in range(0,num_files):\n",
    "        mats.append(sio.loadmat(path+\"traces_\"+ str(fileNames[index]) +\".mat\", verify_compressed_data_integrity=False))\n",
    "        index = index + 1\n",
    "    mats = np.array(mats)\n",
    "    myArray = []\n",
    "    \n",
    "    for i in range(0,num_files):\n",
    "        for j in range(0,10):\n",
    "            myArray.append(mats[i]['data'][j])\n",
    "    return(myArray)"
   ]
  },
  {
   "cell_type": "code",
   "execution_count": 5,
   "metadata": {},
   "outputs": [],
   "source": [
    "def concatDataLabel(path):\n",
    "    mats = []\n",
    "    index = 0 \n",
    "    fileNames = np.arange(50, 20050, 50).tolist()\n",
    "    for file in os.listdir(path):\n",
    "        mats.append(sio.loadmat(path+\"labels_\"+ str(fileNames[index]) +\".mat\", verify_compressed_data_integrity=False))\n",
    "        index = index + 1\n",
    "    mats = np.array(mats) \n",
    "    myArray = []\n",
    "    for i in range(0,400):\n",
    "        for j in range(0,50):\n",
    "            myArray.append(mats[i]['data'][0][j])\n",
    "    return(myArray)"
   ]
  },
  {
   "cell_type": "code",
   "execution_count": 14,
   "metadata": {},
   "outputs": [],
   "source": [
    "df_data = concatDataTraces('../real_traces/SBOX_traces2019-12-18_17_31_01/spot_4_12/sliced/')"
   ]
  },
  {
   "cell_type": "code",
   "execution_count": 7,
   "metadata": {},
   "outputs": [],
   "source": [
    "for i in range(0,len(df_data)):\n",
    "    df_data[i] = df_data[i]"
   ]
  },
  {
   "cell_type": "code",
   "execution_count": 8,
   "metadata": {},
   "outputs": [
    {
     "data": {
      "text/plain": [
       "508340"
      ]
     },
     "execution_count": 8,
     "metadata": {},
     "output_type": "execute_result"
    }
   ],
   "source": [
    "len(df_data)"
   ]
  },
  {
   "cell_type": "code",
   "execution_count": 9,
   "metadata": {},
   "outputs": [],
   "source": [
    "counter = 0\n",
    "df_new_label = []\n",
    "for i in range(0,len(df_data)):\n",
    "    if counter == 0:\n",
    "        df_new_label.append(0)\n",
    "        counter = 1\n",
    "    else:\n",
    "        df_new_label.append(1)\n",
    "        counter = 0"
   ]
  },
  {
   "cell_type": "code",
   "execution_count": 10,
   "metadata": {},
   "outputs": [],
   "source": [
    "df_label = df_new_label"
   ]
  },
  {
   "cell_type": "code",
   "execution_count": 11,
   "metadata": {},
   "outputs": [],
   "source": [
    "from keras import backend as k"
   ]
  },
  {
   "cell_type": "code",
   "execution_count": 12,
   "metadata": {},
   "outputs": [],
   "source": [
    "def createMLPModel():\n",
    "    model = Sequential()\n",
    "    model.add(Dense(120,input_dim=125000, activation='relu'))\n",
    "    model.add(BatchNormalization())\n",
    "    model.add(Dense(90, activation='tanh'))\n",
    "    model.add(BatchNormalization())\n",
    "    model.add(Dense(50, activation='tanh'))\n",
    "    model.add(BatchNormalization())\n",
    "    model.add(Dense(2, activation='softmax'))\n",
    "    optimizer = keras.optimizers.Adam(lr=0.001, beta_1=0.9, beta_2=0.999, epsilon=1/100000000, decay=0.0, amsgrad=False)\n",
    "    model.compile(loss='mean_squared_error', optimizer=optimizer, metrics=['accuracy'])   \n",
    "    \n",
    "    return model"
   ]
  },
  {
   "cell_type": "code",
   "execution_count": 13,
   "metadata": {},
   "outputs": [
    {
     "name": "stdout",
     "output_type": "stream",
     "text": [
      "WARNING:tensorflow:From /usr/local/lib/python3.6/dist-packages/tensorflow_core/python/ops/resource_variable_ops.py:1630: calling BaseResourceVariable.__init__ (from tensorflow.python.ops.resource_variable_ops) with constraint is deprecated and will be removed in a future version.\n",
      "Instructions for updating:\n",
      "If using Keras pass *_constraint arguments to layers.\n"
     ]
    }
   ],
   "source": [
    "tmpModel = createMLPModel()"
   ]
  },
  {
   "cell_type": "code",
   "execution_count": 15,
   "metadata": {},
   "outputs": [],
   "source": [
    "x = tf.placeholder('float32',shape =(None,5000))"
   ]
  },
  {
   "cell_type": "code",
   "execution_count": 16,
   "metadata": {},
   "outputs": [],
   "source": [
    "x_trainA, x_validA, y_trainA, y_validA = train_test_split(df_data,df_label,test_size=0.2,shuffle=True,stratify=df_label)"
   ]
  },
  {
   "cell_type": "code",
   "execution_count": 17,
   "metadata": {},
   "outputs": [
    {
     "name": "stdout",
     "output_type": "stream",
     "text": [
      "Epoch 1/30\n",
      "10000/10000 [==============================] - 1s 133us/step - loss: 0.2698 - accuracy: 0.5358\n",
      "Epoch 2/30\n",
      "10000/10000 [==============================] - 1s 123us/step - loss: 0.2425 - accuracy: 0.5664\n",
      "Epoch 3/30\n",
      "10000/10000 [==============================] - 1s 124us/step - loss: 0.2336 - accuracy: 0.5870\n",
      "Epoch 4/30\n",
      "10000/10000 [==============================] - 1s 127us/step - loss: 0.2282 - accuracy: 0.6059\n",
      "Epoch 5/30\n",
      "10000/10000 [==============================] - 1s 126us/step - loss: 0.2211 - accuracy: 0.6322\n",
      "Epoch 6/30\n",
      "10000/10000 [==============================] - 1s 125us/step - loss: 0.2135 - accuracy: 0.6444\n",
      "Epoch 7/30\n",
      "10000/10000 [==============================] - 1s 124us/step - loss: 0.2047 - accuracy: 0.6705\n",
      "Epoch 8/30\n",
      "10000/10000 [==============================] - 1s 122us/step - loss: 0.1908 - accuracy: 0.7040\n",
      "Epoch 9/30\n",
      "10000/10000 [==============================] - 1s 128us/step - loss: 0.1830 - accuracy: 0.7215\n",
      "Epoch 10/30\n",
      "10000/10000 [==============================] - 1s 132us/step - loss: 0.1708 - accuracy: 0.7473\n",
      "Epoch 11/30\n",
      "10000/10000 [==============================] - 1s 126us/step - loss: 0.1578 - accuracy: 0.7676\n",
      "Epoch 12/30\n",
      "10000/10000 [==============================] - 1s 118us/step - loss: 0.1558 - accuracy: 0.7725\n",
      "Epoch 13/30\n",
      "10000/10000 [==============================] - 1s 128us/step - loss: 0.1444 - accuracy: 0.7892\n",
      "Epoch 14/30\n",
      "10000/10000 [==============================] - 1s 134us/step - loss: 0.1479 - accuracy: 0.7882\n",
      "Epoch 15/30\n",
      "10000/10000 [==============================] - 1s 126us/step - loss: 0.1310 - accuracy: 0.8173\n",
      "Epoch 16/30\n",
      "10000/10000 [==============================] - 1s 123us/step - loss: 0.1204 - accuracy: 0.8299\n",
      "Epoch 17/30\n",
      "10000/10000 [==============================] - 1s 128us/step - loss: 0.1206 - accuracy: 0.8320\n",
      "Epoch 18/30\n",
      "10000/10000 [==============================] - 1s 124us/step - loss: 0.1134 - accuracy: 0.8422\n",
      "Epoch 19/30\n",
      "10000/10000 [==============================] - 1s 123us/step - loss: 0.1092 - accuracy: 0.8509\n",
      "Epoch 20/30\n",
      "10000/10000 [==============================] - 1s 127us/step - loss: 0.1034 - accuracy: 0.8571\n",
      "Epoch 21/30\n",
      "10000/10000 [==============================] - 1s 129us/step - loss: 0.0997 - accuracy: 0.8628\n",
      "Epoch 22/30\n",
      "10000/10000 [==============================] - 1s 128us/step - loss: 0.0956 - accuracy: 0.8690\n",
      "Epoch 23/30\n",
      "10000/10000 [==============================] - 1s 123us/step - loss: 0.0881 - accuracy: 0.8801\n",
      "Epoch 24/30\n",
      "10000/10000 [==============================] - 1s 124us/step - loss: 0.0826 - accuracy: 0.8882\n",
      "Epoch 25/30\n",
      "10000/10000 [==============================] - 1s 130us/step - loss: 0.0679 - accuracy: 0.9126\n",
      "Epoch 26/30\n",
      "10000/10000 [==============================] - 1s 130us/step - loss: 0.0715 - accuracy: 0.9047\n",
      "Epoch 27/30\n",
      "10000/10000 [==============================] - 1s 131us/step - loss: 0.0651 - accuracy: 0.9143\n",
      "Epoch 28/30\n",
      "10000/10000 [==============================] - 1s 130us/step - loss: 0.0612 - accuracy: 0.9223\n",
      "Epoch 29/30\n",
      "10000/10000 [==============================] - 1s 125us/step - loss: 0.0573 - accuracy: 0.9274\n",
      "Epoch 30/30\n",
      "10000/10000 [==============================] - 1s 123us/step - loss: 0.0605 - accuracy: 0.9206\n"
     ]
    }
   ],
   "source": [
    "trainedModel = tmpModel.fit(x=[x_trainA[0:10000]],\n",
    "                            y=to_categorical(y_trainA[0:10000],num_classes=2),\n",
    "                            batch_size=100,\n",
    "                            verbose=1,\n",
    "                            epochs=30\n",
    "                            )"
   ]
  },
  {
   "cell_type": "code",
   "execution_count": 18,
   "metadata": {},
   "outputs": [],
   "source": [
    "gradient = K.gradients(tmpModel.output[0],tmpModel.input)"
   ]
  },
  {
   "cell_type": "code",
   "execution_count": 19,
   "metadata": {},
   "outputs": [],
   "source": [
    "iterate = K.function([tmpModel.input], [gradient])"
   ]
  },
  {
   "cell_type": "code",
   "execution_count": 20,
   "metadata": {},
   "outputs": [],
   "source": [
    "grad = iterate(np.array(x_validA[0:50]))"
   ]
  },
  {
   "cell_type": "code",
   "execution_count": 21,
   "metadata": {},
   "outputs": [
    {
     "data": {
      "text/plain": [
       "[[array([[-6.6065205e-12,  5.9493200e-12, -5.4660269e-11, ...,\n",
       "          -2.2730531e-12,  1.1866698e-10,  2.9125920e-11],\n",
       "         [ 0.0000000e+00,  0.0000000e+00,  0.0000000e+00, ...,\n",
       "           0.0000000e+00,  0.0000000e+00,  0.0000000e+00],\n",
       "         [ 0.0000000e+00,  0.0000000e+00,  0.0000000e+00, ...,\n",
       "           0.0000000e+00,  0.0000000e+00,  0.0000000e+00],\n",
       "         ...,\n",
       "         [ 0.0000000e+00,  0.0000000e+00,  0.0000000e+00, ...,\n",
       "           0.0000000e+00,  0.0000000e+00,  0.0000000e+00],\n",
       "         [ 0.0000000e+00,  0.0000000e+00,  0.0000000e+00, ...,\n",
       "           0.0000000e+00,  0.0000000e+00,  0.0000000e+00],\n",
       "         [ 0.0000000e+00,  0.0000000e+00,  0.0000000e+00, ...,\n",
       "           0.0000000e+00,  0.0000000e+00,  0.0000000e+00]], dtype=float32)]]"
      ]
     },
     "execution_count": 21,
     "metadata": {},
     "output_type": "execute_result"
    }
   ],
   "source": [
    "grad"
   ]
  },
  {
   "cell_type": "code",
   "execution_count": 1,
   "metadata": {},
   "outputs": [
    {
     "ename": "NameError",
     "evalue": "name 'np' is not defined",
     "output_type": "error",
     "traceback": [
      "\u001b[0;31m---------------------------------------------------------------------------\u001b[0m",
      "\u001b[0;31mNameError\u001b[0m                                 Traceback (most recent call last)",
      "\u001b[0;32m<ipython-input-1-7672884a9e47>\u001b[0m in \u001b[0;36m<module>\u001b[0;34m\u001b[0m\n\u001b[1;32m      1\u001b[0m \u001b[0mtmpArr\u001b[0m \u001b[0;34m=\u001b[0m \u001b[0;34m[\u001b[0m\u001b[0;34m]\u001b[0m\u001b[0;34m\u001b[0m\u001b[0;34m\u001b[0m\u001b[0m\n\u001b[1;32m      2\u001b[0m \u001b[0;32mfor\u001b[0m \u001b[0mi\u001b[0m \u001b[0;32min\u001b[0m \u001b[0mrange\u001b[0m\u001b[0;34m(\u001b[0m\u001b[0;36m0\u001b[0m\u001b[0;34m,\u001b[0m\u001b[0;36m125000\u001b[0m\u001b[0;34m)\u001b[0m\u001b[0;34m:\u001b[0m\u001b[0;34m\u001b[0m\u001b[0;34m\u001b[0m\u001b[0m\n\u001b[0;32m----> 3\u001b[0;31m     \u001b[0mtmpArr\u001b[0m\u001b[0;34m.\u001b[0m\u001b[0mappend\u001b[0m\u001b[0;34m(\u001b[0m\u001b[0mnp\u001b[0m\u001b[0;34m.\u001b[0m\u001b[0mmean\u001b[0m\u001b[0;34m(\u001b[0m\u001b[0mgrad\u001b[0m\u001b[0;34m[\u001b[0m\u001b[0;36m0\u001b[0m\u001b[0;34m]\u001b[0m\u001b[0;34m[\u001b[0m\u001b[0;36m0\u001b[0m\u001b[0;34m]\u001b[0m\u001b[0;34m[\u001b[0m\u001b[0;34m:\u001b[0m\u001b[0;34m,\u001b[0m\u001b[0mi\u001b[0m\u001b[0;34m]\u001b[0m\u001b[0;34m)\u001b[0m\u001b[0;34m)\u001b[0m\u001b[0;34m\u001b[0m\u001b[0;34m\u001b[0m\u001b[0m\n\u001b[0m",
      "\u001b[0;31mNameError\u001b[0m: name 'np' is not defined"
     ]
    }
   ],
   "source": [
    "tmpArr = []\n",
    "for i in range(0,125000):\n",
    "    tmpArr.append(np.mean(grad[0][0][:,i]))"
   ]
  },
  {
   "cell_type": "code",
   "execution_count": 23,
   "metadata": {},
   "outputs": [
    {
     "data": {
      "image/png": "[encoded data removed]",
      "text/plain": [
       "<Figure size 432x288 with 1 Axes>"
      ]
     },
     "metadata": {
      "needs_background": "light"
     },
     "output_type": "display_data"
    }
   ],
   "source": [
    "plt.plot(-np.log10(np.abs(tmpArr)))\n",
    "plt.show()"
   ]
  },
  {
   "cell_type": "code",
   "execution_count": 29,
   "metadata": {},
   "outputs": [
    {
     "data": {
      "image/png": "[encoded data removed]",
      "text/plain": [
       "<Figure size 432x288 with 1 Axes>"
      ]
     },
     "metadata": {
      "needs_background": "light"
     },
     "output_type": "display_data"
    }
   ],
   "source": [
    "plt.plot(np.abs(tmpArr))\n",
    "plt.show()"
   ]
  },
  {
   "cell_type": "code",
   "execution_count": 24,
   "metadata": {},
   "outputs": [
    {
     "name": "stderr",
     "output_type": "stream",
     "text": [
      "/home/pace/.local/lib/python3.6/site-packages/ipykernel_launcher.py:4: RuntimeWarning: divide by zero encountered in log10\n",
      "  after removing the cwd from sys.path.\n"
     ]
    }
   ],
   "source": [
    "collectA = []\n",
    "for i in range(1,1000,500):\n",
    "    grad = iterate(np.array(x_validA[0:i],dtype=np.float128))\n",
    "    collectA.append(np.max(-np.log10(np.abs(grad[0][0][0]))))"
   ]
  },
  {
   "cell_type": "code",
   "execution_count": 25,
   "metadata": {},
   "outputs": [],
   "source": [
    "grad = iterate(np.array(x_validA[0:50000]))"
   ]
  },
  {
   "cell_type": "code",
   "execution_count": 26,
   "metadata": {},
   "outputs": [
    {
     "name": "stderr",
     "output_type": "stream",
     "text": [
      "/home/pace/.local/lib/python3.6/site-packages/ipykernel_launcher.py:1: RuntimeWarning: divide by zero encountered in log10\n",
      "  \"\"\"Entry point for launching an IPython kernel.\n"
     ]
    },
    {
     "data": {
      "text/plain": [
       "inf"
      ]
     },
     "execution_count": 26,
     "metadata": {},
     "output_type": "execute_result"
    }
   ],
   "source": [
    "np.max(-np.log10(np.abs(grad[0][0][0])))"
   ]
  },
  {
   "cell_type": "code",
   "execution_count": 27,
   "metadata": {},
   "outputs": [
    {
     "data": {
      "text/plain": [
       "[<matplotlib.lines.Line2D at 0x7f754c7a5748>]"
      ]
     },
     "execution_count": 27,
     "metadata": {},
     "output_type": "execute_result"
    },
    {
     "data": {
      "image/png": "[encoded data removed]",
      "text/plain": [
       "<Figure size 432x288 with 1 Axes>"
      ]
     },
     "metadata": {
      "needs_background": "light"
     },
     "output_type": "display_data"
    }
   ],
   "source": [
    "plt.plot(collectA)"
   ]
  },
  {
   "cell_type": "code",
   "execution_count": null,
   "metadata": {},
   "outputs": [],
   "source": []
  }
 ],
 "metadata": {
  "kernelspec": {
   "display_name": "Python 2",
   "language": "python",
   "name": "python2"
  },
  "language_info": {
   "codemirror_mode": {
    "name": "ipython",
    "version": 3
   },
   "file_extension": ".py",
   "mimetype": "text/x-python",
   "name": "python",
   "nbconvert_exporter": "python",
   "pygments_lexer": "ipython3",
   "version": "3.6.9"
  }
 },
 "nbformat": 4,
 "nbformat_minor": 4
}
